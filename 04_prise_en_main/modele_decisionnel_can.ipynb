{
 "cells": [
  {
   "cell_type": "markdown",
   "metadata": {},
   "source": [
    "## Travail sur les modèles décisionnels\n",
    "\n",
    "### Problématique :\n",
    "-- SAISIR ICI LA PROBLÉMATIQUE --\n",
    "\n",
    "### Prérequis :\n",
    "* Le script suppose d'avoir télécharger les données issues de l'entrepôt sur la plateforme datagrosyt (https://agrosyst.fr/datagrosyst/)\n",
    "\n",
    "* Le script est rédigé en **Python** et suppose une bonne maîtrise de **pandas** \n"
   ]
  },
  {
   "cell_type": "markdown",
   "metadata": {},
   "source": [
    "#### Import des librairies"
   ]
  },
  {
   "cell_type": "code",
   "execution_count": 1,
   "metadata": {},
   "outputs": [],
   "source": [
    "import pandas as pd\n",
    "from tqdm import tqdm\n",
    "import numpy as np"
   ]
  },
  {
   "cell_type": "markdown",
   "metadata": {},
   "source": [
    "#### Import des données"
   ]
  },
  {
   "cell_type": "code",
   "execution_count": 11,
   "metadata": {},
   "outputs": [
    {
     "name": "stderr",
     "output_type": "stream",
     "text": [
      "100%|██████████| 4/4 [00:02<00:00,  1.58it/s]\n",
      "100%|██████████| 1/1 [00:00<00:00,  1.54it/s]\n"
     ]
    }
   ],
   "source": [
    "# ------------------ #\n",
    "# IMPORT DES DONNÉES #\n",
    "# ------------------ #\n",
    "ENTREPOT_PATH = '~/Bureau/utils/data/'\n",
    "df = {}\n",
    "\n",
    "def import_df(df_name, path_data, sep, index_col=None):\n",
    "    df[df_name] = pd.read_csv(path_data+df_name+'.csv', sep = sep, index_col=index_col, low_memory=False).replace({'\\r\\n': '\\n'}, regex=True)\n",
    "\n",
    "def import_dfs(df_names, path_data, sep = ',', index_col=None, verbose=False):\n",
    "    for df_name in tqdm(df_names) : \n",
    "        if(verbose) :\n",
    "            print(\" - \", df_name)\n",
    "        import_df(df_name, path_data, sep, index_col=index_col)\n",
    "\n",
    "tables_with_id = [\n",
    "    'modele_decisionnel', \n",
    "    'modele_decisionnel_maitrise', \n",
    "    'modele_decisionnel_strategie', \n",
    "]\n",
    "\n",
    "tables_without_id = [\n",
    "    'modele_decisionnel_strategie_culture'\n",
    "]\n",
    "\n",
    "# import des données de l'entrepôt avec la colonne 'id' en index \n",
    "import_dfs(tables_with_id, ENTREPOT_PATH, sep = ',', index_col='id', verbose=False)\n",
    "\n",
    "# import des données du magasin\n",
    "import_dfs(tables_without_id, ENTREPOT_PATH, sep = ',', verbose=False)"
   ]
  },
  {
   "cell_type": "markdown",
   "metadata": {},
   "source": [
    "#### Traitement des données"
   ]
  }
 ],
 "metadata": {
  "kernelspec": {
   "display_name": "Python 3",
   "language": "python",
   "name": "python3"
  },
  "language_info": {
   "codemirror_mode": {
    "name": "ipython",
    "version": 3
   },
   "file_extension": ".py",
   "mimetype": "text/x-python",
   "name": "python",
   "nbconvert_exporter": "python",
   "pygments_lexer": "ipython3",
   "version": "3.10.12"
  }
 },
 "nbformat": 4,
 "nbformat_minor": 2
}
