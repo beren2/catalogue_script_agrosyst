{
 "cells": [
  {
   "cell_type": "code",
   "execution_count": 1,
   "metadata": {},
   "outputs": [],
   "source": [
    "import pandas as pd\n",
    "from tqdm import tqdm"
   ]
  },
  {
   "cell_type": "code",
   "execution_count": 13,
   "metadata": {},
   "outputs": [],
   "source": [
    "BASE_PATH = '~/Bureau/utils/catalogue_script_agrosyst/'\n",
    "#ENTREPOT_PATH = '~/Bureau/utils/data/'\n",
    "ENTREPOT_PATH = '~/Bureau/utils/data/'\n",
    "METEO_PATH = '~/Bureau/utils/data/meteo/'\n",
    "SPATIAL_PATH = './data/spatial/'"
   ]
  },
  {
   "cell_type": "code",
   "execution_count": 9,
   "metadata": {},
   "outputs": [
    {
     "name": "stderr",
     "output_type": "stream",
     "text": [
      "100%|██████████| 15/15 [01:19<00:00,  5.29s/it]\n",
      "100%|██████████| 2/2 [00:06<00:00,  3.12s/it]\n"
     ]
    }
   ],
   "source": [
    "donnees = {}\n",
    "\n",
    "def import_df(df_name, path_data, sep, index_col=None):\n",
    "    donnees[df_name] = pd.read_csv(path_data+df_name+'.csv', sep = sep, index_col=index_col, low_memory=False)\n",
    "\n",
    "def import_dfs(df_names, path_data, sep = ',', index_col=None, verbose=False):\n",
    "    for df_name in tqdm(df_names) : \n",
    "        if(verbose) :\n",
    "            print(\" - \", df_name)\n",
    "        import_df(df_name, path_data, sep, index_col=index_col)\n",
    "\n",
    "tables_entrepot = [\n",
    "    'composant_culture', 'espece', 'variete', 'intervention_synthetise', \n",
    "    'connection_synthetise', 'plantation_perenne_phases_synthetise',\n",
    "    'plantation_perenne_synthetise', 'composant_culture_concerne_intervention_synthetise',\n",
    "    'noeuds_synthetise', 'noeuds_synthetise_restructure', 'plantation_perenne_synthetise_restructure', \n",
    "    'domaine', 'culture', 'ccc_intervention_synthetise_restructure',\n",
    "    'connection_synthetise_restructure'\n",
    "]\n",
    "\n",
    "tables_performance = [\n",
    "]\n",
    "\n",
    "# import des données de l'entrepôt avec la colonne 'id' en index \n",
    "import_dfs(tables_entrepot, ENTREPOT_PATH, sep = ',',index_col='id', verbose=False)\n",
    "\n",
    "# import des données de performance\n",
    "import_dfs(['intervention_synthetise_agrege', 'combinaison_outil_materiel'], ENTREPOT_PATH, sep = ',', verbose=False)\n"
   ]
  },
  {
   "cell_type": "code",
   "execution_count": 10,
   "metadata": {},
   "outputs": [],
   "source": [
    "studied_ids = [\n",
    "    'fr.inra.agrosyst.api.entities.practiced.PracticedIntervention_c1599d89-f8c2-45e4-8b06-891d027b66ac',\n",
    "    'fr.inra.agrosyst.api.entities.practiced.PracticedIntervention_b5459d45-c9d9-4585-89ec-c72a0403546f',\n",
    "    'fr.inra.agrosyst.api.entities.practiced.PracticedIntervention_d9fe126f-02d1-4bc6-8720-8d04956176ad',\n",
    "    'fr.inra.agrosyst.api.entities.practiced.PracticedIntervention_5250416c-5663-4948-8b32-0967079952b8',\n",
    "    'fr.inra.agrosyst.api.entities.practiced.PracticedIntervention_c43e149f-814d-4b0f-aa5e-ad5e30cbb9de',\n",
    "    'fr.inra.agrosyst.api.entities.practiced.PracticedIntervention_219c94d6-6896-4f8a-9e6d-f824600fb127',\n",
    "    'fr.inra.agrosyst.api.entities.practiced.PracticedIntervention_0012f1b8-aa53-488c-8b70-4004aeb68ea7',\n",
    "    'fr.inra.agrosyst.api.entities.practiced.PracticedIntervention_0017a622-eb9c-496f-a81a-1f7441da0711',\n",
    "    'fr.inra.agrosyst.api.entities.practiced.PracticedIntervention_00324d2b-49b2-43f3-80a7-351450331d07',\n",
    "    'fr.inra.agrosyst.api.entities.practiced.PracticedIntervention_cc605767-1b7f-4909-be9c-872ef9359001'\n",
    "]"
   ]
  },
  {
   "cell_type": "code",
   "execution_count": 11,
   "metadata": {},
   "outputs": [],
   "source": [
    "left = donnees['noeuds_synthetise']\n",
    "right = donnees['noeuds_synthetise_restructure']\n",
    "donnees['noeuds_synthetise'] = pd.merge(left, right, left_index=True, right_index=True, how='left')\n",
    "\n",
    "left = donnees['plantation_perenne_synthetise']\n",
    "right = donnees['plantation_perenne_synthetise_restructure']\n",
    "donnees['plantation_perenne_synthetise'] = pd.merge(left, right, left_index=True, right_index=True, how='left')\n",
    "\n",
    "left = donnees['connection_synthetise']\n",
    "right = donnees['connection_synthetise_restructure']\n",
    "donnees['connection_synthetise'] = pd.merge(left, right, left_index=True, right_index=True, how='left')"
   ]
  },
  {
   "cell_type": "code",
   "execution_count": 14,
   "metadata": {},
   "outputs": [],
   "source": [
    "donnees['intervention_synthetise_test'] = donnees['intervention_synthetise'].loc[\n",
    "    donnees['intervention_synthetise'].index.isin(studied_ids)\n",
    "]\n",
    "donnees['connection_synthetise_test'] = donnees['connection_synthetise'].loc[\n",
    "    (donnees['connection_synthetise'].index.isin(list(donnees['intervention_synthetise_test']['connection_synthetise_id'])))\n",
    "]\n",
    "\n",
    "donnees['noeuds_synthetise_test'] = donnees['noeuds_synthetise'].loc[\n",
    "    (donnees['noeuds_synthetise'].index.isin(list(donnees['connection_synthetise_test']['source_noeuds_synthetise_id']))) |\n",
    "    (donnees['noeuds_synthetise'].index.isin(list(donnees['connection_synthetise_test']['cible_noeuds_synthetise_id'])))\n",
    "]\n",
    "\n",
    "donnees['plantation_perenne_phases_synthetise_test'] = donnees['plantation_perenne_phases_synthetise'].loc[\n",
    "    donnees['plantation_perenne_phases_synthetise'].index.isin(list(donnees['intervention_synthetise_test']['plantation_perenne_phases_synthetise_id']))\n",
    "]\n",
    "\n",
    "donnees['plantation_perenne_synthetise_test'] = donnees['plantation_perenne_synthetise'].loc[\n",
    "    donnees['plantation_perenne_synthetise'].index.isin(list(donnees['plantation_perenne_phases_synthetise_test']['plantation_perenne_synthetise_id']))\n",
    "]\n",
    "\n",
    "donnees['composant_culture_test'] = donnees['composant_culture'].loc[\n",
    "    donnees['composant_culture']['culture_id'].isin(list(donnees['noeuds_synthetise_test']['culture_id'])) |\n",
    "    donnees['composant_culture']['culture_id'].isin(list(donnees['plantation_perenne_synthetise_test']['culture_id'])) |\n",
    "    donnees['composant_culture']['culture_id'].isin(list(donnees['connection_synthetise_test']['culture_intermediaire_id']))\n",
    "]\n",
    "\n",
    "donnees['culture_test'] = donnees['culture'].loc[\n",
    "    donnees['culture'].index.isin(donnees['composant_culture_test']['culture_id'])\n",
    "]\n",
    "\n",
    "donnees['espece_test'] = donnees['espece'].loc[\n",
    "    donnees['espece'].index.isin(list(donnees['composant_culture_test']['espece_id']))\n",
    "]\n",
    "donnees['variete_test'] = donnees['variete'].loc[\n",
    "    donnees['variete'].index.isin(list(donnees['composant_culture_test']['variete_id']))\n",
    "]\n",
    "\n",
    "donnees['composant_culture_concerne_intervention_synthetise_test'] = donnees['composant_culture_concerne_intervention_synthetise'].loc[\n",
    "    donnees['composant_culture_concerne_intervention_synthetise']['intervention_synthetise_id'].isin(studied_ids)\n",
    "]\n",
    "\n",
    "donnees['connection_synthetise_restructure_test'] = donnees['connection_synthetise_restructure'].loc[\n",
    "    donnees['connection_synthetise_restructure'].index.isin(donnees['connection_synthetise_test'].index)\n",
    "]\n",
    "\n",
    "\n",
    "donnees['noeuds_synthetise_restructure_test']= donnees['noeuds_synthetise_restructure'].loc[donnees['noeuds_synthetise_test'].index]\n",
    "donnees['plantation_perenne_synthetise_restructure_test']= donnees['plantation_perenne_synthetise_restructure'].loc[donnees['plantation_perenne_synthetise_test'].index]\n",
    "donnees['ccc_intervention_synthetise_restructure_test'] = donnees['ccc_intervention_synthetise_restructure'].loc[donnees['composant_culture_concerne_intervention_synthetise_test'].index]\n",
    "\n",
    "\n",
    "donnees['plantation_perenne_synthetise_test'] = donnees['plantation_perenne_synthetise_test'].drop('culture_id', axis=1)\n",
    "donnees['noeuds_synthetise_test'] = donnees['noeuds_synthetise_test'].drop('culture_id', axis=1)\n",
    "donnees['connection_synthetise_test'] = donnees['connection_synthetise_test'].drop('culture_intermediaire_id', axis=1)\n",
    "\n",
    "path=BASE_PATH+'02_outils/tests/data/test_get_intervention_synthetise_culture_outils_can/'\n",
    "donnees['intervention_synthetise_test'].to_csv(path+'intervention_synthetise'+'.csv')\n",
    "donnees['noeuds_synthetise_test'].to_csv(path+'noeuds_synthetise'+'.csv')\n",
    "donnees['connection_synthetise_test'].to_csv(path+'connection_synthetise'+'.csv')\n",
    "donnees['composant_culture_test'].to_csv(path+'composant_culture'+'.csv')\n",
    "donnees['espece_test'].to_csv(path+'espece'+'.csv')\n",
    "donnees['variete_test'].to_csv(path+'variete'+'.csv')\n",
    "donnees['composant_culture_concerne_intervention_synthetise_test'].to_csv(path+'composant_culture_concerne_intervention_synthetise'+'.csv')\n",
    "donnees['culture_test'].to_csv(path+'culture'+'.csv')\n",
    "donnees['plantation_perenne_phases_synthetise_test'].to_csv(path+'plantation_perenne_phases_synthetise'+'.csv')\n",
    "donnees['plantation_perenne_synthetise_test'].to_csv(path+'plantation_perenne_synthetise'+'.csv')\n",
    "donnees['noeuds_synthetise_restructure_test'].to_csv(path+'noeuds_synthetise_restructure'+'.csv')\n",
    "donnees['plantation_perenne_synthetise_restructure_test'].to_csv(path+'plantation_perenne_synthetise_restructure'+'.csv')\n",
    "donnees['ccc_intervention_synthetise_restructure_test'].to_csv(path+'ccc_intervention_synthetise_restructure'+'.csv')\n",
    "donnees['connection_synthetise_restructure_test'].to_csv(path+'connection_synthetise_restructure'+'.csv')"
   ]
  }
 ],
 "metadata": {
  "kernelspec": {
   "display_name": "agrosyst_entrepot",
   "language": "python",
   "name": "python3"
  },
  "language_info": {
   "codemirror_mode": {
    "name": "ipython",
    "version": 3
   },
   "file_extension": ".py",
   "mimetype": "text/x-python",
   "name": "python",
   "nbconvert_exporter": "python",
   "pygments_lexer": "ipython3",
   "version": "3.11.5"
  }
 },
 "nbformat": 4,
 "nbformat_minor": 2
}
