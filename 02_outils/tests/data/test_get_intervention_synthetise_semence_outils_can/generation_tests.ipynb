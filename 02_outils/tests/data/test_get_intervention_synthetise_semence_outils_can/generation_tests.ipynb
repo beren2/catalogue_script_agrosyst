{
 "cells": [
  {
   "cell_type": "code",
   "execution_count": 58,
   "metadata": {},
   "outputs": [],
   "source": [
    "import pandas as pd\n",
    "from tqdm import tqdm\n",
    "from itables import show as table_show"
   ]
  },
  {
   "cell_type": "code",
   "execution_count": 59,
   "metadata": {},
   "outputs": [],
   "source": [
    "ENTREPOT_PATH = '~/Bureau/utils/data/'\n",
    "METEO_PATH = '~/Bureau/utils/data/meteo/'\n",
    "SPATIAL_PATH = './data/spatial/'"
   ]
  },
  {
   "cell_type": "code",
   "execution_count": 60,
   "metadata": {},
   "outputs": [],
   "source": [
    "# obtention des donnnées de la CAN :\n",
    "directory = '~/Bureau/Exports/20240513/non_anonyme/'\n",
    "file = 'AGS_20240513_exports_agronomes_interventions_synthetisees.csv'\n",
    "df_can = pd.read_csv(directory+file, sep='@')"
   ]
  },
  {
   "cell_type": "code",
   "execution_count": 71,
   "metadata": {},
   "outputs": [],
   "source": [
    "df_studied = df_can.loc[df_can['intervention_id'].isin(studied_ids)]"
   ]
  },
  {
   "cell_type": "code",
   "execution_count": 72,
   "metadata": {},
   "outputs": [
    {
     "data": {
      "text/html": [
       "<table id=\"itables_d059a93a_da98_4742_ad55_ee9aa5ab3a74\" class=\"display nowrap\" data-quarto-disable-processing=\"true\" style=\"table-layout:auto;width:auto;margin:auto;caption-side:bottom\">\n",
       "<thead>\n",
       "    <tr style=\"text-align: right;\">\n",
       "      \n",
       "      <th>intervention_id</th>\n",
       "      <th>variable</th>\n",
       "      <th>value</th>\n",
       "    </tr>\n",
       "  </thead><tbody><tr>\n",
       "<td style=\"vertical-align:middle; text-align:left\">\n",
       "<div style=\"float:left; margin-right: 10px;\">\n",
       "<a href=https://mwouts.github.io/itables/><svg class=\"main-svg\" xmlns=\"http://www.w3.org/2000/svg\" xmlns:xlink=\"http://www.w3.org/1999/xlink\"\n",
       "width=\"64\" viewBox=\"0 0 500 400\" style=\"font-family: 'Droid Sans', sans-serif;\">\n",
       "    <g style=\"fill:#d9d7fc\">\n",
       "        <path d=\"M100,400H500V357H100Z\" />\n",
       "        <path d=\"M100,300H400V257H100Z\" />\n",
       "        <path d=\"M0,200H400V157H0Z\" />\n",
       "        <path d=\"M100,100H500V57H100Z\" />\n",
       "        <path d=\"M100,350H500V307H100Z\" />\n",
       "        <path d=\"M100,250H400V207H100Z\" />\n",
       "        <path d=\"M0,150H400V107H0Z\" />\n",
       "        <path d=\"M100,50H500V7H100Z\" />\n",
       "    </g>\n",
       "    <g style=\"fill:#1a1366;stroke:#1a1366;\">\n",
       "   <rect x=\"100\" y=\"7\" width=\"400\" height=\"43\">\n",
       "    <animate\n",
       "      attributeName=\"width\"\n",
       "      values=\"0;400;0\"\n",
       "      dur=\"5s\"\n",
       "      repeatCount=\"indefinite\" />\n",
       "      <animate\n",
       "      attributeName=\"x\"\n",
       "      values=\"100;100;500\"\n",
       "      dur=\"5s\"\n",
       "      repeatCount=\"indefinite\" />\n",
       "  </rect>\n",
       "        <rect x=\"0\" y=\"107\" width=\"400\" height=\"43\">\n",
       "    <animate\n",
       "      attributeName=\"width\"\n",
       "      values=\"0;400;0\"\n",
       "      dur=\"3.5s\"\n",
       "      repeatCount=\"indefinite\" />\n",
       "    <animate\n",
       "      attributeName=\"x\"\n",
       "      values=\"0;0;400\"\n",
       "      dur=\"3.5s\"\n",
       "      repeatCount=\"indefinite\" />\n",
       "  </rect>\n",
       "        <rect x=\"100\" y=\"207\" width=\"300\" height=\"43\">\n",
       "    <animate\n",
       "      attributeName=\"width\"\n",
       "      values=\"0;300;0\"\n",
       "      dur=\"3s\"\n",
       "      repeatCount=\"indefinite\" />\n",
       "    <animate\n",
       "      attributeName=\"x\"\n",
       "      values=\"100;100;400\"\n",
       "      dur=\"3s\"\n",
       "      repeatCount=\"indefinite\" />\n",
       "  </rect>\n",
       "        <rect x=\"100\" y=\"307\" width=\"400\" height=\"43\">\n",
       "    <animate\n",
       "      attributeName=\"width\"\n",
       "      values=\"0;400;0\"\n",
       "      dur=\"4s\"\n",
       "      repeatCount=\"indefinite\" />\n",
       "      <animate\n",
       "      attributeName=\"x\"\n",
       "      values=\"100;100;500\"\n",
       "      dur=\"4s\"\n",
       "      repeatCount=\"indefinite\" />\n",
       "  </rect>\n",
       "        <g style=\"fill:transparent;stroke-width:8; stroke-linejoin:round\" rx=\"5\">\n",
       "            <g transform=\"translate(45 50) rotate(-45)\">\n",
       "                <circle r=\"33\" cx=\"0\" cy=\"0\" />\n",
       "                <rect x=\"-8\" y=\"32\" width=\"16\" height=\"30\" />\n",
       "            </g>\n",
       "\n",
       "            <g transform=\"translate(450 152)\">\n",
       "                <polyline points=\"-15,-20 -35,-20 -35,40 25,40 25,20\" />\n",
       "                <rect x=\"-15\" y=\"-40\" width=\"60\" height=\"60\" />\n",
       "            </g>\n",
       "\n",
       "            <g transform=\"translate(50 352)\">\n",
       "                <polygon points=\"-35,-5 0,-40 35,-5\" />\n",
       "                <polygon points=\"-35,10 0,45 35,10\" />\n",
       "            </g>\n",
       "\n",
       "            <g transform=\"translate(75 250)\">\n",
       "                <polyline points=\"-30,30 -60,0 -30,-30\" />\n",
       "                <polyline points=\"0,30 -30,0 0,-30\" />\n",
       "            </g>\n",
       "\n",
       "            <g transform=\"translate(425 250) rotate(180)\">\n",
       "                <polyline points=\"-30,30 -60,0 -30,-30\" />\n",
       "                <polyline points=\"0,30 -30,0 0,-30\" />\n",
       "            </g>\n",
       "        </g>\n",
       "    </g>\n",
       "</svg>\n",
       "</a>\n",
       "</div>\n",
       "<div>\n",
       "Loading ITables v2.1.4 from the internet...\n",
       "(need <a href=https://mwouts.github.io/itables/troubleshooting.html>help</a>?)</td>\n",
       "</div>\n",
       "</tr></tbody>\n",
       "\n",
       "</table>\n",
       "<link href=\"https://www.unpkg.com/dt_for_itables@2.0.11/dt_bundle.css\" rel=\"stylesheet\">\n",
       "<script type=\"module\">\n",
       "    import {DataTable, jQuery as $} from 'https://www.unpkg.com/dt_for_itables@2.0.11/dt_bundle.js';\n",
       "\n",
       "    document.querySelectorAll(\"#itables_d059a93a_da98_4742_ad55_ee9aa5ab3a74:not(.dataTable)\").forEach(table => {\n",
       "        // Define the table data\n",
       "        const data = [[\"fr.inra.agrosyst.api.entities.practiced.PracticedIntervention_5e3f0abb-4a03-4da0-a26c-d73bdecfcb74\", \"especes_semees\", \"NaN\"], [\"fr.inra.agrosyst.api.entities.practiced.PracticedIntervention_a24ca460-d863-40f9-bab6-24817300384e\", \"especes_semees\", \"Concombre\"], [\"fr.inra.agrosyst.api.entities.practiced.PracticedIntervention_64a496f9-3d67-4532-847a-0d38a1f5c794\", \"especes_semees\", \"Colza Ol\\u00e9agineux Hiver\"], [\"fr.inra.agrosyst.api.entities.practiced.PracticedIntervention_ef2316bd-b80d-45aa-921b-21af6d56ecba\", \"especes_semees\", \"Laitue batavia\"], [\"fr.inra.agrosyst.api.entities.practiced.PracticedIntervention_7ad44155-633e-4521-bfcb-7bf482128e3c\", \"especes_semees\", \"Avoine Noir(e) Hiver ; F\\u00e8verole Hiver ; Triticale ; Vesce commune Hiver ; Tr\\u00e8fle incarnat\"], [\"fr.inra.agrosyst.api.entities.practiced.PracticedIntervention_b29be8ca-b760-46ea-9d63-2a78ddbd8233\", \"especes_semees\", \"Tr\\u00e8fle blanc\"], [\"fr.inra.agrosyst.api.entities.practiced.PracticedIntervention_cd159e5c-e76f-4efb-9380-b53dccd5444c\", \"especes_semees\", \"NaN\"], [\"fr.inra.agrosyst.api.entities.practiced.PracticedIntervention_c2f8dad3-845a-4185-bf71-a35384930a43\", \"especes_semees\", \"Laitue batavia\"], [\"fr.inra.agrosyst.api.entities.practiced.PracticedIntervention_2efe5e73-195f-4b2b-9078-3b66202a8396\", \"especes_semees\", \"Navet Potager\"], [\"fr.inra.agrosyst.api.entities.practiced.PracticedIntervention_f6a5eb34-66be-4c6a-a005-fba158c058b3\", \"especes_semees\", \"Colza Ol\\u00e9agineux Hiver\"], [\"fr.inra.agrosyst.api.entities.practiced.PracticedIntervention_5e3f0abb-4a03-4da0-a26c-d73bdecfcb74\", \"densite_semis\", \"NaN\"], [\"fr.inra.agrosyst.api.entities.practiced.PracticedIntervention_a24ca460-d863-40f9-bab6-24817300384e\", \"densite_semis\", \"0\"], [\"fr.inra.agrosyst.api.entities.practiced.PracticedIntervention_64a496f9-3d67-4532-847a-0d38a1f5c794\", \"densite_semis\", \"8\"], [\"fr.inra.agrosyst.api.entities.practiced.PracticedIntervention_ef2316bd-b80d-45aa-921b-21af6d56ecba\", \"densite_semis\", \"120000\"], [\"fr.inra.agrosyst.api.entities.practiced.PracticedIntervention_7ad44155-633e-4521-bfcb-7bf482128e3c\", \"densite_semis\", \"70, 30, 30, 2, 20\"], [\"fr.inra.agrosyst.api.entities.practiced.PracticedIntervention_b29be8ca-b760-46ea-9d63-2a78ddbd8233\", \"densite_semis\", \"0\"], [\"fr.inra.agrosyst.api.entities.practiced.PracticedIntervention_cd159e5c-e76f-4efb-9380-b53dccd5444c\", \"densite_semis\", \"NaN\"], [\"fr.inra.agrosyst.api.entities.practiced.PracticedIntervention_c2f8dad3-845a-4185-bf71-a35384930a43\", \"densite_semis\", \"0\"], [\"fr.inra.agrosyst.api.entities.practiced.PracticedIntervention_2efe5e73-195f-4b2b-9078-3b66202a8396\", \"densite_semis\", \"150\"], [\"fr.inra.agrosyst.api.entities.practiced.PracticedIntervention_f6a5eb34-66be-4c6a-a005-fba158c058b3\", \"densite_semis\", \"570000\"], [\"fr.inra.agrosyst.api.entities.practiced.PracticedIntervention_5e3f0abb-4a03-4da0-a26c-d73bdecfcb74\", \"unite_semis\", \"NaN\"], [\"fr.inra.agrosyst.api.entities.practiced.PracticedIntervention_a24ca460-d863-40f9-bab6-24817300384e\", \"unite_semis\", \"KG_PAR_HA\"], [\"fr.inra.agrosyst.api.entities.practiced.PracticedIntervention_64a496f9-3d67-4532-847a-0d38a1f5c794\", \"unite_semis\", \"KG_PAR_HA\"], [\"fr.inra.agrosyst.api.entities.practiced.PracticedIntervention_ef2316bd-b80d-45aa-921b-21af6d56ecba\", \"unite_semis\", \"UNITE_PAR_HA\"], [\"fr.inra.agrosyst.api.entities.practiced.PracticedIntervention_7ad44155-633e-4521-bfcb-7bf482128e3c\", \"unite_semis\", \"KG_PAR_HA, KG_PAR_HA, KG_PAR_HA, KG_PAR_HA, KG_PAR_HA\"], [\"fr.inra.agrosyst.api.entities.practiced.PracticedIntervention_b29be8ca-b760-46ea-9d63-2a78ddbd8233\", \"unite_semis\", \"KG_PAR_HA\"], [\"fr.inra.agrosyst.api.entities.practiced.PracticedIntervention_cd159e5c-e76f-4efb-9380-b53dccd5444c\", \"unite_semis\", \"NaN\"], [\"fr.inra.agrosyst.api.entities.practiced.PracticedIntervention_c2f8dad3-845a-4185-bf71-a35384930a43\", \"unite_semis\", \"KG_PAR_HA\"], [\"fr.inra.agrosyst.api.entities.practiced.PracticedIntervention_2efe5e73-195f-4b2b-9078-3b66202a8396\", \"unite_semis\", \"KG_PAR_HA\"], [\"fr.inra.agrosyst.api.entities.practiced.PracticedIntervention_f6a5eb34-66be-4c6a-a005-fba158c058b3\", \"unite_semis\", \"GRAINES_PAR_HA\"], [\"fr.inra.agrosyst.api.entities.practiced.PracticedIntervention_5e3f0abb-4a03-4da0-a26c-d73bdecfcb74\", \"traitement_chimique_semis\", \"NaN\"], [\"fr.inra.agrosyst.api.entities.practiced.PracticedIntervention_a24ca460-d863-40f9-bab6-24817300384e\", \"traitement_chimique_semis\", \"non\"], [\"fr.inra.agrosyst.api.entities.practiced.PracticedIntervention_64a496f9-3d67-4532-847a-0d38a1f5c794\", \"traitement_chimique_semis\", \"non\"], [\"fr.inra.agrosyst.api.entities.practiced.PracticedIntervention_ef2316bd-b80d-45aa-921b-21af6d56ecba\", \"traitement_chimique_semis\", \"non\"], [\"fr.inra.agrosyst.api.entities.practiced.PracticedIntervention_7ad44155-633e-4521-bfcb-7bf482128e3c\", \"traitement_chimique_semis\", \"non, non, non, non, non\"], [\"fr.inra.agrosyst.api.entities.practiced.PracticedIntervention_b29be8ca-b760-46ea-9d63-2a78ddbd8233\", \"traitement_chimique_semis\", \"oui\"], [\"fr.inra.agrosyst.api.entities.practiced.PracticedIntervention_cd159e5c-e76f-4efb-9380-b53dccd5444c\", \"traitement_chimique_semis\", \"NaN\"], [\"fr.inra.agrosyst.api.entities.practiced.PracticedIntervention_c2f8dad3-845a-4185-bf71-a35384930a43\", \"traitement_chimique_semis\", \"non\"], [\"fr.inra.agrosyst.api.entities.practiced.PracticedIntervention_2efe5e73-195f-4b2b-9078-3b66202a8396\", \"traitement_chimique_semis\", \"oui\"], [\"fr.inra.agrosyst.api.entities.practiced.PracticedIntervention_f6a5eb34-66be-4c6a-a005-fba158c058b3\", \"traitement_chimique_semis\", \"oui\"], [\"fr.inra.agrosyst.api.entities.practiced.PracticedIntervention_5e3f0abb-4a03-4da0-a26c-d73bdecfcb74\", \"inoculation_biologique_semis\", \"NaN\"], [\"fr.inra.agrosyst.api.entities.practiced.PracticedIntervention_a24ca460-d863-40f9-bab6-24817300384e\", \"inoculation_biologique_semis\", \"non\"], [\"fr.inra.agrosyst.api.entities.practiced.PracticedIntervention_64a496f9-3d67-4532-847a-0d38a1f5c794\", \"inoculation_biologique_semis\", \"non\"], [\"fr.inra.agrosyst.api.entities.practiced.PracticedIntervention_ef2316bd-b80d-45aa-921b-21af6d56ecba\", \"inoculation_biologique_semis\", \"non\"], [\"fr.inra.agrosyst.api.entities.practiced.PracticedIntervention_7ad44155-633e-4521-bfcb-7bf482128e3c\", \"inoculation_biologique_semis\", \"non, non, non, non, non\"], [\"fr.inra.agrosyst.api.entities.practiced.PracticedIntervention_b29be8ca-b760-46ea-9d63-2a78ddbd8233\", \"inoculation_biologique_semis\", \"non\"], [\"fr.inra.agrosyst.api.entities.practiced.PracticedIntervention_cd159e5c-e76f-4efb-9380-b53dccd5444c\", \"inoculation_biologique_semis\", \"NaN\"], [\"fr.inra.agrosyst.api.entities.practiced.PracticedIntervention_c2f8dad3-845a-4185-bf71-a35384930a43\", \"inoculation_biologique_semis\", \"non\"], [\"fr.inra.agrosyst.api.entities.practiced.PracticedIntervention_2efe5e73-195f-4b2b-9078-3b66202a8396\", \"inoculation_biologique_semis\", \"non\"], [\"fr.inra.agrosyst.api.entities.practiced.PracticedIntervention_f6a5eb34-66be-4c6a-a005-fba158c058b3\", \"inoculation_biologique_semis\", \"non\"]];\n",
       "\n",
       "        // Define the dt_args\n",
       "        let dt_args = {\"layout\": {\"topStart\": \"pageLength\", \"topEnd\": \"search\", \"bottomStart\": \"info\", \"bottomEnd\": \"paging\"}, \"order\": []};\n",
       "        dt_args[\"data\"] = data;\n",
       "\n",
       "        \n",
       "        new DataTable(table, dt_args);\n",
       "    });\n",
       "</script>\n"
      ],
      "text/plain": [
       "<IPython.core.display.HTML object>"
      ]
     },
     "metadata": {},
     "output_type": "display_data"
    }
   ],
   "source": [
    "table_show(pd.melt(df_studied[['intervention_id', 'especes_semees', 'densite_semis', 'unite_semis', 'traitement_chimique_semis', 'inoculation_biologique_semis']], id_vars=['intervention_id']))"
   ]
  },
  {
   "cell_type": "code",
   "execution_count": 63,
   "metadata": {},
   "outputs": [
    {
     "name": "stdout",
     "output_type": "stream",
     "text": [
      "['fr.inra.agrosyst.api.entities.practiced.PracticedIntervention_64a496f9-3d67-4532-847a-0d38a1f5c794']\n"
     ]
    }
   ],
   "source": [
    "print(list(df_studied['intervention_id'].values))"
   ]
  },
  {
   "cell_type": "code",
   "execution_count": 64,
   "metadata": {},
   "outputs": [
    {
     "name": "stderr",
     "output_type": "stream",
     "text": [
      "100%|██████████| 11/11 [00:14<00:00,  1.36s/it]\n"
     ]
    }
   ],
   "source": [
    "donnees = {}\n",
    "\n",
    "def import_df(df_name, path_data, sep, index_col=None):\n",
    "    donnees[df_name] = pd.read_csv(path_data+df_name+'.csv', sep = sep, index_col=index_col, low_memory=False)\n",
    "\n",
    "def import_dfs(df_names, path_data, sep = ',', index_col=None, verbose=False):\n",
    "    for df_name in tqdm(df_names) : \n",
    "        if(verbose) :\n",
    "            print(\" - \", df_name)\n",
    "        import_df(df_name, path_data, sep, index_col=index_col)\n",
    "\n",
    "tables_entrepot = [\n",
    "    'intervention_synthetise', 'semence', 'composant_culture', 'espece', 'utilisation_intrant_synthetise', 'action_synthetise', 'composant_action_semis',\n",
    "    'noeuds_synthetise', 'connection_synthetise', 'noeuds_synthetise_restructure', 'connection_synthetise_restructure'\n",
    "]\n",
    "\n",
    "tables_performance = [\n",
    "]\n",
    "\n",
    "# import des données de l'entrepôt avec la colonne 'id' en index \n",
    "import_dfs(tables_entrepot, ENTREPOT_PATH, sep = ',',index_col='id', verbose=False)"
   ]
  },
  {
   "cell_type": "code",
   "execution_count": 65,
   "metadata": {},
   "outputs": [],
   "source": [
    "studied_ids = [\n",
    "    'fr.inra.agrosyst.api.entities.practiced.PracticedIntervention_b29be8ca-b760-46ea-9d63-2a78ddbd8233', \n",
    "    'fr.inra.agrosyst.api.entities.practiced.PracticedIntervention_f6a5eb34-66be-4c6a-a005-fba158c058b3', \n",
    "    'fr.inra.agrosyst.api.entities.practiced.PracticedIntervention_ef2316bd-b80d-45aa-921b-21af6d56ecba', \n",
    "    'fr.inra.agrosyst.api.entities.practiced.PracticedIntervention_5e3f0abb-4a03-4da0-a26c-d73bdecfcb74', \n",
    "    'fr.inra.agrosyst.api.entities.practiced.PracticedIntervention_cd159e5c-e76f-4efb-9380-b53dccd5444c', \n",
    "    'fr.inra.agrosyst.api.entities.practiced.PracticedIntervention_a24ca460-d863-40f9-bab6-24817300384e', \n",
    "    'fr.inra.agrosyst.api.entities.practiced.PracticedIntervention_64a496f9-3d67-4532-847a-0d38a1f5c794', \n",
    "    'fr.inra.agrosyst.api.entities.practiced.PracticedIntervention_7ad44155-633e-4521-bfcb-7bf482128e3c', \n",
    "    'fr.inra.agrosyst.api.entities.practiced.PracticedIntervention_2efe5e73-195f-4b2b-9078-3b66202a8396', \n",
    "    'fr.inra.agrosyst.api.entities.practiced.PracticedIntervention_c2f8dad3-845a-4185-bf71-a35384930a43'\n",
    "]"
   ]
  },
  {
   "cell_type": "code",
   "execution_count": 66,
   "metadata": {},
   "outputs": [],
   "source": [
    "left = donnees['noeuds_synthetise']\n",
    "right = donnees['noeuds_synthetise_restructure']\n",
    "donnees['noeuds_synthetise'] = pd.merge(left, right, left_index=True, right_index=True, how='left')\n",
    "\n",
    "\n",
    "left = donnees['connection_synthetise']\n",
    "right = donnees['connection_synthetise_restructure']\n",
    "donnees['connection_synthetise'] = pd.merge(left, right, left_index=True, right_index=True, how='left')"
   ]
  },
  {
   "cell_type": "code",
   "execution_count": 67,
   "metadata": {},
   "outputs": [],
   "source": [
    "donnees['intervention_synthetise_test'] = donnees['intervention_synthetise'].loc[\n",
    "    donnees['intervention_synthetise'].index.isin(studied_ids)\n",
    "]\n",
    "\n",
    "donnees['action_synthetise_test'] = donnees['action_synthetise'].loc[\n",
    "    donnees['action_synthetise']['intervention_synthetise_id'].isin(donnees['intervention_synthetise_test'].index)\n",
    "]\n",
    "donnees['connection_synthetise_test'] = donnees['connection_synthetise'].loc[\n",
    "    (donnees['connection_synthetise'].index.isin(list(donnees['intervention_synthetise_test']['connection_synthetise_id'])))\n",
    "]\n",
    "donnees['composant_action_semis_test'] = donnees['composant_action_semis'].loc[\n",
    "    donnees['composant_action_semis']['action_id'].isin(donnees['action_synthetise_test'].index)\n",
    "]\n",
    "\n",
    "donnees['noeuds_synthetise_test'] = donnees['noeuds_synthetise'].loc[\n",
    "    (donnees['noeuds_synthetise'].index.isin(list(donnees['connection_synthetise_test']['source_noeuds_synthetise_id']))) |\n",
    "    (donnees['noeuds_synthetise'].index.isin(list(donnees['connection_synthetise_test']['cible_noeuds_synthetise_id'])))\n",
    "]\n",
    "\n",
    "donnees['composant_culture_test'] = donnees['composant_culture'].loc[\n",
    "    donnees['composant_culture']['culture_id'].isin(donnees['noeuds_synthetise_test']['culture_id']) |\n",
    "    donnees['composant_culture']['culture_id'].isin(donnees['connection_synthetise_test']['culture_intermediaire_id'])\n",
    "]\n",
    "\n",
    "donnees['espece_test'] = donnees['espece'].loc[\n",
    "    donnees['espece'].index.isin(donnees['composant_culture_test']['espece_id'])\n",
    "]\n",
    "donnees['semence_test']= donnees['semence'].loc[\n",
    "    donnees['semence']['espece_id'].isin(donnees['composant_culture_test'].index)\n",
    "]\n",
    "\n",
    "donnees['utilisation_intrant_synthetise_test'] = donnees['utilisation_intrant_synthetise'].loc[\n",
    "    donnees['utilisation_intrant_synthetise']['intervention_synthetise_id'].isin(donnees['intervention_synthetise_test'].index)\n",
    "]"
   ]
  },
  {
   "cell_type": "code",
   "execution_count": 68,
   "metadata": {},
   "outputs": [],
   "source": [
    "\n",
    "path='./'\n",
    "donnees['semence_test'].to_csv(path+'semence'+'.csv')\n",
    "donnees['composant_culture_test'].to_csv(path+'composant_culture'+'.csv')\n",
    "donnees['espece_test'].to_csv(path+'espece'+'.csv')\n",
    "donnees['utilisation_intrant_synthetise_test'].to_csv(path+'utilisation_intrant_synthetise'+'.csv')"
   ]
  },
  {
   "cell_type": "code",
   "execution_count": 69,
   "metadata": {},
   "outputs": [
    {
     "data": {
      "text/plain": [
       "nom                                                                  Semis CIPAN et céréales\n",
       "type                                                                                   SEMIS\n",
       "commentaire                                                                              NaN\n",
       "rang                                                                                       1\n",
       "date_debut                                                                             20/08\n",
       "date_fin                                                                               20/08\n",
       "freq_spatiale                                                                            1.0\n",
       "freq_temporelle                                                                          1.0\n",
       "psci_intervention                                                                        1.0\n",
       "debit_de_chantier                                                                        1.8\n",
       "debit_de_chantier_unite                                                                 HA_H\n",
       "vitesse_avancement                                                                       NaN\n",
       "nb_personne_mobili                                                                       NaN\n",
       "concerne_ci                                                                                t\n",
       "connection_synthetise_id                   fr.inra.agrosyst.api.entities.practiced.Practi...\n",
       "plantation_perenne_phases_synthetise_id                                                  NaN\n",
       "combinaison_outil_code                                  34968608-9ef1-4d51-9028-b24388c40a5d\n",
       "Name: fr.inra.agrosyst.api.entities.practiced.PracticedIntervention_64a496f9-3d67-4532-847a-0d38a1f5c794, dtype: object"
      ]
     },
     "execution_count": 69,
     "metadata": {},
     "output_type": "execute_result"
    }
   ],
   "source": [
    "donnees['intervention_synthetise_test'].loc['fr.inra.agrosyst.api.entities.practiced.PracticedIntervention_64a496f9-3d67-4532-847a-0d38a1f5c794']"
   ]
  }
 ],
 "metadata": {
  "kernelspec": {
   "display_name": "Python 3",
   "language": "python",
   "name": "python3"
  },
  "language_info": {
   "codemirror_mode": {
    "name": "ipython",
    "version": 3
   },
   "file_extension": ".py",
   "mimetype": "text/x-python",
   "name": "python",
   "nbconvert_exporter": "python",
   "pygments_lexer": "ipython3",
   "version": "3.10.12"
  }
 },
 "nbformat": 4,
 "nbformat_minor": 2
}
