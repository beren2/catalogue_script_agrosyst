{
 "cells": [
  {
   "cell_type": "code",
   "execution_count": 1,
   "metadata": {},
   "outputs": [],
   "source": [
    "import pandas as pd\n",
    "from tqdm import tqdm\n",
    "import numpy as np\n",
    "from scripts.indicateur import get_connexion_weight_in_synth_rotation as freq\n",
    "from scripts.indicateur import get_typologie_rotation_CAN_synthetise as fnc\n",
    "from scripts.indicateur import get_typologie_culture_CAN as typoC\n"
   ]
  },
  {
   "cell_type": "code",
   "execution_count": null,
   "metadata": {},
   "outputs": [],
   "source": [
    "# SCRIPT DE CREATION DE TU POUR LES DEUX FONCTION DE TYPOLOGIE CULTURE ET ROTATION\n",
    "# A UTILISER A LA RACINE DE 02_OUTILS POUR FONCTIONNER !!!"
   ]
  },
  {
   "cell_type": "code",
   "execution_count": 2,
   "metadata": {},
   "outputs": [
    {
     "name": "stderr",
     "output_type": "stream",
     "text": [
      "100%|██████████| 4/4 [00:01<00:00,  3.56it/s]\n",
      "100%|██████████| 3/3 [00:03<00:00,  1.03s/it]\n",
      "100%|██████████| 2/2 [00:00<00:00, 110.09it/s]\n"
     ]
    }
   ],
   "source": [
    "# ------------------ #\n",
    "# IMPORT DES DONNÉES #\n",
    "# ------------------ #\n",
    "ENTREPOT_PATH = '~/Bureau/Datagrosyst/data_entrepot_&_outils/'\n",
    "EXTERN_DATA_PATH = '~/Bureau/Datagrosyst/data_entrepot_&_outils/referentiels/'\n",
    "df = {}\n",
    "\n",
    "def import_df(df_name, path_data, sep, index_col=None):\n",
    "    df[df_name] = pd.read_csv(path_data+df_name+'.csv', sep = sep, index_col=index_col, low_memory=False).replace({'\\r\\n': '\\n'}, regex=True)\n",
    "\n",
    "def import_dfs(df_names, path_data, sep = ',', index_col=None, verbose=False):\n",
    "    for df_name in tqdm(df_names) : \n",
    "        if(verbose) :\n",
    "            print(' - ', df_name)\n",
    "        import_df(df_name, path_data, sep, index_col=index_col)\n",
    "\n",
    "tables_entrepot = [\n",
    "    'connection_synthetise', 'noeuds_synthetise',\n",
    "    'noeuds_synthetise_restructure','connection_synthetise_restructure'\n",
    "]\n",
    "\n",
    "data_pour_typologie_culutre = [\n",
    "    'espece', 'culture', 'composant_culture'\n",
    "]\n",
    "\n",
    "extern_data_pour_typologie_culutre = [\n",
    "    'typo_especes_typo_culture', 'typo_especes_typo_culture_marai'\n",
    "]\n",
    "\n",
    "# import des données de l'entrepôt avec la colonne 'id' en index \n",
    "import_dfs(tables_entrepot, ENTREPOT_PATH, sep = ',', verbose=False)\n",
    "\n",
    "# import des données pour 'typologie_can_culture'\n",
    "import_dfs(data_pour_typologie_culutre, ENTREPOT_PATH, sep = ',', verbose=False)\n",
    "import_dfs(extern_data_pour_typologie_culutre, EXTERN_DATA_PATH, sep = ',', verbose=False)\n",
    "\n",
    "\n",
    "nod = df['noeuds_synthetise']\n",
    "nodres = df['noeuds_synthetise_restructure']\n",
    "cnx = df['connection_synthetise']\n",
    "cnxres = df['connection_synthetise_restructure']\n",
    "\n",
    "culture = df['culture']\n",
    "cpc = df['composant_culture']\n",
    "espece = df['espece']"
   ]
  },
  {
   "cell_type": "code",
   "execution_count": 3,
   "metadata": {},
   "outputs": [],
   "source": [
    "# Filtrer sur quelques synthétisé\n",
    "list_synth = [\n",
    "    'fr.inra.agrosyst.api.entities.practiced.PracticedSystem_c3c050a7-cedb-4071-9a0e-fadcbb311cc2',\n",
    "    'fr.inra.agrosyst.api.entities.practiced.PracticedSystem_b142d1f3-cb04-418c-bd77-31ac3922b09b',\n",
    "    'fr.inra.agrosyst.api.entities.practiced.PracticedSystem_85cedf6b-df0e-4470-b42b-1232608495aa'\n",
    "]\n",
    "\n",
    "nod = nod.loc[nod['synthetise_id'].isin(list_synth)]\n",
    "nodres = nodres.loc[nodres['id'].isin(nod['id'])]\n",
    "cnx = cnx.loc[(cnx['cible_noeuds_synthetise_id'].isin(nod['id'])) | (cnx['source_noeuds_synthetise_id'].isin(nod['id']))]\n",
    "cnxres = cnxres.loc[cnxres['id'].isin(cnx['id'])]\n",
    "\n",
    "culture = culture.loc[(culture['id'].isin(nodres['culture_id'])) | (culture['id'].isin(cnxres['culture_intermediaire_id']))]\n",
    "cpc = cpc.loc[cpc['culture_id'].isin(culture['id'])]\n",
    "# Attention on ne filtre pas le référentiel espece, on veut le tester en entier"
   ]
  },
  {
   "cell_type": "code",
   "execution_count": 4,
   "metadata": {},
   "outputs": [],
   "source": [
    "df_filt = {\n",
    "    'noeuds_synthetise': nod,\n",
    "    'noeuds_synthetise_restructure': nodres,\n",
    "    'connection_synthetise': cnx,\n",
    "    'connection_synthetise_restructure':cnxres,\n",
    "    'culture': culture,\n",
    "    'composant_culture': cpc,\n",
    "    'espece': df['espece'],\n",
    "    'typo_especes_typo_culture': df['typo_especes_typo_culture'],\n",
    "    'typo_especes_typo_culture_marai': df['typo_especes_typo_culture_marai']\n",
    "\n",
    "}"
   ]
  },
  {
   "cell_type": "code",
   "execution_count": 5,
   "metadata": {},
   "outputs": [],
   "source": [
    "# Essaie des fonctions\n",
    "# Fonction de typologie de culture\n",
    "df_filt['typologie_can_culture'] = typoC(df_filt)\n",
    "# Fonction de fréquence de connexions\n",
    "df_filt['poids_connexions_synthetise_rotation'], _, _ = freq(df_filt, parallelization_enabled=False)\n",
    "# Fonction de typologie de rotation\n",
    "result = fnc(df_filt)"
   ]
  },
  {
   "cell_type": "code",
   "execution_count": null,
   "metadata": {},
   "outputs": [],
   "source": [
    "# PATH_TO_TEST_TYPOCULTURE = '~/Bureau/Datagrosyst/catalogue_script_agrosyst/02_outils/tests/data/test_get_typologie_culture_CAN/'\n",
    "# PATH_TO_TEST_TYPOROTATION = '~/Bureau/Datagrosyst/catalogue_script_agrosyst/02_outils/tests/data/test_get_typologie_rotation_CAN_synthetise/'\n",
    "\n",
    "# for i in df_filt: \n",
    "#     if i in ['culture','composant_culture','espece','typo_especes_typo_culture','typo_especes_typo_culture_marai'] :\n",
    "#         df_filt[i].to_csv(PATH_TO_TEST_TYPOCULTURE + str(i)+'.csv')\n",
    "\n",
    "# for i in df_filt: \n",
    "#     if i in ['noeuds_synthetise_restructure','poids_connexions_synthetise_rotation','typologie_can_culture','noeuds_synthetise','connection_synthetise'] :\n",
    "#         df_filt[i].to_csv(PATH_TO_TEST_TYPOROTATION + str(i)+'.csv')"
   ]
  },
  {
   "cell_type": "code",
   "execution_count": null,
   "metadata": {},
   "outputs": [],
   "source": [
    "df_filt['typologie_can_culture'].to_csv('~/Bureau/' + 'metadata_TU_typoC' + '.csv')\n",
    "result.to_csv('~/Bureau/' + 'metadata_TU_typoRota' + '.csv')"
   ]
  }
 ],
 "metadata": {
  "kernelspec": {
   "display_name": "catalogue_script_agrosyst",
   "language": "python",
   "name": "python3"
  },
  "language_info": {
   "codemirror_mode": {
    "name": "ipython",
    "version": 3
   },
   "file_extension": ".py",
   "mimetype": "text/x-python",
   "name": "python",
   "nbconvert_exporter": "python",
   "pygments_lexer": "ipython3",
   "version": "3.11.5"
  }
 },
 "nbformat": 4,
 "nbformat_minor": 2
}
