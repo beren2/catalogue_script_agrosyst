{
 "cells": [
  {
   "cell_type": "code",
   "execution_count": 4,
   "metadata": {},
   "outputs": [
    {
     "ename": "ModuleNotFoundError",
     "evalue": "No module named 'scripts'",
     "output_type": "error",
     "traceback": [
      "\u001b[0;31m---------------------------------------------------------------------------\u001b[0m",
      "\u001b[0;31mModuleNotFoundError\u001b[0m                       Traceback (most recent call last)",
      "Cell \u001b[0;32mIn[4], line 4\u001b[0m\n\u001b[1;32m      2\u001b[0m \u001b[38;5;28;01mfrom\u001b[39;00m \u001b[38;5;21;01mtqdm\u001b[39;00m \u001b[38;5;28;01mimport\u001b[39;00m tqdm\n\u001b[1;32m      3\u001b[0m \u001b[38;5;28;01mimport\u001b[39;00m \u001b[38;5;21;01mnumpy\u001b[39;00m \u001b[38;5;28;01mas\u001b[39;00m \u001b[38;5;21;01mnp\u001b[39;00m\n\u001b[0;32m----> 4\u001b[0m \u001b[38;5;28;01mfrom\u001b[39;00m \u001b[38;5;21;01mscripts\u001b[39;00m\u001b[38;5;21;01m.\u001b[39;00m\u001b[38;5;21;01mindicateur\u001b[39;00m \u001b[38;5;28;01mimport\u001b[39;00m get_typologie_rotation_CAN_synthetise \u001b[38;5;28;01mas\u001b[39;00m fnc\n\u001b[1;32m      5\u001b[0m \u001b[38;5;28;01mfrom\u001b[39;00m \u001b[38;5;21;01mscripts\u001b[39;00m\u001b[38;5;21;01m.\u001b[39;00m\u001b[38;5;21;01mindicateur\u001b[39;00m \u001b[38;5;28;01mimport\u001b[39;00m get_typologie_culture_CAN \u001b[38;5;28;01mas\u001b[39;00m typoC\n",
      "\u001b[0;31mModuleNotFoundError\u001b[0m: No module named 'scripts'"
     ]
    }
   ],
   "source": [
    "import pandas as pd\n",
    "from tqdm import tqdm\n",
    "import numpy as np\n",
    "from scripts.indicateur import get_typologie_rotation_CAN_synthetise as fnc\n",
    "from scripts.indicateur import get_typologie_culture_CAN as typoC\n"
   ]
  },
  {
   "cell_type": "code",
   "execution_count": 3,
   "metadata": {},
   "outputs": [
    {
     "ename": "NameError",
     "evalue": "name 'tqdm' is not defined",
     "output_type": "error",
     "traceback": [
      "\u001b[0;31m---------------------------------------------------------------------------\u001b[0m",
      "\u001b[0;31mNameError\u001b[0m                                 Traceback (most recent call last)",
      "Cell \u001b[0;32mIn[3], line 34\u001b[0m\n\u001b[1;32m     29\u001b[0m extern_data_pour_typologie_culutre \u001b[38;5;241m=\u001b[39m [\n\u001b[1;32m     30\u001b[0m     \u001b[38;5;124m'\u001b[39m\u001b[38;5;124mtypo_especes_typo_culture\u001b[39m\u001b[38;5;124m'\u001b[39m, \u001b[38;5;124m'\u001b[39m\u001b[38;5;124mtypo_especes_typo_culture_marai\u001b[39m\u001b[38;5;124m'\u001b[39m\n\u001b[1;32m     31\u001b[0m ]\n\u001b[1;32m     33\u001b[0m \u001b[38;5;66;03m# import des données de l'entrepôt avec la colonne 'id' en index \u001b[39;00m\n\u001b[0;32m---> 34\u001b[0m \u001b[43mimport_dfs\u001b[49m\u001b[43m(\u001b[49m\u001b[43mtables_entrepot\u001b[49m\u001b[43m,\u001b[49m\u001b[43m \u001b[49m\u001b[43mENTREPOT_PATH\u001b[49m\u001b[43m,\u001b[49m\u001b[43m \u001b[49m\u001b[43msep\u001b[49m\u001b[43m \u001b[49m\u001b[38;5;241;43m=\u001b[39;49m\u001b[43m \u001b[49m\u001b[38;5;124;43m'\u001b[39;49m\u001b[38;5;124;43m,\u001b[39;49m\u001b[38;5;124;43m'\u001b[39;49m\u001b[43m,\u001b[49m\u001b[43m \u001b[49m\u001b[43mindex_col\u001b[49m\u001b[38;5;241;43m=\u001b[39;49m\u001b[38;5;124;43m'\u001b[39;49m\u001b[38;5;124;43mid\u001b[39;49m\u001b[38;5;124;43m'\u001b[39;49m\u001b[43m,\u001b[49m\u001b[43m \u001b[49m\u001b[43mverbose\u001b[49m\u001b[38;5;241;43m=\u001b[39;49m\u001b[38;5;28;43;01mFalse\u001b[39;49;00m\u001b[43m)\u001b[49m\n\u001b[1;32m     36\u001b[0m \u001b[38;5;66;03m# import des données de l'entrepôt avec la colonne 'id' en index \u001b[39;00m\n\u001b[1;32m     37\u001b[0m import_dfs(outils_data, ENTREPOT_PATH, sep \u001b[38;5;241m=\u001b[39m \u001b[38;5;124m'\u001b[39m\u001b[38;5;124m,\u001b[39m\u001b[38;5;124m'\u001b[39m, index_col\u001b[38;5;241m=\u001b[39m\u001b[38;5;124m'\u001b[39m\u001b[38;5;124mid\u001b[39m\u001b[38;5;124m'\u001b[39m, verbose\u001b[38;5;241m=\u001b[39m\u001b[38;5;28;01mFalse\u001b[39;00m)\n",
      "Cell \u001b[0;32mIn[3], line 12\u001b[0m, in \u001b[0;36mimport_dfs\u001b[0;34m(df_names, path_data, sep, index_col, verbose)\u001b[0m\n\u001b[1;32m     11\u001b[0m \u001b[38;5;28;01mdef\u001b[39;00m \u001b[38;5;21mimport_dfs\u001b[39m(df_names, path_data, sep \u001b[38;5;241m=\u001b[39m \u001b[38;5;124m'\u001b[39m\u001b[38;5;124m,\u001b[39m\u001b[38;5;124m'\u001b[39m, index_col\u001b[38;5;241m=\u001b[39m\u001b[38;5;28;01mNone\u001b[39;00m, verbose\u001b[38;5;241m=\u001b[39m\u001b[38;5;28;01mFalse\u001b[39;00m):\n\u001b[0;32m---> 12\u001b[0m     \u001b[38;5;28;01mfor\u001b[39;00m df_name \u001b[38;5;129;01min\u001b[39;00m \u001b[43mtqdm\u001b[49m(df_names) : \n\u001b[1;32m     13\u001b[0m         \u001b[38;5;28;01mif\u001b[39;00m(verbose) :\n\u001b[1;32m     14\u001b[0m             \u001b[38;5;28mprint\u001b[39m(\u001b[38;5;124m'\u001b[39m\u001b[38;5;124m - \u001b[39m\u001b[38;5;124m'\u001b[39m, df_name)\n",
      "\u001b[0;31mNameError\u001b[0m: name 'tqdm' is not defined"
     ]
    }
   ],
   "source": [
    "# ------------------ #\n",
    "# IMPORT DES DONNÉES #\n",
    "# ------------------ #\n",
    "ENTREPOT_PATH = '~/Bureau/Datagrosyst/data_entrepot_&_outils/'\n",
    "EXTERN_DATA_PATH = '~/Bureau/Datagrosyst/data_entrepot_&_outils/referentiels/'\n",
    "df = {}\n",
    "\n",
    "def import_df(df_name, path_data, sep, index_col=None):\n",
    "    df[df_name] = pd.read_csv(path_data+df_name+'.csv', sep = sep, index_col=index_col, low_memory=False).replace({'\\r\\n': '\\n'}, regex=True)\n",
    "\n",
    "def import_dfs(df_names, path_data, sep = ',', index_col=None, verbose=False):\n",
    "    for df_name in tqdm(df_names) : \n",
    "        if(verbose) :\n",
    "            print(' - ', df_name)\n",
    "        import_df(df_name, path_data, sep, index_col=index_col)\n",
    "\n",
    "tables_entrepot = [\n",
    "    'connection_synthetise', 'noeuds_synthetise'\n",
    "]\n",
    "\n",
    "outils_data = [\n",
    "    'surface_connection_synthetise'\n",
    "]\n",
    "\n",
    "data_pour_typologie_culutre = [\n",
    "    'espece_vCAN', 'culture', 'composant_culture'\n",
    "]\n",
    "\n",
    "extern_data_pour_typologie_culutre = [\n",
    "    'typo_especes_typo_culture', 'typo_especes_typo_culture_marai'\n",
    "]\n",
    "\n",
    "# import des données de l'entrepôt avec la colonne 'id' en index \n",
    "import_dfs(tables_entrepot, ENTREPOT_PATH, sep = ',', index_col='id', verbose=False)\n",
    "\n",
    "# import des données de l'entrepôt avec la colonne 'id' en index \n",
    "import_dfs(outils_data, ENTREPOT_PATH, sep = ',', index_col='id', verbose=False)\n",
    "\n",
    "# import des données pour 'typologie_can_culture'\n",
    "import_dfs(data_pour_typologie_culutre, ENTREPOT_PATH, sep = ',', index_col='id', verbose=False)\n",
    "import_dfs(extern_data_pour_typologie_culutre, EXTERN_DATA_PATH, sep = ',', verbose=False)\n",
    "df['typologie_can_culture'] = typoC(df)\n"
   ]
  },
  {
   "cell_type": "code",
   "execution_count": 3,
   "metadata": {},
   "outputs": [],
   "source": [
    "result = fnc(df)"
   ]
  },
  {
   "cell_type": "code",
   "execution_count": 16,
   "metadata": {},
   "outputs": [],
   "source": [
    "list_culture_id = [\n",
    "'fr.inra.agrosyst.api.entities.CroppingPlanEntry_60cc91e5-d085-40c7-a3dc-fc00684b05ad',\n",
    "'fr.inra.agrosyst.api.entities.CroppingPlanEntry_3478eb36-740a-40b5-96fa-28d29d931605',\n",
    "'fr.inra.agrosyst.api.entities.CroppingPlanEntry_94c605bb-a2c5-4f47-833e-c126edc00594',\n",
    "'fr.inra.agrosyst.api.entities.CroppingPlanEntry_931d7b38-1df6-4e38-bbf5-9661ddb0a81b',\n",
    "'fr.inra.agrosyst.api.entities.CroppingPlanEntry_f144f317-25b5-403d-81ca-56ed7809c705',\n",
    "'fr.inra.agrosyst.api.entities.CroppingPlanEntry_1bb9ef49-7f10-4ce9-87d0-22b36cfe883a',\n",
    "'fr.inra.agrosyst.api.entities.CroppingPlanEntry_48127946-206c-40f4-b69a-206c28019190'\n",
    "]\n",
    "\n",
    "vu = result.loc[result.index.isin(list_culture_id)]\n",
    "\n",
    "cult = df['culture']\n",
    "comp = df['composant_culture']\n",
    "\n",
    "# Pour les datas\n",
    "PATH = '/home/administrateur/Bureau/Datagrosyst/catalogue_script_agrosyst/02_outils/tests/data/test_get_typologie_culture_CAN/'\n",
    "# comp.loc[comp.culture_id.isin(list_culture_id)].to_csv(PATH+'composant_culture'+'.csv')\n",
    "# cult.loc[cult.index.isin(list_culture_id)].to_csv(PATH+'culture'+'.csv')\n"
   ]
  },
  {
   "cell_type": "code",
   "execution_count": null,
   "metadata": {},
   "outputs": [],
   "source": [
    "# Pour les metadonnes\n",
    "meta = pd.melt(vu.reset_index(), id_vars='culture_id', value_vars=['typocan_espece', 'typocan_espece_maraich', 'nb_espece',\n",
    "       'nb_typocan_esp', 'nb_typocan_esp_maraich', 'type', 'typocan_culture','typocan_culture_maraich'])\n",
    "meta = meta.set_index('culture_id')\n",
    "# meta.to_csv(EXTERN_DATA_PATH + 'meta_TU_todo.csv')"
   ]
  }
 ],
 "metadata": {
  "kernelspec": {
   "display_name": "catalogue_script_agrosyst",
   "language": "python",
   "name": "python3"
  },
  "language_info": {
   "codemirror_mode": {
    "name": "ipython",
    "version": 3
   },
   "file_extension": ".py",
   "mimetype": "text/x-python",
   "name": "python",
   "nbconvert_exporter": "python",
   "pygments_lexer": "ipython3",
   "version": "3.11.5"
  }
 },
 "nbformat": 4,
 "nbformat_minor": 2
}
