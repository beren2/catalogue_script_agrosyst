{
 "cells": [
  {
   "cell_type": "code",
   "execution_count": 2,
   "metadata": {},
   "outputs": [],
   "source": [
    "import pandas as pd\n",
    "from tqdm import tqdm\n",
    "from itables import show as table_show"
   ]
  },
  {
   "cell_type": "code",
   "execution_count": 3,
   "metadata": {},
   "outputs": [],
   "source": [
    "ENTREPOT_PATH = '~/Bureau/utils/data/'\n",
    "METEO_PATH = '~/Bureau/utils/data/meteo/'\n",
    "SPATIAL_PATH = './data/spatial/'"
   ]
  },
  {
   "cell_type": "code",
   "execution_count": 4,
   "metadata": {},
   "outputs": [],
   "source": [
    "#obtention des donnnées de la CAN :\n",
    "directory = '~/Bureau/Exports/20240524/non_anonyme/'\n",
    "file = 'AGS_20240524_exports_performance_realise_echelle_sdc.csv'\n",
    "df_can = pd.read_csv(directory+file, sep='@')"
   ]
  },
  {
   "cell_type": "code",
   "execution_count": 5,
   "metadata": {},
   "outputs": [
    {
     "data": {
      "text/plain": [
       "Index(['performance_id', 'date_calcul', 'domaine_nom', 'domaine_id',\n",
       "       'domaine_campagne', 'domaine_type', 'departement', 'dispositif_id',\n",
       "       'dispositif_type', 'nom_reseau_it', 'nom_reseau_ir', 'sdc_filiere',\n",
       "       'sdc_nom', 'sdc_id', 'sdc_code_dephy', 'sdc_type_agriculture',\n",
       "       'sdc_valide', 'especes', 'varietes', 'approche_de_calcul',\n",
       "       'ift_histo_chimique_tot', 'ift_histo_chim_tot_hts', 'ift_histo_h',\n",
       "       'ift_histo_f', 'ift_histo_i', 'ift_histo_ts', 'ift_histo_a',\n",
       "       'ift_histo_hh', 'ift_histo_biocontrole', 'ift_histo_rec_moy_bio',\n",
       "       'ift_histo_tx_comp', 'ift_histo_chmps_non_rens',\n",
       "       'ift_cible_non_mil_chimique_tot', 'ift_cible_non_mil_chim_tot_hts',\n",
       "       'ift_cible_non_mil_h', 'ift_cible_non_mil_f', 'ift_cible_non_mil_i',\n",
       "       'ift_cible_non_mil_ts', 'ift_cible_non_mil_a', 'ift_cible_non_mil_hh',\n",
       "       'ift_cible_non_mil_biocontrole', 'ift_cible_non_mil_rec_moy_bio',\n",
       "       'ift_cible_non_mil_tx_comp', 'ift_cible_non_mil_chmps_non_rens',\n",
       "       'ift_cible_mil_chimique_tot', 'ift_cible_mil_chim_tot_hts',\n",
       "       'ift_cible_mil_h', 'ift_cible_mil_f', 'ift_cible_mil_i',\n",
       "       'ift_cible_mil_ts'],\n",
       "      dtype='object')"
      ]
     },
     "execution_count": 5,
     "metadata": {},
     "output_type": "execute_result"
    }
   ],
   "source": [
    "df_can.columns[0:50]"
   ]
  },
  {
   "cell_type": "code",
   "execution_count": 6,
   "metadata": {},
   "outputs": [],
   "source": [
    "df_studied = df_can.loc[\n",
    "    df_can['zone_id'].isin(studied_ids)\n",
    "]"
   ]
  },
  {
   "cell_type": "code",
   "execution_count": 8,
   "metadata": {},
   "outputs": [
    {
     "data": {
      "text/html": [
       "<table id=\"itables_d3cf212c_4bf4_4edd_bc7a_d639501d8fd9\" class=\"display nowrap\" data-quarto-disable-processing=\"true\" style=\"table-layout:auto;width:auto;margin:auto;caption-side:bottom\">\n",
       "<thead>\n",
       "    <tr style=\"text-align: right;\">\n",
       "      \n",
       "      <th>zone_id</th>\n",
       "      <th>variable</th>\n",
       "      <th>value</th>\n",
       "    </tr>\n",
       "  </thead><tbody><tr>\n",
       "<td style=\"vertical-align:middle; text-align:left\">\n",
       "<div style=\"float:left; margin-right: 10px;\">\n",
       "<a href=https://mwouts.github.io/itables/><svg class=\"main-svg\" xmlns=\"http://www.w3.org/2000/svg\" xmlns:xlink=\"http://www.w3.org/1999/xlink\"\n",
       "width=\"64\" viewBox=\"0 0 500 400\" style=\"font-family: 'Droid Sans', sans-serif;\">\n",
       "    <g style=\"fill:#d9d7fc\">\n",
       "        <path d=\"M100,400H500V357H100Z\" />\n",
       "        <path d=\"M100,300H400V257H100Z\" />\n",
       "        <path d=\"M0,200H400V157H0Z\" />\n",
       "        <path d=\"M100,100H500V57H100Z\" />\n",
       "        <path d=\"M100,350H500V307H100Z\" />\n",
       "        <path d=\"M100,250H400V207H100Z\" />\n",
       "        <path d=\"M0,150H400V107H0Z\" />\n",
       "        <path d=\"M100,50H500V7H100Z\" />\n",
       "    </g>\n",
       "    <g style=\"fill:#1a1366;stroke:#1a1366;\">\n",
       "   <rect x=\"100\" y=\"7\" width=\"400\" height=\"43\">\n",
       "    <animate\n",
       "      attributeName=\"width\"\n",
       "      values=\"0;400;0\"\n",
       "      dur=\"5s\"\n",
       "      repeatCount=\"indefinite\" />\n",
       "      <animate\n",
       "      attributeName=\"x\"\n",
       "      values=\"100;100;500\"\n",
       "      dur=\"5s\"\n",
       "      repeatCount=\"indefinite\" />\n",
       "  </rect>\n",
       "        <rect x=\"0\" y=\"107\" width=\"400\" height=\"43\">\n",
       "    <animate\n",
       "      attributeName=\"width\"\n",
       "      values=\"0;400;0\"\n",
       "      dur=\"3.5s\"\n",
       "      repeatCount=\"indefinite\" />\n",
       "    <animate\n",
       "      attributeName=\"x\"\n",
       "      values=\"0;0;400\"\n",
       "      dur=\"3.5s\"\n",
       "      repeatCount=\"indefinite\" />\n",
       "  </rect>\n",
       "        <rect x=\"100\" y=\"207\" width=\"300\" height=\"43\">\n",
       "    <animate\n",
       "      attributeName=\"width\"\n",
       "      values=\"0;300;0\"\n",
       "      dur=\"3s\"\n",
       "      repeatCount=\"indefinite\" />\n",
       "    <animate\n",
       "      attributeName=\"x\"\n",
       "      values=\"100;100;400\"\n",
       "      dur=\"3s\"\n",
       "      repeatCount=\"indefinite\" />\n",
       "  </rect>\n",
       "        <rect x=\"100\" y=\"307\" width=\"400\" height=\"43\">\n",
       "    <animate\n",
       "      attributeName=\"width\"\n",
       "      values=\"0;400;0\"\n",
       "      dur=\"4s\"\n",
       "      repeatCount=\"indefinite\" />\n",
       "      <animate\n",
       "      attributeName=\"x\"\n",
       "      values=\"100;100;500\"\n",
       "      dur=\"4s\"\n",
       "      repeatCount=\"indefinite\" />\n",
       "  </rect>\n",
       "        <g style=\"fill:transparent;stroke-width:8; stroke-linejoin:round\" rx=\"5\">\n",
       "            <g transform=\"translate(45 50) rotate(-45)\">\n",
       "                <circle r=\"33\" cx=\"0\" cy=\"0\" />\n",
       "                <rect x=\"-8\" y=\"32\" width=\"16\" height=\"30\" />\n",
       "            </g>\n",
       "\n",
       "            <g transform=\"translate(450 152)\">\n",
       "                <polyline points=\"-15,-20 -35,-20 -35,40 25,40 25,20\" />\n",
       "                <rect x=\"-15\" y=\"-40\" width=\"60\" height=\"60\" />\n",
       "            </g>\n",
       "\n",
       "            <g transform=\"translate(50 352)\">\n",
       "                <polygon points=\"-35,-5 0,-40 35,-5\" />\n",
       "                <polygon points=\"-35,10 0,45 35,10\" />\n",
       "            </g>\n",
       "\n",
       "            <g transform=\"translate(75 250)\">\n",
       "                <polyline points=\"-30,30 -60,0 -30,-30\" />\n",
       "                <polyline points=\"0,30 -30,0 0,-30\" />\n",
       "            </g>\n",
       "\n",
       "            <g transform=\"translate(425 250) rotate(180)\">\n",
       "                <polyline points=\"-30,30 -60,0 -30,-30\" />\n",
       "                <polyline points=\"0,30 -30,0 0,-30\" />\n",
       "            </g>\n",
       "        </g>\n",
       "    </g>\n",
       "</svg>\n",
       "</a>\n",
       "</div>\n",
       "<div>\n",
       "Loading ITables v2.1.4 from the internet...\n",
       "(need <a href=https://mwouts.github.io/itables/troubleshooting.html>help</a>?)</td>\n",
       "</div>\n",
       "</tr></tbody>\n",
       "\n",
       "</table>\n",
       "<link href=\"https://www.unpkg.com/dt_for_itables@2.0.11/dt_bundle.css\" rel=\"stylesheet\">\n",
       "<script type=\"module\">\n",
       "    import {DataTable, jQuery as $} from 'https://www.unpkg.com/dt_for_itables@2.0.11/dt_bundle.js';\n",
       "\n",
       "    document.querySelectorAll(\"#itables_d3cf212c_4bf4_4edd_bc7a_d639501d8fd9:not(.dataTable)\").forEach(table => {\n",
       "        // Define the table data\n",
       "        const data = [[\"fr.inra.agrosyst.api.entities.Zone_3acd425e-582c-4f1d-818c-e1c86a958196\", \"rendement_culture\", \"NaN\"], [\"fr.inra.agrosyst.api.entities.Zone_54493ddf-354d-41eb-b3c8-f081c0f10ece\", \"rendement_culture\", \"[Fourrage (enrubannage)]|5,786400|t MS/ha\"], [\"fr.inra.agrosyst.api.entities.Zone_8c234b0f-95d4-41de-a5fa-a49659ab5680\", \"rendement_culture\", \"[Grain]|62,000000|q/ha (humidit\\u00e9 ramen\\u00e9e \\u00e0 la norme)\"], [\"fr.inra.agrosyst.api.entities.Zone_4efcc15f-0d1c-4a29-b65b-a41fe1719875\", \"rendement_culture\", \"[Grain]|58,000000|q/ha (humidit\\u00e9 ramen\\u00e9e \\u00e0 la norme)#[Paille]|0,342200|t MS/ha\"], [\"fr.inra.agrosyst.api.entities.Zone_3e2fa4ac-6782-4164-adc8-51201d04c49f\", \"rendement_culture\", \"[Fourrage (ensilage)]|6,500000|t MS/ha\"], [\"fr.inra.agrosyst.api.entities.Zone_71c8682a-5b48-4f5a-86a0-b7b4f29a1d36\", \"rendement_culture\", \"NaN\"], [\"fr.inra.agrosyst.api.entities.Zone_d7c3f860-764e-4fa8-a37f-4b52636f461e\", \"rendement_culture\", \"NaN\"], [\"fr.inra.agrosyst.api.entities.Zone_56342156-7341-448a-ab3e-2513ca250584\", \"rendement_culture\", \"NaN\"], [\"fr.inra.agrosyst.api.entities.Zone_8aed8b42-26da-4be2-ba03-871eb3c1544c\", \"rendement_culture\", \"[A compl\\u00e9ter]|3,500000|t/ha\"], [\"fr.inra.agrosyst.api.entities.Zone_178512f3-752c-4ded-bdd0-f348223719fe\", \"rendement_culture\", \"[Grain]|139,000000|q/ha (humidit\\u00e9 ramen\\u00e9e \\u00e0 la norme)\"]];\n",
       "\n",
       "        // Define the dt_args\n",
       "        let dt_args = {\"layout\": {\"topStart\": null, \"topEnd\": null, \"bottomStart\": null, \"bottomEnd\": null}, \"order\": []};\n",
       "        dt_args[\"data\"] = data;\n",
       "\n",
       "        \n",
       "        new DataTable(table, dt_args);\n",
       "    });\n",
       "</script>\n"
      ],
      "text/plain": [
       "<IPython.core.display.HTML object>"
      ]
     },
     "metadata": {},
     "output_type": "display_data"
    }
   ],
   "source": [
    "table_show(pd.melt(df_studied[['rendement_culture', 'zone_id']], id_vars=['zone_id']))"
   ]
  },
  {
   "cell_type": "code",
   "execution_count": 11,
   "metadata": {},
   "outputs": [
    {
     "name": "stderr",
     "output_type": "stream",
     "text": [
      "100%|██████████| 13/13 [00:12<00:00,  1.04it/s]\n",
      "100%|██████████| 1/1 [00:04<00:00,  4.13s/it]\n"
     ]
    }
   ],
   "source": [
    "df = {}\n",
    "\n",
    "def import_df(df_name, path_data, sep, index_col=None):\n",
    "    df[df_name] = pd.read_csv(path_data+df_name+'.csv', sep = sep, index_col=index_col, low_memory=False)\n",
    "\n",
    "def import_dfs(df_names, path_data, sep = ',', index_col=None, verbose=False):\n",
    "    for df_name in tqdm(df_names) : \n",
    "        if(verbose) :\n",
    "            print(\" - \", df_name)\n",
    "        import_df(df_name, path_data, sep, index_col=index_col)\n",
    "\n",
    "# get_intervention_synthetise_outils_can_context --> intervention_synthetise\n",
    "# get_intervention_synthetise_action_outils_can --> 'intervention_synthetise', 'action_synthetise'\n",
    "# get_intervention_synthetise_combinaison_outils_can -->  'intervention_synthetise', 'intervention_synthetise_restructure', 'combinaison_outil', 'materiel', 'combinaison_outil_materiel'\n",
    "# get_intervention_synthetise_culture_outils_can --> 'intervention_synthetise', 'noeuds_synthetise', 'connection_synthetise', \n",
    "        # 'plantation_perenne_phases_synthetise', \n",
    "        # 'plantation_perenne_synthetise', 'composant_culture_concerne_intervention_synthetise', \n",
    "        # 'noeuds_synthetise_restructure', 'plantation_perenne_synthetise_restructure',\n",
    "        # 'ccc_intervention_synthetise_restructure', 'composant_culture',\n",
    "        # 'espece', 'variete', 'connection_synthetise_restructure'\n",
    "# get_intervention_synthetise_culture_prec_outils_can --> 'composant_culture', 'espece', 'variete', 'intervention_synthetise', \n",
    "        # 'noeuds_synthetise', 'connection_synthetise', 'culture', \n",
    "        # 'noeuds_synthetise_restructure'\n",
    "\n",
    "tables_entrepot = [\n",
    "    'zone', 'parcelle', 'sdc', 'domaine', 'culture', 'composant_culture', 'espece', 'variete', 'noeuds_realise', \n",
    "    'plantation_perenne_phases_realise', 'plantation_perenne_realise', 'recolte_rendement_prix', 'action_realise_agrege'\n",
    "]\n",
    "\n",
    "tables_performance = [\n",
    "    'zone_realise_performance'\n",
    "]\n",
    "\n",
    "# import des données de l'entrepôt avec la colonne 'id' en index \n",
    "import_dfs(tables_entrepot, ENTREPOT_PATH, sep = ',',index_col='id',verbose=False) \n",
    "import_dfs(tables_performance, ENTREPOT_PATH, sep = ',',verbose=False) "
   ]
  },
  {
   "cell_type": "code",
   "execution_count": 12,
   "metadata": {},
   "outputs": [],
   "source": [
    "studied_ids = [\n",
    "    'fr.inra.agrosyst.api.entities.Zone_7459c92b-3f01-471e-898b-05d1bef463a1',\n",
    "    'fr.inra.agrosyst.api.entities.Zone_620b147e-fa8d-4105-aa34-2da69120285f',\n",
    "    'fr.inra.agrosyst.api.entities.Zone_54476254-68fd-4c78-95a4-e29b5e49575e',\n",
    "]"
   ]
  },
  {
   "cell_type": "code",
   "execution_count": 22,
   "metadata": {},
   "outputs": [],
   "source": [
    "df['action_realise_agrege_test'] = df['action_realise_agrege'].loc[\n",
    "    df['action_realise_agrege']['zone_id'].isin(studied_ids)\n",
    "]\n",
    "\n",
    "df['recolte_rendement_prix_test'] = df['recolte_rendement_prix'].loc[\n",
    "    df['recolte_rendement_prix']['action_id'].isin(df['action_realise_agrege_test'].index)\n",
    "]"
   ]
  },
  {
   "cell_type": "code",
   "execution_count": 24,
   "metadata": {},
   "outputs": [],
   "source": [
    "path='./'\n",
    "df['action_realise_agrege_test'].to_csv(path+'action_realise_agrege.csv')\n",
    "df['recolte_rendement_prix_test'].to_csv(path+'recolte_rendement_prix.csv')\n"
   ]
  }
 ],
 "metadata": {
  "kernelspec": {
   "display_name": "Python 3",
   "language": "python",
   "name": "python3"
  },
  "language_info": {
   "codemirror_mode": {
    "name": "ipython",
    "version": 3
   },
   "file_extension": ".py",
   "mimetype": "text/x-python",
   "name": "python",
   "nbconvert_exporter": "python",
   "pygments_lexer": "ipython3",
   "version": "3.10.12"
  }
 },
 "nbformat": 4,
 "nbformat_minor": 2
}
