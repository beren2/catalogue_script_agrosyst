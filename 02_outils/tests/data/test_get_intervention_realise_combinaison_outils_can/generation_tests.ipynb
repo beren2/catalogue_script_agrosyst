{
 "cells": [
  {
   "cell_type": "code",
   "execution_count": 10,
   "metadata": {},
   "outputs": [],
   "source": [
    "import pandas as pd\n",
    "from tqdm import tqdm\n",
    "from itables import show as table_show"
   ]
  },
  {
   "cell_type": "code",
   "execution_count": 11,
   "metadata": {},
   "outputs": [],
   "source": [
    "ENTREPOT_PATH = '~/Bureau/utils/data/'\n",
    "METEO_PATH = '~/Bureau/utils/data/meteo/'\n",
    "SPATIAL_PATH = './data/spatial/'"
   ]
  },
  {
   "cell_type": "code",
   "execution_count": 12,
   "metadata": {},
   "outputs": [],
   "source": [
    "studied_ids = [\n",
    "    'fr.inra.agrosyst.api.entities.effective.EffectiveIntervention_0081a991-49bf-422e-b1bf-c931c307acb9',\n",
    "    'fr.inra.agrosyst.api.entities.effective.EffectiveIntervention_02f2297a-8673-42dc-9365-3112c48847db',\n",
    "    'fr.inra.agrosyst.api.entities.effective.EffectiveIntervention_03d47a0f-fc9e-467d-b807-0277acad258d',\n",
    "    'fr.inra.agrosyst.api.entities.effective.EffectiveIntervention_5fd3e685-b200-4879-b5dc-ef3239326e9e'\n",
    "]"
   ]
  },
  {
   "cell_type": "code",
   "execution_count": 13,
   "metadata": {},
   "outputs": [
    {
     "name": "stderr",
     "output_type": "stream",
     "text": [
      "100%|██████████| 4/4 [00:00<00:00, 117.11it/s]\n",
      "100%|██████████| 1/1 [00:00<00:00, 1368.90it/s]\n"
     ]
    }
   ],
   "source": [
    "donnees = {}\n",
    "\n",
    "def import_df(df_name, path_data, sep, index_col=None):\n",
    "    donnees[df_name] = pd.read_csv(path_data+df_name+'.csv', sep = sep, index_col=index_col, low_memory=False)\n",
    "\n",
    "def import_dfs(df_names, path_data, sep = ',', index_col=None, verbose=False):\n",
    "    for df_name in tqdm(df_names) : \n",
    "        if(verbose) :\n",
    "            print(\" - \", df_name)\n",
    "        import_df(df_name, path_data, sep, index_col=index_col)\n",
    "\n",
    "tables_entrepot = [\n",
    "    'combinaison_outil', 'composant_parc_materiel', 'intervention_realise', 'materiel'\n",
    "]\n",
    "\n",
    "tables_performance = [\n",
    "]\n",
    "\n",
    "# import des données de l'entrepôt avec la colonne 'id' en index \n",
    "import_dfs(tables_entrepot, ENTREPOT_PATH, sep = ',',index_col='id', verbose=False)\n",
    "\n",
    "# import des données de performance\n",
    "import_dfs(['combinaison_outil_composant_parc_materiel'], ENTREPOT_PATH, sep = ',', verbose=False)\n"
   ]
  },
  {
   "cell_type": "code",
   "execution_count": 14,
   "metadata": {},
   "outputs": [],
   "source": [
    "donnees['intervention_realise_test'] = donnees['intervention_realise'].loc[\n",
    "    donnees['intervention_realise'].index.isin(studied_ids)\n",
    "]\n",
    "\n",
    "donnees['combinaison_outil_test'] = donnees['combinaison_outil'].loc[\n",
    "    donnees['combinaison_outil'].index.isin(donnees['intervention_realise_test']['combinaison_outil_id'])\n",
    "]\n",
    "\n",
    "donnees['combinaison_outil_composant_parc_materiel_test'] = donnees['combinaison_outil_composant_parc_materiel'].loc[\n",
    "    donnees['combinaison_outil_composant_parc_materiel']['combinaison_outil_id'].isin(donnees['combinaison_outil_test'].index)\n",
    "]\n",
    "\n",
    "donnees['composant_parc_materiel_test'] = donnees['composant_parc_materiel'].loc[\n",
    "    donnees['composant_parc_materiel'].index.isin(donnees['combinaison_outil_composant_parc_materiel_test']['composant_parc_materiel_id']) |\n",
    "    donnees['composant_parc_materiel'].index.isin(donnees['combinaison_outil_test']['tracteur_composant_parc_materiel_id'])\n",
    "]\n",
    "\n",
    "donnees['materiel_test'] = donnees['materiel'].loc[\n",
    "    donnees['materiel'].index.isin(donnees['composant_parc_materiel_test']['materiel_id'])\n",
    "]"
   ]
  },
  {
   "cell_type": "code",
   "execution_count": null,
   "metadata": {},
   "outputs": [],
   "source": [
    "path='/home/utilisateur/Documents/catalogue_script_agrosyst/02_outils/tests/data/test_get_intervention_realise_combinaison_outils_can/'\n",
    "donnees['intervention_realise_test'].to_csv(path+'intervention_realise'+'.csv')\n",
    "donnees['materiel_test'].to_csv(path+'materiel'+'.csv')\n",
    "donnees['combinaison_outil_test'].to_csv(path+'combinaison_outil'+'.csv')\n",
    "donnees['combinaison_outil_composant_parc_materiel_test'].to_csv(path+'combinaison_outil_composant_parc_materiel'+'.csv')\n",
    "donnees['composant_parc_materiel_test'].to_csv(path+'composant_parc_materiel'+'.csv')"
   ]
  }
 ],
 "metadata": {
  "kernelspec": {
   "display_name": "env_test",
   "language": "python",
   "name": "python3"
  },
  "language_info": {
   "codemirror_mode": {
    "name": "ipython",
    "version": 3
   },
   "file_extension": ".py",
   "mimetype": "text/x-python",
   "name": "python",
   "nbconvert_exporter": "python",
   "pygments_lexer": "ipython3",
   "version": "3.12.9"
  }
 },
 "nbformat": 4,
 "nbformat_minor": 2
}
