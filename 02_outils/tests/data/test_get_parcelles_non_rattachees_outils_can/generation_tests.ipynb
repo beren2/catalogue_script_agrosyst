{
 "cells": [
  {
   "cell_type": "code",
   "execution_count": 119,
   "metadata": {},
   "outputs": [],
   "source": [
    "import pandas as pd\n",
    "from tqdm import tqdm\n",
    "from itables import show as table_show"
   ]
  },
  {
   "cell_type": "code",
   "execution_count": 120,
   "metadata": {},
   "outputs": [],
   "source": [
    "ENTREPOT_PATH = '~/Bureau/utils/data/'\n",
    "METEO_PATH = '~/Bureau/utils/data/meteo/'\n",
    "SPATIAL_PATH = './data/spatial/'"
   ]
  },
  {
   "cell_type": "code",
   "execution_count": 121,
   "metadata": {},
   "outputs": [],
   "source": [
    "# obtention des donnnées de la CAN :\n",
    "directory = '~/Bureau/Exports/20240513/non_anonyme/'\n",
    "file = 'AGS_20240513_exports_agronomes_parcelles_non_rattachees.csv'\n",
    "df_can = pd.read_csv(directory+file, sep='@')"
   ]
  },
  {
   "cell_type": "code",
   "execution_count": 122,
   "metadata": {},
   "outputs": [
    {
     "data": {
      "text/plain": [
       "fr.inra.agrosyst.api.entities.Domain_112c6f9f-d37b-445f-b8f8-943962e4ceb4    1\n",
       "fr.inra.agrosyst.api.entities.Domain_d473bf5e-6982-4491-ad4b-b8ce7ce8fe90    1\n",
       "fr.inra.agrosyst.api.entities.Domain_a65b7438-f310-463d-8739-4ff09597e8aa    1\n",
       "fr.inra.agrosyst.api.entities.Domain_55245350-6e07-4e73-8719-24e4e296d6a6    1\n",
       "fr.inra.agrosyst.api.entities.Domain_359ecd15-6ad4-41a3-bce8-5fee9734ca97    1\n",
       "                                                                            ..\n",
       "fr.inra.agrosyst.api.entities.Domain_139588e2-e547-4343-a848-5801b93393ba    1\n",
       "fr.inra.agrosyst.api.entities.Domain_e774acbe-cd41-4822-b9eb-bdbbf1f4937c    1\n",
       "fr.inra.agrosyst.api.entities.Domain_98093cfd-5b13-429e-978e-b998c0997b01    1\n",
       "fr.inra.agrosyst.api.entities.Domain_196b90ab-7533-40da-9225-b5902bdaa9d3    1\n",
       "fr.inra.agrosyst.api.entities.Domain_801aa2e4-41c4-40e1-b777-82daafb2b736    1\n",
       "Name: domaine_id, Length: 553, dtype: int64"
      ]
     },
     "execution_count": 122,
     "metadata": {},
     "output_type": "execute_result"
    }
   ],
   "source": [
    "df_can['domaine_id'].value_counts()"
   ]
  },
  {
   "cell_type": "code",
   "execution_count": 123,
   "metadata": {},
   "outputs": [
    {
     "name": "stderr",
     "output_type": "stream",
     "text": [
      "100%|██████████| 5/5 [00:01<00:00,  2.99it/s]\n",
      "100%|██████████| 3/3 [00:00<00:00, 76.76it/s]\n"
     ]
    }
   ],
   "source": [
    "donnees = {}\n",
    "\n",
    "def import_df(df_name, path_data, sep, index_col=None):\n",
    "    donnees[df_name] = pd.read_csv(path_data+df_name+'.csv', sep = sep, index_col=index_col, low_memory=False)\n",
    "\n",
    "def import_dfs(df_names, path_data, sep = ',', index_col=None, verbose=False):\n",
    "    for df_name in tqdm(df_names) : \n",
    "        if(verbose) :\n",
    "            print(\" - \", df_name)\n",
    "        import_df(df_name, path_data, sep, index_col=index_col)\n",
    "\n",
    "tables_entrepot = [\n",
    "   'domaine', 'sdc', 'dispositif', 'parcelle', 'reseau'\n",
    "]\n",
    "\n",
    "tables_liaison = [\n",
    "    'liaison_reseaux', 'liaison_sdc_reseau', 'liaison_reseaux'\n",
    "]\n",
    "\n",
    "# import des données de l'entrepôt avec la colonne 'id' en index \n",
    "import_dfs(tables_entrepot, ENTREPOT_PATH, sep = ',',index_col='id', verbose=False)\n",
    "import_dfs(tables_liaison, ENTREPOT_PATH, sep = ',', verbose=False)\n"
   ]
  },
  {
   "cell_type": "code",
   "execution_count": 124,
   "metadata": {},
   "outputs": [],
   "source": [
    "studied_ids = [\n",
    "    'fr.inra.agrosyst.api.entities.Domain_0c482108-2711-43fe-9eed-ff2b8a545223',\n",
    "    'fr.inra.agrosyst.api.entities.Domain_6b95065a-ecb3-4b83-8b2e-f5f4aa73030d',\n",
    "    'fr.inra.agrosyst.api.entities.Domain_f63e841c-0db6-4c4f-800e-62e09ab096f8',\n",
    "    'fr.inra.agrosyst.api.entities.Domain_6f9b9100-7d39-4980-a117-9b01dd0538f5',\n",
    "    'fr.inra.agrosyst.api.entities.Domain_e87a7c0c-f743-4a6b-a7a4-45f32c0dbb3a'\n",
    "]"
   ]
  },
  {
   "cell_type": "code",
   "execution_count": 125,
   "metadata": {},
   "outputs": [],
   "source": [
    "donnees['parcelle'] = donnees['parcelle'].loc[\n",
    "    donnees['parcelle']['domaine_id'].isin(studied_ids)\n",
    "]\n",
    "donnees['dispositif'] = donnees['dispositif'].loc[\n",
    "    donnees['dispositif']['domaine_id'].isin(studied_ids)\n",
    "]\n",
    "donnees['sdc'] = donnees['sdc'].loc[\n",
    "    donnees['sdc']['dispositif_id'].isin(list(donnees['dispositif'].index))\n",
    "]\n",
    "donnees['liaison_sdc_reseau'] = donnees['liaison_sdc_reseau'].loc[\n",
    "    donnees['liaison_sdc_reseau']['sdc_id'].isin(donnees['sdc'].index)\n",
    "]\n",
    "donnees['liaison_reseaux'].loc[\n",
    "    donnees['liaison_reseaux']['reseau_id'].isin(donnees['liaison_sdc_reseau']['reseau_id'])\n",
    "]\n",
    "donnees['reseau'] = donnees['reseau'].loc[\n",
    "    donnees['reseau'].index.isin(donnees['liaison_reseaux']['reseau_id']) | \n",
    "    donnees['reseau'].index.isin(donnees['liaison_reseaux']['reseau_parent_id'])\n",
    "]"
   ]
  },
  {
   "cell_type": "code",
   "execution_count": 137,
   "metadata": {},
   "outputs": [
    {
     "data": {
      "text/plain": [
       "'/home/bvuittenez/Bureau/utils/agrosyst_entrepot/utils/entrepot_nettoyage/catalogue_script_agrosyst/tests/data/test_get_parcelles_non_rattachees_outils_can'"
      ]
     },
     "execution_count": 137,
     "metadata": {},
     "output_type": "execute_result"
    }
   ],
   "source": [
    "pwd"
   ]
  },
  {
   "cell_type": "code",
   "execution_count": 138,
   "metadata": {},
   "outputs": [],
   "source": [
    "path='./'\n",
    "donnees['parcelle'].to_csv(path+'parcelle'+'.csv')\n",
    "donnees['dispositif'].to_csv(path+'dispositif'+'.csv')\n",
    "donnees['sdc'].to_csv(path+'sdc'+'.csv')\n",
    "donnees['liaison_sdc_reseau'].to_csv(path+'liaison_sdc_reseau'+'.csv')\n",
    "donnees['liaison_reseaux'].to_csv(path+'liaison_reseaux'+'.csv')\n",
    "donnees['reseau'].to_csv('../../../data/referentiels/reseau'+'.csv')"
   ]
  },
  {
   "cell_type": "code",
   "execution_count": 134,
   "metadata": {},
   "outputs": [],
   "source": [
    "!rm ./reseau.csv.gpg\n",
    "!gpg --recipient berenger.vuittenez@inrae.fr --encrypt --output ./reseau.csv.gpg ./reseau.csv\n",
    "# par la suite, penser à la déplacer le fichier produit dans référentiel car c'est là qu'il sera utilisé pour le test\n"
   ]
  },
  {
   "cell_type": "code",
   "execution_count": 135,
   "metadata": {},
   "outputs": [],
   "source": [
    "!rm ./reseau.csv"
   ]
  }
 ],
 "metadata": {
  "kernelspec": {
   "display_name": "Python 3",
   "language": "python",
   "name": "python3"
  },
  "language_info": {
   "codemirror_mode": {
    "name": "ipython",
    "version": 3
   },
   "file_extension": ".py",
   "mimetype": "text/x-python",
   "name": "python",
   "nbconvert_exporter": "python",
   "pygments_lexer": "ipython3",
   "version": "3.10.12"
  }
 },
 "nbformat": 4,
 "nbformat_minor": 2
}
