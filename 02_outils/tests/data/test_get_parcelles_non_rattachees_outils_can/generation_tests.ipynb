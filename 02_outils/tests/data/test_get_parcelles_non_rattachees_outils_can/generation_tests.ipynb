{
 "cells": [
  {
   "cell_type": "code",
   "execution_count": null,
   "metadata": {},
   "outputs": [],
   "source": [
    "import pandas as pd\n",
    "from tqdm import tqdm\n",
    "from itables import show as table_show"
   ]
  },
  {
   "cell_type": "code",
   "execution_count": 6,
   "metadata": {},
   "outputs": [],
   "source": [
    "ENTREPOT_PATH = '~/Bureau/utils/data/'\n",
    "METEO_PATH = '~/Bureau/utils/data/meteo/'\n",
    "SPATIAL_PATH = './data/spatial/'"
   ]
  },
  {
   "cell_type": "code",
   "execution_count": 1,
   "metadata": {},
   "outputs": [
    {
     "ename": "NameError",
     "evalue": "name 'pd' is not defined",
     "output_type": "error",
     "traceback": [
      "\u001b[31m---------------------------------------------------------------------------\u001b[39m",
      "\u001b[31mNameError\u001b[39m                                 Traceback (most recent call last)",
      "\u001b[36mCell\u001b[39m\u001b[36m \u001b[39m\u001b[32mIn[1]\u001b[39m\u001b[32m, line 4\u001b[39m\n\u001b[32m      2\u001b[39m directory = \u001b[33m'\u001b[39m\u001b[33m~/Bureau/Exports/20240513/non_anonyme/\u001b[39m\u001b[33m'\u001b[39m\n\u001b[32m      3\u001b[39m file = \u001b[33m'\u001b[39m\u001b[33mAGS_20240513_exports_agronomes_parcelles_non_rattachees.csv\u001b[39m\u001b[33m'\u001b[39m\n\u001b[32m----> \u001b[39m\u001b[32m4\u001b[39m df_can = \u001b[43mpd\u001b[49m.read_csv(directory+file, sep=\u001b[33m'\u001b[39m\u001b[33m@\u001b[39m\u001b[33m'\u001b[39m)\n",
      "\u001b[31mNameError\u001b[39m: name 'pd' is not defined"
     ]
    }
   ],
   "source": [
    "# obtention des donnnées de la CAN :\n",
    "directory = '~/Bureau/Exports/20240513/non_anonyme/'\n",
    "file = 'AGS_20240513_exports_agronomes_parcelles_non_rattachees.csv'\n",
    "df_can = pd.read_csv(directory+file, sep='@')"
   ]
  },
  {
   "cell_type": "code",
   "execution_count": 2,
   "metadata": {},
   "outputs": [
    {
     "ename": "NameError",
     "evalue": "name 'df_can' is not defined",
     "output_type": "error",
     "traceback": [
      "\u001b[31m---------------------------------------------------------------------------\u001b[39m",
      "\u001b[31mNameError\u001b[39m                                 Traceback (most recent call last)",
      "\u001b[36mCell\u001b[39m\u001b[36m \u001b[39m\u001b[32mIn[2]\u001b[39m\u001b[32m, line 1\u001b[39m\n\u001b[32m----> \u001b[39m\u001b[32m1\u001b[39m \u001b[43mdf_can\u001b[49m[\u001b[33m'\u001b[39m\u001b[33mdomaine_id\u001b[39m\u001b[33m'\u001b[39m].value_counts()\n",
      "\u001b[31mNameError\u001b[39m: name 'df_can' is not defined"
     ]
    }
   ],
   "source": [
    "df_can['domaine_id'].value_counts()"
   ]
  },
  {
   "cell_type": "code",
   "execution_count": 7,
   "metadata": {},
   "outputs": [
    {
     "ename": "NameError",
     "evalue": "name 'tqdm' is not defined",
     "output_type": "error",
     "traceback": [
      "\u001b[31m---------------------------------------------------------------------------\u001b[39m",
      "\u001b[31mNameError\u001b[39m                                 Traceback (most recent call last)",
      "\u001b[36mCell\u001b[39m\u001b[36m \u001b[39m\u001b[32mIn[7]\u001b[39m\u001b[32m, line 21\u001b[39m\n\u001b[32m     16\u001b[39m tables_liaison = [\n\u001b[32m     17\u001b[39m     \u001b[33m'\u001b[39m\u001b[33mliaison_reseaux\u001b[39m\u001b[33m'\u001b[39m, \u001b[33m'\u001b[39m\u001b[33mliaison_sdc_reseau\u001b[39m\u001b[33m'\u001b[39m, \u001b[33m'\u001b[39m\u001b[33mliaison_reseaux\u001b[39m\u001b[33m'\u001b[39m\n\u001b[32m     18\u001b[39m ]\n\u001b[32m     20\u001b[39m \u001b[38;5;66;03m# import des données de l'entrepôt avec la colonne 'id' en index \u001b[39;00m\n\u001b[32m---> \u001b[39m\u001b[32m21\u001b[39m \u001b[43mimport_dfs\u001b[49m\u001b[43m(\u001b[49m\u001b[43mtables_entrepot\u001b[49m\u001b[43m,\u001b[49m\u001b[43m \u001b[49m\u001b[43mENTREPOT_PATH\u001b[49m\u001b[43m,\u001b[49m\u001b[43m \u001b[49m\u001b[43msep\u001b[49m\u001b[43m \u001b[49m\u001b[43m=\u001b[49m\u001b[43m \u001b[49m\u001b[33;43m'\u001b[39;49m\u001b[33;43m,\u001b[39;49m\u001b[33;43m'\u001b[39;49m\u001b[43m,\u001b[49m\u001b[43mindex_col\u001b[49m\u001b[43m=\u001b[49m\u001b[33;43m'\u001b[39;49m\u001b[33;43mid\u001b[39;49m\u001b[33;43m'\u001b[39;49m\u001b[43m,\u001b[49m\u001b[43m \u001b[49m\u001b[43mverbose\u001b[49m\u001b[43m=\u001b[49m\u001b[38;5;28;43;01mFalse\u001b[39;49;00m\u001b[43m)\u001b[49m\n\u001b[32m     22\u001b[39m import_dfs(tables_liaison, ENTREPOT_PATH, sep = \u001b[33m'\u001b[39m\u001b[33m,\u001b[39m\u001b[33m'\u001b[39m, verbose=\u001b[38;5;28;01mFalse\u001b[39;00m)\n",
      "\u001b[36mCell\u001b[39m\u001b[36m \u001b[39m\u001b[32mIn[7]\u001b[39m\u001b[32m, line 7\u001b[39m, in \u001b[36mimport_dfs\u001b[39m\u001b[34m(df_names, path_data, sep, index_col, verbose)\u001b[39m\n\u001b[32m      6\u001b[39m \u001b[38;5;28;01mdef\u001b[39;00m\u001b[38;5;250m \u001b[39m\u001b[34mimport_dfs\u001b[39m(df_names, path_data, sep = \u001b[33m'\u001b[39m\u001b[33m,\u001b[39m\u001b[33m'\u001b[39m, index_col=\u001b[38;5;28;01mNone\u001b[39;00m, verbose=\u001b[38;5;28;01mFalse\u001b[39;00m):\n\u001b[32m----> \u001b[39m\u001b[32m7\u001b[39m     \u001b[38;5;28;01mfor\u001b[39;00m df_name \u001b[38;5;129;01min\u001b[39;00m \u001b[43mtqdm\u001b[49m(df_names) : \n\u001b[32m      8\u001b[39m         \u001b[38;5;28;01mif\u001b[39;00m(verbose) :\n\u001b[32m      9\u001b[39m             \u001b[38;5;28mprint\u001b[39m(\u001b[33m\"\u001b[39m\u001b[33m - \u001b[39m\u001b[33m\"\u001b[39m, df_name)\n",
      "\u001b[31mNameError\u001b[39m: name 'tqdm' is not defined"
     ]
    }
   ],
   "source": [
    "donnees = {}\n",
    "\n",
    "def import_df(df_name, path_data, sep, index_col=None):\n",
    "    donnees[df_name] = pd.read_csv(path_data+df_name+'.csv', sep = sep, index_col=index_col, low_memory=False)\n",
    "\n",
    "def import_dfs(df_names, path_data, sep = ',', index_col=None, verbose=False):\n",
    "    for df_name in tqdm(df_names) : \n",
    "        if(verbose) :\n",
    "            print(\" - \", df_name)\n",
    "        import_df(df_name, path_data, sep, index_col=index_col)\n",
    "\n",
    "tables_entrepot = [\n",
    "   'domaine', 'sdc', 'dispositif', 'parcelle', 'reseau'\n",
    "]\n",
    "\n",
    "tables_liaison = [\n",
    "    'liaison_reseaux', 'liaison_sdc_reseau', 'liaison_reseaux'\n",
    "]\n",
    "\n",
    "# import des données de l'entrepôt avec la colonne 'id' en index \n",
    "import_dfs(tables_entrepot, ENTREPOT_PATH, sep = ',',index_col='id', verbose=False)\n",
    "import_dfs(tables_liaison, ENTREPOT_PATH, sep = ',', verbose=False)\n"
   ]
  },
  {
   "cell_type": "code",
   "execution_count": 4,
   "metadata": {},
   "outputs": [],
   "source": [
    "studied_ids = [\n",
    "    'fr.inra.agrosyst.api.entities.Domain_0c482108-2711-43fe-9eed-ff2b8a545223',\n",
    "    'fr.inra.agrosyst.api.entities.Domain_6b95065a-ecb3-4b83-8b2e-f5f4aa73030d',\n",
    "    'fr.inra.agrosyst.api.entities.Domain_f63e841c-0db6-4c4f-800e-62e09ab096f8',\n",
    "    'fr.inra.agrosyst.api.entities.Domain_6f9b9100-7d39-4980-a117-9b01dd0538f5',\n",
    "    'fr.inra.agrosyst.api.entities.Domain_e87a7c0c-f743-4a6b-a7a4-45f32c0dbb3a'\n",
    "]"
   ]
  },
  {
   "cell_type": "code",
   "execution_count": 5,
   "metadata": {},
   "outputs": [
    {
     "ename": "KeyError",
     "evalue": "'parcelle'",
     "output_type": "error",
     "traceback": [
      "\u001b[31m---------------------------------------------------------------------------\u001b[39m",
      "\u001b[31mKeyError\u001b[39m                                  Traceback (most recent call last)",
      "\u001b[36mCell\u001b[39m\u001b[36m \u001b[39m\u001b[32mIn[5]\u001b[39m\u001b[32m, line 1\u001b[39m\n\u001b[32m----> \u001b[39m\u001b[32m1\u001b[39m donnees[\u001b[33m'\u001b[39m\u001b[33mparcelle\u001b[39m\u001b[33m'\u001b[39m] = \u001b[43mdonnees\u001b[49m\u001b[43m[\u001b[49m\u001b[33;43m'\u001b[39;49m\u001b[33;43mparcelle\u001b[39;49m\u001b[33;43m'\u001b[39;49m\u001b[43m]\u001b[49m.loc[\n\u001b[32m      2\u001b[39m     donnees[\u001b[33m'\u001b[39m\u001b[33mparcelle\u001b[39m\u001b[33m'\u001b[39m][\u001b[33m'\u001b[39m\u001b[33mdomaine_id\u001b[39m\u001b[33m'\u001b[39m].isin(studied_ids)\n\u001b[32m      3\u001b[39m ]\n\u001b[32m      4\u001b[39m donnees[\u001b[33m'\u001b[39m\u001b[33mdispositif\u001b[39m\u001b[33m'\u001b[39m] = donnees[\u001b[33m'\u001b[39m\u001b[33mdispositif\u001b[39m\u001b[33m'\u001b[39m].loc[\n\u001b[32m      5\u001b[39m     donnees[\u001b[33m'\u001b[39m\u001b[33mdispositif\u001b[39m\u001b[33m'\u001b[39m][\u001b[33m'\u001b[39m\u001b[33mdomaine_id\u001b[39m\u001b[33m'\u001b[39m].isin(studied_ids)\n\u001b[32m      6\u001b[39m ]\n\u001b[32m      7\u001b[39m donnees[\u001b[33m'\u001b[39m\u001b[33msdc\u001b[39m\u001b[33m'\u001b[39m] = donnees[\u001b[33m'\u001b[39m\u001b[33msdc\u001b[39m\u001b[33m'\u001b[39m].loc[\n\u001b[32m      8\u001b[39m     donnees[\u001b[33m'\u001b[39m\u001b[33msdc\u001b[39m\u001b[33m'\u001b[39m][\u001b[33m'\u001b[39m\u001b[33mdispositif_id\u001b[39m\u001b[33m'\u001b[39m].isin(\u001b[38;5;28mlist\u001b[39m(donnees[\u001b[33m'\u001b[39m\u001b[33mdispositif\u001b[39m\u001b[33m'\u001b[39m].index))\n\u001b[32m      9\u001b[39m ]\n",
      "\u001b[31mKeyError\u001b[39m: 'parcelle'"
     ]
    }
   ],
   "source": [
    "donnees['parcelle'] = donnees['parcelle'].loc[\n",
    "    donnees['parcelle']['domaine_id'].isin(studied_ids)\n",
    "]\n",
    "donnees['dispositif'] = donnees['dispositif'].loc[\n",
    "    donnees['dispositif']['domaine_id'].isin(studied_ids)\n",
    "]\n",
    "donnees['sdc'] = donnees['sdc'].loc[\n",
    "    donnees['sdc']['dispositif_id'].isin(list(donnees['dispositif'].index))\n",
    "]\n",
    "donnees['liaison_sdc_reseau'] = donnees['liaison_sdc_reseau'].loc[\n",
    "    donnees['liaison_sdc_reseau']['sdc_id'].isin(donnees['sdc'].index)\n",
    "]\n",
    "donnees['liaison_reseaux'].loc[\n",
    "    donnees['liaison_reseaux']['reseau_id'].isin(donnees['liaison_sdc_reseau']['reseau_id'])\n",
    "]\n",
    "donnees['reseau'] = donnees['reseau'].loc[\n",
    "    donnees['reseau'].index.isin(donnees['liaison_reseaux']['reseau_id']) | \n",
    "    donnees['reseau'].index.isin(donnees['liaison_reseaux']['reseau_parent_id'])\n",
    "]"
   ]
  },
  {
   "cell_type": "code",
   "execution_count": 137,
   "metadata": {},
   "outputs": [
    {
     "data": {
      "text/plain": [
       "'/home/bvuittenez/Bureau/utils/agrosyst_entrepot/utils/entrepot_nettoyage/catalogue_script_agrosyst/tests/data/test_get_parcelles_non_rattachees_outils_can'"
      ]
     },
     "execution_count": 137,
     "metadata": {},
     "output_type": "execute_result"
    }
   ],
   "source": [
    "pwd"
   ]
  },
  {
   "cell_type": "code",
   "execution_count": 138,
   "metadata": {},
   "outputs": [],
   "source": [
    "path='./'\n",
    "donnees['parcelle'].to_csv(path+'parcelle'+'.csv')\n",
    "donnees['dispositif'].to_csv(path+'dispositif'+'.csv')\n",
    "donnees['sdc'].to_csv(path+'sdc'+'.csv')\n",
    "donnees['liaison_sdc_reseau'].to_csv(path+'liaison_sdc_reseau'+'.csv')\n",
    "donnees['liaison_reseaux'].to_csv(path+'liaison_reseaux'+'.csv')\n",
    "donnees['reseau'].to_csv('../../../data/referentiels/reseau'+'.csv')"
   ]
  },
  {
   "cell_type": "code",
   "execution_count": 134,
   "metadata": {},
   "outputs": [],
   "source": [
    "!rm ./reseau.csv.gpg\n",
    "!gpg --recipient berenger.vuittenez@inrae.fr --encrypt --output ./reseau.csv.gpg ./reseau.csv\n",
    "# par la suite, penser à la déplacer le fichier produit dans référentiel car c'est là qu'il sera utilisé pour le test\n"
   ]
  },
  {
   "cell_type": "code",
   "execution_count": 135,
   "metadata": {},
   "outputs": [],
   "source": [
    "!rm ./reseau.csv"
   ]
  }
 ],
 "metadata": {
  "kernelspec": {
   "display_name": "env_test",
   "language": "python",
   "name": "python3"
  },
  "language_info": {
   "codemirror_mode": {
    "name": "ipython",
    "version": 3
   },
   "file_extension": ".py",
   "mimetype": "text/x-python",
   "name": "python",
   "nbconvert_exporter": "python",
   "pygments_lexer": "ipython3",
   "version": "3.12.9"
  }
 },
 "nbformat": 4,
 "nbformat_minor": 2
}
