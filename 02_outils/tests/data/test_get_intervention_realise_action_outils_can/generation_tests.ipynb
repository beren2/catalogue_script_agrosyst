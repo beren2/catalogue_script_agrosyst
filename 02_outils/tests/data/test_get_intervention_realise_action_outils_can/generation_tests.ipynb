{
 "cells": [
  {
   "cell_type": "code",
   "execution_count": 2,
   "metadata": {},
   "outputs": [],
   "source": [
    "import pandas as pd\n",
    "from tqdm import tqdm"
   ]
  },
  {
   "cell_type": "code",
   "execution_count": 2,
   "metadata": {},
   "outputs": [],
   "source": [
    "ENTREPOT_PATH = '~/Bureau/utils/data/'\n",
    "METEO_PATH = '~/Bureau/utils/data/meteo/'\n",
    "SPATIAL_PATH = './data/spatial/'"
   ]
  },
  {
   "cell_type": "code",
   "execution_count": 6,
   "metadata": {},
   "outputs": [
    {
     "name": "stderr",
     "output_type": "stream",
     "text": [
      "/tmp/ipykernel_221760/3497195308.py:2: DtypeWarning: Columns (12,13,20,21,22) have mixed types. Specify dtype option on import or set low_memory=False.\n",
      "  df = pd.read_csv(path, sep = '@')\n"
     ]
    }
   ],
   "source": [
    "path = '~/Bureau/Exports/20240606/non_anonyme/AGS_20240606_exports_agronomes_interventions_realisees.csv'\n",
    "df = pd.read_csv(path, sep = '@')"
   ]
  },
  {
   "cell_type": "code",
   "execution_count": 17,
   "metadata": {},
   "outputs": [],
   "source": [
    "list_intervention_id = [\n",
    "    'fr.inra.agrosyst.api.entities.effective.EffectiveIntervention_013c63eb-b6a7-4505-8abc-d5aca4ff7f32',\n",
    "    'fr.inra.agrosyst.api.entities.effective.EffectiveIntervention_013e4bcf-9628-4ae9-9a57-1e63b5eadc8c',\n",
    "    'fr.inra.agrosyst.api.entities.effective.EffectiveIntervention_013f3c16-277f-4ec4-a645-0fd139da4967',\n",
    "    'fr.inra.agrosyst.api.entities.effective.EffectiveIntervention_0143a358-7a89-45a5-97ac-2c98d5b862c2',\n",
    "    'fr.inra.agrosyst.api.entities.effective.EffectiveIntervention_0150d126-bdfc-4cc9-b994-d78ead3ed148',\n",
    "    'fr.inra.agrosyst.api.entities.effective.EffectiveIntervention_66e3f5b3-ef11-416d-b79b-65ba2caa6a07'\n",
    "]"
   ]
  },
  {
   "cell_type": "code",
   "execution_count": 19,
   "metadata": {},
   "outputs": [
    {
     "data": {
      "text/html": [
       "<div>\n",
       "<style scoped>\n",
       "    .dataframe tbody tr th:only-of-type {\n",
       "        vertical-align: middle;\n",
       "    }\n",
       "\n",
       "    .dataframe tbody tr th {\n",
       "        vertical-align: top;\n",
       "    }\n",
       "\n",
       "    .dataframe thead th {\n",
       "        text-align: right;\n",
       "    }\n",
       "</style>\n",
       "<table border=\"1\" class=\"dataframe\">\n",
       "  <thead>\n",
       "    <tr style=\"text-align: right;\">\n",
       "      <th></th>\n",
       "      <th></th>\n",
       "      <th>proportion_surface_traitee_phyto</th>\n",
       "      <th>psci_phyto</th>\n",
       "      <th>proportion_surface_traitee_lutte_bio</th>\n",
       "      <th>psci_lutte_bio</th>\n",
       "      <th>quantite_eau_mm</th>\n",
       "    </tr>\n",
       "    <tr>\n",
       "      <th>intervention_id</th>\n",
       "      <th>interventions_actions</th>\n",
       "      <th></th>\n",
       "      <th></th>\n",
       "      <th></th>\n",
       "      <th></th>\n",
       "      <th></th>\n",
       "    </tr>\n",
       "  </thead>\n",
       "  <tbody>\n",
       "    <tr>\n",
       "      <th>fr.inra.agrosyst.api.entities.effective.EffectiveIntervention_66e3f5b3-ef11-416d-b79b-65ba2caa6a07</th>\n",
       "      <th>Fertilisation minérale ; Travail de surface (binage, hersage, griffage, ...)</th>\n",
       "      <td>NaN</td>\n",
       "      <td>NaN</td>\n",
       "      <td>NaN</td>\n",
       "      <td>NaN</td>\n",
       "      <td>NaN</td>\n",
       "    </tr>\n",
       "    <tr>\n",
       "      <th>fr.inra.agrosyst.api.entities.effective.EffectiveIntervention_013f3c16-277f-4ec4-a645-0fd139da4967</th>\n",
       "      <th>Application de produits sans AMM</th>\n",
       "      <td>NaN</td>\n",
       "      <td>NaN</td>\n",
       "      <td>100.0</td>\n",
       "      <td>100.0</td>\n",
       "      <td>NaN</td>\n",
       "    </tr>\n",
       "    <tr>\n",
       "      <th>fr.inra.agrosyst.api.entities.effective.EffectiveIntervention_013c63eb-b6a7-4505-8abc-d5aca4ff7f32</th>\n",
       "      <th>Application de produits avec AMM</th>\n",
       "      <td>100.0</td>\n",
       "      <td>50.0</td>\n",
       "      <td>NaN</td>\n",
       "      <td>NaN</td>\n",
       "      <td>NaN</td>\n",
       "    </tr>\n",
       "    <tr>\n",
       "      <th>fr.inra.agrosyst.api.entities.effective.EffectiveIntervention_0150d126-bdfc-4cc9-b994-d78ead3ed148</th>\n",
       "      <th>Semis direct</th>\n",
       "      <td>NaN</td>\n",
       "      <td>NaN</td>\n",
       "      <td>NaN</td>\n",
       "      <td>NaN</td>\n",
       "      <td>NaN</td>\n",
       "    </tr>\n",
       "    <tr>\n",
       "      <th>fr.inra.agrosyst.api.entities.effective.EffectiveIntervention_013e4bcf-9628-4ae9-9a57-1e63b5eadc8c</th>\n",
       "      <th>Semis classique</th>\n",
       "      <td>NaN</td>\n",
       "      <td>NaN</td>\n",
       "      <td>NaN</td>\n",
       "      <td>NaN</td>\n",
       "      <td>NaN</td>\n",
       "    </tr>\n",
       "    <tr>\n",
       "      <th>fr.inra.agrosyst.api.entities.effective.EffectiveIntervention_0143a358-7a89-45a5-97ac-2c98d5b862c2</th>\n",
       "      <th>Application de produits avec AMM</th>\n",
       "      <td>100.0</td>\n",
       "      <td>100.0</td>\n",
       "      <td>NaN</td>\n",
       "      <td>NaN</td>\n",
       "      <td>NaN</td>\n",
       "    </tr>\n",
       "  </tbody>\n",
       "</table>\n",
       "</div>"
      ],
      "text/plain": [
       "                                                                                                       proportion_surface_traitee_phyto  \\\n",
       "intervention_id                                    interventions_actions                                                                  \n",
       "fr.inra.agrosyst.api.entities.effective.Effecti... Fertilisation minérale ; Travail de surface (bi...                               NaN   \n",
       "fr.inra.agrosyst.api.entities.effective.Effecti... Application de produits sans AMM                                                 NaN   \n",
       "fr.inra.agrosyst.api.entities.effective.Effecti... Application de produits avec AMM                                               100.0   \n",
       "fr.inra.agrosyst.api.entities.effective.Effecti... Semis direct                                                                     NaN   \n",
       "fr.inra.agrosyst.api.entities.effective.Effecti... Semis classique                                                                  NaN   \n",
       "fr.inra.agrosyst.api.entities.effective.Effecti... Application de produits avec AMM                                               100.0   \n",
       "\n",
       "                                                                                                       psci_phyto  \\\n",
       "intervention_id                                    interventions_actions                                            \n",
       "fr.inra.agrosyst.api.entities.effective.Effecti... Fertilisation minérale ; Travail de surface (bi...         NaN   \n",
       "fr.inra.agrosyst.api.entities.effective.Effecti... Application de produits sans AMM                           NaN   \n",
       "fr.inra.agrosyst.api.entities.effective.Effecti... Application de produits avec AMM                          50.0   \n",
       "fr.inra.agrosyst.api.entities.effective.Effecti... Semis direct                                               NaN   \n",
       "fr.inra.agrosyst.api.entities.effective.Effecti... Semis classique                                            NaN   \n",
       "fr.inra.agrosyst.api.entities.effective.Effecti... Application de produits avec AMM                         100.0   \n",
       "\n",
       "                                                                                                       proportion_surface_traitee_lutte_bio  \\\n",
       "intervention_id                                    interventions_actions                                                                      \n",
       "fr.inra.agrosyst.api.entities.effective.Effecti... Fertilisation minérale ; Travail de surface (bi...                                   NaN   \n",
       "fr.inra.agrosyst.api.entities.effective.Effecti... Application de produits sans AMM                                                   100.0   \n",
       "fr.inra.agrosyst.api.entities.effective.Effecti... Application de produits avec AMM                                                     NaN   \n",
       "fr.inra.agrosyst.api.entities.effective.Effecti... Semis direct                                                                         NaN   \n",
       "fr.inra.agrosyst.api.entities.effective.Effecti... Semis classique                                                                      NaN   \n",
       "fr.inra.agrosyst.api.entities.effective.Effecti... Application de produits avec AMM                                                     NaN   \n",
       "\n",
       "                                                                                                       psci_lutte_bio  \\\n",
       "intervention_id                                    interventions_actions                                                \n",
       "fr.inra.agrosyst.api.entities.effective.Effecti... Fertilisation minérale ; Travail de surface (bi...             NaN   \n",
       "fr.inra.agrosyst.api.entities.effective.Effecti... Application de produits sans AMM                             100.0   \n",
       "fr.inra.agrosyst.api.entities.effective.Effecti... Application de produits avec AMM                               NaN   \n",
       "fr.inra.agrosyst.api.entities.effective.Effecti... Semis direct                                                   NaN   \n",
       "fr.inra.agrosyst.api.entities.effective.Effecti... Semis classique                                                NaN   \n",
       "fr.inra.agrosyst.api.entities.effective.Effecti... Application de produits avec AMM                               NaN   \n",
       "\n",
       "                                                                                                       quantite_eau_mm  \n",
       "intervention_id                                    interventions_actions                                                \n",
       "fr.inra.agrosyst.api.entities.effective.Effecti... Fertilisation minérale ; Travail de surface (bi...              NaN  \n",
       "fr.inra.agrosyst.api.entities.effective.Effecti... Application de produits sans AMM                                NaN  \n",
       "fr.inra.agrosyst.api.entities.effective.Effecti... Application de produits avec AMM                                NaN  \n",
       "fr.inra.agrosyst.api.entities.effective.Effecti... Semis direct                                                    NaN  \n",
       "fr.inra.agrosyst.api.entities.effective.Effecti... Semis classique                                                 NaN  \n",
       "fr.inra.agrosyst.api.entities.effective.Effecti... Application de produits avec AMM                                NaN  "
      ]
     },
     "execution_count": 19,
     "metadata": {},
     "output_type": "execute_result"
    }
   ],
   "source": [
    "df.loc[df['intervention_id'].isin(list_intervention_id)][['intervention_id', 'interventions_actions', 'proportion_surface_traitee_phyto', 'psci_phyto', 'proportion_surface_traitee_lutte_bio', 'psci_lutte_bio', 'quantite_eau_mm']].set_index(['intervention_id', 'interventions_actions'])"
   ]
  },
  {
   "cell_type": "code",
   "execution_count": 3,
   "metadata": {},
   "outputs": [
    {
     "name": "stderr",
     "output_type": "stream",
     "text": [
      "100%|██████████| 7/7 [00:15<00:00,  2.20s/it]\n"
     ]
    }
   ],
   "source": [
    "donnees = {}\n",
    "\n",
    "def import_df(df_name, path_data, sep, index_col=None):\n",
    "    donnees[df_name] = pd.read_csv(path_data+df_name+'.csv', sep = sep, index_col=index_col, low_memory=False)\n",
    "\n",
    "def import_dfs(df_names, path_data, sep = ',', index_col=None, verbose=False):\n",
    "    for df_name in tqdm(df_names) : \n",
    "        if(verbose) :\n",
    "            print(\" - \", df_name)\n",
    "        import_df(df_name, path_data, sep, index_col=index_col)\n",
    "\n",
    "tables_entrepot = [\n",
    "    'action_realise', 'intervention_realise', 'composant_action_semis', \n",
    "    'semence', 'utilisation_intrant_realise', 'espece', 'composant_culture'\n",
    "]\n",
    "\n",
    "tables_performance = [\n",
    "]\n",
    "\n",
    "# import des données de l'entrepôt avec la colonne 'id' en index \n",
    "import_dfs(tables_entrepot, ENTREPOT_PATH, sep = ',',index_col='id', verbose=False)\n",
    "\n",
    "# import des données de performance\n",
    "#import_dfs(['intervention_realise_agrege', 'combinaison_outil_materiel'], ENTREPOT_PATH, sep = ',', verbose=False)\n"
   ]
  },
  {
   "cell_type": "code",
   "execution_count": 18,
   "metadata": {},
   "outputs": [
    {
     "name": "stderr",
     "output_type": "stream",
     "text": [
      "100%|██████████| 1/1 [00:00<00:00,  3.50it/s]\n"
     ]
    }
   ],
   "source": [
    "import_dfs(['noeuds_realise'], ENTREPOT_PATH, sep = ',',index_col='id', verbose=False)\n"
   ]
  },
  {
   "cell_type": "code",
   "execution_count": 41,
   "metadata": {},
   "outputs": [],
   "source": [
    "studied_ids = [\n",
    "    'fr.inra.agrosyst.api.entities.effective.EffectiveIntervention_013c63eb-b6a7-4505-8abc-d5aca4ff7f32',\n",
    "    'fr.inra.agrosyst.api.entities.effective.EffectiveIntervention_013e4bcf-9628-4ae9-9a57-1e63b5eadc8c',\n",
    "    'fr.inra.agrosyst.api.entities.effective.EffectiveIntervention_013f3c16-277f-4ec4-a645-0fd139da4967',\n",
    "    'fr.inra.agrosyst.api.entities.effective.EffectiveIntervention_0143a358-7a89-45a5-97ac-2c98d5b862c2',\n",
    "    'fr.inra.agrosyst.api.entities.effective.EffectiveIntervention_0150d126-bdfc-4cc9-b994-d78ead3ed148',\n",
    "    'fr.inra.agrosyst.api.entities.effective.EffectiveIntervention_66e3f5b3-ef11-416d-b79b-65ba2caa6a07',\n",
    "]"
   ]
  },
  {
   "cell_type": "code",
   "execution_count": 42,
   "metadata": {},
   "outputs": [],
   "source": [
    "donnees['intervention_realise_test'] = donnees['intervention_realise'].loc[\n",
    "    donnees['intervention_realise'].index.isin(studied_ids)\n",
    "]\n",
    "\n",
    "donnees['action_realise_test'] = donnees['action_realise'].loc[\n",
    "    donnees['action_realise']['intervention_realise_id'].isin(donnees['intervention_realise_test'].index)\n",
    "]\n",
    "\n",
    "donnees['composant_action_semis_test'] = donnees['composant_action_semis'].loc[\n",
    "    donnees['composant_action_semis']['action_id'].isin(donnees['action_realise_test'].index)\n",
    "]\n",
    "\n",
    "donnees['noeuds_realise_test'] = donnees['noeuds_realise'].loc[\n",
    "    donnees['noeuds_realise'].index.isin(donnees['intervention_realise_test']['noeuds_realise_id'])\n",
    "]\n",
    "\n",
    "donnees['composant_culture_test'] = donnees['composant_culture'].loc[\n",
    "    donnees['composant_culture']['culture_id'].isin(donnees['noeuds_realise_test']['culture_id'])\n",
    "]\n",
    "\n",
    "donnees['espece_test'] = donnees['espece'].loc[\n",
    "    donnees['espece'].index.isin(donnees['composant_culture_test']['espece_id'])\n",
    "]\n",
    "donnees['semence_test']= donnees['semence'].loc[\n",
    "    donnees['semence']['espece_id'].isin(donnees['composant_culture_test'].index)\n",
    "]\n",
    "\n",
    "donnees['utilisation_intrant_realise_test'] = donnees['utilisation_intrant_realise'].loc[\n",
    "    donnees['utilisation_intrant_realise']['intervention_realise_id'].isin(donnees['intervention_realise_test'].index)\n",
    "]"
   ]
  },
  {
   "cell_type": "code",
   "execution_count": 43,
   "metadata": {},
   "outputs": [],
   "source": [
    "path=''\n",
    "donnees['intervention_realise_test'].to_csv(path+'intervention_realise'+'.csv')\n",
    "donnees['action_realise_test'].to_csv(path+'action_realise'+'.csv')\n",
    "donnees['composant_action_semis_test'].to_csv(path+'composant_action_semis'+'.csv')\n",
    "donnees['composant_culture_test'].to_csv(path+'composant_culture'+'.csv')\n",
    "donnees['espece_test'].to_csv(path+'espece'+'.csv')\n",
    "donnees['semence_test'].to_csv(path+'semence'+'.csv')\n",
    "donnees['utilisation_intrant_realise_test'].to_csv(path+'utilisation_intrant_realise'+'.csv')\n"
   ]
  }
 ],
 "metadata": {
  "kernelspec": {
   "display_name": "Python 3",
   "language": "python",
   "name": "python3"
  },
  "language_info": {
   "codemirror_mode": {
    "name": "ipython",
    "version": 3
   },
   "file_extension": ".py",
   "mimetype": "text/x-python",
   "name": "python",
   "nbconvert_exporter": "python",
   "pygments_lexer": "ipython3",
   "version": "3.10.12"
  }
 },
 "nbformat": 4,
 "nbformat_minor": 2
}
