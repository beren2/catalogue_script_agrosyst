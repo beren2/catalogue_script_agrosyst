{
 "cells": [
  {
   "cell_type": "code",
   "execution_count": 1,
   "metadata": {},
   "outputs": [],
   "source": [
    "import pandas as pd\n",
    "from tqdm import tqdm\n",
    "from itables import show as table_show"
   ]
  },
  {
   "cell_type": "code",
   "execution_count": null,
   "metadata": {},
   "outputs": [],
   "source": [
    "ENTREPOT_PATH = '~/Bureau/utils/data/'\n",
    "METEO_PATH = '~/Bureau/utils/data/meteo/'\n",
    "SPATIAL_PATH = './data/spatial/'"
   ]
  },
  {
   "cell_type": "code",
   "execution_count": 3,
   "metadata": {},
   "outputs": [
    {
     "name": "stderr",
     "output_type": "stream",
     "text": [
      "/tmp/ipykernel_166099/4278151922.py:4: DtypeWarning: Columns (6) have mixed types. Specify dtype option on import or set low_memory=False.\n",
      "  df_can = pd.read_csv(directory+file, sep='@')\n"
     ]
    }
   ],
   "source": [
    "#obtention des donnnées de la CAN :\n",
    "directory = '~/Bureau/Exports/20240524/non_anonyme/'\n",
    "file = 'AGS_20240524_exports_performance_realise_echelle_parcelle.csv'\n",
    "df_can = pd.read_csv(directory+file, sep='@')"
   ]
  },
  {
   "cell_type": "code",
   "execution_count": 4,
   "metadata": {},
   "outputs": [
    {
     "data": {
      "text/plain": [
       "Index(['performance_id', 'date_calcul', 'nom_domaine_exploitation',\n",
       "       'id_domaine', 'annee', 'domaine_type', 'departement', 'id_dispositif',\n",
       "       'type_dispositif', 'nom_reseau_it', 'nom_reseau_ir', 'filiere_sdc',\n",
       "       'nom_sdc', 'id_sdc', 'num_dephy', 'type_conduite_sdc', 'sdc_valide',\n",
       "       'parcelle', 'parcelle_id', 'especes', 'varietes', 'rendement',\n",
       "       'approche_de_calcul', 'zone_id', 'parcelle_edaplos_issuer_id',\n",
       "       'ift_a_l_ancienne_ift_chimique_total',\n",
       "       'ift_a_l_ancienne_ift_chimique_tot_hts', 'ift_a_l_ancienne_ift_h',\n",
       "       'ift_a_l_ancienne_ift_f', 'ift_a_l_ancienne_ift_i',\n",
       "       'ift_a_l_ancienne_ift_ts', 'ift_a_l_ancienne_ift_a',\n",
       "       'ift_a_l_ancienne_ift_hh', 'ift_a_l_ancienne_ift_biocontrole',\n",
       "       'ift_a_l_ancienne_recours_aux_moyens_biologiques',\n",
       "       'ift_a_l_ancienne_tx_completion',\n",
       "       'ift_a_l_ancienne_detail_champs_non_renseig',\n",
       "       'ift_a_la_cible_non_mil_ift_chimique_total',\n",
       "       'ift_a_la_cible_non_mil_ift_chimique_tot_hts',\n",
       "       'ift_a_la_cible_non_mil_ift_h', 'ift_a_la_cible_non_mil_ift_f',\n",
       "       'ift_a_la_cible_non_mil_ift_i', 'ift_a_la_cible_non_mil_ift_ts',\n",
       "       'ift_a_la_cible_non_mil_ift_a', 'ift_a_la_cible_non_mil_ift_hh',\n",
       "       'ift_a_la_cible_non_mil_ift_biocontrole',\n",
       "       'ift_a_la_cible_non_mil_recours_aux_moyens_biologiques',\n",
       "       'ift_a_la_cible_non_mil_taux_de_completion',\n",
       "       'ift_a_la_cible_non_mil_detail_champs_non_renseig',\n",
       "       'ift_a_la_cible_mil_ift_chimique_total'],\n",
       "      dtype='object')"
      ]
     },
     "execution_count": 4,
     "metadata": {},
     "output_type": "execute_result"
    }
   ],
   "source": [
    "df_can.columns[0:50]"
   ]
  },
  {
   "cell_type": "code",
   "execution_count": 5,
   "metadata": {},
   "outputs": [],
   "source": [
    "df_studied = df_can.sample(10)"
   ]
  },
  {
   "cell_type": "code",
   "execution_count": 7,
   "metadata": {},
   "outputs": [
    {
     "data": {
      "text/html": [
       "<table id=\"itables_f6121ed3_0b43_4f9e_b255_d581f618f523\" class=\"display nowrap\" data-quarto-disable-processing=\"true\" style=\"table-layout:auto;width:auto;margin:auto;caption-side:bottom\">\n",
       "<thead>\n",
       "    <tr style=\"text-align: right;\">\n",
       "      \n",
       "      <th>parcelle_id</th>\n",
       "      <th>variable</th>\n",
       "      <th>value</th>\n",
       "    </tr>\n",
       "  </thead><tbody><tr>\n",
       "<td style=\"vertical-align:middle; text-align:left\">\n",
       "<div style=\"float:left; margin-right: 10px;\">\n",
       "<a href=https://mwouts.github.io/itables/><svg class=\"main-svg\" xmlns=\"http://www.w3.org/2000/svg\" xmlns:xlink=\"http://www.w3.org/1999/xlink\"\n",
       "width=\"64\" viewBox=\"0 0 500 400\" style=\"font-family: 'Droid Sans', sans-serif;\">\n",
       "    <g style=\"fill:#d9d7fc\">\n",
       "        <path d=\"M100,400H500V357H100Z\" />\n",
       "        <path d=\"M100,300H400V257H100Z\" />\n",
       "        <path d=\"M0,200H400V157H0Z\" />\n",
       "        <path d=\"M100,100H500V57H100Z\" />\n",
       "        <path d=\"M100,350H500V307H100Z\" />\n",
       "        <path d=\"M100,250H400V207H100Z\" />\n",
       "        <path d=\"M0,150H400V107H0Z\" />\n",
       "        <path d=\"M100,50H500V7H100Z\" />\n",
       "    </g>\n",
       "    <g style=\"fill:#1a1366;stroke:#1a1366;\">\n",
       "   <rect x=\"100\" y=\"7\" width=\"400\" height=\"43\">\n",
       "    <animate\n",
       "      attributeName=\"width\"\n",
       "      values=\"0;400;0\"\n",
       "      dur=\"5s\"\n",
       "      repeatCount=\"indefinite\" />\n",
       "      <animate\n",
       "      attributeName=\"x\"\n",
       "      values=\"100;100;500\"\n",
       "      dur=\"5s\"\n",
       "      repeatCount=\"indefinite\" />\n",
       "  </rect>\n",
       "        <rect x=\"0\" y=\"107\" width=\"400\" height=\"43\">\n",
       "    <animate\n",
       "      attributeName=\"width\"\n",
       "      values=\"0;400;0\"\n",
       "      dur=\"3.5s\"\n",
       "      repeatCount=\"indefinite\" />\n",
       "    <animate\n",
       "      attributeName=\"x\"\n",
       "      values=\"0;0;400\"\n",
       "      dur=\"3.5s\"\n",
       "      repeatCount=\"indefinite\" />\n",
       "  </rect>\n",
       "        <rect x=\"100\" y=\"207\" width=\"300\" height=\"43\">\n",
       "    <animate\n",
       "      attributeName=\"width\"\n",
       "      values=\"0;300;0\"\n",
       "      dur=\"3s\"\n",
       "      repeatCount=\"indefinite\" />\n",
       "    <animate\n",
       "      attributeName=\"x\"\n",
       "      values=\"100;100;400\"\n",
       "      dur=\"3s\"\n",
       "      repeatCount=\"indefinite\" />\n",
       "  </rect>\n",
       "        <rect x=\"100\" y=\"307\" width=\"400\" height=\"43\">\n",
       "    <animate\n",
       "      attributeName=\"width\"\n",
       "      values=\"0;400;0\"\n",
       "      dur=\"4s\"\n",
       "      repeatCount=\"indefinite\" />\n",
       "      <animate\n",
       "      attributeName=\"x\"\n",
       "      values=\"100;100;500\"\n",
       "      dur=\"4s\"\n",
       "      repeatCount=\"indefinite\" />\n",
       "  </rect>\n",
       "        <g style=\"fill:transparent;stroke-width:8; stroke-linejoin:round\" rx=\"5\">\n",
       "            <g transform=\"translate(45 50) rotate(-45)\">\n",
       "                <circle r=\"33\" cx=\"0\" cy=\"0\" />\n",
       "                <rect x=\"-8\" y=\"32\" width=\"16\" height=\"30\" />\n",
       "            </g>\n",
       "\n",
       "            <g transform=\"translate(450 152)\">\n",
       "                <polyline points=\"-15,-20 -35,-20 -35,40 25,40 25,20\" />\n",
       "                <rect x=\"-15\" y=\"-40\" width=\"60\" height=\"60\" />\n",
       "            </g>\n",
       "\n",
       "            <g transform=\"translate(50 352)\">\n",
       "                <polygon points=\"-35,-5 0,-40 35,-5\" />\n",
       "                <polygon points=\"-35,10 0,45 35,10\" />\n",
       "            </g>\n",
       "\n",
       "            <g transform=\"translate(75 250)\">\n",
       "                <polyline points=\"-30,30 -60,0 -30,-30\" />\n",
       "                <polyline points=\"0,30 -30,0 0,-30\" />\n",
       "            </g>\n",
       "\n",
       "            <g transform=\"translate(425 250) rotate(180)\">\n",
       "                <polyline points=\"-30,30 -60,0 -30,-30\" />\n",
       "                <polyline points=\"0,30 -30,0 0,-30\" />\n",
       "            </g>\n",
       "        </g>\n",
       "    </g>\n",
       "</svg>\n",
       "</a>\n",
       "</div>\n",
       "<div>\n",
       "Loading ITables v2.1.4 from the internet...\n",
       "(need <a href=https://mwouts.github.io/itables/troubleshooting.html>help</a>?)</td>\n",
       "</div>\n",
       "</tr></tbody>\n",
       "\n",
       "</table>\n",
       "<link href=\"https://www.unpkg.com/dt_for_itables@2.0.11/dt_bundle.css\" rel=\"stylesheet\">\n",
       "<script type=\"module\">\n",
       "    import {DataTable, jQuery as $} from 'https://www.unpkg.com/dt_for_itables@2.0.11/dt_bundle.js';\n",
       "\n",
       "    document.querySelectorAll(\"#itables_f6121ed3_0b43_4f9e_b255_d581f618f523:not(.dataTable)\").forEach(table => {\n",
       "        // Define the table data\n",
       "        const data = [[\"fr.inra.agrosyst.api.entities.Plot_767b5d1d-3d66-4383-8f58-8863dcdc0c5a\", \"especes\", \"Betterave, Bl\\u00e9 tendre, Ma\\u00efs, Moutarde blanche\"], [\"fr.inra.agrosyst.api.entities.Plot_b2a65257-aa63-4c05-91b9-558919b4ae0b\", \"especes\", \"Avoine, Bl\\u00e9 tendre, Epeautre, F\\u00e8verole, Lentille, Lin, Lupin blanc, Ma\\u00efs, Moutarde blanche, Orge, Pois, Pomme de terre, Radis, Seigle, Tournesol, Triticale, Tr\\u00e8fle d'Alexandrie\"], [\"fr.inra.agrosyst.api.entities.Plot_d0583d18-5a2c-4fa1-86e6-09d9071974b9\", \"especes\", \"Avoine, Betterave, Bl\\u00e9 tendre, Haricot, Pois, Pomme de terre\"], [\"fr.inra.agrosyst.api.entities.Plot_dce7d4e3-42e0-4c4f-8c17-4c43564c22f6\", \"especes\", \"Avoine, Bl\\u00e9 tendre, Colza, Esp\\u00e8ces diverses, Luzerne, Ma\\u00efs, Orge, Pois, Prairie, Tournesol\"], [\"fr.inra.agrosyst.api.entities.Plot_844d5a26-f49a-46f9-bd56-4e0fabc6e2bd\", \"especes\", \"Avoine, Betterave, Bl\\u00e9 tendre, Chanvre, Colza, Esp\\u00e8ces diverses, F\\u00e8verole, Lin, Ma\\u00efs, Orge, Pomme de terre\"], [\"fr.inra.agrosyst.api.entities.Plot_ad67964d-d17e-44bc-a3bc-767cc9363b68\", \"especes\", \"Bl\\u00e9 tendre, Colza, Lin, Ma\\u00efs, M\\u00e9lange\"], [\"fr.inra.agrosyst.api.entities.Plot_7cebc5bd-eeb9-4229-906d-a2354735b6b7\", \"especes\", \"Bl\\u00e9 tendre, Colza, Ma\\u00efs, Orge, Prairie, Triticale\"], [\"fr.inra.agrosyst.api.entities.Plot_1c7995b2-4df6-4045-b71b-b0ac73d91849\", \"especes\", \"Betterave, Bl\\u00e9 tendre, Colza, F\\u00e8verole, F\\u00e9tuque \\u00e9lev\\u00e9e, Lin, Ma\\u00efs, Moutarde blanche, Orge, Pois, Pomme de terre\"], [\"fr.inra.agrosyst.api.entities.Plot_a477061c-e14b-4f00-8a1c-03bb116abffb\", \"especes\", \"Avoine, Bl\\u00e9 dur, Bl\\u00e9 tendre, Colza, F\\u00e8verole, Lentille, Lotier cornicul\\u00e9, Luzerne, Moha ou Millet des oiseaux, Moutarde blanche, Moutarde d'abyssinie, Nyger, Orge, Phac\\u00e9lie, Pois, Radis, Sarrasin, Sorgho, Tournesol, Triticale, Tr\\u00e8fle d'Alexandrie, Vesce commune\"], [\"fr.inra.agrosyst.api.entities.Plot_cfe0b7d6-3097-4837-9efa-814383feccae\", \"especes\", \"Bl\\u00e9 tendre, Chou, Colza, Echalote, Ma\\u00efs, Oignon, Orge, Pomme de terre\"], [\"fr.inra.agrosyst.api.entities.Plot_767b5d1d-3d66-4383-8f58-8863dcdc0c5a\", \"varietes\", \"Apache, Bernache, Cellule, Iceberg, KWS9361, Koherens, MAS 35K, Sokal\"], [\"fr.inra.agrosyst.api.entities.Plot_b2a65257-aa63-4c05-91b9-558919b4ae0b\", \"varietes\", \"NaN\"], [\"fr.inra.agrosyst.api.entities.Plot_d0583d18-5a2c-4fa1-86e6-09d9071974b9\", \"varietes\", \"Alixan, Aramis, Arkeos, Belino, Bermude, Chevron, Expert, Firenza, Franceline, Iceberg, Magellan, Pakito, Paledor, Premio, Sankara\"], [\"fr.inra.agrosyst.api.entities.Plot_dce7d4e3-42e0-4c4f-8c17-4c43564c22f6\", \"varietes\", \"Adriana, Astronaute, Bonanza, Boregar, Cristiano KWS, Dinosor, Etincel, Fructidor, KWS Akkord, Karioka, P8400, Pamela, Persik, RGT Planet, RGT Rivollia, SY Illico, Selekt, Syllon\"], [\"fr.inra.agrosyst.api.entities.Plot_844d5a26-f49a-46f9-bd56-4e0fabc6e2bd\", \"varietes\", \"Alixan, Alizee, Altigo, Amyla, Anderson, Attletick, Barents, Barok, Bermude, Boregar, CF99007, Cellule, Cervoise, DK Exstorm, Etincel, Fedora 17, Fortissima KWS, Iceberg, Luigi CS, Maya, Millesim, Susetta KWS\"], [\"fr.inra.agrosyst.api.entities.Plot_ad67964d-d17e-44bc-a3bc-767cc9363b68\", \"varietes\", \"Aramis, Architect, Chevignon, Fluor, MUTIC, P9234, Triomph, Viv\\u00e9a\"], [\"fr.inra.agrosyst.api.entities.Plot_7cebc5bd-eeb9-4229-906d-a2354735b6b7\", \"varietes\", \"Belcanto, Bergamo, DK Expansion, Figaro, Matheo\"], [\"fr.inra.agrosyst.api.entities.Plot_1c7995b2-4df6-4045-b71b-b0ac73d91849\", \"varietes\", \"Achilles, Alixan, BURLI, Bermude, Bintje, CATALINA, Espresso, Expert, Graindor, Kadore, Kaptah vandel, Kayanne, LADY CLAIRE, Lumina, Nina, Phare, Premio, Python, Scor, Sebastian, Selekt, Sophia, Suzanne, Trapez\"], [\"fr.inra.agrosyst.api.entities.Plot_a477061c-e14b-4f00-8a1c-03bb116abffb\", \"varietes\", \"Acapulco, Amistar, Anvergur, Armorik, Arsky, Artemis, Aviron, Axel, Cadence, Cadran, DK Expansion, DK Extenso, Daphne, Diamento, ES Alicia, ES Capello, ES Imperio, ES MOMENTO, ES Mambo, ES Typhon, Espresso, Flora, HARPE, Holeron, KWS Jaguar, LEO, MIKAELA, Olan, Poseidon, RGT Omeac, RGT Planet, RGT SACRAMENTO, RGT Velasko, Rubisko, Structurator, TIGRI, Tiffany, Timbale\"], [\"fr.inra.agrosyst.api.entities.Plot_cfe0b7d6-3097-4837-9efa-814383feccae\", \"varietes\", \"NaN\"], [\"fr.inra.agrosyst.api.entities.Plot_767b5d1d-3d66-4383-8f58-8863dcdc0c5a\", \"rendement\", \"[Grain]|100,000000|q/ha (humidit\\u00e9 ramen\\u00e9e \\u00e0 la norme)\"], [\"fr.inra.agrosyst.api.entities.Plot_b2a65257-aa63-4c05-91b9-558919b4ae0b\", \"rendement\", \"[Grain (ol\\u00e9agineux)]|5,000000|q/ha (humidit\\u00e9 ramen\\u00e9e \\u00e0 la norme)\"], [\"fr.inra.agrosyst.api.entities.Plot_d0583d18-5a2c-4fa1-86e6-09d9071974b9\", \"rendement\", \"NaN\"], [\"fr.inra.agrosyst.api.entities.Plot_dce7d4e3-42e0-4c4f-8c17-4c43564c22f6\", \"rendement\", \"[Grain (ol\\u00e9agineux)]|26,000000|q/ha (humidit\\u00e9 ramen\\u00e9e \\u00e0 la norme)\"], [\"fr.inra.agrosyst.api.entities.Plot_844d5a26-f49a-46f9-bd56-4e0fabc6e2bd\", \"rendement\", \"[A compl\\u00e9ter]|4,086200|t/ha\"], [\"fr.inra.agrosyst.api.entities.Plot_ad67964d-d17e-44bc-a3bc-767cc9363b68\", \"rendement\", \"NaN\"], [\"fr.inra.agrosyst.api.entities.Plot_7cebc5bd-eeb9-4229-906d-a2354735b6b7\", \"rendement\", \"[Fourrage (foin)]|7,000000|t MS/ha\"], [\"fr.inra.agrosyst.api.entities.Plot_1c7995b2-4df6-4045-b71b-b0ac73d91849\", \"rendement\", \"[Sucre et d\\u00e9riv\\u00e9s (t de sucre)]|13,920000|t sucre/ha\"], [\"fr.inra.agrosyst.api.entities.Plot_a477061c-e14b-4f00-8a1c-03bb116abffb\", \"rendement\", \"[Grain]|50,250000|q/ha (humidit\\u00e9 ramen\\u00e9e \\u00e0 la norme)\"], [\"fr.inra.agrosyst.api.entities.Plot_cfe0b7d6-3097-4837-9efa-814383feccae\", \"rendement\", \"[Grain]|95,000000|q/ha (humidit\\u00e9 ramen\\u00e9e \\u00e0 la norme)\"]];\n",
       "\n",
       "        // Define the dt_args\n",
       "        let dt_args = {\"layout\": {\"topStart\": \"pageLength\", \"topEnd\": \"search\", \"bottomStart\": \"info\", \"bottomEnd\": \"paging\"}, \"order\": []};\n",
       "        dt_args[\"data\"] = data;\n",
       "\n",
       "        \n",
       "        new DataTable(table, dt_args);\n",
       "    });\n",
       "</script>\n"
      ],
      "text/plain": [
       "<IPython.core.display.HTML object>"
      ]
     },
     "metadata": {},
     "output_type": "display_data"
    }
   ],
   "source": [
    "table_show(pd.melt(df_studied[['especes', 'varietes', 'rendement', 'parcelle_id']], id_vars=['parcelle_id']))"
   ]
  },
  {
   "cell_type": "code",
   "execution_count": 6,
   "metadata": {},
   "outputs": [
    {
     "name": "stderr",
     "output_type": "stream",
     "text": [
      "100%|██████████| 17/17 [00:33<00:00,  1.96s/it]\n",
      "100%|██████████| 1/1 [00:05<00:00,  5.62s/it]\n"
     ]
    }
   ],
   "source": [
    "df = {}\n",
    "\n",
    "def import_df(df_name, path_data, sep, index_col=None):\n",
    "    df[df_name] = pd.read_csv(path_data+df_name+'.csv', sep = sep, index_col=index_col, low_memory=False)\n",
    "\n",
    "def import_dfs(df_names, path_data, sep = ',', index_col=None, verbose=False):\n",
    "    for df_name in tqdm(df_names) : \n",
    "        if(verbose) :\n",
    "            print(\" - \", df_name)\n",
    "        import_df(df_name, path_data, sep, index_col=index_col)\n",
    "\n",
    "# get_intervention_synthetise_outils_can_context --> intervention_synthetise\n",
    "# get_intervention_synthetise_action_outils_can --> 'intervention_synthetise', 'action_synthetise'\n",
    "# get_intervention_synthetise_combinaison_outils_can -->  'intervention_synthetise', 'intervention_synthetise_restructure', 'combinaison_outil', 'materiel', 'combinaison_outil_materiel'\n",
    "# get_intervention_synthetise_culture_outils_can --> 'intervention_synthetise', 'noeuds_synthetise', 'connection_synthetise', \n",
    "        # 'plantation_perenne_phases_synthetise', \n",
    "        # 'plantation_perenne_synthetise', 'composant_culture_concerne_intervention_synthetise', \n",
    "        # 'noeuds_synthetise_restructure', 'plantation_perenne_synthetise_restructure',\n",
    "        # 'ccc_intervention_synthetise_restructure', 'composant_culture',\n",
    "        # 'espece', 'variete', 'connection_synthetise_restructure'\n",
    "# get_intervention_synthetise_culture_prec_outils_can --> 'composant_culture', 'espece', 'variete', 'intervention_synthetise', \n",
    "        # 'noeuds_synthetise', 'connection_synthetise', 'culture', \n",
    "        # 'noeuds_synthetise_restructure'\n",
    "\n",
    "tables_entrepot = [\n",
    "    'zone', 'parcelle', 'sdc', 'domaine', 'culture', 'composant_culture', 'espece', 'variete', 'noeuds_realise', \n",
    "    'plantation_perenne_phases_realise', 'plantation_perenne_realise', 'recolte_rendement_prix', 'action_realise', \n",
    "    'action_realise_agrege', 'composant_culture_concerne_intervention_realise', 'connection_realise','recolte_rendement_prix_restructure'\n",
    "]\n",
    "\n",
    "tables_performance = [\n",
    "    'parcelle_realise_performance'\n",
    "]\n",
    "\n",
    "# import des données de l'entrepôt avec la colonne 'id' en index \n",
    "import_dfs(tables_entrepot, ENTREPOT_PATH, sep = ',',index_col='id',verbose=False) \n",
    "import_dfs(tables_performance, ENTREPOT_PATH, sep = ',',verbose=False) "
   ]
  },
  {
   "cell_type": "code",
   "execution_count": 6,
   "metadata": {},
   "outputs": [
    {
     "name": "stderr",
     "output_type": "stream",
     "text": [
      "100%|██████████| 1/1 [00:00<00:00,  1.34it/s]\n"
     ]
    }
   ],
   "source": [
    "\n",
    "import_dfs(['recolte_rendement_prix_restructure'], ENTREPOT_PATH, sep = ',',index_col='id',verbose=False) \n"
   ]
  },
  {
   "cell_type": "code",
   "execution_count": 7,
   "metadata": {},
   "outputs": [],
   "source": [
    "studied_ids = [\n",
    "    'fr.inra.agrosyst.api.entities.Plot_767b5d1d-3d66-4383-8f58-8863dcdc0c5a',\n",
    "    'fr.inra.agrosyst.api.entities.Plot_b2a65257-aa63-4c05-91b9-558919b4ae0b',\n",
    "    'fr.inra.agrosyst.api.entities.Plot_d0583d18-5a2c-4fa1-86e6-09d9071974b9'\n",
    "]"
   ]
  },
  {
   "cell_type": "code",
   "execution_count": 8,
   "metadata": {},
   "outputs": [],
   "source": [
    "df['parcelle_test'] = df['parcelle'].loc[\n",
    "    df['parcelle'].index.isin(studied_ids)\n",
    "]\n",
    "df['zone_test'] = df['zone'].loc[\n",
    "    df['zone']['parcelle_id'].isin(df['parcelle_test'].index)\n",
    "]\n",
    "df['noeuds_realise_test'] = df['noeuds_realise'].loc[\n",
    "    df['noeuds_realise']['zone_id'].isin(df['zone_test'].index)\n",
    "]\n",
    "df['connection_realise_test'] = df['connection_realise'].loc[\n",
    "    df['connection_realise']['cible_noeuds_realise_id'].isin(df['noeuds_realise_test'].index)\n",
    "]\n",
    "df['plantation_perenne_realise_test'] = df['plantation_perenne_realise'].loc[\n",
    "    df['plantation_perenne_realise']['zone_id'].isin(df['zone_test'].index)\n",
    "]\n",
    "df['plantation_perenne_phases_realise_test'] = df['plantation_perenne_phases_realise'].loc[\n",
    "    df['plantation_perenne_phases_realise']['plantation_perenne_realise_id'].isin(df['plantation_perenne_realise_test'].index)\n",
    "]\n",
    "df['culture_test'] = df['culture'].loc[\n",
    "    (df['culture'].index.isin(df['noeuds_realise_test']['culture_id'])) |\n",
    "    (df['culture'].index.isin(df['plantation_perenne_realise_test']['culture_id']))  |\n",
    "    (df['culture'].index.isin(df['connection_realise_test']['culture_intermediaire_id']))\n",
    "]\n",
    "df['composant_culture_test'] = df['composant_culture'].loc[\n",
    "    (df['composant_culture']['culture_id'].isin(df['culture_test'].index))\n",
    "]\n",
    "df['composant_culture_concerne_intervention_realise_test'] = df['composant_culture_concerne_intervention_realise'].loc[\n",
    "    (df['composant_culture_concerne_intervention_realise']['composant_culture_id'].isin(df['composant_culture_test'].index))\n",
    "]\n",
    "df['espece_test'] = df['espece'].loc[\n",
    "    df['espece'].index.isin(df['composant_culture_test']['espece_id'])\n",
    "]\n",
    "df['variete_test'] = df['variete'].loc[\n",
    "    df['variete'].index.isin(df['composant_culture_test']['variete_id'])\n",
    "]\n",
    "df['action_realise_agrege_test'] = df['action_realise_agrege'].loc[\n",
    "    df['action_realise_agrege']['parcelle_id'].isin(studied_ids)\n",
    "]\n",
    "\n",
    "df['recolte_rendement_prix_test'] = df['recolte_rendement_prix'].loc[\n",
    "    df['recolte_rendement_prix']['action_id'].isin(df['action_realise_agrege_test'].index)\n",
    "]\n",
    "\n",
    "df['recolte_rendement_prix_restructure_test'] = df['recolte_rendement_prix_restructure'].loc[\n",
    "    df['recolte_rendement_prix_restructure'].index.isin(df['recolte_rendement_prix_test'].index)\n",
    "]\n",
    "\n",
    "df['action_realise_test'] = df['action_realise'].loc[\n",
    "    df['action_realise'].index.isin(df['action_realise_agrege_test'].index)\n",
    "]"
   ]
  },
  {
   "cell_type": "code",
   "execution_count": 10,
   "metadata": {},
   "outputs": [],
   "source": [
    "path='./2/'\n",
    "df['zone_test'].to_csv(path+'zone.csv')\n",
    "df['composant_culture_test'].to_csv(path+'composant_culture.csv')\n",
    "df['noeuds_realise_test'].to_csv(path+'noeuds_realise'+'.csv')\n",
    "df['connection_realise_test'].to_csv(path+'connection_realise'+'.csv')\n",
    "df['espece_test'].to_csv(path+'espece'+'.csv')\n",
    "df['variete_test'].to_csv(path+'variete'+'.csv')\n",
    "df['culture_test'].to_csv(path+'culture'+'.csv')\n",
    "df['plantation_perenne_realise_test'].to_csv(path+'plantation_perenne_realise'+'.csv')\n",
    "df['plantation_perenne_phases_realise_test'].to_csv(path+'plantation_perenne_phases_realise'+'.csv')\n",
    "df['parcelle_test'].to_csv(path+'parcelle'+'.csv')\n",
    "df['action_realise_agrege_test'].to_csv(path+'action_realise_agrege.csv')\n",
    "df['recolte_rendement_prix_test'].to_csv(path+'recolte_rendement_prix.csv')\n",
    "df['action_realise_test'].to_csv(path+'action_realise.csv')\n",
    "df['recolte_rendement_prix_test'].to_csv(path+'recolte_rendement_prix.csv')\n",
    "df['composant_culture_concerne_intervention_realise_test'].to_csv(path+'composant_culture_concerne_intervention_realise.csv')\n",
    "df['recolte_rendement_prix_restructure_test'].to_csv(path+'recolte_rendement_prix_restructure.csv')"
   ]
  }
 ],
 "metadata": {
  "kernelspec": {
   "display_name": "entrepot_outil",
   "language": "python",
   "name": "python3"
  },
  "language_info": {
   "codemirror_mode": {
    "name": "ipython",
    "version": 3
   },
   "file_extension": ".py",
   "mimetype": "text/x-python",
   "name": "python",
   "nbconvert_exporter": "python",
   "pygments_lexer": "ipython3",
   "version": "3.11.5"
  }
 },
 "nbformat": 4,
 "nbformat_minor": 2
}
