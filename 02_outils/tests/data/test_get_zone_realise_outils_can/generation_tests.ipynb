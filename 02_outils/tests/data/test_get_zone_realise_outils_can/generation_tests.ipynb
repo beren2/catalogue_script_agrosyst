{
 "cells": [
  {
   "cell_type": "code",
   "execution_count": 2,
   "metadata": {},
   "outputs": [],
   "source": [
    "import pandas as pd\n",
    "from tqdm import tqdm\n",
    "from itables import show as table_show"
   ]
  },
  {
   "cell_type": "code",
   "execution_count": 3,
   "metadata": {},
   "outputs": [],
   "source": [
    "ENTREPOT_PATH = '~/Bureau/utils/data/'\n",
    "METEO_PATH = '~/Bureau/utils/data/meteo/'\n",
    "SPATIAL_PATH = './data/spatial/'"
   ]
  },
  {
   "cell_type": "code",
   "execution_count": 21,
   "metadata": {},
   "outputs": [
    {
     "name": "stderr",
     "output_type": "stream",
     "text": [
      "/tmp/ipykernel_50773/4957295.py:4: DtypeWarning: Columns (6) have mixed types. Specify dtype option on import or set low_memory=False.\n",
      "  df_can = pd.read_csv(directory+file, sep='@')\n"
     ]
    }
   ],
   "source": [
    "#obtention des donnnées de la CAN :\n",
    "directory = '~/Bureau/Exports/20240524/non_anonyme/'\n",
    "file = 'AGS_20240524_exports_performance_realise_echelle_zone.csv'\n",
    "df_can = pd.read_csv(directory+file, sep='@')"
   ]
  },
  {
   "cell_type": "code",
   "execution_count": 23,
   "metadata": {},
   "outputs": [
    {
     "data": {
      "text/plain": [
       "culture_especes_edi\n",
       "Vigne                                                                                                                                                                                                                                                   1319\n",
       "Pommier                                                                                                                                                                                                                                                  516\n",
       "Blé tendre, Maïs, Orge, Prairie, Triticale                                                                                                                                                                                                               466\n",
       "Betterave, Blé tendre, Maïs, Orge                                                                                                                                                                                                                        400\n",
       "Blé tendre, Colza, Orge                                                                                                                                                                                                                                  382\n",
       "                                                                                                                                                                                                                                                        ... \n",
       "Ail, Blé dur, Blé tendre, Maïs, Phacélie, Soja, Sorgho, Tournesol                                                                                                                                                                                          1\n",
       "Blé tendre, Colza, Epeautre, Lin, Orge, Sarrasin, Seigle, Tournesol                                                                                                                                                                                        1\n",
       "Ail, Blé dur, Blé tendre, Camomille, Maïs, Phacélie, Soja, Sorgho, Tournesol                                                                                                                                                                               1\n",
       "Betterave, Blé tendre, Chou, Epeautre, Houblon, Maïs, Orge, Seigle, Triticale                                                                                                                                                                              1\n",
       "Avoine, Blé tendre, Chicorée, Colza, Fléole des prés, Fétuque élevée, Lotier, Luzerne, Maïs, Orge, Plantain lancéolé, Pois, Prairie, Ray-grass anglais, Triticale, Trèfle blanc, Trèfle d'Alexandrie, Trèfle hybride, Trèfle incarnat, Trèfle violet       1\n",
       "Name: count, Length: 4816, dtype: int64"
      ]
     },
     "execution_count": 23,
     "metadata": {},
     "output_type": "execute_result"
    }
   ],
   "source": [
    "df_can['culture_especes_edi'].value_counts()"
   ]
  },
  {
   "cell_type": "code",
   "execution_count": 25,
   "metadata": {},
   "outputs": [
    {
     "data": {
      "text/plain": [
       "19180    Avoine, Blé tendre, Colza, Espèces diverses, F...\n",
       "Name: culture_especes_edi, dtype: object"
      ]
     },
     "execution_count": 25,
     "metadata": {},
     "output_type": "execute_result"
    }
   ],
   "source": [
    "df_can.loc[df_can['zone_id'] == 'fr.inra.agrosyst.api.entities.Zone_36558cba-a513-43ed-b68f-98500628c80f']['culture_especes_edi']"
   ]
  },
  {
   "cell_type": "code",
   "execution_count": null,
   "metadata": {},
   "outputs": [],
   "source": []
  },
  {
   "cell_type": "code",
   "execution_count": 26,
   "metadata": {},
   "outputs": [
    {
     "data": {
      "text/plain": [
       "Index(['mb_std_s06_sans_autoconso', 'mb_std_s07_sans_autoconso',\n",
       "       'mb_std_s08_sans_autoconso', 'mb_std_s09_sans_autoconso',\n",
       "       'mb_std_s10_sans_autoconso', 'mb_std_s01_avec_autoconso',\n",
       "       'mb_std_s02_avec_autoconso', 'mb_std_s03_avec_autoconso',\n",
       "       'mb_std_s04_avec_autoconso', 'mb_std_s05_avec_autoconso',\n",
       "       'mb_std_s06_avec_autoconso', 'mb_std_s07_avec_autoconso',\n",
       "       'mb_std_s08_avec_autoconso', 'mb_std_s09_avec_autoconso',\n",
       "       'mb_std_s10_avec_autoconso', 'mb_std_scenario_tx_comp',\n",
       "       'mb_std_scenario_chmps_non_rens', 'msn_reelle_sans_autoconso',\n",
       "       'msn_reelle_avec_autoconso', 'msn_reelle_tx_comp',\n",
       "       'msn_reelle_chmps_non_rens', 'msn_std_mil_sans_autoconso',\n",
       "       'msn_std_mil_avec_autoconso', 'msn_std_mil_tx_comp',\n",
       "       'msn_std_mil_chmps_non_rens', 'msn_std_s01_sans_autoconso',\n",
       "       'msn_std_s02_sans_autoconso', 'msn_std_s03_sans_autoconso',\n",
       "       'msn_std_s04_sans_autoconso', 'msn_std_s05_sans_autoconso',\n",
       "       'msn_std_s06_sans_autoconso', 'msn_std_s07_sans_autoconso',\n",
       "       'msn_std_s08_sans_autoconso', 'msn_std_s09_sans_autoconso',\n",
       "       'msn_std_s10_sans_autoconso', 'msn_std_s01_avec_autoconso',\n",
       "       'msn_std_s02_avec_autoconso', 'msn_std_s03_avec_autoconso',\n",
       "       'msn_std_s04_avec_autoconso', 'msn_std_s05_avec_autoconso',\n",
       "       'msn_std_s06_avec_autoconso', 'msn_std_s07_avec_autoconso',\n",
       "       'msn_std_s08_avec_autoconso', 'msn_std_s09_avec_autoconso',\n",
       "       'msn_std_s10_avec_autoconso', 'msn_std_s_tx_comp',\n",
       "       'msn_std_s_chmps_non_rens', 'surf_unite_de_w_humain',\n",
       "       'surf_unite_de_w_humain_tx_comp', 'surf_unite_de_w_hum_chp_non_rens'],\n",
       "      dtype='object')"
      ]
     },
     "execution_count": 26,
     "metadata": {},
     "output_type": "execute_result"
    }
   ],
   "source": [
    "df_can.columns[-50:]"
   ]
  },
  {
   "cell_type": "code",
   "execution_count": 76,
   "metadata": {},
   "outputs": [],
   "source": [
    "df_studied = df_can.loc[\n",
    "    df_can['zone_id'].isin(studied_ids)\n",
    "]\n",
    "\n",
    "#df_studied = df_can.sample(19)\n",
    "#culture_especes_edi, variete_nom, rendement_culture"
   ]
  },
  {
   "cell_type": "code",
   "execution_count": 77,
   "metadata": {},
   "outputs": [
    {
     "data": {
      "text/html": [
       "<table id=\"itables_7b15c523_82e7_4c27_878f_eb1dfa4f64ea\" class=\"display nowrap\" data-quarto-disable-processing=\"true\" style=\"table-layout:auto;width:auto;margin:auto;caption-side:bottom\">\n",
       "<thead>\n",
       "    <tr style=\"text-align: right;\">\n",
       "      \n",
       "      <th>zone_id</th>\n",
       "      <th>variable</th>\n",
       "      <th>value</th>\n",
       "    </tr>\n",
       "  </thead><tbody><tr>\n",
       "<td style=\"vertical-align:middle; text-align:left\">\n",
       "<div style=\"float:left; margin-right: 10px;\">\n",
       "<a href=https://mwouts.github.io/itables/><svg class=\"main-svg\" xmlns=\"http://www.w3.org/2000/svg\" xmlns:xlink=\"http://www.w3.org/1999/xlink\"\n",
       "width=\"64\" viewBox=\"0 0 500 400\" style=\"font-family: 'Droid Sans', sans-serif;\">\n",
       "    <g style=\"fill:#d9d7fc\">\n",
       "        <path d=\"M100,400H500V357H100Z\" />\n",
       "        <path d=\"M100,300H400V257H100Z\" />\n",
       "        <path d=\"M0,200H400V157H0Z\" />\n",
       "        <path d=\"M100,100H500V57H100Z\" />\n",
       "        <path d=\"M100,350H500V307H100Z\" />\n",
       "        <path d=\"M100,250H400V207H100Z\" />\n",
       "        <path d=\"M0,150H400V107H0Z\" />\n",
       "        <path d=\"M100,50H500V7H100Z\" />\n",
       "    </g>\n",
       "    <g style=\"fill:#1a1366;stroke:#1a1366;\">\n",
       "   <rect x=\"100\" y=\"7\" width=\"400\" height=\"43\">\n",
       "    <animate\n",
       "      attributeName=\"width\"\n",
       "      values=\"0;400;0\"\n",
       "      dur=\"5s\"\n",
       "      repeatCount=\"indefinite\" />\n",
       "      <animate\n",
       "      attributeName=\"x\"\n",
       "      values=\"100;100;500\"\n",
       "      dur=\"5s\"\n",
       "      repeatCount=\"indefinite\" />\n",
       "  </rect>\n",
       "        <rect x=\"0\" y=\"107\" width=\"400\" height=\"43\">\n",
       "    <animate\n",
       "      attributeName=\"width\"\n",
       "      values=\"0;400;0\"\n",
       "      dur=\"3.5s\"\n",
       "      repeatCount=\"indefinite\" />\n",
       "    <animate\n",
       "      attributeName=\"x\"\n",
       "      values=\"0;0;400\"\n",
       "      dur=\"3.5s\"\n",
       "      repeatCount=\"indefinite\" />\n",
       "  </rect>\n",
       "        <rect x=\"100\" y=\"207\" width=\"300\" height=\"43\">\n",
       "    <animate\n",
       "      attributeName=\"width\"\n",
       "      values=\"0;300;0\"\n",
       "      dur=\"3s\"\n",
       "      repeatCount=\"indefinite\" />\n",
       "    <animate\n",
       "      attributeName=\"x\"\n",
       "      values=\"100;100;400\"\n",
       "      dur=\"3s\"\n",
       "      repeatCount=\"indefinite\" />\n",
       "  </rect>\n",
       "        <rect x=\"100\" y=\"307\" width=\"400\" height=\"43\">\n",
       "    <animate\n",
       "      attributeName=\"width\"\n",
       "      values=\"0;400;0\"\n",
       "      dur=\"4s\"\n",
       "      repeatCount=\"indefinite\" />\n",
       "      <animate\n",
       "      attributeName=\"x\"\n",
       "      values=\"100;100;500\"\n",
       "      dur=\"4s\"\n",
       "      repeatCount=\"indefinite\" />\n",
       "  </rect>\n",
       "        <g style=\"fill:transparent;stroke-width:8; stroke-linejoin:round\" rx=\"5\">\n",
       "            <g transform=\"translate(45 50) rotate(-45)\">\n",
       "                <circle r=\"33\" cx=\"0\" cy=\"0\" />\n",
       "                <rect x=\"-8\" y=\"32\" width=\"16\" height=\"30\" />\n",
       "            </g>\n",
       "\n",
       "            <g transform=\"translate(450 152)\">\n",
       "                <polyline points=\"-15,-20 -35,-20 -35,40 25,40 25,20\" />\n",
       "                <rect x=\"-15\" y=\"-40\" width=\"60\" height=\"60\" />\n",
       "            </g>\n",
       "\n",
       "            <g transform=\"translate(50 352)\">\n",
       "                <polygon points=\"-35,-5 0,-40 35,-5\" />\n",
       "                <polygon points=\"-35,10 0,45 35,10\" />\n",
       "            </g>\n",
       "\n",
       "            <g transform=\"translate(75 250)\">\n",
       "                <polyline points=\"-30,30 -60,0 -30,-30\" />\n",
       "                <polyline points=\"0,30 -30,0 0,-30\" />\n",
       "            </g>\n",
       "\n",
       "            <g transform=\"translate(425 250) rotate(180)\">\n",
       "                <polyline points=\"-30,30 -60,0 -30,-30\" />\n",
       "                <polyline points=\"0,30 -30,0 0,-30\" />\n",
       "            </g>\n",
       "        </g>\n",
       "    </g>\n",
       "</svg>\n",
       "</a>\n",
       "</div>\n",
       "<div>\n",
       "Loading ITables v2.1.4 from the internet...\n",
       "(need <a href=https://mwouts.github.io/itables/troubleshooting.html>help</a>?)</td>\n",
       "</div>\n",
       "</tr></tbody>\n",
       "\n",
       "</table>\n",
       "<link href=\"https://www.unpkg.com/dt_for_itables@2.0.11/dt_bundle.css\" rel=\"stylesheet\">\n",
       "<script type=\"module\">\n",
       "    import {DataTable, jQuery as $} from 'https://www.unpkg.com/dt_for_itables@2.0.11/dt_bundle.js';\n",
       "\n",
       "    document.querySelectorAll(\"#itables_7b15c523_82e7_4c27_878f_eb1dfa4f64ea:not(.dataTable)\").forEach(table => {\n",
       "        // Define the table data\n",
       "        const data = [[\"fr.inra.agrosyst.api.entities.Zone_620b147e-fa8d-4105-aa34-2da69120285f\", \"culture_especes_edi\", \"Bl\\u00e9 tendre, Ma\\u00efs, Orge, Pois\"], [\"fr.inra.agrosyst.api.entities.Zone_30b065f2-d6d3-4cdd-895c-8021a23b584f\", \"culture_especes_edi\", \"Bl\\u00e9 tendre, Chanvre, Colza, Esp\\u00e8ces diverses, F\\u00e8verole, Lentille, Luzerne, Ma\\u00efs, Orge, Pois, Sarrasin, Seigle, Soja, Triticale\"], [\"fr.inra.agrosyst.api.entities.Zone_4dc17026-f913-4084-98cc-06e5a88348f3\", \"culture_especes_edi\", \"Avoine, Bl\\u00e9 tendre, Colza, Esp\\u00e8ces diverses, F\\u00e8verole, Ma\\u00efs, M\\u00e9lange Fourrager, Pois, Prairie, Sarrasin, Triticale, Vesce commune\"], [\"fr.inra.agrosyst.api.entities.Zone_36558cba-a513-43ed-b68f-98500628c80f\", \"culture_especes_edi\", \"Avoine, Bl\\u00e9 tendre, Colza, Esp\\u00e8ces diverses, F\\u00e8verole, Ma\\u00efs, M\\u00e9lange, Orge, Panic \\u00e9rig\\u00e9 (switch grass), Pois, Prairie, Sarrasin, Soja, Sorgho, Triticale, Tr\\u00e8fle violet, Vesce commune\"], [\"fr.inra.agrosyst.api.entities.Zone_7459c92b-3f01-471e-898b-05d1bef463a1\", \"culture_especes_edi\", \"Vigne\"], [\"fr.inra.agrosyst.api.entities.Zone_faddd433-f219-41e9-85e8-90d071649193\", \"culture_especes_edi\", \"Concombre\"], [\"fr.inra.agrosyst.api.entities.Zone_589d7161-1def-4816-b688-050fe8e730f5\", \"culture_especes_edi\", \"Colza, Orge, Phac\\u00e9lie, Ray-grass d'Italie, Ray-grass hybride, Seigle, Sorgho, Tr\\u00e8fle blanc, Tr\\u00e8fle incarnat\"], [\"fr.inra.agrosyst.api.entities.Zone_54476254-68fd-4c78-95a4-e29b5e49575e\", \"culture_especes_edi\", \"Avoine, Bl\\u00e9 tendre, Esp\\u00e8ces diverses, F\\u00e8verole, Luzerne, Ma\\u00efs, M\\u00e9lange Fourrager, Pois, Prairie, Soja, Tournesol, Vesce commune\"], [\"fr.inra.agrosyst.api.entities.Zone_620b147e-fa8d-4105-aa34-2da69120285f\", \"variete_nom\", \"Int\\u00e9r\\u00eat\"], [\"fr.inra.agrosyst.api.entities.Zone_30b065f2-d6d3-4cdd-895c-8021a23b584f\", \"variete_nom\", \"Amistar, Anicia, Apache, Cedrico, Diva, ES Asteroid, ES Cirrius, Etincelle, Fedora 17, Galaxie, HARPE, Hirondella, Kandis, RGT Planet, Sibemol\"], [\"fr.inra.agrosyst.api.entities.Zone_4dc17026-f913-4084-98cc-06e5a88348f3\", \"variete_nom\", \"Solehio\"], [\"fr.inra.agrosyst.api.entities.Zone_36558cba-a513-43ed-b68f-98500628c80f\", \"variete_nom\", \"Antonius, Diva, ES Inventive, ES Mentor, Etincel, Geo, Kayanne, Nacre, Persik, RGT Chromixx, RGT Shouna, Rubisko, Super Sile 18\"], [\"fr.inra.agrosyst.api.entities.Zone_7459c92b-3f01-471e-898b-05d1bef463a1\", \"variete_nom\", \"Aligot\\u00e9 B, Chardonnay B, Pinot noir N\"], [\"fr.inra.agrosyst.api.entities.Zone_faddd433-f219-41e9-85e8-90d071649193\", \"variete_nom\", \"NaN\"], [\"fr.inra.agrosyst.api.entities.Zone_589d7161-1def-4816-b688-050fe8e730f5\", \"variete_nom\", \"KWS Cassia, Sweet Virginia, Sydney\"], [\"fr.inra.agrosyst.api.entities.Zone_54476254-68fd-4c78-95a4-e29b5e49575e\", \"variete_nom\", \"ES Gallery, ES Idillic, RGT Emerixx, RGT Venezio, Sumatra, Zoom\"], [\"fr.inra.agrosyst.api.entities.Zone_620b147e-fa8d-4105-aa34-2da69120285f\", \"rendement_culture\", \"[Grain]|70,000000|q/ha (humidit\\u00e9 ramen\\u00e9e \\u00e0 la norme)#[Grain (amidon)]|70,000000|q/ha (humidit\\u00e9 ramen\\u00e9e \\u00e0 la norme)#[Paille]|3,500000|t MS/ha\"], [\"fr.inra.agrosyst.api.entities.Zone_30b065f2-d6d3-4cdd-895c-8021a23b584f\", \"rendement_culture\", \"[Grain (alimentation animale)]|24,000000|q/ha (humidit\\u00e9 ramen\\u00e9e \\u00e0 la norme)\"], [\"fr.inra.agrosyst.api.entities.Zone_4dc17026-f913-4084-98cc-06e5a88348f3\", \"rendement_culture\", \"[Grain]|105,000000|q/ha (humidit\\u00e9 ramen\\u00e9e \\u00e0 la norme)#[Fourrage (ensilage)]|23,800000|t MS/ha\"], [\"fr.inra.agrosyst.api.entities.Zone_36558cba-a513-43ed-b68f-98500628c80f\", \"rendement_culture\", \"[Grain]|48,000000|q/ha (humidit\\u00e9 ramen\\u00e9e \\u00e0 la norme)\"], [\"fr.inra.agrosyst.api.entities.Zone_7459c92b-3f01-471e-898b-05d1bef463a1\", \"rendement_culture\", \"[Toutes appellations / Tous modes de commercialisation]|40,000000|hL vin/ha\"], [\"fr.inra.agrosyst.api.entities.Zone_faddd433-f219-41e9-85e8-90d071649193\", \"rendement_culture\", \"[Toutes cat\\u00e9gories - tous calibres]|165,000000|unit\\u00e9/ha\"], [\"fr.inra.agrosyst.api.entities.Zone_589d7161-1def-4816-b688-050fe8e730f5\", \"rendement_culture\", \"[Grain]|128,333333|q/ha (humidit\\u00e9 ramen\\u00e9e \\u00e0 la norme)#[Fourrage (foin)]|0,833333|t MS/ha\"], [\"fr.inra.agrosyst.api.entities.Zone_54476254-68fd-4c78-95a4-e29b5e49575e\", \"rendement_culture\", \"[A compl\\u00e9ter]|6,328300|t/ha#[Fourrage (enrubannage)]|2,073400|t MS/ha#[Fourrage (foin)]|4,751600|t MS/ha\"]];\n",
       "\n",
       "        // Define the dt_args\n",
       "        let dt_args = {\"layout\": {\"topStart\": \"pageLength\", \"topEnd\": \"search\", \"bottomStart\": \"info\", \"bottomEnd\": \"paging\"}, \"order\": []};\n",
       "        dt_args[\"data\"] = data;\n",
       "\n",
       "        \n",
       "        new DataTable(table, dt_args);\n",
       "    });\n",
       "</script>\n"
      ],
      "text/plain": [
       "<IPython.core.display.HTML object>"
      ]
     },
     "metadata": {},
     "output_type": "display_data"
    }
   ],
   "source": [
    "table_show(pd.melt(df_studied[['culture_especes_edi', 'variete_nom', 'rendement_culture', 'zone_id']], id_vars=['zone_id']))"
   ]
  },
  {
   "cell_type": "code",
   "execution_count": 4,
   "metadata": {},
   "outputs": [
    {
     "name": "stderr",
     "output_type": "stream",
     "text": [
      "100%|██████████| 14/14 [00:16<00:00,  1.17s/it]\n",
      "100%|██████████| 1/1 [00:03<00:00,  3.98s/it]\n"
     ]
    }
   ],
   "source": [
    "df = {}\n",
    "\n",
    "def import_df(df_name, path_data, sep, index_col=None):\n",
    "    df[df_name] = pd.read_csv(path_data+df_name+'.csv', sep = sep, index_col=index_col, low_memory=False)\n",
    "\n",
    "def import_dfs(df_names, path_data, sep = ',', index_col=None, verbose=False):\n",
    "    for df_name in tqdm(df_names) : \n",
    "        if(verbose) :\n",
    "            print(\" - \", df_name)\n",
    "        import_df(df_name, path_data, sep, index_col=index_col)\n",
    "\n",
    "# get_intervention_synthetise_outils_can_context --> intervention_synthetise\n",
    "# get_intervention_synthetise_action_outils_can --> 'intervention_synthetise', 'action_synthetise'\n",
    "# get_intervention_synthetise_combinaison_outils_can -->  'intervention_synthetise', 'intervention_synthetise_restructure', 'combinaison_outil', 'materiel', 'combinaison_outil_materiel'\n",
    "# get_intervention_synthetise_culture_outils_can --> 'intervention_synthetise', 'noeuds_synthetise', 'connection_synthetise', \n",
    "        # 'plantation_perenne_phases_synthetise', \n",
    "        # 'plantation_perenne_synthetise', 'composant_culture_concerne_intervention_synthetise', \n",
    "        # 'noeuds_synthetise_restructure', 'plantation_perenne_synthetise_restructure',\n",
    "        # 'ccc_intervention_synthetise_restructure', 'composant_culture',\n",
    "        # 'espece', 'variete', 'connection_synthetise_restructure'\n",
    "# get_intervention_synthetise_culture_prec_outils_can --> 'composant_culture', 'espece', 'variete', 'intervention_synthetise', \n",
    "        # 'noeuds_synthetise', 'connection_synthetise', 'culture', \n",
    "        # 'noeuds_synthetise_restructure'\n",
    "\n",
    "tables_entrepot = [\n",
    "    'zone', 'parcelle', 'sdc', 'domaine', 'culture', 'composant_culture', 'espece', 'variete', 'noeuds_realise', \n",
    "    'plantation_perenne_phases_realise', 'plantation_perenne_realise', 'recolte_rendement_prix', 'action_realise', \n",
    "    'action_realise_agrege'\n",
    "]\n",
    "\n",
    "tables_performance = [\n",
    "    'zone_realise_performance'\n",
    "]\n",
    "\n",
    "# import des données de l'entrepôt avec la colonne 'id' en index \n",
    "import_dfs(tables_entrepot, ENTREPOT_PATH, sep = ',',index_col='id',verbose=False) \n",
    "import_dfs(tables_performance, ENTREPOT_PATH, sep = ',',verbose=False) "
   ]
  },
  {
   "cell_type": "code",
   "execution_count": 13,
   "metadata": {},
   "outputs": [],
   "source": [
    "studied_ids = [\n",
    "    'fr.inra.agrosyst.api.entities.Zone_4dc17026-f913-4084-98cc-06e5a88348f3',\n",
    "    'fr.inra.agrosyst.api.entities.Zone_7459c92b-3f01-471e-898b-05d1bef463a1',\n",
    "    'fr.inra.agrosyst.api.entities.Zone_36558cba-a513-43ed-b68f-98500628c80f',\n",
    "    'fr.inra.agrosyst.api.entities.Zone_589d7161-1def-4816-b688-050fe8e730f5',\n",
    "    'fr.inra.agrosyst.api.entities.Zone_30b065f2-d6d3-4cdd-895c-8021a23b584f',\n",
    "    'fr.inra.agrosyst.api.entities.Zone_620b147e-fa8d-4105-aa34-2da69120285f',\n",
    "    'fr.inra.agrosyst.api.entities.Zone_54476254-68fd-4c78-95a4-e29b5e49575e',\n",
    "    'fr.inra.agrosyst.api.entities.Zone_faddd433-f219-41e9-85e8-90d071649193',\n",
    "    'fr.inra.agrosyst.api.entities.Zone_7459c92b-3f01-471e-898b-05d1bef463a1',\n",
    "    'fr.inra.agrosyst.api.entities.Zone_620b147e-fa8d-4105-aa34-2da69120285f',\n",
    "    'fr.inra.agrosyst.api.entities.Zone_54476254-68fd-4c78-95a4-e29b5e49575e'\n",
    "]"
   ]
  },
  {
   "cell_type": "code",
   "execution_count": 16,
   "metadata": {},
   "outputs": [],
   "source": [
    "df['zone_test'] = df['zone'].loc[\n",
    "    df['zone'].index.isin(studied_ids)\n",
    "]\n",
    "df['parcelle_test'] = df['parcelle'].loc[\n",
    "    df['parcelle'].index.isin(df['zone_test']['parcelle_id'])\n",
    "]\n",
    "df['noeuds_realise_test'] = df['noeuds_realise'].loc[\n",
    "    df['noeuds_realise']['zone_id'].isin(df['zone_test'].index)\n",
    "]\n",
    "df['plantation_perenne_realise_test'] = df['plantation_perenne_realise'].loc[\n",
    "    df['plantation_perenne_realise']['zone_id'].isin(df['zone_test'].index)\n",
    "]\n",
    "df['plantation_perenne_phases_realise_test'] = df['plantation_perenne_phases_realise'].loc[\n",
    "    df['plantation_perenne_phases_realise']['plantation_perenne_realise_id'].isin(df['plantation_perenne_realise_test'].index)\n",
    "]\n",
    "df['culture_test'] = df['culture'].loc[\n",
    "    (df['culture'].index.isin(df['noeuds_realise_test']['culture_id'])) |\n",
    "    (df['culture'].index.isin(df['plantation_perenne_realise_test']['culture_id']))\n",
    "]\n",
    "df['composant_culture_test'] = df['composant_culture'].loc[\n",
    "    (df['composant_culture']['culture_id'].isin(df['culture_test'].index))\n",
    "]\n",
    "df['espece_test'] = df['espece'].loc[\n",
    "    df['espece'].index.isin(df['composant_culture_test']['espece_id'])\n",
    "]\n",
    "df['variete_test'] = df['variete'].loc[\n",
    "    df['variete'].index.isin(df['composant_culture_test']['variete_id'])\n",
    "]\n",
    "df['action_realise_agrege_test'] = df['action_realise_agrege'].loc[\n",
    "    df['action_realise_agrege']['zone_id'].isin(studied_ids)\n",
    "]\n",
    "\n",
    "df['recolte_rendement_prix_test'] = df['recolte_rendement_prix'].loc[\n",
    "    df['recolte_rendement_prix']['action_id'].isin(df['action_realise_agrege_test'].index)\n",
    "]"
   ]
  },
  {
   "cell_type": "code",
   "execution_count": 17,
   "metadata": {},
   "outputs": [],
   "source": [
    "path='./'\n",
    "df['zone_test'].to_csv(path+'zone.csv')\n",
    "df['composant_culture_test'].to_csv(path+'composant_culture.csv')\n",
    "df['noeuds_realise_test'].to_csv(path+'noeuds_realise'+'.csv')\n",
    "df['espece_test'].to_csv(path+'espece'+'.csv')\n",
    "df['variete_test'].to_csv(path+'variete'+'.csv')\n",
    "df['culture_test'].to_csv(path+'culture'+'.csv')\n",
    "df['plantation_perenne_realise_test'].to_csv(path+'plantation_perenne_realise'+'.csv')\n",
    "df['plantation_perenne_phases_realise_test'].to_csv(path+'plantation_perenne_phases_realise'+'.csv')\n",
    "df['parcelle_test'].to_csv(path+'parcelle'+'.csv')\n",
    "df['action_realise_agrege_test'].to_csv(path+'action_realise_agrege.csv')\n",
    "df['recolte_rendement_prix_test'].to_csv(path+'recolte_rendement_prix.csv')\n"
   ]
  },
  {
   "cell_type": "code",
   "execution_count": 18,
   "metadata": {},
   "outputs": [
    {
     "data": {
      "text/html": [
       "<div>\n",
       "<style scoped>\n",
       "    .dataframe tbody tr th:only-of-type {\n",
       "        vertical-align: middle;\n",
       "    }\n",
       "\n",
       "    .dataframe tbody tr th {\n",
       "        vertical-align: top;\n",
       "    }\n",
       "\n",
       "    .dataframe thead th {\n",
       "        text-align: right;\n",
       "    }\n",
       "</style>\n",
       "<table border=\"1\" class=\"dataframe\">\n",
       "  <thead>\n",
       "    <tr style=\"text-align: right;\">\n",
       "      <th></th>\n",
       "      <th></th>\n",
       "      <th>rang</th>\n",
       "    </tr>\n",
       "    <tr>\n",
       "      <th>zone_id</th>\n",
       "      <th>culture_id</th>\n",
       "      <th></th>\n",
       "    </tr>\n",
       "  </thead>\n",
       "  <tbody>\n",
       "    <tr>\n",
       "      <th>fr.inra.agrosyst.api.entities.Zone_a50855e5-1edb-44a8-b378-11e6a01f2059</th>\n",
       "      <th>fr.inra.agrosyst.api.entities.CroppingPlanEntry_c8ffc46d-3b82-4a9b-99a6-34d5c810c7af</th>\n",
       "      <td>2</td>\n",
       "    </tr>\n",
       "    <tr>\n",
       "      <th>fr.inra.agrosyst.api.entities.Zone_7628ac41-a5a9-418e-a3de-7a7cd49aa71e</th>\n",
       "      <th>fr.inra.agrosyst.api.entities.CroppingPlanEntry_b3afca3f-5206-417c-8bd1-c8ee82f0b85c</th>\n",
       "      <td>2</td>\n",
       "    </tr>\n",
       "    <tr>\n",
       "      <th>fr.inra.agrosyst.api.entities.Zone_20700090-d3ef-4ecf-8d22-b9c78ef06933</th>\n",
       "      <th>fr.inra.agrosyst.api.entities.CroppingPlanEntry_b5bf282c-ba08-4c99-8e45-6bbd28a2859d</th>\n",
       "      <td>2</td>\n",
       "    </tr>\n",
       "    <tr>\n",
       "      <th>fr.inra.agrosyst.api.entities.Zone_451475f9-6124-4195-b849-3a5a2d657367</th>\n",
       "      <th>fr.inra.agrosyst.api.entities.CroppingPlanEntry_495aa62b-286d-445d-a878-0dff4eaff89c</th>\n",
       "      <td>2</td>\n",
       "    </tr>\n",
       "    <tr>\n",
       "      <th>fr.inra.agrosyst.api.entities.Zone_cea4cc29-9ccb-4d21-8cc0-d28421f5b218</th>\n",
       "      <th>fr.inra.agrosyst.api.entities.CroppingPlanEntry_194a90ec-2ace-45a3-906c-9c53ad40bff2</th>\n",
       "      <td>3</td>\n",
       "    </tr>\n",
       "    <tr>\n",
       "      <th>fr.inra.agrosyst.api.entities.Zone_43d12ec0-a6a3-4174-a5f8-50957d4fe8fe</th>\n",
       "      <th>fr.inra.agrosyst.api.entities.CroppingPlanEntry_0cea9f1e-ae89-4e7f-a82f-af7c8eb9dbfa</th>\n",
       "      <td>3</td>\n",
       "    </tr>\n",
       "    <tr>\n",
       "      <th>fr.inra.agrosyst.api.entities.Zone_bccbff96-40e4-44d7-b168-ca554017c0ca</th>\n",
       "      <th>fr.inra.agrosyst.api.entities.CroppingPlanEntry_96cce05f-a22c-4235-a7e4-85439946eb7f</th>\n",
       "      <td>3</td>\n",
       "    </tr>\n",
       "    <tr>\n",
       "      <th>fr.inra.agrosyst.api.entities.Zone_cafa7691-76ef-4b84-ba9e-315b0ca403b2</th>\n",
       "      <th>fr.inra.agrosyst.api.entities.CroppingPlanEntry_0e25b7d8-f3d0-4233-a0f3-5632055a4f02</th>\n",
       "      <td>3</td>\n",
       "    </tr>\n",
       "    <tr>\n",
       "      <th>fr.inra.agrosyst.api.entities.Zone_bccbff96-40e4-44d7-b168-ca554017c0ca</th>\n",
       "      <th>fr.inra.agrosyst.api.entities.CroppingPlanEntry_488c9d55-a6f2-4240-a1f5-a598248ae822</th>\n",
       "      <td>3</td>\n",
       "    </tr>\n",
       "    <tr>\n",
       "      <th>fr.inra.agrosyst.api.entities.Zone_faddd433-f219-41e9-85e8-90d071649193</th>\n",
       "      <th>fr.inra.agrosyst.api.entities.CroppingPlanEntry_37bec954-8a83-4338-9cfd-0bba126b39a0</th>\n",
       "      <td>3</td>\n",
       "    </tr>\n",
       "  </tbody>\n",
       "</table>\n",
       "</div>"
      ],
      "text/plain": [
       "                                                                                                       rang\n",
       "zone_id                                            culture_id                                              \n",
       "fr.inra.agrosyst.api.entities.Zone_a50855e5-1ed... fr.inra.agrosyst.api.entities.CroppingPlanEntry...     2\n",
       "fr.inra.agrosyst.api.entities.Zone_7628ac41-a5a... fr.inra.agrosyst.api.entities.CroppingPlanEntry...     2\n",
       "fr.inra.agrosyst.api.entities.Zone_20700090-d3e... fr.inra.agrosyst.api.entities.CroppingPlanEntry...     2\n",
       "fr.inra.agrosyst.api.entities.Zone_451475f9-612... fr.inra.agrosyst.api.entities.CroppingPlanEntry...     2\n",
       "fr.inra.agrosyst.api.entities.Zone_cea4cc29-9cc... fr.inra.agrosyst.api.entities.CroppingPlanEntry...     3\n",
       "fr.inra.agrosyst.api.entities.Zone_43d12ec0-a6a... fr.inra.agrosyst.api.entities.CroppingPlanEntry...     3\n",
       "fr.inra.agrosyst.api.entities.Zone_bccbff96-40e... fr.inra.agrosyst.api.entities.CroppingPlanEntry...     3\n",
       "fr.inra.agrosyst.api.entities.Zone_cafa7691-76e... fr.inra.agrosyst.api.entities.CroppingPlanEntry...     3\n",
       "fr.inra.agrosyst.api.entities.Zone_bccbff96-40e... fr.inra.agrosyst.api.entities.CroppingPlanEntry...     3\n",
       "fr.inra.agrosyst.api.entities.Zone_faddd433-f21... fr.inra.agrosyst.api.entities.CroppingPlanEntry...     3"
      ]
     },
     "execution_count": 18,
     "metadata": {},
     "output_type": "execute_result"
    }
   ],
   "source": [
    "df['noeuds_realise'].groupby(['zone_id', 'culture_id']).count().sort_values('rang').iloc[-10:]"
   ]
  },
  {
   "cell_type": "code",
   "execution_count": 19,
   "metadata": {},
   "outputs": [
    {
     "data": {
      "text/plain": [
       "array(['fr.inra.agrosyst.api.entities.Zone_0bb18247-faeb-416d-8b71-2966f90c60aa',\n",
       "       'fr.inra.agrosyst.api.entities.Zone_2f988d14-1476-4e92-9278-af20d8207971',\n",
       "       'fr.inra.agrosyst.api.entities.Zone_26552962-64f4-42a2-a3c6-26b1eea44d9a',\n",
       "       'fr.inra.agrosyst.api.entities.Zone_f224ac12-bbbc-4642-8ea2-61f138d6bff4',\n",
       "       'fr.inra.agrosyst.api.entities.Zone_7bf5dc7f-2530-4597-893a-5c50ed61f87a'],\n",
       "      dtype=object)"
      ]
     },
     "execution_count": 19,
     "metadata": {},
     "output_type": "execute_result"
    }
   ],
   "source": [
    "df['noeuds_realise'].loc[\n",
    "    df['noeuds_realise']['culture_id'] == 'fr.inra.agrosyst.api.entities.CroppingPlanEntry_db0152f6-2815-4154-bcfd-31a7fcd8a66d'\n",
    "]['zone_id'].values"
   ]
  },
  {
   "cell_type": "code",
   "execution_count": 20,
   "metadata": {},
   "outputs": [
    {
     "data": {
      "text/html": [
       "<div>\n",
       "<style scoped>\n",
       "    .dataframe tbody tr th:only-of-type {\n",
       "        vertical-align: middle;\n",
       "    }\n",
       "\n",
       "    .dataframe tbody tr th {\n",
       "        vertical-align: top;\n",
       "    }\n",
       "\n",
       "    .dataframe thead th {\n",
       "        text-align: right;\n",
       "    }\n",
       "</style>\n",
       "<table border=\"1\" class=\"dataframe\">\n",
       "  <thead>\n",
       "    <tr style=\"text-align: right;\">\n",
       "      <th></th>\n",
       "      <th>rang</th>\n",
       "      <th>culture_id</th>\n",
       "      <th>zone_id</th>\n",
       "    </tr>\n",
       "    <tr>\n",
       "      <th>id</th>\n",
       "      <th></th>\n",
       "      <th></th>\n",
       "      <th></th>\n",
       "    </tr>\n",
       "  </thead>\n",
       "  <tbody>\n",
       "    <tr>\n",
       "      <th>fr.inra.agrosyst.api.entities.effective.EffectiveCropCycleNode_27ce63b3-b02f-400c-b48a-c9e867645171</th>\n",
       "      <td>0</td>\n",
       "      <td>fr.inra.agrosyst.api.entities.CroppingPlanEntr...</td>\n",
       "      <td>fr.inra.agrosyst.api.entities.Zone_faddd433-f2...</td>\n",
       "    </tr>\n",
       "    <tr>\n",
       "      <th>fr.inra.agrosyst.api.entities.effective.EffectiveCropCycleNode_2eb2b20f-7552-44b6-b98a-33d7673a5cfd</th>\n",
       "      <td>1</td>\n",
       "      <td>fr.inra.agrosyst.api.entities.CroppingPlanEntr...</td>\n",
       "      <td>fr.inra.agrosyst.api.entities.Zone_faddd433-f2...</td>\n",
       "    </tr>\n",
       "    <tr>\n",
       "      <th>fr.inra.agrosyst.api.entities.effective.EffectiveCropCycleNode_fc919165-8670-4f37-9553-65b2de06cab4</th>\n",
       "      <td>2</td>\n",
       "      <td>fr.inra.agrosyst.api.entities.CroppingPlanEntr...</td>\n",
       "      <td>fr.inra.agrosyst.api.entities.Zone_faddd433-f2...</td>\n",
       "    </tr>\n",
       "  </tbody>\n",
       "</table>\n",
       "</div>"
      ],
      "text/plain": [
       "                                                    rang  \\\n",
       "id                                                         \n",
       "fr.inra.agrosyst.api.entities.effective.Effecti...     0   \n",
       "fr.inra.agrosyst.api.entities.effective.Effecti...     1   \n",
       "fr.inra.agrosyst.api.entities.effective.Effecti...     2   \n",
       "\n",
       "                                                                                           culture_id  \\\n",
       "id                                                                                                      \n",
       "fr.inra.agrosyst.api.entities.effective.Effecti...  fr.inra.agrosyst.api.entities.CroppingPlanEntr...   \n",
       "fr.inra.agrosyst.api.entities.effective.Effecti...  fr.inra.agrosyst.api.entities.CroppingPlanEntr...   \n",
       "fr.inra.agrosyst.api.entities.effective.Effecti...  fr.inra.agrosyst.api.entities.CroppingPlanEntr...   \n",
       "\n",
       "                                                                                              zone_id  \n",
       "id                                                                                                     \n",
       "fr.inra.agrosyst.api.entities.effective.Effecti...  fr.inra.agrosyst.api.entities.Zone_faddd433-f2...  \n",
       "fr.inra.agrosyst.api.entities.effective.Effecti...  fr.inra.agrosyst.api.entities.Zone_faddd433-f2...  \n",
       "fr.inra.agrosyst.api.entities.effective.Effecti...  fr.inra.agrosyst.api.entities.Zone_faddd433-f2...  "
      ]
     },
     "execution_count": 20,
     "metadata": {},
     "output_type": "execute_result"
    }
   ],
   "source": [
    "df['noeuds_realise'].loc[\n",
    "    df['noeuds_realise']['zone_id'] == 'fr.inra.agrosyst.api.entities.Zone_faddd433-f219-41e9-85e8-90d071649193'\n",
    "]"
   ]
  }
 ],
 "metadata": {
  "kernelspec": {
   "display_name": "Python 3",
   "language": "python",
   "name": "python3"
  },
  "language_info": {
   "codemirror_mode": {
    "name": "ipython",
    "version": 3
   },
   "file_extension": ".py",
   "mimetype": "text/x-python",
   "name": "python",
   "nbconvert_exporter": "python",
   "pygments_lexer": "ipython3",
   "version": "3.10.12"
  }
 },
 "nbformat": 4,
 "nbformat_minor": 2
}
