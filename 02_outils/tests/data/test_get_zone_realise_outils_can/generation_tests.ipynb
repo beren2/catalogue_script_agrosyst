{
 "cells": [
  {
   "cell_type": "code",
   "execution_count": 2,
   "metadata": {},
   "outputs": [],
   "source": [
    "import pandas as pd\n",
    "from tqdm import tqdm\n",
    "from itables import show as table_show"
   ]
  },
  {
   "cell_type": "code",
   "execution_count": 4,
   "metadata": {},
   "outputs": [],
   "source": [
    "ENTREPOT_PATH = 'C:/Users/lubaude/Desktop/utils/data/'\n",
    "METEO_PATH = '~/Bureau/utils/data/meteo/'\n",
    "SPATIAL_PATH = './data/spatial/'"
   ]
  },
  {
   "cell_type": "code",
   "execution_count": null,
   "metadata": {},
   "outputs": [
    {
     "ename": "FileNotFoundError",
     "evalue": "[Errno 2] No such file or directory: 'C:\\\\Users\\\\lubaude/Desktop/Exports/20241112/AGS_20241112_exports_performance_archive/AGS_20240524_exports_performance_realise_echelle_zone.csv'",
     "output_type": "error",
     "traceback": [
      "\u001b[1;31m---------------------------------------------------------------------------\u001b[0m",
      "\u001b[1;31mFileNotFoundError\u001b[0m                         Traceback (most recent call last)",
      "Cell \u001b[1;32mIn[4], line 4\u001b[0m\n\u001b[0;32m      2\u001b[0m directory \u001b[38;5;241m=\u001b[39m \u001b[38;5;124m'\u001b[39m\u001b[38;5;124m~/Desktop/Exports/20241112/AGS_20241112_exports_performance_archive/\u001b[39m\u001b[38;5;124m'\u001b[39m\n\u001b[0;32m      3\u001b[0m file \u001b[38;5;241m=\u001b[39m \u001b[38;5;124m'\u001b[39m\u001b[38;5;124mAGS_20240524_exports_performance_realise_echelle_zone.csv\u001b[39m\u001b[38;5;124m'\u001b[39m\n\u001b[1;32m----> 4\u001b[0m df_can \u001b[38;5;241m=\u001b[39m \u001b[43mpd\u001b[49m\u001b[38;5;241;43m.\u001b[39;49m\u001b[43mread_csv\u001b[49m\u001b[43m(\u001b[49m\u001b[43mdirectory\u001b[49m\u001b[38;5;241;43m+\u001b[39;49m\u001b[43mfile\u001b[49m\u001b[43m,\u001b[49m\u001b[43m \u001b[49m\u001b[43msep\u001b[49m\u001b[38;5;241;43m=\u001b[39;49m\u001b[38;5;124;43m'\u001b[39;49m\u001b[38;5;124;43m@\u001b[39;49m\u001b[38;5;124;43m'\u001b[39;49m\u001b[43m)\u001b[49m\n",
      "File \u001b[1;32mc:\\Users\\lubaude\\.conda\\envs\\entrepot_outil\\Lib\\site-packages\\pandas\\io\\parsers\\readers.py:1026\u001b[0m, in \u001b[0;36mread_csv\u001b[1;34m(filepath_or_buffer, sep, delimiter, header, names, index_col, usecols, dtype, engine, converters, true_values, false_values, skipinitialspace, skiprows, skipfooter, nrows, na_values, keep_default_na, na_filter, verbose, skip_blank_lines, parse_dates, infer_datetime_format, keep_date_col, date_parser, date_format, dayfirst, cache_dates, iterator, chunksize, compression, thousands, decimal, lineterminator, quotechar, quoting, doublequote, escapechar, comment, encoding, encoding_errors, dialect, on_bad_lines, delim_whitespace, low_memory, memory_map, float_precision, storage_options, dtype_backend)\u001b[0m\n\u001b[0;32m   1013\u001b[0m kwds_defaults \u001b[38;5;241m=\u001b[39m _refine_defaults_read(\n\u001b[0;32m   1014\u001b[0m     dialect,\n\u001b[0;32m   1015\u001b[0m     delimiter,\n\u001b[1;32m   (...)\u001b[0m\n\u001b[0;32m   1022\u001b[0m     dtype_backend\u001b[38;5;241m=\u001b[39mdtype_backend,\n\u001b[0;32m   1023\u001b[0m )\n\u001b[0;32m   1024\u001b[0m kwds\u001b[38;5;241m.\u001b[39mupdate(kwds_defaults)\n\u001b[1;32m-> 1026\u001b[0m \u001b[38;5;28;01mreturn\u001b[39;00m \u001b[43m_read\u001b[49m\u001b[43m(\u001b[49m\u001b[43mfilepath_or_buffer\u001b[49m\u001b[43m,\u001b[49m\u001b[43m \u001b[49m\u001b[43mkwds\u001b[49m\u001b[43m)\u001b[49m\n",
      "File \u001b[1;32mc:\\Users\\lubaude\\.conda\\envs\\entrepot_outil\\Lib\\site-packages\\pandas\\io\\parsers\\readers.py:620\u001b[0m, in \u001b[0;36m_read\u001b[1;34m(filepath_or_buffer, kwds)\u001b[0m\n\u001b[0;32m    617\u001b[0m _validate_names(kwds\u001b[38;5;241m.\u001b[39mget(\u001b[38;5;124m\"\u001b[39m\u001b[38;5;124mnames\u001b[39m\u001b[38;5;124m\"\u001b[39m, \u001b[38;5;28;01mNone\u001b[39;00m))\n\u001b[0;32m    619\u001b[0m \u001b[38;5;66;03m# Create the parser.\u001b[39;00m\n\u001b[1;32m--> 620\u001b[0m parser \u001b[38;5;241m=\u001b[39m \u001b[43mTextFileReader\u001b[49m\u001b[43m(\u001b[49m\u001b[43mfilepath_or_buffer\u001b[49m\u001b[43m,\u001b[49m\u001b[43m \u001b[49m\u001b[38;5;241;43m*\u001b[39;49m\u001b[38;5;241;43m*\u001b[39;49m\u001b[43mkwds\u001b[49m\u001b[43m)\u001b[49m\n\u001b[0;32m    622\u001b[0m \u001b[38;5;28;01mif\u001b[39;00m chunksize \u001b[38;5;129;01mor\u001b[39;00m iterator:\n\u001b[0;32m    623\u001b[0m     \u001b[38;5;28;01mreturn\u001b[39;00m parser\n",
      "File \u001b[1;32mc:\\Users\\lubaude\\.conda\\envs\\entrepot_outil\\Lib\\site-packages\\pandas\\io\\parsers\\readers.py:1620\u001b[0m, in \u001b[0;36mTextFileReader.__init__\u001b[1;34m(self, f, engine, **kwds)\u001b[0m\n\u001b[0;32m   1617\u001b[0m     \u001b[38;5;28mself\u001b[39m\u001b[38;5;241m.\u001b[39moptions[\u001b[38;5;124m\"\u001b[39m\u001b[38;5;124mhas_index_names\u001b[39m\u001b[38;5;124m\"\u001b[39m] \u001b[38;5;241m=\u001b[39m kwds[\u001b[38;5;124m\"\u001b[39m\u001b[38;5;124mhas_index_names\u001b[39m\u001b[38;5;124m\"\u001b[39m]\n\u001b[0;32m   1619\u001b[0m \u001b[38;5;28mself\u001b[39m\u001b[38;5;241m.\u001b[39mhandles: IOHandles \u001b[38;5;241m|\u001b[39m \u001b[38;5;28;01mNone\u001b[39;00m \u001b[38;5;241m=\u001b[39m \u001b[38;5;28;01mNone\u001b[39;00m\n\u001b[1;32m-> 1620\u001b[0m \u001b[38;5;28mself\u001b[39m\u001b[38;5;241m.\u001b[39m_engine \u001b[38;5;241m=\u001b[39m \u001b[38;5;28;43mself\u001b[39;49m\u001b[38;5;241;43m.\u001b[39;49m\u001b[43m_make_engine\u001b[49m\u001b[43m(\u001b[49m\u001b[43mf\u001b[49m\u001b[43m,\u001b[49m\u001b[43m \u001b[49m\u001b[38;5;28;43mself\u001b[39;49m\u001b[38;5;241;43m.\u001b[39;49m\u001b[43mengine\u001b[49m\u001b[43m)\u001b[49m\n",
      "File \u001b[1;32mc:\\Users\\lubaude\\.conda\\envs\\entrepot_outil\\Lib\\site-packages\\pandas\\io\\parsers\\readers.py:1880\u001b[0m, in \u001b[0;36mTextFileReader._make_engine\u001b[1;34m(self, f, engine)\u001b[0m\n\u001b[0;32m   1878\u001b[0m     \u001b[38;5;28;01mif\u001b[39;00m \u001b[38;5;124m\"\u001b[39m\u001b[38;5;124mb\u001b[39m\u001b[38;5;124m\"\u001b[39m \u001b[38;5;129;01mnot\u001b[39;00m \u001b[38;5;129;01min\u001b[39;00m mode:\n\u001b[0;32m   1879\u001b[0m         mode \u001b[38;5;241m+\u001b[39m\u001b[38;5;241m=\u001b[39m \u001b[38;5;124m\"\u001b[39m\u001b[38;5;124mb\u001b[39m\u001b[38;5;124m\"\u001b[39m\n\u001b[1;32m-> 1880\u001b[0m \u001b[38;5;28mself\u001b[39m\u001b[38;5;241m.\u001b[39mhandles \u001b[38;5;241m=\u001b[39m \u001b[43mget_handle\u001b[49m\u001b[43m(\u001b[49m\n\u001b[0;32m   1881\u001b[0m \u001b[43m    \u001b[49m\u001b[43mf\u001b[49m\u001b[43m,\u001b[49m\n\u001b[0;32m   1882\u001b[0m \u001b[43m    \u001b[49m\u001b[43mmode\u001b[49m\u001b[43m,\u001b[49m\n\u001b[0;32m   1883\u001b[0m \u001b[43m    \u001b[49m\u001b[43mencoding\u001b[49m\u001b[38;5;241;43m=\u001b[39;49m\u001b[38;5;28;43mself\u001b[39;49m\u001b[38;5;241;43m.\u001b[39;49m\u001b[43moptions\u001b[49m\u001b[38;5;241;43m.\u001b[39;49m\u001b[43mget\u001b[49m\u001b[43m(\u001b[49m\u001b[38;5;124;43m\"\u001b[39;49m\u001b[38;5;124;43mencoding\u001b[39;49m\u001b[38;5;124;43m\"\u001b[39;49m\u001b[43m,\u001b[49m\u001b[43m \u001b[49m\u001b[38;5;28;43;01mNone\u001b[39;49;00m\u001b[43m)\u001b[49m\u001b[43m,\u001b[49m\n\u001b[0;32m   1884\u001b[0m \u001b[43m    \u001b[49m\u001b[43mcompression\u001b[49m\u001b[38;5;241;43m=\u001b[39;49m\u001b[38;5;28;43mself\u001b[39;49m\u001b[38;5;241;43m.\u001b[39;49m\u001b[43moptions\u001b[49m\u001b[38;5;241;43m.\u001b[39;49m\u001b[43mget\u001b[49m\u001b[43m(\u001b[49m\u001b[38;5;124;43m\"\u001b[39;49m\u001b[38;5;124;43mcompression\u001b[39;49m\u001b[38;5;124;43m\"\u001b[39;49m\u001b[43m,\u001b[49m\u001b[43m \u001b[49m\u001b[38;5;28;43;01mNone\u001b[39;49;00m\u001b[43m)\u001b[49m\u001b[43m,\u001b[49m\n\u001b[0;32m   1885\u001b[0m \u001b[43m    \u001b[49m\u001b[43mmemory_map\u001b[49m\u001b[38;5;241;43m=\u001b[39;49m\u001b[38;5;28;43mself\u001b[39;49m\u001b[38;5;241;43m.\u001b[39;49m\u001b[43moptions\u001b[49m\u001b[38;5;241;43m.\u001b[39;49m\u001b[43mget\u001b[49m\u001b[43m(\u001b[49m\u001b[38;5;124;43m\"\u001b[39;49m\u001b[38;5;124;43mmemory_map\u001b[39;49m\u001b[38;5;124;43m\"\u001b[39;49m\u001b[43m,\u001b[49m\u001b[43m \u001b[49m\u001b[38;5;28;43;01mFalse\u001b[39;49;00m\u001b[43m)\u001b[49m\u001b[43m,\u001b[49m\n\u001b[0;32m   1886\u001b[0m \u001b[43m    \u001b[49m\u001b[43mis_text\u001b[49m\u001b[38;5;241;43m=\u001b[39;49m\u001b[43mis_text\u001b[49m\u001b[43m,\u001b[49m\n\u001b[0;32m   1887\u001b[0m \u001b[43m    \u001b[49m\u001b[43merrors\u001b[49m\u001b[38;5;241;43m=\u001b[39;49m\u001b[38;5;28;43mself\u001b[39;49m\u001b[38;5;241;43m.\u001b[39;49m\u001b[43moptions\u001b[49m\u001b[38;5;241;43m.\u001b[39;49m\u001b[43mget\u001b[49m\u001b[43m(\u001b[49m\u001b[38;5;124;43m\"\u001b[39;49m\u001b[38;5;124;43mencoding_errors\u001b[39;49m\u001b[38;5;124;43m\"\u001b[39;49m\u001b[43m,\u001b[49m\u001b[43m \u001b[49m\u001b[38;5;124;43m\"\u001b[39;49m\u001b[38;5;124;43mstrict\u001b[39;49m\u001b[38;5;124;43m\"\u001b[39;49m\u001b[43m)\u001b[49m\u001b[43m,\u001b[49m\n\u001b[0;32m   1888\u001b[0m \u001b[43m    \u001b[49m\u001b[43mstorage_options\u001b[49m\u001b[38;5;241;43m=\u001b[39;49m\u001b[38;5;28;43mself\u001b[39;49m\u001b[38;5;241;43m.\u001b[39;49m\u001b[43moptions\u001b[49m\u001b[38;5;241;43m.\u001b[39;49m\u001b[43mget\u001b[49m\u001b[43m(\u001b[49m\u001b[38;5;124;43m\"\u001b[39;49m\u001b[38;5;124;43mstorage_options\u001b[39;49m\u001b[38;5;124;43m\"\u001b[39;49m\u001b[43m,\u001b[49m\u001b[43m \u001b[49m\u001b[38;5;28;43;01mNone\u001b[39;49;00m\u001b[43m)\u001b[49m\u001b[43m,\u001b[49m\n\u001b[0;32m   1889\u001b[0m \u001b[43m\u001b[49m\u001b[43m)\u001b[49m\n\u001b[0;32m   1890\u001b[0m \u001b[38;5;28;01massert\u001b[39;00m \u001b[38;5;28mself\u001b[39m\u001b[38;5;241m.\u001b[39mhandles \u001b[38;5;129;01mis\u001b[39;00m \u001b[38;5;129;01mnot\u001b[39;00m \u001b[38;5;28;01mNone\u001b[39;00m\n\u001b[0;32m   1891\u001b[0m f \u001b[38;5;241m=\u001b[39m \u001b[38;5;28mself\u001b[39m\u001b[38;5;241m.\u001b[39mhandles\u001b[38;5;241m.\u001b[39mhandle\n",
      "File \u001b[1;32mc:\\Users\\lubaude\\.conda\\envs\\entrepot_outil\\Lib\\site-packages\\pandas\\io\\common.py:873\u001b[0m, in \u001b[0;36mget_handle\u001b[1;34m(path_or_buf, mode, encoding, compression, memory_map, is_text, errors, storage_options)\u001b[0m\n\u001b[0;32m    868\u001b[0m \u001b[38;5;28;01melif\u001b[39;00m \u001b[38;5;28misinstance\u001b[39m(handle, \u001b[38;5;28mstr\u001b[39m):\n\u001b[0;32m    869\u001b[0m     \u001b[38;5;66;03m# Check whether the filename is to be opened in binary mode.\u001b[39;00m\n\u001b[0;32m    870\u001b[0m     \u001b[38;5;66;03m# Binary mode does not support 'encoding' and 'newline'.\u001b[39;00m\n\u001b[0;32m    871\u001b[0m     \u001b[38;5;28;01mif\u001b[39;00m ioargs\u001b[38;5;241m.\u001b[39mencoding \u001b[38;5;129;01mand\u001b[39;00m \u001b[38;5;124m\"\u001b[39m\u001b[38;5;124mb\u001b[39m\u001b[38;5;124m\"\u001b[39m \u001b[38;5;129;01mnot\u001b[39;00m \u001b[38;5;129;01min\u001b[39;00m ioargs\u001b[38;5;241m.\u001b[39mmode:\n\u001b[0;32m    872\u001b[0m         \u001b[38;5;66;03m# Encoding\u001b[39;00m\n\u001b[1;32m--> 873\u001b[0m         handle \u001b[38;5;241m=\u001b[39m \u001b[38;5;28;43mopen\u001b[39;49m\u001b[43m(\u001b[49m\n\u001b[0;32m    874\u001b[0m \u001b[43m            \u001b[49m\u001b[43mhandle\u001b[49m\u001b[43m,\u001b[49m\n\u001b[0;32m    875\u001b[0m \u001b[43m            \u001b[49m\u001b[43mioargs\u001b[49m\u001b[38;5;241;43m.\u001b[39;49m\u001b[43mmode\u001b[49m\u001b[43m,\u001b[49m\n\u001b[0;32m    876\u001b[0m \u001b[43m            \u001b[49m\u001b[43mencoding\u001b[49m\u001b[38;5;241;43m=\u001b[39;49m\u001b[43mioargs\u001b[49m\u001b[38;5;241;43m.\u001b[39;49m\u001b[43mencoding\u001b[49m\u001b[43m,\u001b[49m\n\u001b[0;32m    877\u001b[0m \u001b[43m            \u001b[49m\u001b[43merrors\u001b[49m\u001b[38;5;241;43m=\u001b[39;49m\u001b[43merrors\u001b[49m\u001b[43m,\u001b[49m\n\u001b[0;32m    878\u001b[0m \u001b[43m            \u001b[49m\u001b[43mnewline\u001b[49m\u001b[38;5;241;43m=\u001b[39;49m\u001b[38;5;124;43m\"\u001b[39;49m\u001b[38;5;124;43m\"\u001b[39;49m\u001b[43m,\u001b[49m\n\u001b[0;32m    879\u001b[0m \u001b[43m        \u001b[49m\u001b[43m)\u001b[49m\n\u001b[0;32m    880\u001b[0m     \u001b[38;5;28;01melse\u001b[39;00m:\n\u001b[0;32m    881\u001b[0m         \u001b[38;5;66;03m# Binary mode\u001b[39;00m\n\u001b[0;32m    882\u001b[0m         handle \u001b[38;5;241m=\u001b[39m \u001b[38;5;28mopen\u001b[39m(handle, ioargs\u001b[38;5;241m.\u001b[39mmode)\n",
      "\u001b[1;31mFileNotFoundError\u001b[0m: [Errno 2] No such file or directory: 'C:\\\\Users\\\\lubaude/Desktop/Exports/20241112/AGS_20241112_exports_performance_archive/AGS_20240524_exports_performance_realise_echelle_zone.csv'"
     ]
    }
   ],
   "source": [
    "#obtention des donnnées de la CAN :\n",
    "directory = '~/Bureau/Exports/20240524/non_anonyme/'\n",
    "file = 'AGS_20240524_exports_performance_realise_echelle_zone.csv'\n",
    "df_can = pd.read_csv(directory+file, sep='@')"
   ]
  },
  {
   "cell_type": "code",
   "execution_count": 4,
   "metadata": {},
   "outputs": [
    {
     "data": {
      "text/plain": [
       "culture_especes_edi\n",
       "Vigne                                                                                                                                                                                                                                                   1319\n",
       "Pommier                                                                                                                                                                                                                                                  516\n",
       "Blé tendre, Maïs, Orge, Prairie, Triticale                                                                                                                                                                                                               466\n",
       "Betterave, Blé tendre, Maïs, Orge                                                                                                                                                                                                                        400\n",
       "Blé tendre, Colza, Orge                                                                                                                                                                                                                                  382\n",
       "                                                                                                                                                                                                                                                        ... \n",
       "Ail, Blé dur, Blé tendre, Maïs, Phacélie, Soja, Sorgho, Tournesol                                                                                                                                                                                          1\n",
       "Blé tendre, Colza, Epeautre, Lin, Orge, Sarrasin, Seigle, Tournesol                                                                                                                                                                                        1\n",
       "Ail, Blé dur, Blé tendre, Camomille, Maïs, Phacélie, Soja, Sorgho, Tournesol                                                                                                                                                                               1\n",
       "Betterave, Blé tendre, Chou, Epeautre, Houblon, Maïs, Orge, Seigle, Triticale                                                                                                                                                                              1\n",
       "Avoine, Blé tendre, Chicorée, Colza, Fléole des prés, Fétuque élevée, Lotier, Luzerne, Maïs, Orge, Plantain lancéolé, Pois, Prairie, Ray-grass anglais, Triticale, Trèfle blanc, Trèfle d'Alexandrie, Trèfle hybride, Trèfle incarnat, Trèfle violet       1\n",
       "Name: count, Length: 4816, dtype: int64"
      ]
     },
     "execution_count": 4,
     "metadata": {},
     "output_type": "execute_result"
    }
   ],
   "source": [
    "df_can['culture_especes_edi'].value_counts()"
   ]
  },
  {
   "cell_type": "code",
   "execution_count": 5,
   "metadata": {},
   "outputs": [
    {
     "data": {
      "text/plain": [
       "19180    Avoine, Blé tendre, Colza, Espèces diverses, F...\n",
       "Name: culture_especes_edi, dtype: object"
      ]
     },
     "execution_count": 5,
     "metadata": {},
     "output_type": "execute_result"
    }
   ],
   "source": [
    "df_can.loc[df_can['zone_id'] == 'fr.inra.agrosyst.api.entities.Zone_36558cba-a513-43ed-b68f-98500628c80f']['culture_especes_edi']"
   ]
  },
  {
   "cell_type": "code",
   "execution_count": 6,
   "metadata": {},
   "outputs": [
    {
     "data": {
      "text/plain": [
       "Index(['mb_std_s06_sans_autoconso', 'mb_std_s07_sans_autoconso',\n",
       "       'mb_std_s08_sans_autoconso', 'mb_std_s09_sans_autoconso',\n",
       "       'mb_std_s10_sans_autoconso', 'mb_std_s01_avec_autoconso',\n",
       "       'mb_std_s02_avec_autoconso', 'mb_std_s03_avec_autoconso',\n",
       "       'mb_std_s04_avec_autoconso', 'mb_std_s05_avec_autoconso',\n",
       "       'mb_std_s06_avec_autoconso', 'mb_std_s07_avec_autoconso',\n",
       "       'mb_std_s08_avec_autoconso', 'mb_std_s09_avec_autoconso',\n",
       "       'mb_std_s10_avec_autoconso', 'mb_std_scenario_tx_comp',\n",
       "       'mb_std_scenario_chmps_non_rens', 'msn_reelle_sans_autoconso',\n",
       "       'msn_reelle_avec_autoconso', 'msn_reelle_tx_comp',\n",
       "       'msn_reelle_chmps_non_rens', 'msn_std_mil_sans_autoconso',\n",
       "       'msn_std_mil_avec_autoconso', 'msn_std_mil_tx_comp',\n",
       "       'msn_std_mil_chmps_non_rens', 'msn_std_s01_sans_autoconso',\n",
       "       'msn_std_s02_sans_autoconso', 'msn_std_s03_sans_autoconso',\n",
       "       'msn_std_s04_sans_autoconso', 'msn_std_s05_sans_autoconso',\n",
       "       'msn_std_s06_sans_autoconso', 'msn_std_s07_sans_autoconso',\n",
       "       'msn_std_s08_sans_autoconso', 'msn_std_s09_sans_autoconso',\n",
       "       'msn_std_s10_sans_autoconso', 'msn_std_s01_avec_autoconso',\n",
       "       'msn_std_s02_avec_autoconso', 'msn_std_s03_avec_autoconso',\n",
       "       'msn_std_s04_avec_autoconso', 'msn_std_s05_avec_autoconso',\n",
       "       'msn_std_s06_avec_autoconso', 'msn_std_s07_avec_autoconso',\n",
       "       'msn_std_s08_avec_autoconso', 'msn_std_s09_avec_autoconso',\n",
       "       'msn_std_s10_avec_autoconso', 'msn_std_s_tx_comp',\n",
       "       'msn_std_s_chmps_non_rens', 'surf_unite_de_w_humain',\n",
       "       'surf_unite_de_w_humain_tx_comp', 'surf_unite_de_w_hum_chp_non_rens'],\n",
       "      dtype='object')"
      ]
     },
     "execution_count": 6,
     "metadata": {},
     "output_type": "execute_result"
    }
   ],
   "source": [
    "df_can.columns[-50:]"
   ]
  },
  {
   "cell_type": "code",
   "execution_count": 5,
   "metadata": {},
   "outputs": [
    {
     "ename": "NameError",
     "evalue": "name 'df_can' is not defined",
     "output_type": "error",
     "traceback": [
      "\u001b[1;31m---------------------------------------------------------------------------\u001b[0m",
      "\u001b[1;31mNameError\u001b[0m                                 Traceback (most recent call last)",
      "Cell \u001b[1;32mIn[5], line 1\u001b[0m\n\u001b[1;32m----> 1\u001b[0m df_studied \u001b[38;5;241m=\u001b[39m \u001b[43mdf_can\u001b[49m\u001b[38;5;241m.\u001b[39mloc[\n\u001b[0;32m      2\u001b[0m     df_can[\u001b[38;5;124m'\u001b[39m\u001b[38;5;124mzone_id\u001b[39m\u001b[38;5;124m'\u001b[39m]\u001b[38;5;241m.\u001b[39misin(studied_ids)\n\u001b[0;32m      3\u001b[0m ]\n\u001b[0;32m      5\u001b[0m \u001b[38;5;66;03m#df_studied = df_can.sample(19)\u001b[39;00m\n\u001b[0;32m      6\u001b[0m \u001b[38;5;66;03m#culture_especes_edi, variete_nom, rendement_culture\u001b[39;00m\n",
      "\u001b[1;31mNameError\u001b[0m: name 'df_can' is not defined"
     ]
    }
   ],
   "source": [
    "df_studied = df_can.loc[\n",
    "    df_can['zone_id'].isin(studied_ids)\n",
    "]\n",
    "\n",
    "#df_studied = df_can.sample(19)\n",
    "#culture_especes_edi, variete_nom, rendement_culture"
   ]
  },
  {
   "cell_type": "code",
   "execution_count": 77,
   "metadata": {},
   "outputs": [
    {
     "data": {
      "text/html": [
       "<table id=\"itables_7b15c523_82e7_4c27_878f_eb1dfa4f64ea\" class=\"display nowrap\" data-quarto-disable-processing=\"true\" style=\"table-layout:auto;width:auto;margin:auto;caption-side:bottom\">\n",
       "<thead>\n",
       "    <tr style=\"text-align: right;\">\n",
       "      \n",
       "      <th>zone_id</th>\n",
       "      <th>variable</th>\n",
       "      <th>value</th>\n",
       "    </tr>\n",
       "  </thead><tbody><tr>\n",
       "<td style=\"vertical-align:middle; text-align:left\">\n",
       "<div style=\"float:left; margin-right: 10px;\">\n",
       "<a href=https://mwouts.github.io/itables/><svg class=\"main-svg\" xmlns=\"http://www.w3.org/2000/svg\" xmlns:xlink=\"http://www.w3.org/1999/xlink\"\n",
       "width=\"64\" viewBox=\"0 0 500 400\" style=\"font-family: 'Droid Sans', sans-serif;\">\n",
       "    <g style=\"fill:#d9d7fc\">\n",
       "        <path d=\"M100,400H500V357H100Z\" />\n",
       "        <path d=\"M100,300H400V257H100Z\" />\n",
       "        <path d=\"M0,200H400V157H0Z\" />\n",
       "        <path d=\"M100,100H500V57H100Z\" />\n",
       "        <path d=\"M100,350H500V307H100Z\" />\n",
       "        <path d=\"M100,250H400V207H100Z\" />\n",
       "        <path d=\"M0,150H400V107H0Z\" />\n",
       "        <path d=\"M100,50H500V7H100Z\" />\n",
       "    </g>\n",
       "    <g style=\"fill:#1a1366;stroke:#1a1366;\">\n",
       "   <rect x=\"100\" y=\"7\" width=\"400\" height=\"43\">\n",
       "    <animate\n",
       "      attributeName=\"width\"\n",
       "      values=\"0;400;0\"\n",
       "      dur=\"5s\"\n",
       "      repeatCount=\"indefinite\" />\n",
       "      <animate\n",
       "      attributeName=\"x\"\n",
       "      values=\"100;100;500\"\n",
       "      dur=\"5s\"\n",
       "      repeatCount=\"indefinite\" />\n",
       "  </rect>\n",
       "        <rect x=\"0\" y=\"107\" width=\"400\" height=\"43\">\n",
       "    <animate\n",
       "      attributeName=\"width\"\n",
       "      values=\"0;400;0\"\n",
       "      dur=\"3.5s\"\n",
       "      repeatCount=\"indefinite\" />\n",
       "    <animate\n",
       "      attributeName=\"x\"\n",
       "      values=\"0;0;400\"\n",
       "      dur=\"3.5s\"\n",
       "      repeatCount=\"indefinite\" />\n",
       "  </rect>\n",
       "        <rect x=\"100\" y=\"207\" width=\"300\" height=\"43\">\n",
       "    <animate\n",
       "      attributeName=\"width\"\n",
       "      values=\"0;300;0\"\n",
       "      dur=\"3s\"\n",
       "      repeatCount=\"indefinite\" />\n",
       "    <animate\n",
       "      attributeName=\"x\"\n",
       "      values=\"100;100;400\"\n",
       "      dur=\"3s\"\n",
       "      repeatCount=\"indefinite\" />\n",
       "  </rect>\n",
       "        <rect x=\"100\" y=\"307\" width=\"400\" height=\"43\">\n",
       "    <animate\n",
       "      attributeName=\"width\"\n",
       "      values=\"0;400;0\"\n",
       "      dur=\"4s\"\n",
       "      repeatCount=\"indefinite\" />\n",
       "      <animate\n",
       "      attributeName=\"x\"\n",
       "      values=\"100;100;500\"\n",
       "      dur=\"4s\"\n",
       "      repeatCount=\"indefinite\" />\n",
       "  </rect>\n",
       "        <g style=\"fill:transparent;stroke-width:8; stroke-linejoin:round\" rx=\"5\">\n",
       "            <g transform=\"translate(45 50) rotate(-45)\">\n",
       "                <circle r=\"33\" cx=\"0\" cy=\"0\" />\n",
       "                <rect x=\"-8\" y=\"32\" width=\"16\" height=\"30\" />\n",
       "            </g>\n",
       "\n",
       "            <g transform=\"translate(450 152)\">\n",
       "                <polyline points=\"-15,-20 -35,-20 -35,40 25,40 25,20\" />\n",
       "                <rect x=\"-15\" y=\"-40\" width=\"60\" height=\"60\" />\n",
       "            </g>\n",
       "\n",
       "            <g transform=\"translate(50 352)\">\n",
       "                <polygon points=\"-35,-5 0,-40 35,-5\" />\n",
       "                <polygon points=\"-35,10 0,45 35,10\" />\n",
       "            </g>\n",
       "\n",
       "            <g transform=\"translate(75 250)\">\n",
       "                <polyline points=\"-30,30 -60,0 -30,-30\" />\n",
       "                <polyline points=\"0,30 -30,0 0,-30\" />\n",
       "            </g>\n",
       "\n",
       "            <g transform=\"translate(425 250) rotate(180)\">\n",
       "                <polyline points=\"-30,30 -60,0 -30,-30\" />\n",
       "                <polyline points=\"0,30 -30,0 0,-30\" />\n",
       "            </g>\n",
       "        </g>\n",
       "    </g>\n",
       "</svg>\n",
       "</a>\n",
       "</div>\n",
       "<div>\n",
       "Loading ITables v2.1.4 from the internet...\n",
       "(need <a href=https://mwouts.github.io/itables/troubleshooting.html>help</a>?)</td>\n",
       "</div>\n",
       "</tr></tbody>\n",
       "\n",
       "</table>\n",
       "<link href=\"https://www.unpkg.com/dt_for_itables@2.0.11/dt_bundle.css\" rel=\"stylesheet\">\n",
       "<script type=\"module\">\n",
       "    import {DataTable, jQuery as $} from 'https://www.unpkg.com/dt_for_itables@2.0.11/dt_bundle.js';\n",
       "\n",
       "    document.querySelectorAll(\"#itables_7b15c523_82e7_4c27_878f_eb1dfa4f64ea:not(.dataTable)\").forEach(table => {\n",
       "        // Define the table data\n",
       "        const data = [[\"fr.inra.agrosyst.api.entities.Zone_620b147e-fa8d-4105-aa34-2da69120285f\", \"culture_especes_edi\", \"Bl\\u00e9 tendre, Ma\\u00efs, Orge, Pois\"], [\"fr.inra.agrosyst.api.entities.Zone_30b065f2-d6d3-4cdd-895c-8021a23b584f\", \"culture_especes_edi\", \"Bl\\u00e9 tendre, Chanvre, Colza, Esp\\u00e8ces diverses, F\\u00e8verole, Lentille, Luzerne, Ma\\u00efs, Orge, Pois, Sarrasin, Seigle, Soja, Triticale\"], [\"fr.inra.agrosyst.api.entities.Zone_4dc17026-f913-4084-98cc-06e5a88348f3\", \"culture_especes_edi\", \"Avoine, Bl\\u00e9 tendre, Colza, Esp\\u00e8ces diverses, F\\u00e8verole, Ma\\u00efs, M\\u00e9lange Fourrager, Pois, Prairie, Sarrasin, Triticale, Vesce commune\"], [\"fr.inra.agrosyst.api.entities.Zone_36558cba-a513-43ed-b68f-98500628c80f\", \"culture_especes_edi\", \"Avoine, Bl\\u00e9 tendre, Colza, Esp\\u00e8ces diverses, F\\u00e8verole, Ma\\u00efs, M\\u00e9lange, Orge, Panic \\u00e9rig\\u00e9 (switch grass), Pois, Prairie, Sarrasin, Soja, Sorgho, Triticale, Tr\\u00e8fle violet, Vesce commune\"], [\"fr.inra.agrosyst.api.entities.Zone_7459c92b-3f01-471e-898b-05d1bef463a1\", \"culture_especes_edi\", \"Vigne\"], [\"fr.inra.agrosyst.api.entities.Zone_faddd433-f219-41e9-85e8-90d071649193\", \"culture_especes_edi\", \"Concombre\"], [\"fr.inra.agrosyst.api.entities.Zone_589d7161-1def-4816-b688-050fe8e730f5\", \"culture_especes_edi\", \"Colza, Orge, Phac\\u00e9lie, Ray-grass d'Italie, Ray-grass hybride, Seigle, Sorgho, Tr\\u00e8fle blanc, Tr\\u00e8fle incarnat\"], [\"fr.inra.agrosyst.api.entities.Zone_54476254-68fd-4c78-95a4-e29b5e49575e\", \"culture_especes_edi\", \"Avoine, Bl\\u00e9 tendre, Esp\\u00e8ces diverses, F\\u00e8verole, Luzerne, Ma\\u00efs, M\\u00e9lange Fourrager, Pois, Prairie, Soja, Tournesol, Vesce commune\"], [\"fr.inra.agrosyst.api.entities.Zone_620b147e-fa8d-4105-aa34-2da69120285f\", \"variete_nom\", \"Int\\u00e9r\\u00eat\"], [\"fr.inra.agrosyst.api.entities.Zone_30b065f2-d6d3-4cdd-895c-8021a23b584f\", \"variete_nom\", \"Amistar, Anicia, Apache, Cedrico, Diva, ES Asteroid, ES Cirrius, Etincelle, Fedora 17, Galaxie, HARPE, Hirondella, Kandis, RGT Planet, Sibemol\"], [\"fr.inra.agrosyst.api.entities.Zone_4dc17026-f913-4084-98cc-06e5a88348f3\", \"variete_nom\", \"Solehio\"], [\"fr.inra.agrosyst.api.entities.Zone_36558cba-a513-43ed-b68f-98500628c80f\", \"variete_nom\", \"Antonius, Diva, ES Inventive, ES Mentor, Etincel, Geo, Kayanne, Nacre, Persik, RGT Chromixx, RGT Shouna, Rubisko, Super Sile 18\"], [\"fr.inra.agrosyst.api.entities.Zone_7459c92b-3f01-471e-898b-05d1bef463a1\", \"variete_nom\", \"Aligot\\u00e9 B, Chardonnay B, Pinot noir N\"], [\"fr.inra.agrosyst.api.entities.Zone_faddd433-f219-41e9-85e8-90d071649193\", \"variete_nom\", \"NaN\"], [\"fr.inra.agrosyst.api.entities.Zone_589d7161-1def-4816-b688-050fe8e730f5\", \"variete_nom\", \"KWS Cassia, Sweet Virginia, Sydney\"], [\"fr.inra.agrosyst.api.entities.Zone_54476254-68fd-4c78-95a4-e29b5e49575e\", \"variete_nom\", \"ES Gallery, ES Idillic, RGT Emerixx, RGT Venezio, Sumatra, Zoom\"], [\"fr.inra.agrosyst.api.entities.Zone_620b147e-fa8d-4105-aa34-2da69120285f\", \"rendement_culture\", \"[Grain]|70,000000|q/ha (humidit\\u00e9 ramen\\u00e9e \\u00e0 la norme)#[Grain (amidon)]|70,000000|q/ha (humidit\\u00e9 ramen\\u00e9e \\u00e0 la norme)#[Paille]|3,500000|t MS/ha\"], [\"fr.inra.agrosyst.api.entities.Zone_30b065f2-d6d3-4cdd-895c-8021a23b584f\", \"rendement_culture\", \"[Grain (alimentation animale)]|24,000000|q/ha (humidit\\u00e9 ramen\\u00e9e \\u00e0 la norme)\"], [\"fr.inra.agrosyst.api.entities.Zone_4dc17026-f913-4084-98cc-06e5a88348f3\", \"rendement_culture\", \"[Grain]|105,000000|q/ha (humidit\\u00e9 ramen\\u00e9e \\u00e0 la norme)#[Fourrage (ensilage)]|23,800000|t MS/ha\"], [\"fr.inra.agrosyst.api.entities.Zone_36558cba-a513-43ed-b68f-98500628c80f\", \"rendement_culture\", \"[Grain]|48,000000|q/ha (humidit\\u00e9 ramen\\u00e9e \\u00e0 la norme)\"], [\"fr.inra.agrosyst.api.entities.Zone_7459c92b-3f01-471e-898b-05d1bef463a1\", \"rendement_culture\", \"[Toutes appellations / Tous modes de commercialisation]|40,000000|hL vin/ha\"], [\"fr.inra.agrosyst.api.entities.Zone_faddd433-f219-41e9-85e8-90d071649193\", \"rendement_culture\", \"[Toutes cat\\u00e9gories - tous calibres]|165,000000|unit\\u00e9/ha\"], [\"fr.inra.agrosyst.api.entities.Zone_589d7161-1def-4816-b688-050fe8e730f5\", \"rendement_culture\", \"[Grain]|128,333333|q/ha (humidit\\u00e9 ramen\\u00e9e \\u00e0 la norme)#[Fourrage (foin)]|0,833333|t MS/ha\"], [\"fr.inra.agrosyst.api.entities.Zone_54476254-68fd-4c78-95a4-e29b5e49575e\", \"rendement_culture\", \"[A compl\\u00e9ter]|6,328300|t/ha#[Fourrage (enrubannage)]|2,073400|t MS/ha#[Fourrage (foin)]|4,751600|t MS/ha\"]];\n",
       "\n",
       "        // Define the dt_args\n",
       "        let dt_args = {\"layout\": {\"topStart\": \"pageLength\", \"topEnd\": \"search\", \"bottomStart\": \"info\", \"bottomEnd\": \"paging\"}, \"order\": []};\n",
       "        dt_args[\"data\"] = data;\n",
       "\n",
       "        \n",
       "        new DataTable(table, dt_args);\n",
       "    });\n",
       "</script>\n"
      ],
      "text/plain": [
       "<IPython.core.display.HTML object>"
      ]
     },
     "metadata": {},
     "output_type": "display_data"
    }
   ],
   "source": [
    "table_show(pd.melt(df_studied[['culture_especes_edi', 'variete_nom', 'rendement_culture', 'zone_id']], id_vars=['zone_id']))"
   ]
  },
  {
   "cell_type": "code",
   "execution_count": null,
   "metadata": {},
   "outputs": [
    {
     "name": "stderr",
     "output_type": "stream",
     "text": [
      "100%|██████████| 18/18 [00:40<00:00,  2.23s/it]\n"
     ]
    }
   ],
   "source": [
    "df = {}\n",
    "\n",
    "def import_df(df_name, path_data, sep, index_col=None):\n",
    "    df[df_name] = pd.read_csv(path_data+df_name+'.csv', sep = sep, index_col=index_col, low_memory=False)\n",
    "\n",
    "def import_dfs(df_names, path_data, sep = ',', index_col=None, verbose=False):\n",
    "    for df_name in tqdm(df_names) : \n",
    "        if(verbose) :\n",
    "            print(\" - \", df_name)\n",
    "        import_df(df_name, path_data, sep, index_col=index_col)\n",
    "\n",
    "# get_intervention_synthetise_outils_can_context --> intervention_synthetise\n",
    "# get_intervention_synthetise_action_outils_can --> 'intervention_synthetise', 'action_synthetise'\n",
    "# get_intervention_synthetise_combinaison_outils_can -->  'intervention_synthetise', 'intervention_synthetise_restructure', 'combinaison_outil', 'composant_parc_materiel', 'combinaison_outil_composant_parc_materiel'\n",
    "# get_intervention_synthetise_culture_outils_can --> 'intervention_synthetise', 'noeuds_synthetise', 'connection_synthetise', \n",
    "        # 'plantation_perenne_phases_synthetise', \n",
    "        # 'plantation_perenne_synthetise', 'composant_culture_concerne_intervention_synthetise', \n",
    "        # 'noeuds_synthetise_restructure', 'plantation_perenne_synthetise_restructure',\n",
    "        # 'ccc_intervention_synthetise_restructure', 'composant_culture',\n",
    "        # 'espece', 'variete', 'connection_synthetise_restructure'\n",
    "# get_intervention_synthetise_culture_prec_outils_can --> 'composant_culture', 'espece', 'variete', 'intervention_synthetise', \n",
    "        # 'noeuds_synthetise', 'connection_synthetise', 'culture', \n",
    "        # 'noeuds_synthetise_restructure'\n",
    "\n",
    "tables_entrepot = [\n",
    "    'zone', 'parcelle', 'sdc', 'domaine', 'culture', 'composant_culture', 'espece', 'variete', 'noeuds_realise', \n",
    "    'plantation_perenne_phases_realise', 'plantation_perenne_realise', 'recolte_rendement_prix', 'action_realise', \n",
    "    'action_realise_agrege', 'composant_culture_concerne_intervention_realise', 'recolte_rendement_prix_restructure', 'action_realise','connection_realise'\n",
    "]\n",
    "\n",
    "tables_performance = [\n",
    "    'zone_realise_performance'\n",
    "]\n",
    "\n",
    "# import des données de l'entrepôt avec la colonne 'id' en index \n",
    "import_dfs(tables_entrepot, ENTREPOT_PATH, sep = ',',index_col='id',verbose=False) \n",
    "#import_dfs(tables_performance, ENTREPOT_PATH, sep = ',',verbose=False) "
   ]
  },
  {
   "cell_type": "code",
   "execution_count": 6,
   "metadata": {},
   "outputs": [],
   "source": [
    "studied_ids = [\n",
    "    'fr.inra.agrosyst.api.entities.Zone_4dc17026-f913-4084-98cc-06e5a88348f3',\n",
    "    'fr.inra.agrosyst.api.entities.Zone_7459c92b-3f01-471e-898b-05d1bef463a1',\n",
    "    'fr.inra.agrosyst.api.entities.Zone_36558cba-a513-43ed-b68f-98500628c80f',\n",
    "    'fr.inra.agrosyst.api.entities.Zone_589d7161-1def-4816-b688-050fe8e730f5',\n",
    "    'fr.inra.agrosyst.api.entities.Zone_30b065f2-d6d3-4cdd-895c-8021a23b584f',\n",
    "    'fr.inra.agrosyst.api.entities.Zone_620b147e-fa8d-4105-aa34-2da69120285f',\n",
    "    'fr.inra.agrosyst.api.entities.Zone_54476254-68fd-4c78-95a4-e29b5e49575e',\n",
    "    'fr.inra.agrosyst.api.entities.Zone_faddd433-f219-41e9-85e8-90d071649193',\n",
    "]"
   ]
  },
  {
   "cell_type": "code",
   "execution_count": 7,
   "metadata": {},
   "outputs": [],
   "source": [
    "df['zone_test'] = df['zone'].loc[\n",
    "    df['zone'].index.isin(studied_ids)\n",
    "]\n",
    "df['parcelle_test'] = df['parcelle'].loc[\n",
    "    df['parcelle'].index.isin(df['zone_test']['parcelle_id'])\n",
    "]\n",
    "df['noeuds_realise_test'] = df['noeuds_realise'].loc[\n",
    "    df['noeuds_realise']['zone_id'].isin(df['zone_test'].index)\n",
    "]\n",
    "df['connection_realise_test'] = df['connection_realise'].loc[\n",
    "    df['connection_realise']['cible_noeuds_realise_id'].isin(df['noeuds_realise_test'].index)\n",
    "]\n",
    "df['plantation_perenne_realise_test'] = df['plantation_perenne_realise'].loc[\n",
    "    df['plantation_perenne_realise']['zone_id'].isin(df['zone_test'].index)\n",
    "]\n",
    "df['plantation_perenne_phases_realise_test'] = df['plantation_perenne_phases_realise'].loc[\n",
    "    df['plantation_perenne_phases_realise']['plantation_perenne_realise_id'].isin(df['plantation_perenne_realise_test'].index)\n",
    "]\n",
    "df['culture_test'] = df['culture'].loc[\n",
    "    (df['culture'].index.isin(df['noeuds_realise_test']['culture_id'])) |\n",
    "    (df['culture'].index.isin(df['plantation_perenne_realise_test']['culture_id'])) |\n",
    "    (df['culture'].index.isin(df['connection_realise_test']['culture_intermediaire_id']))\n",
    "]\n",
    "df['composant_culture_test'] = df['composant_culture'].loc[\n",
    "    (df['composant_culture']['culture_id'].isin(df['culture_test'].index))\n",
    "]\n",
    "df['composant_culture_concerne_intervention_realise_test'] = df['composant_culture_concerne_intervention_realise'].loc[\n",
    "    (df['composant_culture_concerne_intervention_realise']['composant_culture_id'].isin(df['composant_culture_test'].index))\n",
    "]\n",
    "df['espece_test'] = df['espece'].loc[\n",
    "    df['espece'].index.isin(df['composant_culture_test']['espece_id'])\n",
    "]\n",
    "df['variete_test'] = df['variete'].loc[\n",
    "    df['variete'].index.isin(df['composant_culture_test']['variete_id'])\n",
    "]\n",
    "df['action_realise_agrege_test'] = df['action_realise_agrege'].loc[\n",
    "    df['action_realise_agrege']['zone_id'].isin(studied_ids)\n",
    "]\n",
    "\n",
    "df['recolte_rendement_prix_test'] = df['recolte_rendement_prix'].loc[\n",
    "    df['recolte_rendement_prix']['action_id'].isin(df['action_realise_agrege_test'].index)\n",
    "]\n",
    "\n",
    "df['recolte_rendement_prix_restructure_test'] = df['recolte_rendement_prix_restructure'].loc[\n",
    "    df['recolte_rendement_prix_restructure'].index.isin(df['recolte_rendement_prix_test'].index)\n",
    "]\n",
    "\n",
    "df['action_realise_test'] = df['action_realise'].loc[\n",
    "    df['action_realise'].index.isin(df['action_realise_agrege_test'].index)\n",
    "]"
   ]
  },
  {
   "cell_type": "code",
   "execution_count": 9,
   "metadata": {},
   "outputs": [],
   "source": [
    "path='./2/'\n",
    "df['zone_test'].to_csv(path+'zone.csv')\n",
    "df['composant_culture_test'].to_csv(path+'composant_culture.csv')\n",
    "df['noeuds_realise_test'].to_csv(path+'noeuds_realise'+'.csv')\n",
    "df['connection_realise_test'].to_csv(path+'connection_realise'+'.csv')\n",
    "df['espece_test'].to_csv(path+'espece'+'.csv')\n",
    "df['variete_test'].to_csv(path+'variete'+'.csv')\n",
    "df['culture_test'].to_csv(path+'culture'+'.csv')\n",
    "df['plantation_perenne_realise_test'].to_csv(path+'plantation_perenne_realise'+'.csv')\n",
    "df['plantation_perenne_phases_realise_test'].to_csv(path+'plantation_perenne_phases_realise'+'.csv')\n",
    "df['parcelle_test'].to_csv(path+'parcelle'+'.csv')\n",
    "df['action_realise_agrege_test'].to_csv(path+'action_realise_agrege.csv')\n",
    "df['action_realise_test'].to_csv(path+'action_realise.csv')\n",
    "df['recolte_rendement_prix_test'].to_csv(path+'recolte_rendement_prix.csv')\n",
    "df['composant_culture_concerne_intervention_realise_test'].to_csv(path+'composant_culture_concerne_intervention_realise.csv')\n",
    "df['recolte_rendement_prix_restructure_test'].to_csv(path+'recolte_rendement_prix_restructure.csv')"
   ]
  }
 ],
 "metadata": {
  "kernelspec": {
   "display_name": "entrepot_outil",
   "language": "python",
   "name": "python3"
  },
  "language_info": {
   "codemirror_mode": {
    "name": "ipython",
    "version": 3
   },
   "file_extension": ".py",
   "mimetype": "text/x-python",
   "name": "python",
   "nbconvert_exporter": "python",
   "pygments_lexer": "ipython3",
   "version": "3.11.5"
  }
 },
 "nbformat": 4,
 "nbformat_minor": 2
}
