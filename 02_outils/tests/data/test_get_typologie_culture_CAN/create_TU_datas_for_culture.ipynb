{
 "cells": [
  {
   "cell_type": "code",
   "execution_count": 1,
   "metadata": {},
   "outputs": [],
   "source": [
    "import pandas as pd\n",
    "from tqdm import tqdm\n",
    "import numpy as np\n",
    "from scripts.indicateur import get_typologie_culture_CAN as fnc"
   ]
  },
  {
   "cell_type": "code",
   "execution_count": 2,
   "metadata": {},
   "outputs": [
    {
     "name": "stderr",
     "output_type": "stream",
     "text": [
      "100%|██████████| 3/3 [00:02<00:00,  1.06it/s]\n",
      "100%|██████████| 2/2 [00:00<00:00, 418.11it/s]\n"
     ]
    }
   ],
   "source": [
    "# ------------------ #\n",
    "# IMPORT DES DONNÉES #\n",
    "# ------------------ #\n",
    "ENTREPOT_PATH = '~/Bureau/Datagrosyst/data_entrepot_&_outils/'\n",
    "EXTERN_DATA_PATH = '~/Bureau/Datagrosyst/data_entrepot_&_outils/referentiels/'\n",
    "df = {}\n",
    "\n",
    "def import_df(df_name, path_data, sep, index_col=None):\n",
    "    df[df_name] = pd.read_csv(path_data+df_name+'.csv', sep = sep, index_col=index_col, low_memory=False).replace({'\\r\\n': '\\n'}, regex=True)\n",
    "\n",
    "def import_dfs(df_names, path_data, sep = ',', index_col=None, verbose=False):\n",
    "    for df_name in tqdm(df_names) : \n",
    "        if(verbose) :\n",
    "            print(' - ', df_name)\n",
    "        import_df(df_name, path_data, sep, index_col=index_col)\n",
    "\n",
    "tables_entrepot = [\n",
    "    'espece_vCAN', 'culture', 'composant_culture'\n",
    "]\n",
    "\n",
    "extern_data = [\n",
    "    'typo_especes_typo_culture', 'typo_especes_typo_culture_marai'\n",
    "]\n",
    "\n",
    "# import des données de l'entrepôt avec la colonne 'id' en index \n",
    "import_dfs(tables_entrepot, ENTREPOT_PATH, sep = ',', index_col='id', verbose=False)\n",
    "\n",
    "# import des données du magasin\n",
    "import_dfs(extern_data, EXTERN_DATA_PATH, sep = ',', verbose=False)"
   ]
  },
  {
   "cell_type": "code",
   "execution_count": 3,
   "metadata": {},
   "outputs": [],
   "source": [
    "result = fnc(df)"
   ]
  },
  {
   "cell_type": "code",
   "execution_count": 16,
   "metadata": {},
   "outputs": [],
   "source": [
    "list_culture_id = [\n",
    "'fr.inra.agrosyst.api.entities.CroppingPlanEntry_60cc91e5-d085-40c7-a3dc-fc00684b05ad',\n",
    "'fr.inra.agrosyst.api.entities.CroppingPlanEntry_3478eb36-740a-40b5-96fa-28d29d931605',\n",
    "'fr.inra.agrosyst.api.entities.CroppingPlanEntry_94c605bb-a2c5-4f47-833e-c126edc00594',\n",
    "'fr.inra.agrosyst.api.entities.CroppingPlanEntry_931d7b38-1df6-4e38-bbf5-9661ddb0a81b',\n",
    "'fr.inra.agrosyst.api.entities.CroppingPlanEntry_f144f317-25b5-403d-81ca-56ed7809c705',\n",
    "'fr.inra.agrosyst.api.entities.CroppingPlanEntry_1bb9ef49-7f10-4ce9-87d0-22b36cfe883a',\n",
    "'fr.inra.agrosyst.api.entities.CroppingPlanEntry_48127946-206c-40f4-b69a-206c28019190'\n",
    "]\n",
    "\n",
    "vu = result.loc[result.index.isin(list_culture_id)]\n",
    "\n",
    "cult = df['culture']\n",
    "comp = df['composant_culture']\n",
    "\n",
    "# Pour les datas\n",
    "PATH = '/home/administrateur/Bureau/Datagrosyst/catalogue_script_agrosyst/02_outils/tests/data/test_get_typologie_culture_CAN/'\n",
    "# comp.loc[comp.culture_id.isin(list_culture_id)].to_csv(PATH+'composant_culture'+'.csv')\n",
    "# cult.loc[cult.index.isin(list_culture_id)].to_csv(PATH+'culture'+'.csv')\n"
   ]
  },
  {
   "cell_type": "code",
   "execution_count": null,
   "metadata": {},
   "outputs": [],
   "source": [
    "# Pour les metadonnes\n",
    "meta = pd.melt(vu.reset_index(), id_vars='culture_id', value_vars=['typocan_espece', 'typocan_espece_maraich', 'nb_espece',\n",
    "       'nb_typocan_esp', 'nb_typocan_esp_maraich', 'type', 'typocan_culture','typocan_culture_maraich'])\n",
    "meta = meta.set_index('culture_id')\n",
    "# meta.to_csv(EXTERN_DATA_PATH + 'meta_TU_todo.csv')"
   ]
  }
 ],
 "metadata": {
  "kernelspec": {
   "display_name": "catalogue_script_agrosyst",
   "language": "python",
   "name": "python3"
  },
  "language_info": {
   "codemirror_mode": {
    "name": "ipython",
    "version": 3
   },
   "file_extension": ".py",
   "mimetype": "text/x-python",
   "name": "python",
   "nbconvert_exporter": "python",
   "pygments_lexer": "ipython3",
   "version": "3.11.5"
  }
 },
 "nbformat": 4,
 "nbformat_minor": 2
}
