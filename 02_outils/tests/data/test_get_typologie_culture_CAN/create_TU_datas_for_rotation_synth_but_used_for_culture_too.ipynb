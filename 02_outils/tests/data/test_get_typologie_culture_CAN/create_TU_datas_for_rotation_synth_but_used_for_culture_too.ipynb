{
 "cells": [
  {
   "cell_type": "code",
   "execution_count": 1,
   "metadata": {},
   "outputs": [],
   "source": [
    "import pandas as pd\n",
    "from tqdm import tqdm\n",
    "import numpy as np\n",
    "from scripts.indicateur import get_connexion_weight_in_synth_rotation as freq\n",
    "from scripts.indicateur import get_typologie_rotation_CAN_synthetise as fnc\n",
    "from scripts.indicateur import get_typologie_culture_CAN as typoC\n"
   ]
  },
  {
   "cell_type": "code",
   "execution_count": 2,
   "metadata": {},
   "outputs": [],
   "source": [
    "# SCRIPT DE CREATION DE TU POUR LES DEUX FONCTION DE TYPOLOGIE CULTURE ET ROTATION\n",
    "# A UTILISER A LA RACINE DE 02_OUTILS POUR FONCTIONNER !!!"
   ]
  },
  {
   "cell_type": "code",
   "execution_count": 3,
   "metadata": {},
   "outputs": [
    {
     "name": "stderr",
     "output_type": "stream",
     "text": [
      "100%|██████████| 4/4 [00:01<00:00,  3.84it/s]\n",
      "100%|██████████| 5/5 [00:06<00:00,  1.33s/it]\n",
      "100%|██████████| 2/2 [00:00<00:00, 472.65it/s]\n"
     ]
    }
   ],
   "source": [
    "# ------------------ #\n",
    "# IMPORT DES DONNÉES #\n",
    "# ------------------ #\n",
    "ENTREPOT_PATH = '~/Bureau/Datagrosyst/data_entrepot_outils/'\n",
    "EXTERN_DATA_PATH = '~/Bureau/Datagrosyst/data_entrepot_outils/referentiels/'\n",
    "df = {}\n",
    "\n",
    "def import_df(df_name, path_data, sep, index_col=None):\n",
    "    df[df_name] = pd.read_csv(path_data+df_name+'.csv', sep = sep, index_col=index_col, low_memory=False).replace({'\\r\\n': '\\n'}, regex=True)\n",
    "\n",
    "def import_dfs(df_names, path_data, sep = ',', index_col=None, verbose=False):\n",
    "    for df_name in tqdm(df_names) : \n",
    "        if(verbose) :\n",
    "            print(' - ', df_name)\n",
    "        import_df(df_name, path_data, sep, index_col=index_col)\n",
    "\n",
    "tables_entrepot = [\n",
    "    'connection_synthetise', 'noeuds_synthetise',\n",
    "    'noeuds_synthetise_restructure','connection_synthetise_restructure'\n",
    "]\n",
    "\n",
    "data_pour_typologie_culutre = [\n",
    "    'espece', 'culture', 'composant_culture','recolte_rendement_prix','recolte_rendement_prix_restructure'\n",
    "]\n",
    "\n",
    "extern_data_pour_typologie_culutre = [\n",
    "    'typo_especes_typo_culture', 'typo_especes_typo_culture_marai'\n",
    "]\n",
    "\n",
    "# import des données de l'entrepôt avec la colonne 'id' en index \n",
    "import_dfs(tables_entrepot, ENTREPOT_PATH, sep = ',', verbose=False)\n",
    "\n",
    "# import des données pour 'typologie_can_culture'\n",
    "import_dfs(data_pour_typologie_culutre, ENTREPOT_PATH, sep = ',', verbose=False)\n",
    "import_dfs(extern_data_pour_typologie_culutre, EXTERN_DATA_PATH, sep = ',', verbose=False)\n",
    "\n",
    "\n",
    "nod = df['noeuds_synthetise']\n",
    "nodres = df['noeuds_synthetise_restructure']\n",
    "cnx = df['connection_synthetise']\n",
    "cnxres = df['connection_synthetise_restructure']\n",
    "\n",
    "rec = df['recolte_rendement_prix']\n",
    "recrest = df['recolte_rendement_prix_restructure']\n",
    "\n",
    "culture = df['culture']\n",
    "cpc = df['composant_culture']\n",
    "espece = df['espece']"
   ]
  },
  {
   "cell_type": "code",
   "execution_count": 4,
   "metadata": {},
   "outputs": [],
   "source": [
    "# Filtrer sur quelques synthétisé\n",
    "list_synth = [\n",
    "    'fr.inra.agrosyst.api.entities.practiced.PracticedSystem_c3c050a7-cedb-4071-9a0e-fadcbb311cc2',\n",
    "    'fr.inra.agrosyst.api.entities.practiced.PracticedSystem_b142d1f3-cb04-418c-bd77-31ac3922b09b',\n",
    "    'fr.inra.agrosyst.api.entities.practiced.PracticedSystem_85cedf6b-df0e-4470-b42b-1232608495aa',\n",
    "    'fr.inra.agrosyst.api.entities.practiced.PracticedSystem_933f1420-44ef-4809-aa4a-99c895b37554', #Betterave Fouragere\n",
    "    'fr.inra.agrosyst.api.entities.practiced.PracticedSystem_372ee474-d430-4e3c-8afc-f6814e7a1496' #Culture porte graine de Trefle\n",
    "]\n",
    "\n",
    "nod = nod.loc[nod['synthetise_id'].isin(list_synth)]\n",
    "nodres = nodres.loc[nodres['id'].isin(nod['id'])]\n",
    "cnx = cnx.loc[(cnx['cible_noeuds_synthetise_id'].isin(nod['id'])) | (cnx['source_noeuds_synthetise_id'].isin(nod['id']))]\n",
    "cnxres = cnxres.loc[cnxres['id'].isin(cnx['id'])]\n",
    "\n",
    "culture = culture.loc[(culture['id'].isin(nodres['culture_id'])) | (culture['id'].isin(cnxres['culture_intermediaire_id']))]\n",
    "cpc = cpc.loc[cpc['culture_id'].isin(culture['id'])]\n",
    "# Attention on ne filtre pas le référentiel espece, on veut le tester en entier\n",
    "\n",
    "recrest = recrest.loc[recrest['composant_culture_id'].isin(cpc['id'])]\n",
    "rec = rec.loc[rec['composant_culture_code'].isin(cpc['code'])]"
   ]
  },
  {
   "cell_type": "code",
   "execution_count": 5,
   "metadata": {},
   "outputs": [],
   "source": [
    "df_filt = {\n",
    "    'noeuds_synthetise': nod,\n",
    "    'noeuds_synthetise_restructure': nodres,\n",
    "    'connection_synthetise': cnx,\n",
    "    'connection_synthetise_restructure':cnxres,\n",
    "    'culture': culture,\n",
    "    'composant_culture': cpc,\n",
    "    'recolte_rendement_prix_restructure':recrest,\n",
    "    'recolte_rendement_prix': rec,\n",
    "    'espece': df['espece'],\n",
    "    'typo_especes_typo_culture': df['typo_especes_typo_culture'],\n",
    "    'typo_especes_typo_culture_marai': df['typo_especes_typo_culture_marai']\n",
    "\n",
    "}"
   ]
  },
  {
   "cell_type": "code",
   "execution_count": 6,
   "metadata": {},
   "outputs": [
    {
     "ename": "KeyError",
     "evalue": "'composant_culture_id'",
     "output_type": "error",
     "traceback": [
      "\u001b[0;31m---------------------------------------------------------------------------\u001b[0m",
      "\u001b[0;31mKeyError\u001b[0m                                  Traceback (most recent call last)",
      "File \u001b[0;32m~/miniconda3/envs/catalogue_script_agrosyst/lib/python3.11/site-packages/pandas/core/indexes/base.py:3805\u001b[0m, in \u001b[0;36mIndex.get_loc\u001b[0;34m(self, key)\u001b[0m\n\u001b[1;32m   3804\u001b[0m \u001b[38;5;28;01mtry\u001b[39;00m:\n\u001b[0;32m-> 3805\u001b[0m     \u001b[38;5;28;01mreturn\u001b[39;00m \u001b[38;5;28;43mself\u001b[39;49m\u001b[38;5;241;43m.\u001b[39;49m\u001b[43m_engine\u001b[49m\u001b[38;5;241;43m.\u001b[39;49m\u001b[43mget_loc\u001b[49m\u001b[43m(\u001b[49m\u001b[43mcasted_key\u001b[49m\u001b[43m)\u001b[49m\n\u001b[1;32m   3806\u001b[0m \u001b[38;5;28;01mexcept\u001b[39;00m \u001b[38;5;167;01mKeyError\u001b[39;00m \u001b[38;5;28;01mas\u001b[39;00m err:\n",
      "File \u001b[0;32mindex.pyx:167\u001b[0m, in \u001b[0;36mpandas._libs.index.IndexEngine.get_loc\u001b[0;34m()\u001b[0m\n",
      "File \u001b[0;32mindex.pyx:196\u001b[0m, in \u001b[0;36mpandas._libs.index.IndexEngine.get_loc\u001b[0;34m()\u001b[0m\n",
      "File \u001b[0;32mpandas/_libs/hashtable_class_helper.pxi:7081\u001b[0m, in \u001b[0;36mpandas._libs.hashtable.PyObjectHashTable.get_item\u001b[0;34m()\u001b[0m\n",
      "File \u001b[0;32mpandas/_libs/hashtable_class_helper.pxi:7089\u001b[0m, in \u001b[0;36mpandas._libs.hashtable.PyObjectHashTable.get_item\u001b[0;34m()\u001b[0m\n",
      "\u001b[0;31mKeyError\u001b[0m: 'composant_culture_id'",
      "\nThe above exception was the direct cause of the following exception:\n",
      "\u001b[0;31mKeyError\u001b[0m                                  Traceback (most recent call last)",
      "Cell \u001b[0;32mIn[6], line 3\u001b[0m\n\u001b[1;32m      1\u001b[0m \u001b[38;5;66;03m# Essaie des fonctions\u001b[39;00m\n\u001b[1;32m      2\u001b[0m \u001b[38;5;66;03m# Fonction de typologie de culture\u001b[39;00m\n\u001b[0;32m----> 3\u001b[0m df_filt[\u001b[38;5;124m'\u001b[39m\u001b[38;5;124mtypologie_can_culture\u001b[39m\u001b[38;5;124m'\u001b[39m] \u001b[38;5;241m=\u001b[39m \u001b[43mtypoC\u001b[49m\u001b[43m(\u001b[49m\u001b[43mdf_filt\u001b[49m\u001b[43m)\u001b[49m\n\u001b[1;32m      4\u001b[0m \u001b[38;5;66;03m# Fonction de fréquence de connexions\u001b[39;00m\n\u001b[1;32m      5\u001b[0m df_filt[\u001b[38;5;124m'\u001b[39m\u001b[38;5;124mpoids_connexions_synthetise_rotation\u001b[39m\u001b[38;5;124m'\u001b[39m], _, _ \u001b[38;5;241m=\u001b[39m freq(df_filt, parallelization_enabled\u001b[38;5;241m=\u001b[39m\u001b[38;5;28;01mFalse\u001b[39;00m)\n",
      "File \u001b[0;32m~/Bureau/Datagrosyst/catalogue_script_agrosyst/02_outils/scripts/indicateur.py:752\u001b[0m, in \u001b[0;36mget_typologie_culture_CAN\u001b[0;34m(donnees)\u001b[0m\n\u001b[1;32m    750\u001b[0m df \u001b[38;5;241m=\u001b[39m cropsp\u001b[38;5;241m.\u001b[39mmerge(sp, how \u001b[38;5;241m=\u001b[39m \u001b[38;5;124m'\u001b[39m\u001b[38;5;124mleft\u001b[39m\u001b[38;5;124m'\u001b[39m, on \u001b[38;5;241m=\u001b[39m \u001b[38;5;124m'\u001b[39m\u001b[38;5;124mespece_id\u001b[39m\u001b[38;5;124m'\u001b[39m)\n\u001b[1;32m    751\u001b[0m     \u001b[38;5;66;03m# On change directement dans le dataframe les typologies d'espèces de la Betterave si elle est fourragère. Cela impactera la typologie de culture car elle ne reconnaitra pas 'Betterave fourragere' comme un 'Betterave' (la betterave industrielle). => Donc a ajouter dans le referentiel de passage typo_sp <=> typo_culture\u001b[39;00m\n\u001b[0;32m--> 752\u001b[0m df\u001b[38;5;241m.\u001b[39mloc[\u001b[43mdf\u001b[49m\u001b[43m[\u001b[49m\u001b[38;5;124;43m'\u001b[39;49m\u001b[38;5;124;43mcomposant_culture_id\u001b[39;49m\u001b[38;5;124;43m'\u001b[39;49m\u001b[43m]\u001b[49m\u001b[38;5;241m.\u001b[39misin( list_cpc_bett_fourr ),\u001b[38;5;124m'\u001b[39m\u001b[38;5;124mtypocan_espece\u001b[39m\u001b[38;5;124m'\u001b[39m] \u001b[38;5;241m=\u001b[39m \u001b[38;5;124m'\u001b[39m\u001b[38;5;124mBetterave fourragère\u001b[39m\u001b[38;5;124m'\u001b[39m\n\u001b[1;32m    753\u001b[0m df\u001b[38;5;241m.\u001b[39mloc[df[\u001b[38;5;124m'\u001b[39m\u001b[38;5;124mcomposant_culture_id\u001b[39m\u001b[38;5;124m'\u001b[39m]\u001b[38;5;241m.\u001b[39misin( list_cpc_bett_fourr ),\u001b[38;5;124m'\u001b[39m\u001b[38;5;124mtypocan_espece_maraich\u001b[39m\u001b[38;5;124m'\u001b[39m] \u001b[38;5;241m=\u001b[39m \u001b[38;5;124m'\u001b[39m\u001b[38;5;124mBetterave fourragère\u001b[39m\u001b[38;5;124m'\u001b[39m\n\u001b[1;32m    755\u001b[0m \u001b[38;5;66;03m# Liste des cultures qui contiennent des cultures compagnes\u001b[39;00m\n",
      "File \u001b[0;32m~/miniconda3/envs/catalogue_script_agrosyst/lib/python3.11/site-packages/pandas/core/frame.py:4102\u001b[0m, in \u001b[0;36mDataFrame.__getitem__\u001b[0;34m(self, key)\u001b[0m\n\u001b[1;32m   4100\u001b[0m \u001b[38;5;28;01mif\u001b[39;00m \u001b[38;5;28mself\u001b[39m\u001b[38;5;241m.\u001b[39mcolumns\u001b[38;5;241m.\u001b[39mnlevels \u001b[38;5;241m>\u001b[39m \u001b[38;5;241m1\u001b[39m:\n\u001b[1;32m   4101\u001b[0m     \u001b[38;5;28;01mreturn\u001b[39;00m \u001b[38;5;28mself\u001b[39m\u001b[38;5;241m.\u001b[39m_getitem_multilevel(key)\n\u001b[0;32m-> 4102\u001b[0m indexer \u001b[38;5;241m=\u001b[39m \u001b[38;5;28;43mself\u001b[39;49m\u001b[38;5;241;43m.\u001b[39;49m\u001b[43mcolumns\u001b[49m\u001b[38;5;241;43m.\u001b[39;49m\u001b[43mget_loc\u001b[49m\u001b[43m(\u001b[49m\u001b[43mkey\u001b[49m\u001b[43m)\u001b[49m\n\u001b[1;32m   4103\u001b[0m \u001b[38;5;28;01mif\u001b[39;00m is_integer(indexer):\n\u001b[1;32m   4104\u001b[0m     indexer \u001b[38;5;241m=\u001b[39m [indexer]\n",
      "File \u001b[0;32m~/miniconda3/envs/catalogue_script_agrosyst/lib/python3.11/site-packages/pandas/core/indexes/base.py:3812\u001b[0m, in \u001b[0;36mIndex.get_loc\u001b[0;34m(self, key)\u001b[0m\n\u001b[1;32m   3807\u001b[0m     \u001b[38;5;28;01mif\u001b[39;00m \u001b[38;5;28misinstance\u001b[39m(casted_key, \u001b[38;5;28mslice\u001b[39m) \u001b[38;5;129;01mor\u001b[39;00m (\n\u001b[1;32m   3808\u001b[0m         \u001b[38;5;28misinstance\u001b[39m(casted_key, abc\u001b[38;5;241m.\u001b[39mIterable)\n\u001b[1;32m   3809\u001b[0m         \u001b[38;5;129;01mand\u001b[39;00m \u001b[38;5;28many\u001b[39m(\u001b[38;5;28misinstance\u001b[39m(x, \u001b[38;5;28mslice\u001b[39m) \u001b[38;5;28;01mfor\u001b[39;00m x \u001b[38;5;129;01min\u001b[39;00m casted_key)\n\u001b[1;32m   3810\u001b[0m     ):\n\u001b[1;32m   3811\u001b[0m         \u001b[38;5;28;01mraise\u001b[39;00m InvalidIndexError(key)\n\u001b[0;32m-> 3812\u001b[0m     \u001b[38;5;28;01mraise\u001b[39;00m \u001b[38;5;167;01mKeyError\u001b[39;00m(key) \u001b[38;5;28;01mfrom\u001b[39;00m \u001b[38;5;21;01merr\u001b[39;00m\n\u001b[1;32m   3813\u001b[0m \u001b[38;5;28;01mexcept\u001b[39;00m \u001b[38;5;167;01mTypeError\u001b[39;00m:\n\u001b[1;32m   3814\u001b[0m     \u001b[38;5;66;03m# If we have a listlike key, _check_indexing_error will raise\u001b[39;00m\n\u001b[1;32m   3815\u001b[0m     \u001b[38;5;66;03m#  InvalidIndexError. Otherwise we fall through and re-raise\u001b[39;00m\n\u001b[1;32m   3816\u001b[0m     \u001b[38;5;66;03m#  the TypeError.\u001b[39;00m\n\u001b[1;32m   3817\u001b[0m     \u001b[38;5;28mself\u001b[39m\u001b[38;5;241m.\u001b[39m_check_indexing_error(key)\n",
      "\u001b[0;31mKeyError\u001b[0m: 'composant_culture_id'"
     ]
    }
   ],
   "source": [
    "# Essaie des fonctions\n",
    "# Fonction de typologie de culture\n",
    "df_filt['typologie_can_culture'] = typoC(df_filt)\n",
    "# Fonction de fréquence de connexions\n",
    "df_filt['poids_connexions_synthetise_rotation'], _, _ = freq(df_filt, parallelization_enabled=False)\n",
    "# Fonction de typologie de rotation\n",
    "result = fnc(df_filt)"
   ]
  },
  {
   "cell_type": "code",
   "execution_count": null,
   "metadata": {},
   "outputs": [],
   "source": [
    "PATH_TO_TEST_TYPOCULTURE = '~/Bureau/Datagrosyst/catalogue_script_agrosyst/02_outils/tests/data/test_get_typologie_culture_CAN/'\n",
    "\n",
    "PATH_TO_TEST_TYPOROTATION = '~/Bureau/Datagrosyst/catalogue_script_agrosyst/02_outils/tests/data/test_get_typologie_rotation_CAN_synthetise/'\n",
    "\n",
    "# for i in df_filt: \n",
    "#     if i in ['culture','composant_culture','espece','typo_especes_typo_culture','typo_especes_typo_culture_marai',\n",
    "#              'recolte_rendement_prix_restructure','recolte_rendement_prix'] :\n",
    "#         df_filt[i].to_csv(PATH_TO_TEST_TYPOCULTURE + str(i)+'.csv', index = False)\n",
    "\n",
    "for i in df_filt: \n",
    "    if i in ['noeuds_synthetise_restructure','poids_connexions_synthetise_rotation','typologie_can_culture','noeuds_synthetise','connection_synthetise'] :\n",
    "        df_filt[i].to_csv(PATH_TO_TEST_TYPOROTATION + str(i)+'.csv', index = False)"
   ]
  },
  {
   "cell_type": "code",
   "execution_count": null,
   "metadata": {},
   "outputs": [],
   "source": [
    "df_filt['typologie_can_culture'].to_csv('~/Bureau/' + 'metadata_TU_typoC' + '.csv')\n",
    "result.to_csv('~/Bureau/' + 'metadata_TU_typoRota' + '.csv')"
   ]
  }
 ],
 "metadata": {
  "kernelspec": {
   "display_name": "catalogue_script_agrosyst",
   "language": "python",
   "name": "python3"
  },
  "language_info": {
   "codemirror_mode": {
    "name": "ipython",
    "version": 3
   },
   "file_extension": ".py",
   "mimetype": "text/x-python",
   "name": "python",
   "nbconvert_exporter": "python",
   "pygments_lexer": "ipython3",
   "version": "3.11.5"
  }
 },
 "nbformat": 4,
 "nbformat_minor": 2
}
