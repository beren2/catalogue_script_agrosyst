{
 "cells": [
  {
   "cell_type": "code",
   "execution_count": 1,
   "metadata": {},
   "outputs": [],
   "source": [
    "import pandas as pd\n",
    "from tqdm import tqdm\n",
    "import numpy as np\n"
   ]
  },
  {
   "cell_type": "code",
   "execution_count": 2,
   "metadata": {},
   "outputs": [
    {
     "name": "stderr",
     "output_type": "stream",
     "text": [
      "100%|██████████| 4/4 [00:02<00:00,  1.47it/s]\n",
      "100%|██████████| 3/3 [00:00<00:00, 521.94it/s]\n"
     ]
    }
   ],
   "source": [
    "# ------------------ #\n",
    "# IMPORT DES DONNÉES #\n",
    "# ------------------ #\n",
    "ENTREPOT_PATH = '~/Bureau/Datagrosyst/data_entrepot_&_outils/'\n",
    "EXTERN_DATA_PATH = '/home/administrateur/Bureau/doc_de_travail/Indicateurs de la Cellule Ref/Data_cell_ref/'\n",
    "df = {}\n",
    "\n",
    "def import_df(df_name, path_data, sep, index_col=None):\n",
    "    df[df_name] = pd.read_csv(path_data+df_name+'.csv', sep = sep, index_col=index_col, low_memory=False).replace({'\\r\\n': '\\n'}, regex=True)\n",
    "\n",
    "def import_dfs(df_names, path_data, sep = ',', index_col=None, verbose=False):\n",
    "    for df_name in tqdm(df_names) : \n",
    "        if(verbose) :\n",
    "            print(' - ', df_name)\n",
    "        import_df(df_name, path_data, sep, index_col=index_col)\n",
    "\n",
    "tables_entrepot = [\n",
    "    'espece', 'variete', 'culture', 'composant_culture'\n",
    "]\n",
    "\n",
    "extern_data = [\n",
    "    'typo_especes_typo_culture', 'typo_especes_typo_culture_marai', 'espece_standard_typo_espece'\n",
    "]\n",
    "\n",
    "# import des données de l'entrepôt avec la colonne 'id' en index \n",
    "import_dfs(tables_entrepot, ENTREPOT_PATH, sep = ',', index_col='id', verbose=False)\n",
    "\n",
    "# import des données du magasin\n",
    "import_dfs(extern_data, EXTERN_DATA_PATH, sep = ',', verbose=False)"
   ]
  },
  {
   "cell_type": "code",
   "execution_count": 3,
   "metadata": {},
   "outputs": [],
   "source": [
    "esp = df['espece']\n",
    "esp = esp[['libelle_espece_botanique','libelle_qualifiant_aee','libelle_type_saisonnier_aee','libelle_destination_aee']]"
   ]
  },
  {
   "cell_type": "code",
   "execution_count": 4,
   "metadata": {},
   "outputs": [
    {
     "name": "stderr",
     "output_type": "stream",
     "text": [
      "/tmp/ipykernel_86841/3217965752.py:1: SettingWithCopyWarning: \n",
      "A value is trying to be set on a copy of a slice from a DataFrame.\n",
      "Try using .loc[row_indexer,col_indexer] = value instead\n",
      "\n",
      "See the caveats in the documentation: https://pandas.pydata.org/pandas-docs/stable/user_guide/indexing.html#returning-a-view-versus-a-copy\n",
      "  esp.loc[:, 'nom_espece_standard'] = np.select(\n"
     ]
    }
   ],
   "source": [
    "esp.loc[:, 'nom_espece_standard'] = np.select(\n",
    "\t[\n",
    "\t\tesp['libelle_espece_botanique'] == 'Pois',\n",
    "\t\tesp['libelle_espece_botanique'].isin(['Betterave','Chou','Concombre','Haricot','Lin','Pomme de terre','Prairie','Céleri']),\n",
    "\t\tesp['libelle_espece_botanique'].isin(['Avoine','Blé dur','Blé tendre','Carotte','Chanvre','Chicorée','Colza','Dactyle',\n",
    "\t\t\t\t\t\t\t\t\t  'Epeautre','Fenugrec','Fétuque des prés','Fétuque élevée','Féverole','Fléole des prés',\n",
    "\t\t\t\t\t\t\t\t\t  'Gesse Commune ou pois carré','Lentille','Lotier','Lotier corniculé','Lupin blanc','Luzerne',\n",
    "\t\t\t\t\t\t\t\t\t  'Millet commun','Orge','Pois chiche','Ray-grass anglais',\"Ray-grass d'Italie\",'Ray-grass hybride',\n",
    "\t\t\t\t\t\t\t\t\t  'Sainfoin','Salsifis','Sarrasin','Seigle','Soja','Sorgho','Tournesol','Trèfle blanc',\n",
    "\t\t\t\t\t\t\t\t\t  \"Trèfle d'Alexandrie\",'Trèfle hybride','Trèfle incarnat','Trèfle violet','Triticale','Vesce commune']),\n",
    "\t\t((esp['libelle_espece_botanique'] == 'Radis') & (esp['libelle_qualifiant_aee'] == 'Fourrager / Fourrage')),\n",
    "\t\t((esp['libelle_espece_botanique'] == 'Oignon') & (esp['libelle_qualifiant_aee'].isna())),\n",
    "\t\t((esp['libelle_espece_botanique'] == 'Oignon') & (esp['libelle_qualifiant_aee'].notna()))\n",
    "\t], \n",
    "\t[\n",
    "\t\tesp[['libelle_espece_botanique','libelle_qualifiant_aee','libelle_type_saisonnier_aee']].fillna('').apply(lambda row: ' '.join(row.values.astype(str)).strip(), axis=1),\n",
    "\t\tesp[['libelle_espece_botanique','libelle_qualifiant_aee']].fillna('').apply(lambda row: ' '.join(row.values.astype(str)).strip(), axis=1),\n",
    "\t\tesp[['libelle_espece_botanique','libelle_type_saisonnier_aee']].fillna('').apply(lambda row: ' '.join(row.values.astype(str)).strip(), axis=1),\n",
    "\t\tesp[['libelle_espece_botanique','libelle_qualifiant_aee']].fillna('').apply(lambda row: ' '.join(row.values.astype(str)).strip(), axis=1),\n",
    "\t\tesp[['libelle_espece_botanique','libelle_type_saisonnier_aee']].fillna('').apply(lambda row: ' '.join(row.values.astype(str)).strip(), axis=1),\n",
    "\t\tesp[['libelle_espece_botanique','libelle_qualifiant_aee']].fillna('').apply(lambda row: ' '.join(row.values.astype(str)).strip(), axis=1)\n",
    "\t]\n",
    ")\n",
    "\n",
    "esp.loc[:, 'nom_espece_standard'] = np.where(esp['nom_espece_standard'] == 0, esp['libelle_espece_botanique'], esp['nom_espece_standard'])"
   ]
  },
  {
   "cell_type": "code",
   "execution_count": 5,
   "metadata": {},
   "outputs": [],
   "source": [
    "espece = esp.reset_index().merge(df['espece_standard_typo_espece'], on='nom_espece_standard', how=\"left\").set_index('id')\n",
    "espece = espece[['Typo_espece','Typo_espece_2']].rename(columns={'Typo_espece': 'typocan_espece', 'Typo_espece_2': 'typocan_espece_maraich'})\n",
    "# espece.to_csv(EXTERN_DATA_PATH + 'refespece_supp_col_can.csv')"
   ]
  },
  {
   "cell_type": "code",
   "execution_count": 6,
   "metadata": {},
   "outputs": [],
   "source": [
    "# df['espece'].merge(espece, how='left', on='id').to_csv(ENTREPOT_PATH + 'espece_vCAN.csv')"
   ]
  }
 ],
 "metadata": {
  "kernelspec": {
   "display_name": "catalogue_script_agrosyst",
   "language": "python",
   "name": "python3"
  },
  "language_info": {
   "codemirror_mode": {
    "name": "ipython",
    "version": 3
   },
   "file_extension": ".py",
   "mimetype": "text/x-python",
   "name": "python",
   "nbconvert_exporter": "python",
   "pygments_lexer": "ipython3",
   "version": "3.11.5"
  }
 },
 "nbformat": 4,
 "nbformat_minor": 2
}
