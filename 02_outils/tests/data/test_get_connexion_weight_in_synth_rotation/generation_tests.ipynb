{
 "cells": [
  {
   "cell_type": "code",
   "execution_count": 1,
   "metadata": {},
   "outputs": [],
   "source": [
    "import pandas as pd\n",
    "from tqdm import tqdm"
   ]
  },
  {
   "cell_type": "code",
   "execution_count": 2,
   "metadata": {},
   "outputs": [],
   "source": [
    "ENTREPOT_PATH = '~/Bureau/utils/data/'\n",
    "METEO_PATH = '~/Bureau/utils/data/meteo/'\n",
    "SPATIAL_PATH = './data/spatial/'"
   ]
  },
  {
   "cell_type": "code",
   "execution_count": 49,
   "metadata": {},
   "outputs": [
    {
     "name": "stderr",
     "output_type": "stream",
     "text": [
      "100%|██████████| 5/5 [00:01<00:00,  4.44it/s]\n"
     ]
    }
   ],
   "source": [
    "df = {}\n",
    "\n",
    "def import_df(df_name, path_data, sep, index_col=None):\n",
    "    df[df_name] = pd.read_csv(path_data+df_name+'.csv', sep = sep, index_col=index_col, low_memory=False)\n",
    "\n",
    "def import_dfs(df_names, path_data, sep = ',', index_col=None, verbose=False):\n",
    "    for df_name in tqdm(df_names) : \n",
    "        if(verbose) :\n",
    "            print(\" - \", df_name)\n",
    "        import_df(df_name, path_data, sep, index_col=index_col)\n",
    "\n",
    "tables_entrepot = [\n",
    "    'noeuds_synthetise', 'connection_synthetise', 'synthetise', 'culture', 'noeuds_synthetise_restructure'\n",
    "]\n",
    "\n",
    "tables_performance = [\n",
    "]\n",
    "\n",
    "# import des données de l'entrepôt avec la colonne 'id' en index \n",
    "import_dfs(tables_entrepot, ENTREPOT_PATH, sep = ',',index_col='id', verbose=False)\n",
    "\n",
    "# import des données de performance\n",
    "#import_dfs(['intervention_realise_agrege', 'combinaison_outil_materiel'], ENTREPOT_PATH, sep = ',', verbose=False)\n"
   ]
  },
  {
   "cell_type": "code",
   "execution_count": 67,
   "metadata": {},
   "outputs": [],
   "source": [
    "studied_synthetise_id = [\n",
    "    'fr.inra.agrosyst.api.entities.practiced.PracticedSystem_000f911f-5e67-4280-ae77-35098c17aa5d', \n",
    "    'fr.inra.agrosyst.api.entities.practiced.PracticedSystem_00b5a0b4-39a6-4822-802b-e81fd44386a2', \n",
    "    #'fr.inra.agrosyst.api.entities.practiced.PracticedSystem_05e5d9d6-ad2b-43b2-b37a-1f32850e37a1'\n",
    "]"
   ]
  },
  {
   "cell_type": "code",
   "execution_count": 68,
   "metadata": {},
   "outputs": [],
   "source": [
    "df['synthetise_test'] = df['synthetise'].loc[\n",
    "    df['synthetise'].index.isin(studied_synthetise_id)\n",
    "]"
   ]
  },
  {
   "cell_type": "code",
   "execution_count": 69,
   "metadata": {},
   "outputs": [],
   "source": [
    "df['noeuds_synthetise_test'] = df['noeuds_synthetise'].loc[\n",
    "    df['noeuds_synthetise']['synthetise_id'].isin(df['synthetise_test'].index)\n",
    "]"
   ]
  },
  {
   "cell_type": "code",
   "execution_count": 70,
   "metadata": {},
   "outputs": [],
   "source": [
    "df['connection_synthetise_test'] = df['connection_synthetise'].loc[\n",
    "    (df['connection_synthetise']['source_noeuds_synthetise_id'].isin(df['noeuds_synthetise_test'].index)) |\n",
    "    (df['connection_synthetise']['cible_noeuds_synthetise_id'].isin(df['noeuds_synthetise_test'].index))\n",
    "]"
   ]
  },
  {
   "cell_type": "code",
   "execution_count": 71,
   "metadata": {},
   "outputs": [],
   "source": [
    "left = df['noeuds_synthetise']\n",
    "right = df['noeuds_synthetise_restructure']\n",
    "df['noeuds_synthetise_extanded'] = pd.merge(left, right, left_index=True, right_index=True, how='left')"
   ]
  },
  {
   "cell_type": "code",
   "execution_count": 72,
   "metadata": {},
   "outputs": [],
   "source": [
    "left = df['noeuds_synthetise_extanded']\n",
    "right = df['culture']\n",
    "df['noeuds_synthetise_extanded'] = pd.merge(left, right, left_on='culture_id', right_index=True, how='left')\n"
   ]
  },
  {
   "cell_type": "code",
   "execution_count": 73,
   "metadata": {},
   "outputs": [],
   "source": [
    "left = df['connection_synthetise_test']\n",
    "right = df['noeuds_synthetise_extanded'].rename(columns={'nom' : 'nom_culture_cible'})\n",
    "merge = pd.merge(left, right, left_on='cible_noeuds_synthetise_id', right_index=True, how='left')\n",
    "\n",
    "left = merge\n",
    "right = df['noeuds_synthetise_extanded'][['nom']].rename(columns={'nom' : 'nom_culture_source'})\n",
    "merge = pd.merge(left, right, left_on='source_noeuds_synthetise_id', right_index=True, how='left')"
   ]
  },
  {
   "cell_type": "code",
   "execution_count": 74,
   "metadata": {},
   "outputs": [
    {
     "data": {
      "application/vnd.microsoft.datawrangler.viewer.v0+json": {
       "columns": [
        {
         "name": "id",
         "rawType": "object",
         "type": "string"
        },
        {
         "name": "rang",
         "rawType": "int64",
         "type": "integer"
        },
        {
         "name": "nom_culture_source",
         "rawType": "object",
         "type": "string"
        },
        {
         "name": "nom_culture_cible",
         "rawType": "object",
         "type": "string"
        },
        {
         "name": "synthetise_id",
         "rawType": "object",
         "type": "string"
        }
       ],
       "conversionMethod": "pd.DataFrame",
       "ref": "cb96387a-0e86-4cf6-9cf7-aed3b4a37587",
       "rows": [
        [
         "fr.inra.agrosyst.api.entities.practiced.PracticedCropCycleConnection_c64570ec-7563-47b6-afaf-13c4a71727fe",
         "1",
         "prairie temporaire",
         "Maïs",
         "fr.inra.agrosyst.api.entities.practiced.PracticedSystem_00b5a0b4-39a6-4822-802b-e81fd44386a2"
        ],
        [
         "fr.inra.agrosyst.api.entities.practiced.PracticedCropCycleConnection_439cd55e-fa78-455a-9504-234279059142",
         "2",
         "Maïs",
         "Maïs",
         "fr.inra.agrosyst.api.entities.practiced.PracticedSystem_00b5a0b4-39a6-4822-802b-e81fd44386a2"
        ],
        [
         "fr.inra.agrosyst.api.entities.practiced.PracticedCropCycleConnection_65c9c876-9634-4542-aa00-0ed70d770650",
         "3",
         "Maïs",
         "Orge d'hiver",
         "fr.inra.agrosyst.api.entities.practiced.PracticedSystem_00b5a0b4-39a6-4822-802b-e81fd44386a2"
        ],
        [
         "fr.inra.agrosyst.api.entities.practiced.PracticedCropCycleConnection_fc6dff67-16ea-4cdf-ab0f-4b5ade4d49e4",
         "3",
         "Maïs",
         "Triticale",
         "fr.inra.agrosyst.api.entities.practiced.PracticedSystem_00b5a0b4-39a6-4822-802b-e81fd44386a2"
        ],
        [
         "fr.inra.agrosyst.api.entities.practiced.PracticedCropCycleConnection_9e756084-e6e0-42f1-a007-9b2e7c625555",
         "0",
         "Triticale",
         "prairie temporaire",
         "fr.inra.agrosyst.api.entities.practiced.PracticedSystem_00b5a0b4-39a6-4822-802b-e81fd44386a2"
        ],
        [
         "fr.inra.agrosyst.api.entities.practiced.PracticedCropCycleConnection_4fc23bd1-5986-4abb-8968-0f485b8175e0",
         "0",
         "Orge d'hiver",
         "prairie temporaire",
         "fr.inra.agrosyst.api.entities.practiced.PracticedSystem_00b5a0b4-39a6-4822-802b-e81fd44386a2"
        ],
        [
         "fr.inra.agrosyst.api.entities.practiced.PracticedCropCycleConnection_cffd990a-b401-46d8-b338-28ad52c749ea",
         "1",
         "permanent grassland",
         "permanent grassland",
         "fr.inra.agrosyst.api.entities.practiced.PracticedSystem_000f911f-5e67-4280-ae77-35098c17aa5d"
        ],
        [
         "fr.inra.agrosyst.api.entities.practiced.PracticedCropCycleConnection_aaef3477-1e6b-4226-ba44-56006336166a",
         "0",
         "permanent grassland",
         "permanent grassland",
         "fr.inra.agrosyst.api.entities.practiced.PracticedSystem_000f911f-5e67-4280-ae77-35098c17aa5d"
        ]
       ],
       "shape": {
        "columns": 4,
        "rows": 8
       }
      },
      "text/html": [
       "<div>\n",
       "<style scoped>\n",
       "    .dataframe tbody tr th:only-of-type {\n",
       "        vertical-align: middle;\n",
       "    }\n",
       "\n",
       "    .dataframe tbody tr th {\n",
       "        vertical-align: top;\n",
       "    }\n",
       "\n",
       "    .dataframe thead th {\n",
       "        text-align: right;\n",
       "    }\n",
       "</style>\n",
       "<table border=\"1\" class=\"dataframe\">\n",
       "  <thead>\n",
       "    <tr style=\"text-align: right;\">\n",
       "      <th></th>\n",
       "      <th>rang</th>\n",
       "      <th>nom_culture_source</th>\n",
       "      <th>nom_culture_cible</th>\n",
       "      <th>synthetise_id</th>\n",
       "    </tr>\n",
       "    <tr>\n",
       "      <th>id</th>\n",
       "      <th></th>\n",
       "      <th></th>\n",
       "      <th></th>\n",
       "      <th></th>\n",
       "    </tr>\n",
       "  </thead>\n",
       "  <tbody>\n",
       "    <tr>\n",
       "      <th>fr.inra.agrosyst.api.entities.practiced.PracticedCropCycleConnection_c64570ec-7563-47b6-afaf-13c4a71727fe</th>\n",
       "      <td>1</td>\n",
       "      <td>prairie temporaire</td>\n",
       "      <td>Maïs</td>\n",
       "      <td>fr.inra.agrosyst.api.entities.practiced.Practi...</td>\n",
       "    </tr>\n",
       "    <tr>\n",
       "      <th>fr.inra.agrosyst.api.entities.practiced.PracticedCropCycleConnection_439cd55e-fa78-455a-9504-234279059142</th>\n",
       "      <td>2</td>\n",
       "      <td>Maïs</td>\n",
       "      <td>Maïs</td>\n",
       "      <td>fr.inra.agrosyst.api.entities.practiced.Practi...</td>\n",
       "    </tr>\n",
       "    <tr>\n",
       "      <th>fr.inra.agrosyst.api.entities.practiced.PracticedCropCycleConnection_65c9c876-9634-4542-aa00-0ed70d770650</th>\n",
       "      <td>3</td>\n",
       "      <td>Maïs</td>\n",
       "      <td>Orge d'hiver</td>\n",
       "      <td>fr.inra.agrosyst.api.entities.practiced.Practi...</td>\n",
       "    </tr>\n",
       "    <tr>\n",
       "      <th>fr.inra.agrosyst.api.entities.practiced.PracticedCropCycleConnection_fc6dff67-16ea-4cdf-ab0f-4b5ade4d49e4</th>\n",
       "      <td>3</td>\n",
       "      <td>Maïs</td>\n",
       "      <td>Triticale</td>\n",
       "      <td>fr.inra.agrosyst.api.entities.practiced.Practi...</td>\n",
       "    </tr>\n",
       "    <tr>\n",
       "      <th>fr.inra.agrosyst.api.entities.practiced.PracticedCropCycleConnection_9e756084-e6e0-42f1-a007-9b2e7c625555</th>\n",
       "      <td>0</td>\n",
       "      <td>Triticale</td>\n",
       "      <td>prairie temporaire</td>\n",
       "      <td>fr.inra.agrosyst.api.entities.practiced.Practi...</td>\n",
       "    </tr>\n",
       "    <tr>\n",
       "      <th>fr.inra.agrosyst.api.entities.practiced.PracticedCropCycleConnection_4fc23bd1-5986-4abb-8968-0f485b8175e0</th>\n",
       "      <td>0</td>\n",
       "      <td>Orge d'hiver</td>\n",
       "      <td>prairie temporaire</td>\n",
       "      <td>fr.inra.agrosyst.api.entities.practiced.Practi...</td>\n",
       "    </tr>\n",
       "    <tr>\n",
       "      <th>fr.inra.agrosyst.api.entities.practiced.PracticedCropCycleConnection_cffd990a-b401-46d8-b338-28ad52c749ea</th>\n",
       "      <td>1</td>\n",
       "      <td>permanent grassland</td>\n",
       "      <td>permanent grassland</td>\n",
       "      <td>fr.inra.agrosyst.api.entities.practiced.Practi...</td>\n",
       "    </tr>\n",
       "    <tr>\n",
       "      <th>fr.inra.agrosyst.api.entities.practiced.PracticedCropCycleConnection_aaef3477-1e6b-4226-ba44-56006336166a</th>\n",
       "      <td>0</td>\n",
       "      <td>permanent grassland</td>\n",
       "      <td>permanent grassland</td>\n",
       "      <td>fr.inra.agrosyst.api.entities.practiced.Practi...</td>\n",
       "    </tr>\n",
       "  </tbody>\n",
       "</table>\n",
       "</div>"
      ],
      "text/plain": [
       "                                                    rang   nom_culture_source  \\\n",
       "id                                                                              \n",
       "fr.inra.agrosyst.api.entities.practiced.Practic...     1   prairie temporaire   \n",
       "fr.inra.agrosyst.api.entities.practiced.Practic...     2                 Maïs   \n",
       "fr.inra.agrosyst.api.entities.practiced.Practic...     3                 Maïs   \n",
       "fr.inra.agrosyst.api.entities.practiced.Practic...     3                 Maïs   \n",
       "fr.inra.agrosyst.api.entities.practiced.Practic...     0            Triticale   \n",
       "fr.inra.agrosyst.api.entities.practiced.Practic...     0         Orge d'hiver   \n",
       "fr.inra.agrosyst.api.entities.practiced.Practic...     1  permanent grassland   \n",
       "fr.inra.agrosyst.api.entities.practiced.Practic...     0  permanent grassland   \n",
       "\n",
       "                                                      nom_culture_cible  \\\n",
       "id                                                                        \n",
       "fr.inra.agrosyst.api.entities.practiced.Practic...                 Maïs   \n",
       "fr.inra.agrosyst.api.entities.practiced.Practic...                 Maïs   \n",
       "fr.inra.agrosyst.api.entities.practiced.Practic...         Orge d'hiver   \n",
       "fr.inra.agrosyst.api.entities.practiced.Practic...            Triticale   \n",
       "fr.inra.agrosyst.api.entities.practiced.Practic...   prairie temporaire   \n",
       "fr.inra.agrosyst.api.entities.practiced.Practic...   prairie temporaire   \n",
       "fr.inra.agrosyst.api.entities.practiced.Practic...  permanent grassland   \n",
       "fr.inra.agrosyst.api.entities.practiced.Practic...  permanent grassland   \n",
       "\n",
       "                                                                                        synthetise_id  \n",
       "id                                                                                                     \n",
       "fr.inra.agrosyst.api.entities.practiced.Practic...  fr.inra.agrosyst.api.entities.practiced.Practi...  \n",
       "fr.inra.agrosyst.api.entities.practiced.Practic...  fr.inra.agrosyst.api.entities.practiced.Practi...  \n",
       "fr.inra.agrosyst.api.entities.practiced.Practic...  fr.inra.agrosyst.api.entities.practiced.Practi...  \n",
       "fr.inra.agrosyst.api.entities.practiced.Practic...  fr.inra.agrosyst.api.entities.practiced.Practi...  \n",
       "fr.inra.agrosyst.api.entities.practiced.Practic...  fr.inra.agrosyst.api.entities.practiced.Practi...  \n",
       "fr.inra.agrosyst.api.entities.practiced.Practic...  fr.inra.agrosyst.api.entities.practiced.Practi...  \n",
       "fr.inra.agrosyst.api.entities.practiced.Practic...  fr.inra.agrosyst.api.entities.practiced.Practi...  \n",
       "fr.inra.agrosyst.api.entities.practiced.Practic...  fr.inra.agrosyst.api.entities.practiced.Practi...  "
      ]
     },
     "execution_count": 74,
     "metadata": {},
     "output_type": "execute_result"
    }
   ],
   "source": [
    "merge[['rang', 'nom_culture_source', 'nom_culture_cible', 'synthetise_id']]"
   ]
  },
  {
   "cell_type": "code",
   "execution_count": null,
   "metadata": {},
   "outputs": [],
   "source": [
    "path=''\n",
    "df['connection_synthetise_test'].to_csv(path+'connection_synthetise'+'.csv')\n",
    "df['noeuds_synthetise_test'].to_csv(path+'noeuds_synthetise'+'.csv')\n"
   ]
  }
 ],
 "metadata": {
  "kernelspec": {
   "display_name": "catalogue_script_agrosyst",
   "language": "python",
   "name": "python3"
  },
  "language_info": {
   "codemirror_mode": {
    "name": "ipython",
    "version": 3
   },
   "file_extension": ".py",
   "mimetype": "text/x-python",
   "name": "python",
   "nbconvert_exporter": "python",
   "pygments_lexer": "ipython3",
   "version": "3.12.9"
  }
 },
 "nbformat": 4,
 "nbformat_minor": 2
}
