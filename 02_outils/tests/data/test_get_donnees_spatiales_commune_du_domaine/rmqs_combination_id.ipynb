{
 "cells": [
  {
   "cell_type": "code",
   "execution_count": 1,
   "metadata": {},
   "outputs": [],
   "source": [
    "import pandas as pd\n",
    "import numpy as np\n",
    "import geopandas as gpd\n",
    "from collections import OrderedDict\n",
    "import json"
   ]
  },
  {
   "cell_type": "code",
   "execution_count": 2,
   "metadata": {},
   "outputs": [],
   "source": [
    "path_rmqs = '/home/administrateur/Bureau/Datagrosyst/data_entrepot_&_outils/referentiels/'\n",
    "\n",
    "rmqs1 = pd.read_csv(path_rmqs + 'Raw_data_rmqs_1.csv')[['id_site','y_theo','x_theo','sampling_date']]\n",
    "rmqs2 = pd.read_csv(path_rmqs + 'Raw_data_rmqs_2.csv')[['id_site','y_theo','x_theo','sampling_date']]\n",
    "\n",
    "rmqs = pd.concat([rmqs1,rmqs2])\n",
    "del(rmqs1, rmqs2)\n",
    "\n",
    "\n",
    "def get_unique_txt(series):\n",
    "    if len(series.dropna().unique()) == 0:\n",
    "        return np.nan\n",
    "    elif len(series.dropna().unique()) == 1:\n",
    "        return series.dropna().unique().item()\n",
    "    elif len(series.dropna().unique()) > 1:\n",
    "        return list(series.dropna().unique())\n",
    "\n",
    "agg_dict = {\n",
    "    'y_theo' : get_unique_txt,\n",
    "    'x_theo' : get_unique_txt,\n",
    "    'sampling_date' : get_unique_txt\n",
    "}\n",
    "\n",
    "rmqs_end = rmqs.groupby('id_site').agg(agg_dict).reset_index()\n",
    "rmqs_end = rmqs_end.rename(columns={'x_theo' : 'longitude',\n",
    "                                    'y_theo' : 'latitude'})\n",
    "\n",
    "rmqs_end.to_csv(path_rmqs + 'rmqs_site_id.csv', index=False)"
   ]
  },
  {
   "cell_type": "code",
   "execution_count": null,
   "metadata": {},
   "outputs": [
    {
     "name": "stdout",
     "output_type": "stream",
     "text": [
      "EPSG:2154\n"
     ]
    }
   ],
   "source": [
    "li = []\n",
    "for idx, row in rmqs_end.iterrows():\n",
    "    d = OrderedDict()\n",
    "    d['type'] = 'Feature'\n",
    "    d['geometry'] = {\n",
    "        'type': 'Point',\n",
    "        'coordinates': [row['longitude'], row['latitude']]\n",
    "    }\n",
    "    d['properties'] = {\n",
    "        'id_site' : row['id_site'],\n",
    "        'sampling_date' : row['sampling_date']\n",
    "    }\n",
    "    li.append(d)\n",
    "\n",
    "d = OrderedDict()\n",
    "d['type'] = 'FeatureCollection'\n",
    "d['features'] = li\n",
    "\n",
    "with open(path_rmqs + 'rmqs_site_id.json','w') as f:\n",
    "    json.dump(d,f,indent=2)\n",
    "\n",
    "rmqs = gpd.read_file(path_rmqs + 'rmqs_site_id' + '.json').set_crs(2154, allow_override=True)\n",
    "rmqs = rmqs.to_crs(4326)\n",
    "\n",
    "with open(path_rmqs + 'rmqs_site_id.json','w') as f:\n",
    "    f.write(rmqs.to_json())"
   ]
  },
  {
   "cell_type": "code",
   "execution_count": null,
   "metadata": {},
   "outputs": [],
   "source": [
    "path_geoVec = '/home/administrateur/Bureau/Datagrosyst/data_entrepot_&_outils/referentiels/geospatial_data/'\n",
    "\n",
    "# Attention on passe en projection. On reviendra en 4326 après le sjoin_nearest\n",
    "com = gpd.read_file(path_geoVec + 'geoVec_com2024' + '.json').to_crs(3857)\n",
    "metrocom = com[~(com['dep'].str.match(r'97+') | com['dep'].str.match(r'98+'))]\n",
    "metrocom = metrocom[['codgeo','geometry']].rename(columns={'codgeo': 'codeinsee'})\n",
    "metrocom = metrocom.assign(centroid = metrocom.centroid)\n",
    "\n",
    "com_rmqs = gpd.sjoin_nearest(metrocom, rmqs, distance_col=\"distances\", how='left')[['codeinsee','id_site','sampling_date','distances']].set_index('codeinsee')\n",
    "com_rmqs['distances'] = round(com_rmqs['distances']/1000, 1)\n",
    "com_rmqs = com_rmqs.rename(columns={\n",
    "    'id_site' : 'rmqs_site_id',\n",
    "    'sampling_date' : 'rmqs_date_sampl',\n",
    "    'distances' : 'rmqs_dist_site'\n",
    "})\n",
    "\n",
    "# rmqs_site_id = identifiant du site RMS le plus proche du centroide de la commune métropolitaine\n",
    "# rmqs_date_sampl = date d'échantillonnage sur le site RMQS en question (attention 2 campagnes distinctes)\n",
    "# rmqs_dist_site = distances entre le centroide de la commune métropolitaine la plus proche du site RMQS indiqué et le point du site RMQS indiqué"
   ]
  }
 ],
 "metadata": {
  "kernelspec": {
   "display_name": "catalogue_script_agrosyst",
   "language": "python",
   "name": "python3"
  },
  "language_info": {
   "codemirror_mode": {
    "name": "ipython",
    "version": 3
   },
   "file_extension": ".py",
   "mimetype": "text/x-python",
   "name": "python",
   "nbconvert_exporter": "python",
   "pygments_lexer": "ipython3",
   "version": "3.11.5"
  }
 },
 "nbformat": 4,
 "nbformat_minor": 2
}
