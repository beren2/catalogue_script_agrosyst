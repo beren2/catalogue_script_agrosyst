{
 "cells": [
  {
   "cell_type": "code",
   "execution_count": 1,
   "metadata": {},
   "outputs": [],
   "source": [
    "import pandas as pd\n",
    "import numpy as np"
   ]
  },
  {
   "cell_type": "code",
   "execution_count": 2,
   "metadata": {},
   "outputs": [],
   "source": [
    "# path = '/home/administrateur/Bureau/Datagrosyst/data_entrepot_&_outils/referentiels/geospatial_data/insee/'\n",
    "path = '~/Bureau/Datagrosyst/data_entrepot_&_outils/'\n",
    "\n",
    "dom = pd.read_csv(path + 'domaine.csv', sep=',', low_memory=False)\n",
    "com = pd.read_csv(path + 'commune.csv', sep=',', low_memory=False)\n",
    "gps = pd.read_csv(path + 'coordonnees_gps_domaine.csv', sep=',', low_memory=False)\n",
    "\n",
    "dom_subset = pd.concat([\n",
    "    dom.sample(8),\n",
    "    dom.loc[dom['departement'] == '974'].sample(1), # Outre mer doit pas apparaitre\n",
    "    dom.loc[dom['commune'] == '01025 - Bâgé-Dommartin'].sample(1) # Une fusion en 2018\n",
    "])\n",
    "\n",
    "com_subset = com.loc[com['id'].isin(dom_subset['commune_id'])]\n",
    "\n",
    "del(com, dom)"
   ]
  },
  {
   "cell_type": "code",
   "execution_count": 3,
   "metadata": {},
   "outputs": [],
   "source": [
    "gps_subset = gps.sample(10)\n",
    "\n",
    "del(gps)"
   ]
  },
  {
   "cell_type": "code",
   "execution_count": 4,
   "metadata": {},
   "outputs": [],
   "source": [
    "path_domcom = '~/Bureau/Datagrosyst/catalogue_script_agrosyst/02_outils/tests/data/test_get_donnees_spatiales_commune_du_domaine/'\n",
    "path_gps = '~/Bureau/Datagrosyst/catalogue_script_agrosyst/02_outils/tests/data/test_get_donnees_spatiales_coord_gps_du_domaine/'\n",
    "\n",
    "# com_subset.to_csv(path_domcom + 'commune' + '.csv', index = False)\n",
    "# dom_subset.to_csv(path_domcom + 'domaine' + '.csv', index = False)\n",
    "gps_subset.to_csv(path_gps + 'coordonnees_gps_domaine' + '.csv', index = False)"
   ]
  }
 ],
 "metadata": {
  "kernelspec": {
   "display_name": "catalogue_script_agrosyst",
   "language": "python",
   "name": "python3"
  },
  "language_info": {
   "codemirror_mode": {
    "name": "ipython",
    "version": 3
   },
   "file_extension": ".py",
   "mimetype": "text/x-python",
   "name": "python",
   "nbconvert_exporter": "python",
   "pygments_lexer": "ipython3",
   "version": "3.11.5"
  }
 },
 "nbformat": 4,
 "nbformat_minor": 2
}
