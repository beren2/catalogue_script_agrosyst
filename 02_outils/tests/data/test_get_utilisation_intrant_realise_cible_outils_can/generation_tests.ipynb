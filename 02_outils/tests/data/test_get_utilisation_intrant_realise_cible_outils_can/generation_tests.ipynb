{
 "cells": [
  {
   "cell_type": "code",
   "execution_count": 13,
   "metadata": {},
   "outputs": [],
   "source": [
    "import pandas as pd\n",
    "from tqdm import tqdm\n",
    "from itables import show as table_show"
   ]
  },
  {
   "cell_type": "code",
   "execution_count": 35,
   "metadata": {},
   "outputs": [
    {
     "data": {
      "text/plain": [
       "182.5"
      ]
     },
     "execution_count": 35,
     "metadata": {},
     "output_type": "execute_result"
    }
   ],
   "source": [
    "50*3.65"
   ]
  },
  {
   "cell_type": "code",
   "execution_count": 14,
   "metadata": {},
   "outputs": [],
   "source": [
    "ENTREPOT_PATH = '~/Bureau/utils/data/'\n",
    "METEO_PATH = '~/Bureau/utils/data/meteo/'\n",
    "SPATIAL_PATH = './data/spatial/'"
   ]
  },
  {
   "cell_type": "code",
   "execution_count": 15,
   "metadata": {},
   "outputs": [
    {
     "name": "stderr",
     "output_type": "stream",
     "text": [
      "/tmp/ipykernel_146956/3656840238.py:4: DtypeWarning: Columns (22,23,24,25,39,40) have mixed types. Specify dtype option on import or set low_memory=False.\n",
      "  df_can = pd.read_csv(directory+file, sep='@')\n"
     ]
    }
   ],
   "source": [
    "# obtention des donnnées de la CAN :\n",
    "directory = '~/Bureau/Exports/20240513/non_anonyme/'\n",
    "file = 'AGS_20240513_exports_agronomes_usage_intrants_realises.csv'\n",
    "df_can = pd.read_csv(directory+file, sep='@')"
   ]
  },
  {
   "cell_type": "code",
   "execution_count": 25,
   "metadata": {},
   "outputs": [],
   "source": [
    "studied_ids = [\n",
    "    'fr.inra.agrosyst.api.entities.effective.EffectiveIntervention_a228ed7d-feb1-49d8-8411-af643253e2b3',\n",
    "    'fr.inra.agrosyst.api.entities.effective.EffectiveIntervention_0c2194c2-7a4d-4daf-a50f-32d5a7154873',\n",
    "    'fr.inra.agrosyst.api.entities.effective.EffectiveIntervention_c5a4110b-45b8-42f9-9757-9f4493313f05',\n",
    "    'fr.inra.agrosyst.api.entities.effective.EffectiveIntervention_bc5b13dd-7aa9-4e1a-b6f4-dbbda7a89adf',\n",
    "    'fr.inra.agrosyst.api.entities.effective.EffectiveIntervention_0c0a5893-a990-4ba5-a7a9-0e262a19c854',\n",
    "    'fr.inra.agrosyst.api.entities.effective.EffectiveIntervention_4b4b4179-1bbc-4f47-9068-0b746f54122b',\n",
    "    'fr.inra.agrosyst.api.entities.effective.EffectiveIntervention_82e3df57-f0b5-4b4c-9595-9c3af5ab64a8',\n",
    "    'fr.inra.agrosyst.api.entities.effective.EffectiveIntervention_63fb3fd8-729a-4e2f-a9c3-7c5d2ffbbb9a',\n",
    "    'fr.inra.agrosyst.api.entities.effective.EffectiveIntervention_d3cd85c9-9c53-42bd-a68f-72ff2ef2cc3d',\n",
    "    'fr.inra.agrosyst.api.entities.effective.EffectiveIntervention_a1b7460b-d522-45d7-9928-f42be3964c6d'\n",
    "]"
   ]
  },
  {
   "cell_type": "code",
   "execution_count": 64,
   "metadata": {},
   "outputs": [
    {
     "name": "stderr",
     "output_type": "stream",
     "text": [
      "100%|██████████| 11/11 [00:14<00:00,  1.36s/it]\n"
     ]
    }
   ],
   "source": [
    "donnees = {}\n",
    "\n",
    "def import_df(df_name, path_data, sep, index_col=None):\n",
    "    donnees[df_name] = pd.read_csv(path_data+df_name+'.csv', sep = sep, index_col=index_col, low_memory=False)\n",
    "\n",
    "def import_dfs(df_names, path_data, sep = ',', index_col=None, verbose=False):\n",
    "    for df_name in tqdm(df_names) : \n",
    "        if(verbose) :\n",
    "            print(\" - \", df_name)\n",
    "        import_df(df_name, path_data, sep, index_col=index_col)\n",
    "\n",
    "tables_entrepot = [\n",
    "    ''\n",
    "]\n",
    "\n",
    "tables_performance = [\n",
    "]\n",
    "\n",
    "# import des données de l'entrepôt avec la colonne 'id' en index \n",
    "import_dfs(tables_entrepot, ENTREPOT_PATH, sep = ',',index_col='id', verbose=False)"
   ]
  },
  {
   "cell_type": "code",
   "execution_count": 65,
   "metadata": {},
   "outputs": [],
   "source": [
    "studied_ids = [\n",
    "    'fr.inra.agrosyst.api.entities.practiced.PracticedIntervention_b29be8ca-b760-46ea-9d63-2a78ddbd8233', \n",
    "    'fr.inra.agrosyst.api.entities.practiced.PracticedIntervention_f6a5eb34-66be-4c6a-a005-fba158c058b3', \n",
    "    'fr.inra.agrosyst.api.entities.practiced.PracticedIntervention_ef2316bd-b80d-45aa-921b-21af6d56ecba', \n",
    "    'fr.inra.agrosyst.api.entities.practiced.PracticedIntervention_5e3f0abb-4a03-4da0-a26c-d73bdecfcb74', \n",
    "    'fr.inra.agrosyst.api.entities.practiced.PracticedIntervention_cd159e5c-e76f-4efb-9380-b53dccd5444c', \n",
    "    'fr.inra.agrosyst.api.entities.practiced.PracticedIntervention_a24ca460-d863-40f9-bab6-24817300384e', \n",
    "    'fr.inra.agrosyst.api.entities.practiced.PracticedIntervention_64a496f9-3d67-4532-847a-0d38a1f5c794', \n",
    "    'fr.inra.agrosyst.api.entities.practiced.PracticedIntervention_7ad44155-633e-4521-bfcb-7bf482128e3c', \n",
    "    'fr.inra.agrosyst.api.entities.practiced.PracticedIntervention_2efe5e73-195f-4b2b-9078-3b66202a8396', \n",
    "    'fr.inra.agrosyst.api.entities.practiced.PracticedIntervention_c2f8dad3-845a-4185-bf71-a35384930a43'\n",
    "]"
   ]
  },
  {
   "cell_type": "code",
   "execution_count": 66,
   "metadata": {},
   "outputs": [],
   "source": [
    "left = donnees['noeuds_synthetise']\n",
    "right = donnees['noeuds_synthetise_restructure']\n",
    "donnees['noeuds_synthetise'] = pd.merge(left, right, left_index=True, right_index=True, how='left')\n",
    "\n",
    "\n",
    "left = donnees['connection_synthetise']\n",
    "right = donnees['connection_synthetise_restructure']\n",
    "donnees['connection_synthetise'] = pd.merge(left, right, left_index=True, right_index=True, how='left')"
   ]
  },
  {
   "cell_type": "code",
   "execution_count": 67,
   "metadata": {},
   "outputs": [],
   "source": [
    "donnees['intervention_synthetise_test'] = donnees['intervention_synthetise'].loc[\n",
    "    donnees['intervention_synthetise'].index.isin(studied_ids)\n",
    "]\n",
    "\n",
    "donnees['action_synthetise_test'] = donnees['action_synthetise'].loc[\n",
    "    donnees['action_synthetise']['intervention_synthetise_id'].isin(donnees['intervention_synthetise_test'].index)\n",
    "]\n",
    "donnees['connection_synthetise_test'] = donnees['connection_synthetise'].loc[\n",
    "    (donnees['connection_synthetise'].index.isin(list(donnees['intervention_synthetise_test']['connection_synthetise_id'])))\n",
    "]\n",
    "donnees['composant_action_semis_test'] = donnees['composant_action_semis'].loc[\n",
    "    donnees['composant_action_semis']['action_id'].isin(donnees['action_synthetise_test'].index)\n",
    "]\n",
    "\n",
    "donnees['noeuds_synthetise_test'] = donnees['noeuds_synthetise'].loc[\n",
    "    (donnees['noeuds_synthetise'].index.isin(list(donnees['connection_synthetise_test']['source_noeuds_synthetise_id']))) |\n",
    "    (donnees['noeuds_synthetise'].index.isin(list(donnees['connection_synthetise_test']['cible_noeuds_synthetise_id'])))\n",
    "]\n",
    "\n",
    "donnees['composant_culture_test'] = donnees['composant_culture'].loc[\n",
    "    donnees['composant_culture']['culture_id'].isin(donnees['noeuds_synthetise_test']['culture_id']) |\n",
    "    donnees['composant_culture']['culture_id'].isin(donnees['connection_synthetise_test']['culture_intermediaire_id'])\n",
    "]\n",
    "\n",
    "donnees['espece_test'] = donnees['espece'].loc[\n",
    "    donnees['espece'].index.isin(donnees['composant_culture_test']['espece_id'])\n",
    "]\n",
    "donnees['semence_test']= donnees['semence'].loc[\n",
    "    donnees['semence']['espece_id'].isin(donnees['composant_culture_test'].index)\n",
    "]\n",
    "\n",
    "donnees['utilisation_intrant_synthetise_test'] = donnees['utilisation_intrant_synthetise'].loc[\n",
    "    donnees['utilisation_intrant_synthetise']['intervention_synthetise_id'].isin(donnees['intervention_synthetise_test'].index)\n",
    "]"
   ]
  },
  {
   "cell_type": "code",
   "execution_count": 68,
   "metadata": {},
   "outputs": [],
   "source": [
    "\n",
    "path='./'\n",
    "donnees['semence_test'].to_csv(path+'semence'+'.csv')\n",
    "donnees['composant_culture_test'].to_csv(path+'composant_culture'+'.csv')\n",
    "donnees['espece_test'].to_csv(path+'espece'+'.csv')\n",
    "donnees['utilisation_intrant_synthetise_test'].to_csv(path+'utilisation_intrant_synthetise'+'.csv')"
   ]
  },
  {
   "cell_type": "code",
   "execution_count": 69,
   "metadata": {},
   "outputs": [
    {
     "data": {
      "text/plain": [
       "nom                                                                  Semis CIPAN et céréales\n",
       "type                                                                                   SEMIS\n",
       "commentaire                                                                              NaN\n",
       "rang                                                                                       1\n",
       "date_debut                                                                             20/08\n",
       "date_fin                                                                               20/08\n",
       "freq_spatiale                                                                            1.0\n",
       "freq_temporelle                                                                          1.0\n",
       "psci_intervention                                                                        1.0\n",
       "debit_de_chantier                                                                        1.8\n",
       "debit_de_chantier_unite                                                                 HA_H\n",
       "vitesse_avancement                                                                       NaN\n",
       "nb_personne_mobili                                                                       NaN\n",
       "concerne_ci                                                                                t\n",
       "connection_synthetise_id                   fr.inra.agrosyst.api.entities.practiced.Practi...\n",
       "plantation_perenne_phases_synthetise_id                                                  NaN\n",
       "combinaison_outil_code                                  34968608-9ef1-4d51-9028-b24388c40a5d\n",
       "Name: fr.inra.agrosyst.api.entities.practiced.PracticedIntervention_64a496f9-3d67-4532-847a-0d38a1f5c794, dtype: object"
      ]
     },
     "execution_count": 69,
     "metadata": {},
     "output_type": "execute_result"
    }
   ],
   "source": [
    "donnees['intervention_synthetise_test'].loc['fr.inra.agrosyst.api.entities.practiced.PracticedIntervention_64a496f9-3d67-4532-847a-0d38a1f5c794']"
   ]
  }
 ],
 "metadata": {
  "kernelspec": {
   "display_name": "Python 3",
   "language": "python",
   "name": "python3"
  },
  "language_info": {
   "codemirror_mode": {
    "name": "ipython",
    "version": 3
   },
   "file_extension": ".py",
   "mimetype": "text/x-python",
   "name": "python",
   "nbconvert_exporter": "python",
   "pygments_lexer": "ipython3",
   "version": "3.9.19"
  }
 },
 "nbformat": 4,
 "nbformat_minor": 2
}
