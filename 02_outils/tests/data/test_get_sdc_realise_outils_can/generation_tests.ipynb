{
 "cells": [
  {
   "cell_type": "code",
   "execution_count": 1,
   "metadata": {},
   "outputs": [],
   "source": [
    "import pandas as pd\n",
    "from tqdm import tqdm\n",
    "from itables import show as table_show"
   ]
  },
  {
   "cell_type": "code",
   "execution_count": 2,
   "metadata": {},
   "outputs": [],
   "source": [
    "ENTREPOT_PATH = 'C:/Users/lubaude/Desktop/utils/data/'\n",
    "METEO_PATH = '~/Bureau/utils/data/meteo/'\n",
    "SPATIAL_PATH = './data/spatial/'"
   ]
  },
  {
   "cell_type": "code",
   "execution_count": 4,
   "metadata": {},
   "outputs": [],
   "source": [
    "#obtention des donnnées de la CAN :\n",
    "directory = '~/Bureau/Exports/20240524/non_anonyme/'\n",
    "file = 'AGS_20240524_exports_performance_realise_echelle_sdc.csv'\n",
    "df_can = pd.read_csv(directory+file, sep='@')"
   ]
  },
  {
   "cell_type": "code",
   "execution_count": 5,
   "metadata": {},
   "outputs": [
    {
     "data": {
      "text/plain": [
       "Index(['performance_id', 'date_calcul', 'domaine_nom', 'domaine_id',\n",
       "       'domaine_campagne', 'domaine_type', 'departement', 'dispositif_id',\n",
       "       'dispositif_type', 'nom_reseau_it', 'nom_reseau_ir', 'sdc_filiere',\n",
       "       'sdc_nom', 'sdc_id', 'sdc_code_dephy', 'sdc_type_agriculture',\n",
       "       'sdc_valide', 'especes', 'varietes', 'approche_de_calcul',\n",
       "       'ift_histo_chimique_tot', 'ift_histo_chim_tot_hts', 'ift_histo_h',\n",
       "       'ift_histo_f', 'ift_histo_i', 'ift_histo_ts', 'ift_histo_a',\n",
       "       'ift_histo_hh', 'ift_histo_biocontrole', 'ift_histo_rec_moy_bio',\n",
       "       'ift_histo_tx_comp', 'ift_histo_chmps_non_rens',\n",
       "       'ift_cible_non_mil_chimique_tot', 'ift_cible_non_mil_chim_tot_hts',\n",
       "       'ift_cible_non_mil_h', 'ift_cible_non_mil_f', 'ift_cible_non_mil_i',\n",
       "       'ift_cible_non_mil_ts', 'ift_cible_non_mil_a', 'ift_cible_non_mil_hh',\n",
       "       'ift_cible_non_mil_biocontrole', 'ift_cible_non_mil_rec_moy_bio',\n",
       "       'ift_cible_non_mil_tx_comp', 'ift_cible_non_mil_chmps_non_rens',\n",
       "       'ift_cible_mil_chimique_tot', 'ift_cible_mil_chim_tot_hts',\n",
       "       'ift_cible_mil_h', 'ift_cible_mil_f', 'ift_cible_mil_i',\n",
       "       'ift_cible_mil_ts'],\n",
       "      dtype='object')"
      ]
     },
     "execution_count": 5,
     "metadata": {},
     "output_type": "execute_result"
    }
   ],
   "source": [
    "df_can.columns[0:50]"
   ]
  },
  {
   "cell_type": "code",
   "execution_count": 6,
   "metadata": {},
   "outputs": [],
   "source": [
    "df_studied = df_can.sample(10)"
   ]
  },
  {
   "cell_type": "code",
   "execution_count": 9,
   "metadata": {},
   "outputs": [
    {
     "data": {
      "text/plain": [
       "array([[\"Avoine, Blé tendre, Fétuque élevée, Maïs, Moutarde noire, Pomme de terre, Prairie, Ray-grass anglais, Ray-grass d'Italie, Ray-grass hybride, Trèfle blanc\"],\n",
       "       ['Avoine, Blé tendre, Espèces diverses, Fèverole, Haricot, Luzerne, Maïs, Orge, Prairie, Sarrasin, Soja, Tournesol'],\n",
       "       ['Vigne'],\n",
       "       ['Vigne'],\n",
       "       ['Vigne'],\n",
       "       ['Avoine, Betterave, Blé tendre, Colza, Lin, Moutarde blanche, Orge, Pois, Prairie'],\n",
       "       [\"Autres Potagères, Avoine, Blé tendre, Fèverole, Luzerne, Maïs, Orge, Prairie, Soja, Tournesol, Triticale, Trèfle d'Alexandrie, Vesce commune\"],\n",
       "       ['Blé tendre, Colza'],\n",
       "       ['Avoine, Blé tendre, Maïs, Phacélie, Prairie, Ray-grass anglais, Triticale, Trèfle blanc'],\n",
       "       ['Pêcher']], dtype=object)"
      ]
     },
     "execution_count": 9,
     "metadata": {},
     "output_type": "execute_result"
    }
   ],
   "source": [
    "df_studied[['especes']].values"
   ]
  },
  {
   "cell_type": "code",
   "execution_count": 10,
   "metadata": {},
   "outputs": [
    {
     "data": {
      "text/html": [
       "<table id=\"itables_633be3a0_8f05_4972_8ec7_a029f2869b63\" class=\"display nowrap\" data-quarto-disable-processing=\"true\" style=\"table-layout:auto;width:auto;margin:auto;caption-side:bottom\">\n",
       "<thead>\n",
       "    <tr style=\"text-align: right;\">\n",
       "      \n",
       "      <th>sdc_id</th>\n",
       "      <th>variable</th>\n",
       "      <th>value</th>\n",
       "    </tr>\n",
       "  </thead><tbody><tr>\n",
       "<td style=\"vertical-align:middle; text-align:left\">\n",
       "<div style=\"float:left; margin-right: 10px;\">\n",
       "<a href=https://mwouts.github.io/itables/><svg class=\"main-svg\" xmlns=\"http://www.w3.org/2000/svg\" xmlns:xlink=\"http://www.w3.org/1999/xlink\"\n",
       "width=\"64\" viewBox=\"0 0 500 400\" style=\"font-family: 'Droid Sans', sans-serif;\">\n",
       "    <g style=\"fill:#d9d7fc\">\n",
       "        <path d=\"M100,400H500V357H100Z\" />\n",
       "        <path d=\"M100,300H400V257H100Z\" />\n",
       "        <path d=\"M0,200H400V157H0Z\" />\n",
       "        <path d=\"M100,100H500V57H100Z\" />\n",
       "        <path d=\"M100,350H500V307H100Z\" />\n",
       "        <path d=\"M100,250H400V207H100Z\" />\n",
       "        <path d=\"M0,150H400V107H0Z\" />\n",
       "        <path d=\"M100,50H500V7H100Z\" />\n",
       "    </g>\n",
       "    <g style=\"fill:#1a1366;stroke:#1a1366;\">\n",
       "   <rect x=\"100\" y=\"7\" width=\"400\" height=\"43\">\n",
       "    <animate\n",
       "      attributeName=\"width\"\n",
       "      values=\"0;400;0\"\n",
       "      dur=\"5s\"\n",
       "      repeatCount=\"indefinite\" />\n",
       "      <animate\n",
       "      attributeName=\"x\"\n",
       "      values=\"100;100;500\"\n",
       "      dur=\"5s\"\n",
       "      repeatCount=\"indefinite\" />\n",
       "  </rect>\n",
       "        <rect x=\"0\" y=\"107\" width=\"400\" height=\"43\">\n",
       "    <animate\n",
       "      attributeName=\"width\"\n",
       "      values=\"0;400;0\"\n",
       "      dur=\"3.5s\"\n",
       "      repeatCount=\"indefinite\" />\n",
       "    <animate\n",
       "      attributeName=\"x\"\n",
       "      values=\"0;0;400\"\n",
       "      dur=\"3.5s\"\n",
       "      repeatCount=\"indefinite\" />\n",
       "  </rect>\n",
       "        <rect x=\"100\" y=\"207\" width=\"300\" height=\"43\">\n",
       "    <animate\n",
       "      attributeName=\"width\"\n",
       "      values=\"0;300;0\"\n",
       "      dur=\"3s\"\n",
       "      repeatCount=\"indefinite\" />\n",
       "    <animate\n",
       "      attributeName=\"x\"\n",
       "      values=\"100;100;400\"\n",
       "      dur=\"3s\"\n",
       "      repeatCount=\"indefinite\" />\n",
       "  </rect>\n",
       "        <rect x=\"100\" y=\"307\" width=\"400\" height=\"43\">\n",
       "    <animate\n",
       "      attributeName=\"width\"\n",
       "      values=\"0;400;0\"\n",
       "      dur=\"4s\"\n",
       "      repeatCount=\"indefinite\" />\n",
       "      <animate\n",
       "      attributeName=\"x\"\n",
       "      values=\"100;100;500\"\n",
       "      dur=\"4s\"\n",
       "      repeatCount=\"indefinite\" />\n",
       "  </rect>\n",
       "        <g style=\"fill:transparent;stroke-width:8; stroke-linejoin:round\" rx=\"5\">\n",
       "            <g transform=\"translate(45 50) rotate(-45)\">\n",
       "                <circle r=\"33\" cx=\"0\" cy=\"0\" />\n",
       "                <rect x=\"-8\" y=\"32\" width=\"16\" height=\"30\" />\n",
       "            </g>\n",
       "\n",
       "            <g transform=\"translate(450 152)\">\n",
       "                <polyline points=\"-15,-20 -35,-20 -35,40 25,40 25,20\" />\n",
       "                <rect x=\"-15\" y=\"-40\" width=\"60\" height=\"60\" />\n",
       "            </g>\n",
       "\n",
       "            <g transform=\"translate(50 352)\">\n",
       "                <polygon points=\"-35,-5 0,-40 35,-5\" />\n",
       "                <polygon points=\"-35,10 0,45 35,10\" />\n",
       "            </g>\n",
       "\n",
       "            <g transform=\"translate(75 250)\">\n",
       "                <polyline points=\"-30,30 -60,0 -30,-30\" />\n",
       "                <polyline points=\"0,30 -30,0 0,-30\" />\n",
       "            </g>\n",
       "\n",
       "            <g transform=\"translate(425 250) rotate(180)\">\n",
       "                <polyline points=\"-30,30 -60,0 -30,-30\" />\n",
       "                <polyline points=\"0,30 -30,0 0,-30\" />\n",
       "            </g>\n",
       "        </g>\n",
       "    </g>\n",
       "</svg>\n",
       "</a>\n",
       "</div>\n",
       "<div>\n",
       "Loading ITables v2.1.4 from the internet...\n",
       "(need <a href=https://mwouts.github.io/itables/troubleshooting.html>help</a>?)</td>\n",
       "</div>\n",
       "</tr></tbody>\n",
       "\n",
       "</table>\n",
       "<link href=\"https://www.unpkg.com/dt_for_itables@2.0.11/dt_bundle.css\" rel=\"stylesheet\">\n",
       "<script type=\"module\">\n",
       "    import {DataTable, jQuery as $} from 'https://www.unpkg.com/dt_for_itables@2.0.11/dt_bundle.js';\n",
       "\n",
       "    document.querySelectorAll(\"#itables_633be3a0_8f05_4972_8ec7_a029f2869b63:not(.dataTable)\").forEach(table => {\n",
       "        // Define the table data\n",
       "        const data = [[\"fr.inra.agrosyst.api.entities.GrowingSystem_988e137f-f864-4e56-b845-774dcf017743\", \"especes\", \"Avoine, Bl\\u00e9 tendre, F\\u00e9tuque \\u00e9lev\\u00e9e, Ma\\u00efs, Moutarde noire, Pomme de terre, Prairie, Ray-grass anglais, Ray-grass d'Italie, Ray-grass hybride, Tr\\u00e8fle blanc\"], [\"fr.inra.agrosyst.api.entities.GrowingSystem_aec1ef69-0f7f-44cb-8054-c43a5bd056ec\", \"especes\", \"Avoine, Bl\\u00e9 tendre, Esp\\u00e8ces diverses, F\\u00e8verole, Haricot, Luzerne, Ma\\u00efs, Orge, Prairie, Sarrasin, Soja, Tournesol\"], [\"fr.inra.agrosyst.api.entities.GrowingSystem_920d10f9-a370-4b9b-856e-94c775584a89\", \"especes\", \"Vigne\"], [\"fr.inra.agrosyst.api.entities.GrowingSystem_8d5038ab-b28a-4c36-b5d5-3e9fef06ec57\", \"especes\", \"Vigne\"], [\"fr.inra.agrosyst.api.entities.GrowingSystem_dd3a0e92-7193-4078-81df-62178a59a484\", \"especes\", \"Vigne\"], [\"fr.inra.agrosyst.api.entities.GrowingSystem_285ac37b-3814-4d83-be22-937d4745bcbd\", \"especes\", \"Avoine, Betterave, Bl\\u00e9 tendre, Colza, Lin, Moutarde blanche, Orge, Pois, Prairie\"], [\"fr.inra.agrosyst.api.entities.GrowingSystem_ec4aa977-7534-446c-b86c-ef0c9cdbfa86\", \"especes\", \"Autres Potag\\u00e8res, Avoine, Bl\\u00e9 tendre, F\\u00e8verole, Luzerne, Ma\\u00efs, Orge, Prairie, Soja, Tournesol, Triticale, Tr\\u00e8fle d'Alexandrie, Vesce commune\"], [\"fr.inra.agrosyst.api.entities.GrowingSystem_33229479-791b-4b64-8f85-629e24a4aa79\", \"especes\", \"Bl\\u00e9 tendre, Colza\"], [\"fr.inra.agrosyst.api.entities.GrowingSystem_788f0cc4-2611-4af8-8711-3eae12abb87a\", \"especes\", \"Avoine, Bl\\u00e9 tendre, Ma\\u00efs, Phac\\u00e9lie, Prairie, Ray-grass anglais, Triticale, Tr\\u00e8fle blanc\"], [\"fr.inra.agrosyst.api.entities.GrowingSystem_97c441aa-ccbd-464a-9420-4c634f394605\", \"especes\", \"P\\u00eacher\"]];\n",
       "\n",
       "        // Define the dt_args\n",
       "        let dt_args = {\"layout\": {\"topStart\": null, \"topEnd\": null, \"bottomStart\": null, \"bottomEnd\": null}, \"order\": []};\n",
       "        dt_args[\"data\"] = data;\n",
       "\n",
       "        \n",
       "        new DataTable(table, dt_args);\n",
       "    });\n",
       "</script>\n"
      ],
      "text/plain": [
       "<IPython.core.display.HTML object>"
      ]
     },
     "metadata": {},
     "output_type": "display_data"
    }
   ],
   "source": [
    "table_show(pd.melt(df_studied[['especes', 'sdc_id']], id_vars=['sdc_id']))"
   ]
  },
  {
   "cell_type": "code",
   "execution_count": null,
   "metadata": {},
   "outputs": [
    {
     "name": "stderr",
     "output_type": "stream",
     "text": [
      "100%|██████████| 12/12 [00:05<00:00,  2.27it/s]\n",
      "100%|██████████| 1/1 [00:00<00:00,  2.07it/s]\n"
     ]
    }
   ],
   "source": [
    "df = {}\n",
    "\n",
    "def import_df(df_name, path_data, sep, index_col=None):\n",
    "    df[df_name] = pd.read_csv(path_data+df_name+'.csv', sep = sep, index_col=index_col, low_memory=False)\n",
    "\n",
    "def import_dfs(df_names, path_data, sep = ',', index_col=None, verbose=False):\n",
    "    for df_name in tqdm(df_names) : \n",
    "        if(verbose) :\n",
    "            print(\" - \", df_name)\n",
    "        import_df(df_name, path_data, sep, index_col=index_col)\n",
    "\n",
    "# get_intervention_synthetise_outils_can_context --> intervention_synthetise\n",
    "# get_intervention_synthetise_action_outils_can --> 'intervention_synthetise', 'action_synthetise'\n",
    "# get_intervention_synthetise_combinaison_outils_can -->  'intervention_synthetise', 'intervention_synthetise_restructure', 'combinaison_outil', 'composant_parc_materiel', 'combinaison_outil_composant_parc_materiel'\n",
    "# get_intervention_synthetise_culture_outils_can --> 'intervention_synthetise', 'noeuds_synthetise', 'connection_synthetise', \n",
    "        # 'plantation_perenne_phases_synthetise', \n",
    "        # 'plantation_perenne_synthetise', 'composant_culture_concerne_intervention_synthetise', \n",
    "        # 'noeuds_synthetise_restructure', 'plantation_perenne_synthetise_restructure',\n",
    "        # 'ccc_intervention_synthetise_restructure', 'composant_culture',\n",
    "        # 'espece', 'variete', 'connection_synthetise_restructure'\n",
    "# get_intervention_synthetise_culture_prec_outils_can --> 'composant_culture', 'espece', 'variete', 'intervention_synthetise', \n",
    "        # 'noeuds_synthetise', 'connection_synthetise', 'culture', \n",
    "        # 'noeuds_synthetise_restructure'\n",
    "\n",
    "tables_entrepot = [\n",
    "    'zone', 'parcelle', 'sdc', 'domaine', 'culture', 'composant_culture', 'espece', 'variete', 'noeuds_realise', \n",
    "    'plantation_perenne_phases_realise', 'plantation_perenne_realise','connection_realise'\n",
    "]\n",
    "\n",
    "tables_performance = [\n",
    "    'sdc_realise_performance'\n",
    "]\n",
    "\n",
    "# import des données de l'entrepôt avec la colonne 'id' en index \n",
    "import_dfs(tables_entrepot, ENTREPOT_PATH, sep = ',',index_col='id',verbose=False) \n",
    "import_dfs(tables_performance, ENTREPOT_PATH, sep = ',',verbose=False) "
   ]
  },
  {
   "cell_type": "code",
   "execution_count": 4,
   "metadata": {},
   "outputs": [],
   "source": [
    "studied_ids = [\n",
    "    'fr.inra.agrosyst.api.entities.GrowingSystem_988e137f-f864-4e56-b845-774dcf017743',\n",
    "    'fr.inra.agrosyst.api.entities.GrowingSystem_aec1ef69-0f7f-44cb-8054-c43a5bd056ec',\n",
    "    'fr.inra.agrosyst.api.entities.GrowingSystem_920d10f9-a370-4b9b-856e-94c775584a89',\n",
    "    'fr.inra.agrosyst.api.entities.GrowingSystem_8d5038ab-b28a-4c36-b5d5-3e9fef06ec57'\n",
    "]"
   ]
  },
  {
   "cell_type": "code",
   "execution_count": 10,
   "metadata": {},
   "outputs": [],
   "source": [
    "df['parcelle_test'] = df['parcelle'].loc[\n",
    "    df['parcelle']['sdc_id'].isin(studied_ids)\n",
    "]\n",
    "\n",
    "df['zone_test'] = df['zone'].loc[\n",
    "    df['zone']['parcelle_id'].isin(df['parcelle_test'].index)\n",
    "]\n",
    "\n",
    "df['noeuds_realise_test'] = df['noeuds_realise'].loc[\n",
    "    df['noeuds_realise']['zone_id'].isin(df['zone_test'].index)\n",
    "]\n",
    "df['connection_realise_test'] = df['connection_realise'].loc[\n",
    "    df['connection_realise']['cible_noeuds_realise_id'].isin(df['noeuds_realise_test'].index)\n",
    "]\n",
    "df['plantation_perenne_realise_test'] = df['plantation_perenne_realise'].loc[\n",
    "    df['plantation_perenne_realise']['zone_id'].isin(df['zone_test'].index)\n",
    "]\n",
    "df['plantation_perenne_phases_realise_test'] = df['plantation_perenne_phases_realise'].loc[\n",
    "    df['plantation_perenne_phases_realise']['plantation_perenne_realise_id'].isin(df['plantation_perenne_realise_test'].index)\n",
    "]\n",
    "df['culture_test'] = df['culture'].loc[\n",
    "    (df['culture'].index.isin(df['noeuds_realise_test']['culture_id'])) |\n",
    "    (df['culture'].index.isin(df['plantation_perenne_realise_test']['culture_id'])) |\n",
    "    (df['culture'].index.isin(df['connection_realise_test']['culture_intermediaire_id']))\n",
    "]\n",
    "df['composant_culture_test'] = df['composant_culture'].loc[\n",
    "    (df['composant_culture']['culture_id'].isin(df['culture_test'].index))\n",
    "]\n",
    "df['espece_test'] = df['espece'].loc[\n",
    "    df['espece'].index.isin(df['composant_culture_test']['espece_id'])\n",
    "]\n",
    "df['variete_test'] = df['variete'].loc[\n",
    "    df['variete'].index.isin(df['composant_culture_test']['variete_id'])\n",
    "]"
   ]
  },
  {
   "cell_type": "code",
   "execution_count": 11,
   "metadata": {},
   "outputs": [],
   "source": [
    "path='./2/'\n",
    "df['zone_test'].to_csv(path+'zone.csv')\n",
    "df['composant_culture_test'].to_csv(path+'composant_culture.csv')\n",
    "df['noeuds_realise_test'].to_csv(path+'noeuds_realise'+'.csv')\n",
    "df['connection_realise_test'].to_csv(path+'connection_realise'+'.csv')\n",
    "df['espece_test'].to_csv(path+'espece'+'.csv')\n",
    "df['variete_test'].to_csv(path+'variete'+'.csv')\n",
    "df['culture_test'].to_csv(path+'culture'+'.csv')\n",
    "df['plantation_perenne_realise_test'].to_csv(path+'plantation_perenne_realise'+'.csv')\n",
    "df['plantation_perenne_phases_realise_test'].to_csv(path+'plantation_perenne_phases_realise'+'.csv')\n",
    "df['parcelle_test'].to_csv(path+'parcelle'+'.csv')"
   ]
  },
  {
   "cell_type": "code",
   "execution_count": null,
   "metadata": {},
   "outputs": [],
   "source": [
    "# l'idée est d'obtenir grace à la fonction d'avant les espèces / variété de toutes les zones du sdc\n",
    "left = "
   ]
  }
 ],
 "metadata": {
  "kernelspec": {
   "display_name": "entrepot_outil",
   "language": "python",
   "name": "python3"
  },
  "language_info": {
   "codemirror_mode": {
    "name": "ipython",
    "version": 3
   },
   "file_extension": ".py",
   "mimetype": "text/x-python",
   "name": "python",
   "nbconvert_exporter": "python",
   "pygments_lexer": "ipython3",
   "version": "3.11.5"
  }
 },
 "nbformat": 4,
 "nbformat_minor": 2
}
