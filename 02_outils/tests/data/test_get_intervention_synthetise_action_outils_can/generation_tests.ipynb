{
 "cells": [
  {
   "cell_type": "code",
   "execution_count": 1,
   "metadata": {},
   "outputs": [],
   "source": [
    "import pandas as pd\n",
    "from tqdm import tqdm\n",
    "from itables import show as table_show"
   ]
  },
  {
   "cell_type": "code",
   "execution_count": 15,
   "metadata": {},
   "outputs": [],
   "source": [
    "ENTREPOT_PATH = '~/Bureau/utils/data/'\n",
    "METEO_PATH = '~/Bureau/utils/data/meteo/'\n",
    "SPATIAL_PATH = './data/spatial/'"
   ]
  },
  {
   "cell_type": "code",
   "execution_count": 3,
   "metadata": {},
   "outputs": [],
   "source": [
    "# obtention des donnnées de la CAN :\n",
    "directory = '~/Bureau/Exports/20240513/non_anonyme/'\n",
    "file = 'AGS_20240513_exports_agronomes_interventions_synthetisees.csv'\n",
    "df_can = pd.read_csv(directory+file, sep='@')"
   ]
  },
  {
   "cell_type": "code",
   "execution_count": 32,
   "metadata": {},
   "outputs": [],
   "source": [
    "df_studied = df_can.sample(10)"
   ]
  },
  {
   "cell_type": "code",
   "execution_count": 43,
   "metadata": {},
   "outputs": [],
   "source": [
    "df_lutte_bio = df_can.loc[\n",
    "    ~df_can['proportion_surface_traitee_lutte_bio'].isna()\n",
    "].sample(2)"
   ]
  },
  {
   "cell_type": "code",
   "execution_count": 44,
   "metadata": {},
   "outputs": [],
   "source": [
    "df_studied = pd.concat([df_studied, df_lutte_bio])"
   ]
  },
  {
   "cell_type": "code",
   "execution_count": 3,
   "metadata": {},
   "outputs": [
    {
     "ename": "NameError",
     "evalue": "name 'df_studied' is not defined",
     "output_type": "error",
     "traceback": [
      "\u001b[0;31m---------------------------------------------------------------------------\u001b[0m",
      "\u001b[0;31mNameError\u001b[0m                                 Traceback (most recent call last)",
      "Cell \u001b[0;32mIn[3], line 1\u001b[0m\n\u001b[0;32m----> 1\u001b[0m df_studied[[\u001b[38;5;124m'\u001b[39m\u001b[38;5;124mintervention_id\u001b[39m\u001b[38;5;124m'\u001b[39m, \u001b[38;5;124m'\u001b[39m\u001b[38;5;124minterventions_actions\u001b[39m\u001b[38;5;124m'\u001b[39m, \u001b[38;5;124m'\u001b[39m\u001b[38;5;124mproportion_surface_traitee_phyto\u001b[39m\u001b[38;5;124m'\u001b[39m, \u001b[38;5;124m'\u001b[39m\u001b[38;5;124mpsci_phyto\u001b[39m\u001b[38;5;124m'\u001b[39m, \u001b[38;5;124m'\u001b[39m\u001b[38;5;124mproportion_surface_traitee_lutte_bio\u001b[39m\u001b[38;5;124m'\u001b[39m, \u001b[38;5;124m'\u001b[39m\u001b[38;5;124mpsci_lutte_bio\u001b[39m\u001b[38;5;124m'\u001b[39m, \u001b[38;5;124m'\u001b[39m\u001b[38;5;124mquantite_eau_mm\u001b[39m\u001b[38;5;124m'\u001b[39m]]\n",
      "\u001b[0;31mNameError\u001b[0m: name 'df_studied' is not defined"
     ]
    }
   ],
   "source": [
    "df_studied[['intervention_id', 'interventions_actions', 'proportion_surface_traitee_phyto', 'psci_phyto', 'proportion_surface_traitee_lutte_bio', 'psci_lutte_bio', 'quantite_eau_mm']]"
   ]
  },
  {
   "cell_type": "code",
   "execution_count": 4,
   "metadata": {},
   "outputs": [
    {
     "ename": "NameError",
     "evalue": "name 'df_studied' is not defined",
     "output_type": "error",
     "traceback": [
      "\u001b[0;31m---------------------------------------------------------------------------\u001b[0m",
      "\u001b[0;31mNameError\u001b[0m                                 Traceback (most recent call last)",
      "Cell \u001b[0;32mIn[4], line 1\u001b[0m\n\u001b[0;32m----> 1\u001b[0m table_show(pd\u001b[38;5;241m.\u001b[39mmelt(df_studied[[\u001b[38;5;124m'\u001b[39m\u001b[38;5;124mintervention_id\u001b[39m\u001b[38;5;124m'\u001b[39m,  \u001b[38;5;124m'\u001b[39m\u001b[38;5;124minterventions_actions\u001b[39m\u001b[38;5;124m'\u001b[39m, \u001b[38;5;124m'\u001b[39m\u001b[38;5;124mproportion_surface_traitee_phyto\u001b[39m\u001b[38;5;124m'\u001b[39m, \u001b[38;5;124m'\u001b[39m\u001b[38;5;124mpsci_phyto\u001b[39m\u001b[38;5;124m'\u001b[39m, \u001b[38;5;124m'\u001b[39m\u001b[38;5;124mproportion_surface_traitee_lutte_bio\u001b[39m\u001b[38;5;124m'\u001b[39m, \u001b[38;5;124m'\u001b[39m\u001b[38;5;124mpsci_lutte_bio\u001b[39m\u001b[38;5;124m'\u001b[39m, \u001b[38;5;124m'\u001b[39m\u001b[38;5;124mquantite_eau_mm\u001b[39m\u001b[38;5;124m'\u001b[39m, \u001b[38;5;124m'\u001b[39m\u001b[38;5;124mprecedent_nom\u001b[39m\u001b[38;5;124m'\u001b[39m, \u001b[38;5;124m'\u001b[39m\u001b[38;5;124mprecedent_especes_edi\u001b[39m\u001b[38;5;124m'\u001b[39m]], id_vars\u001b[38;5;241m=\u001b[39m[\u001b[38;5;124m'\u001b[39m\u001b[38;5;124mintervention_id\u001b[39m\u001b[38;5;124m'\u001b[39m]))\n",
      "\u001b[0;31mNameError\u001b[0m: name 'df_studied' is not defined"
     ]
    }
   ],
   "source": [
    "table_show(pd.melt(df_studied[['intervention_id',  'interventions_actions', 'proportion_surface_traitee_phyto', 'psci_phyto', 'proportion_surface_traitee_lutte_bio', 'psci_lutte_bio', 'quantite_eau_mm', 'precedent_nom', 'precedent_especes_edi']], id_vars=['intervention_id']))"
   ]
  },
  {
   "cell_type": "code",
   "execution_count": 5,
   "metadata": {},
   "outputs": [
    {
     "ename": "NameError",
     "evalue": "name 'df_studied' is not defined",
     "output_type": "error",
     "traceback": [
      "\u001b[0;31m---------------------------------------------------------------------------\u001b[0m",
      "\u001b[0;31mNameError\u001b[0m                                 Traceback (most recent call last)",
      "Cell \u001b[0;32mIn[5], line 1\u001b[0m\n\u001b[0;32m----> 1\u001b[0m \u001b[38;5;28mprint\u001b[39m(\u001b[38;5;28mlist\u001b[39m(df_studied[\u001b[38;5;124m'\u001b[39m\u001b[38;5;124mintervention_id\u001b[39m\u001b[38;5;124m'\u001b[39m]\u001b[38;5;241m.\u001b[39mvalues))\n",
      "\u001b[0;31mNameError\u001b[0m: name 'df_studied' is not defined"
     ]
    }
   ],
   "source": [
    "print(list(df_studied['intervention_id'].values))"
   ]
  },
  {
   "cell_type": "code",
   "execution_count": 6,
   "metadata": {},
   "outputs": [
    {
     "name": "stderr",
     "output_type": "stream",
     "text": [
      "100%|██████████| 2/2 [00:10<00:00,  5.20s/it]\n"
     ]
    }
   ],
   "source": [
    "donnees = {}\n",
    "\n",
    "def import_df(df_name, path_data, sep, index_col=None):\n",
    "    donnees[df_name] = pd.read_csv(path_data+df_name+'.csv', sep = sep, index_col=index_col, low_memory=False)\n",
    "\n",
    "def import_dfs(df_names, path_data, sep = ',', index_col=None, verbose=False):\n",
    "    for df_name in tqdm(df_names) : \n",
    "        if(verbose) :\n",
    "            print(\" - \", df_name)\n",
    "        import_df(df_name, path_data, sep, index_col=index_col)\n",
    "\n",
    "tables_entrepot = [\n",
    "    'intervention_synthetise', 'action_synthetise', 'fertilisation_organique'\n",
    "]\n",
    "\n",
    "tables_performance = [\n",
    "]\n",
    "\n",
    "# import des données de l'entrepôt avec la colonne 'id' en index \n",
    "import_dfs(tables_entrepot, ENTREPOT_PATH, sep = ',',index_col='id', verbose=False)"
   ]
  },
  {
   "cell_type": "code",
   "execution_count": 27,
   "metadata": {},
   "outputs": [
    {
     "name": "stderr",
     "output_type": "stream",
     "text": [
      "100%|██████████| 1/1 [00:06<00:00,  6.04s/it]\n"
     ]
    }
   ],
   "source": [
    "import_dfs(['utilisation_intrant_synthetise'], ENTREPOT_PATH, sep = ',',index_col='id', verbose=False)\n"
   ]
  },
  {
   "cell_type": "code",
   "execution_count": 29,
   "metadata": {},
   "outputs": [
    {
     "name": "stderr",
     "output_type": "stream",
     "text": [
      "100%|██████████| 1/1 [00:04<00:00,  4.04s/it]\n"
     ]
    }
   ],
   "source": [
    "import_dfs(['intrant'], ENTREPOT_PATH, sep = ',',index_col='id', verbose=False)\n"
   ]
  },
  {
   "cell_type": "code",
   "execution_count": 7,
   "metadata": {},
   "outputs": [],
   "source": [
    "studied_ids = [\n",
    "    'fr.inra.agrosyst.api.entities.practiced.PracticedIntervention_79c35d59-052d-4924-9360-90d77b5ad9c3', \n",
    "    'fr.inra.agrosyst.api.entities.practiced.PracticedIntervention_d95eafc1-b3cd-4a26-bed9-81ebac609873', \n",
    "    'fr.inra.agrosyst.api.entities.practiced.PracticedIntervention_a3da83ef-9c4d-4dcf-84fb-40f91fe6a9d3', \n",
    "    'fr.inra.agrosyst.api.entities.practiced.PracticedIntervention_6bf87183-b4e6-4392-bf02-fb39c09b5b1b', \n",
    "    'fr.inra.agrosyst.api.entities.practiced.PracticedIntervention_7a3d5039-f980-4168-be21-4fb5d526ae70', \n",
    "    'fr.inra.agrosyst.api.entities.practiced.PracticedIntervention_4b7bc033-28e0-4ae3-a487-e7064060202e', \n",
    "    'fr.inra.agrosyst.api.entities.practiced.PracticedIntervention_d372b219-629b-4387-a275-6ada7c994f2f', \n",
    "    'fr.inra.agrosyst.api.entities.practiced.PracticedIntervention_1d39436d-14f7-4388-aaf7-2f408b8dd398', \n",
    "    'fr.inra.agrosyst.api.entities.practiced.PracticedIntervention_6c84fc3b-a199-4e02-9d99-f75613e94be0', \n",
    "    'fr.inra.agrosyst.api.entities.practiced.PracticedIntervention_2a23f87b-d949-4af6-8ab1-f9b6d38d5ce6', \n",
    "    'fr.inra.agrosyst.api.entities.practiced.PracticedIntervention_c2430604-81ac-467d-a7bb-93384909ff6d', \n",
    "    'fr.inra.agrosyst.api.entities.practiced.PracticedIntervention_fa58158b-dac4-4428-a282-3656c7742e97', \n",
    "    'fr.inra.agrosyst.api.entities.practiced.PracticedIntervention_50a5aa52-bf54-4912-a1a2-af49b5a6d6e1'\n",
    "]"
   ]
  },
  {
   "cell_type": "code",
   "execution_count": 20,
   "metadata": {},
   "outputs": [],
   "source": [
    "donnees['intervention_synthetise_test'] = donnees['intervention_synthetise'].loc[\n",
    "    donnees['intervention_synthetise'].index.isin(studied_ids)\n",
    "]\n",
    "donnees['action_synthetise_test'] = donnees['action_synthetise'].loc[\n",
    "    donnees['action_synthetise']['intervention_synthetise_id'].isin(studied_ids)\n",
    "]\n",
    "donnees['utilisation_intrant_synthetise_test'] = donnees['utilisation_intrant_synthetise'].loc[\n",
    "    donnees['utilisation_intrant_synthetise']['action_synthetise_id'].isin(donnees['action_synthetise_test'].index)\n",
    "]\n",
    "donnees['intrant_test'] = donnees['intrant'].loc[\n",
    "    donnees['intrant'].index.isin(donnees['utilisation_intrant_synthetise_test']['intrant_id'])\n",
    "]\n",
    "donnees['fertilisation_organique_test'] = donnees['fertilisation_organique'].loc[\n",
    "    donnees['fertilisation_organique']['libelle'].isin(donnees['intrant_test']['ref_nom'])\n",
    "]"
   ]
  },
  {
   "cell_type": "code",
   "execution_count": 44,
   "metadata": {},
   "outputs": [],
   "source": [
    "path='./'\n",
    "donnees['intervention_synthetise_test'].to_csv(path+'intervention_synthetise'+'.csv')\n",
    "donnees['action_synthetise_test'].to_csv(path+'action_synthetise'+'.csv')\n",
    "donnees['utilisation_intrant_synthetise_test'].to_csv(path+'utilisation_intrant_synthetise'+'.csv')\n",
    "donnees['intrant_test'].to_csv(path+'intrant'+'.csv')\n",
    "donnees['fertilisation_organique_test'].to_csv(path+'fertilisation_organique'+'.csv')"
   ]
  }
 ],
 "metadata": {
  "kernelspec": {
   "display_name": "agrosyst_entrepot",
   "language": "python",
   "name": "python3"
  },
  "language_info": {
   "codemirror_mode": {
    "name": "ipython",
    "version": 3
   },
   "file_extension": ".py",
   "mimetype": "text/x-python",
   "name": "python",
   "nbconvert_exporter": "python",
   "pygments_lexer": "ipython3",
   "version": "3.11.5"
  }
 },
 "nbformat": 4,
 "nbformat_minor": 2
}
