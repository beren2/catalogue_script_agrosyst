{
 "cells": [
  {
   "cell_type": "code",
   "execution_count": null,
   "metadata": {},
   "outputs": [],
   "source": [
    "import pandas as pd\n",
    "import numpy as np"
   ]
  },
  {
   "cell_type": "code",
   "execution_count": null,
   "metadata": {},
   "outputs": [],
   "source": [
    "ENTREPOT_PATH = '~/Bureau/Datagrosyst/data_entrepot_&_outils/'\n",
    "\n",
    "# synth = pd.read_csv(ENTREPOT_PATH + 'synthetise.csv')\n",
    "conx = pd.read_csv(ENTREPOT_PATH + 'connection_synthetise.csv')\n",
    "noeud = pd.read_csv(ENTREPOT_PATH + 'noeuds_synthetise.csv')"
   ]
  },
  {
   "cell_type": "code",
   "execution_count": null,
   "metadata": {},
   "outputs": [],
   "source": [
    "conx = conx[['id', 'frequence_source','culture_absente','source_noeuds_synthetise_id','cible_noeuds_synthetise_id']]\\\n",
    "    .rename(columns={'id' : 'conx_id',\n",
    "                     'frequence_source' : 'freq',\n",
    "                     'culture_absente' : 'abs',\n",
    "                     'source_noeuds_synthetise_id' : 'nd_prec',\n",
    "                     'cible_noeuds_synthetise_id' : 'nd_suiv'})\n",
    "noeud = noeud[['id', 'rang', 'fin_cycle','memecampagne_noeudprecedent', 'synthetise_id']]\\\n",
    "    .rename(columns={'id' : 'nd_id',\n",
    "                     'fin_cycle' : 'end',\n",
    "                     'rang' : 'rang',\n",
    "                     'memecampagne_noeudprecedent' : 'sameyear',\n",
    "                     'synthetise_id' : 'synth_id'})"
   ]
  },
  {
   "cell_type": "code",
   "execution_count": null,
   "metadata": {},
   "outputs": [],
   "source": [
    "df = conx.merge(noeud[['nd_id','rang','end']].add_suffix('_prec'), left_on='nd_prec', right_on='nd_id_prec')\\\n",
    "    .drop('nd_id_prec', axis=1)\n",
    "df = df.merge(noeud.add_suffix('_suiv'), left_on='nd_suiv', right_on='nd_id_suiv').\\\n",
    "    rename(columns={'synth_id_suiv' : 'synth_id'})\\\n",
    "        .drop('nd_id_suiv', axis=1)"
   ]
  },
  {
   "cell_type": "code",
   "execution_count": null,
   "metadata": {},
   "outputs": [],
   "source": [
    "def number_node_rank0(dfgrp):\n",
    "    return len(dfgrp.loc[dfgrp['rang']==0,'rang'])\n",
    "\n",
    "def number_node_end(dfgrp):\n",
    "    return len(dfgrp.loc[dfgrp['end']=='t','end'])\n",
    "\n",
    "def noeud_end_on_rank0(dfgrp):\n",
    "    return any(dfgrp.loc[dfgrp['end']=='t','rang']==0)\n",
    "\n",
    "noeud_test = noeud.groupby('synth_id').apply(\n",
    "    lambda dfgrp: pd.Series({\n",
    "        'nb_noeud_de_rang1': number_node_rank0(dfgrp),\n",
    "        'nb_noeud_finaux' : number_node_end(dfgrp),\n",
    "        'noeud_finaux_en_rang1' : noeud_end_on_rank0(dfgrp)\n",
    "        }), include_groups=False)"
   ]
  },
  {
   "cell_type": "code",
   "execution_count": null,
   "metadata": {},
   "outputs": [],
   "source": [
    "print(len(noeud_test.loc[noeud_test['nb_noeud_de_rang1']==0,'nb_noeud_de_rang1']))\n",
    "print(len(noeud_test.loc[noeud_test['nb_noeud_de_rang1']>1,'nb_noeud_de_rang1']))\n",
    "print(len(noeud_test.loc[noeud_test['nb_noeud_finaux']==0,'nb_noeud_finaux']))\n",
    "print(len(noeud_test.loc[noeud_test['noeud_finaux_en_rang1']>0,'noeud_finaux_en_rang1']))\n",
    "\n",
    "list_bad_synth = noeud_test.loc[(noeud_test['nb_noeud_de_rang1']==0) | (noeud_test['nb_noeud_de_rang1']>1) | \\\n",
    "                                (noeud_test['nb_noeud_finaux']==0) | (noeud_test['noeud_finaux_en_rang1']>0)].index"
   ]
  },
  {
   "cell_type": "code",
   "execution_count": null,
   "metadata": {},
   "outputs": [],
   "source": [
    "# noeud suivant est forcement sur le rang suivant (pas de 'trou') OU au moins sur un rang supérieur --- attention si des rang sont complétement vide on les enevle\n",
    "# somme de sortie du noeuf doit faire 100%\n",
    "# pas de connexion qui sont à 0% (apparament mais je sias pas pk)\n"
   ]
  },
  {
   "cell_type": "code",
   "execution_count": null,
   "metadata": {},
   "outputs": [],
   "source": []
  }
 ],
 "metadata": {
  "kernelspec": {
   "display_name": "catalogue_script_agrosyst",
   "language": "python",
   "name": "python3"
  },
  "language_info": {
   "codemirror_mode": {
    "name": "ipython",
    "version": 3
   },
   "file_extension": ".py",
   "mimetype": "text/x-python",
   "name": "python",
   "nbconvert_exporter": "python",
   "pygments_lexer": "ipython3",
   "version": "3.11.5"
  }
 },
 "nbformat": 4,
 "nbformat_minor": 2
}
