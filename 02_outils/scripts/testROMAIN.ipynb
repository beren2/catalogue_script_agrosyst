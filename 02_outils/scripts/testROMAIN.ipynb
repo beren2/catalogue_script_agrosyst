{
 "cells": [
  {
   "cell_type": "code",
   "execution_count": 2,
   "metadata": {},
   "outputs": [],
   "source": [
    "import pandas as pd\n",
    "import numpy as np"
   ]
  },
  {
   "cell_type": "code",
   "execution_count": 2,
   "metadata": {},
   "outputs": [],
   "source": [
    "ENTREPOT_PATH = '~/Bureau/Datagrosyst/data_entrepot_&_outils/'\n",
    "\n",
    "sdc = pd.read_csv(ENTREPOT_PATH + 'sdc.csv')\n",
    "synth = pd.read_csv(ENTREPOT_PATH + 'synthetise.csv')\n",
    "sdc_r = pd.read_csv(ENTREPOT_PATH + 'sdc_realise_performance.csv')\n",
    "synth_s = pd.read_csv(ENTREPOT_PATH + 'synthetise_synthetise_performance.csv')"
   ]
  },
  {
   "cell_type": "code",
   "execution_count": null,
   "metadata": {},
   "outputs": [],
   "source": [
    "# Fusion infos synthétisés et synthetise performance\n",
    "synth = synth[['id','campagnes','sdc_id']].rename(columns={'id' : 'synthetise_id'})\n",
    "synth_s = synth_s.merge(synth, on='synthetise_id') #244 synthétisés pour lesquels on ne retrouve pas de performances\n",
    "\n",
    "del(synth)\n",
    "\n",
    "# Fusion des performances échelle sdc/synthétisé entre réalisé et synthétisé\n",
    "df = pd.concat([sdc_r,synth_s])\n",
    "df['entite_id'] = np.where(df['approche_de_calcul'] == 'réalisé', df['sdc_id'], df['synthetise_id'])\n",
    "\n",
    "del(sdc_r, synth_s)"
   ]
  },
  {
   "cell_type": "code",
   "execution_count": null,
   "metadata": {},
   "outputs": [],
   "source": [
    "# Merge des données de contexte (sdc) et de performances (R + S)\n",
    "sdc = sdc.rename(columns={'id':'sdc_id'})\n",
    "\n",
    "df = df.merge(sdc, on='sdc_id', how = 'left').set_index('entite_id')\n",
    "\n",
    "df = df.rename(columns={'ift_histo_chimique_tot' : 'ift',\n",
    "                        'approche_de_calcul' : 'mode_de_calcul',\n",
    "                        'code_dephy' : 'num_dephy'})\n",
    "df['annees'] = np.where(df['mode_de_calcul'] == 'réalisé', df['campagne'], df['campagnes'])\n",
    "\n",
    "del(sdc)"
   ]
  },
  {
   "cell_type": "code",
   "execution_count": null,
   "metadata": {},
   "outputs": [],
   "source": [
    "# Filtre des numéro DEPHY bizarres\n"
   ]
  },
  {
   "cell_type": "code",
   "execution_count": null,
   "metadata": {},
   "outputs": [],
   "source": [
    "# Petit soucis de duplicats (2 realise_id qui sont dupliqués deux et trois fois)\n",
    "# df = df[df.sdc_id.isin([\n",
    "#     'fr.inra.agrosyst.api.entities.GrowingSystem_ba5772e6-5521-4e0e-b55f-dd057ed66e21', # qu'avec des NA\n",
    "#     'fr.inra.agrosyst.api.entities.GrowingSystem_5b32e95f-629a-4ff8-9e6e-7ab23559f233' # plutot correct on regarde apres\n",
    "#     ])]\n",
    "df.loc[df['sdc_id'].duplicated()]"
   ]
  }
 ],
 "metadata": {
  "kernelspec": {
   "display_name": "catalogue_script_agrosyst",
   "language": "python",
   "name": "python3"
  },
  "language_info": {
   "codemirror_mode": {
    "name": "ipython",
    "version": 3
   },
   "file_extension": ".py",
   "mimetype": "text/x-python",
   "name": "python",
   "nbconvert_exporter": "python",
   "pygments_lexer": "ipython3",
   "version": "3.11.5"
  }
 },
 "nbformat": 4,
 "nbformat_minor": 2
}
