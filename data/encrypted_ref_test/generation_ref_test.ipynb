{
 "cells": [
  {
   "cell_type": "code",
   "execution_count": 3,
   "metadata": {},
   "outputs": [],
   "source": [
    "import pandas as pd"
   ]
  },
  {
   "cell_type": "markdown",
   "metadata": {},
   "source": [
    "L'automatisation des tests unitaires requiert l'utilisation des référentiels. Ceci pose deux problèmes majeurs : \n",
    "1) Les référentiels ne peuvent pas tous être partagés\n",
    "2) Les référentiels sont trop lourds\n",
    "\n",
    "Dans ce script, on propose donc un nettoyage des référentiels en fonction des informations qui nous sont véritablement utiles dans les tests unitaires\n",
    "\n",
    "La clé publique utilisée pour le chiffrement est disponible dans le texte en bas de page.\n",
    "\n",
    "Petit guide d'utilisation : https://yanhan.github.io/posts/2017-09-27-how-to-use-gpg-to-encrypt-stuff/"
   ]
  },
  {
   "cell_type": "code",
   "execution_count": 4,
   "metadata": {},
   "outputs": [],
   "source": [
    "# Définition des code_amm dont on a besoin dans les référentiels\n",
    "code_amm = ['2000018', '2020307', '2100138', '2100112', '2110018', '2110095',\n",
    "       '2010239', '2160693', '2090050', '2110090', '2150007', '2100038',\n",
    "       '2100038', '8900564', '8700304', '2190686', '9800182', '6400401',\n",
    "       '6400401', '9800036', '2090121', '9000222', '2100231', '2090016',\n",
    "       '9800245', '2050046']\n",
    "\n",
    "code_culture_maa = [1163, 1058, 1139, 1027, 1112, 1190, 1077,\n",
    "    1153, 1025, 1210, 1194,\n",
    "    1163, 1110, 1163]"
   ]
  },
  {
   "cell_type": "code",
   "execution_count": 5,
   "metadata": {},
   "outputs": [
    {
     "name": "stderr",
     "output_type": "stream",
     "text": [
      "/tmp/ipykernel_9378/1720458966.py:4: DtypeWarning: Columns (6,15) have mixed types. Specify dtype option on import or set low_memory=False.\n",
      "  df_acta_dosage = pd.read_csv(path_acta_dosage, sep=',')\n",
      "/tmp/ipykernel_9378/1720458966.py:7: DtypeWarning: Columns (15,16) have mixed types. Specify dtype option on import or set low_memory=False.\n",
      "  df_dose_ref_cible = pd.read_csv(path_dose_ref_cible, sep=',')\n"
     ]
    }
   ],
   "source": [
    "# IMPORT DES RÉFÉRENTIELS\n",
    "path_ref = '../referentiels/'\n",
    "path_acta_dosage = path_ref+'acta_dosage.csv'\n",
    "df_acta_dosage = pd.read_csv(path_acta_dosage, sep=',')\n",
    "\n",
    "path_dose_ref_cible = path_ref+'dose_ref_cible.csv'\n",
    "df_dose_ref_cible = pd.read_csv(path_dose_ref_cible, sep=',')\n",
    "\n",
    "path_ref_acta_traitement_produit = path_ref+'ref_acta_traitement_produit.csv'\n",
    "df_ref_acta_traitement_produit = pd.read_csv(path_ref_acta_traitement_produit)\n",
    "\n",
    "path_ref_ferti_min_unifa = path_ref+'ref_ferti_min_unifa.csv'\n",
    "df_ref_fert_min_unifa = pd.read_csv(path_ref_ferti_min_unifa, sep=',')\n",
    "\n",
    "path_ref_nuisible_edi = path_ref+'ref_nuisible_edi.csv'\n",
    "df_ref_nuisible_edi = pd.read_csv(path_ref_nuisible_edi, sep=',')\n",
    "\n",
    "path_ref_correspondance_groupe_cible = path_ref+'ref_correspondance_groupe_cible.csv'\n",
    "df_ref_correspondance_groupe_cible = pd.read_csv(path_ref_correspondance_groupe_cible, sep=',')\n",
    "\n",
    "path_ref_adventice = path_ref+'ref_adventice.csv'\n",
    "df_ref_adventice = pd.read_csv(path_ref_adventice, sep=',')\n",
    "\n",
    "path_ref_culture_maa = path_ref+'ref_culture_maa.csv'\n",
    "df_ref_culture_maa = pd.read_csv(path_ref_culture_maa, sep=',')"
   ]
  },
  {
   "cell_type": "code",
   "execution_count": 6,
   "metadata": {},
   "outputs": [],
   "source": [
    "df_ref_culture_maa_test = df_ref_culture_maa.loc[\n",
    "    (df_ref_culture_maa['code_culture_maa'].isin(code_culture_maa))\n",
    "]\n",
    "\n",
    "df_dose_ref_cible_test = df_dose_ref_cible.loc[\n",
    "    (df_dose_ref_cible['code_amm'].isin([int(x) for x in code_amm])) &\n",
    "    (df_dose_ref_cible['code_culture_maa'].isin(code_culture_maa))\n",
    "]\n",
    "\n",
    "df_ref_acta_traitement_produit_test = df_ref_acta_traitement_produit.loc[df_ref_acta_traitement_produit['code_amm'].isin(\n",
    "    code_amm\n",
    ")]\n",
    "\n",
    "df_ref_nuisible_edi_test = df_ref_nuisible_edi\n",
    "\n",
    "df_ref_adventice_test = df_ref_adventice\n",
    "\n",
    "path_ref_correspondance_groupe_cible_test = df_ref_correspondance_groupe_cible\n"
   ]
  },
  {
   "cell_type": "code",
   "execution_count": 7,
   "metadata": {},
   "outputs": [],
   "source": [
    "df_ref_culture_maa_test.to_csv('../ref_test/ref_culture_maa.csv')\n",
    "df_dose_ref_cible_test.to_csv('../ref_test/dose_ref_cible.csv')\n",
    "df_ref_acta_traitement_produit_test.to_csv('../ref_test/ref_acta_traitement_produit.csv')\n",
    "df_ref_nuisible_edi_test.to_csv('../ref_test/ref_nuisible_edi.csv')\n",
    "df_ref_adventice_test.to_csv('../ref_test/ref_adventice.csv')\n",
    "path_ref_correspondance_groupe_cible_test.to_csv('../ref_test/ref_correspondance_groupe_cible.csv')"
   ]
  },
  {
   "cell_type": "code",
   "execution_count": 8,
   "metadata": {},
   "outputs": [],
   "source": [
    "!rm ../encrypted_ref_test/ref_culture_maa.csv.gpg\n",
    "!rm ../encrypted_ref_test/dose_ref_cible.csv.gpg\n",
    "!rm ../encrypted_ref_test/ref_acta_traitement_produit.csv.gpg\n",
    "!rm ../encrypted_ref_test/ref_nuisible_edi.csv.gpg\n",
    "!rm ../encrypted_ref_test/ref_adventice.csv.gpg\n",
    "!rm ../encrypted_ref_test/ref_correspondance_groupe_cible.csv.gpg"
   ]
  },
  {
   "cell_type": "code",
   "execution_count": 9,
   "metadata": {},
   "outputs": [],
   "source": [
    "!gpg --recipient berenger.vuittenez@inrae.fr --encrypt --output ../encrypted_ref_test/ref_culture_maa.csv.gpg ../ref_test/ref_culture_maa.csv\n",
    "!gpg --recipient berenger.vuittenez@inrae.fr --encrypt --output ../encrypted_ref_test/dose_ref_cible.csv.gpg ../ref_test/dose_ref_cible.csv\n",
    "!gpg --recipient berenger.vuittenez@inrae.fr --encrypt --output ../encrypted_ref_test/ref_acta_traitement_produit.csv.gpg ../ref_test/ref_acta_traitement_produit.csv\n",
    "!gpg --recipient berenger.vuittenez@inrae.fr --encrypt --output ../encrypted_ref_test/ref_nuisible_edi.csv.gpg ../ref_test/ref_nuisible_edi.csv\n",
    "!gpg --recipient berenger.vuittenez@inrae.fr --encrypt --output ../encrypted_ref_test/ref_adventice.csv.gpg ../ref_test/ref_adventice.csv\n",
    "!gpg --recipient berenger.vuittenez@inrae.fr --encrypt --output ../encrypted_ref_test/ref_correspondance_groupe_cible.csv.gpg ../ref_test/ref_correspondance_groupe_cible.csv"
   ]
  },
  {
   "cell_type": "markdown",
   "metadata": {},
   "source": [
    "-----BEGIN PGP PUBLIC KEY BLOCK-----\n",
    "\n",
    "mQGNBGUv1vUBDADLSZchankDOdJbVXig/3ZL3hz2eRfZ+bP/RAdFKOCSLZ91dGbI\n",
    "unPVebAtck2HvzQoWnnBK5ovcNSQlY4/icAZHLdMl8wbAUQx6olFf0QWwPAZq5ft\n",
    "UShl8W4C6z6c9SE0osUcDoP4oe4MPNq1j5KC80ySi7IRMGqFdR9eX8x13yaQZIMG\n",
    "SoIcREa1ET0FGIl5Oja82FYVOS+HbejMm9xskaSoBn0ZJXAWJeJ9/hNFwp7htEW7\n",
    "0jr6j7T9BacDnkCXbwLu0MquBUSwAMJR0uujgZDv7TqIMBQn2uq+JunAjZtn1tcB\n",
    "HklldV0tsoAoOWpul8hs88lWQY6SyvnjD9vgDwgcul0DOZg9zR8/SGhL5roXui1C\n",
    "EMoIAriOgl00SeX7BobOJIaNKr8iSF8fyaPqsiNoXICUyY0irDQgqUYoLXQF2R9Q\n",
    "MrjFJhZepzHWnOOXgB3vIhnjR9hPZVLDrm2OWjSPo8yOiAWxBXuAs+jTrw18Vh7Z\n",
    "jgMrBp1wWdsgCOcAEQEAAbQ3QsOpcmVuZ2VyIChOb3V2ZWxsZSBjbMOpKSA8YmVy\n",
    "ZW5nZXIudnVpdHRlbmV6QGlucmFlLmZyPokBzgQTAQoAOBYhBP7vZY3clPqOYN+r\n",
    "B9EMVlNj+nVlBQJlL9b1AhsDBQsJCAcCBhUKCQgLAgQWAgMBAh4BAheAAAoJENEM\n",
    "VlNj+nVl9jcL/jZGZl8jsxP8Wqyg3U+pJpaueA/e94b2kpamu+8KuIBp/xO35TlO\n",
    "lWHFtNKGYp1miTDy12cuJ5JsLzqzQ4F2kgfHo1LkLLhv/kvyAVYJHyWIVlsRGxgH\n",
    "CDdIqclZJqv5Ifr876NX0PpLDZa/4Rw2WIHbpYC7MNE3gI36eWswtFfLAwqXVdoI\n",
    "iqSOdDL9lL6aeEkYW750BJ/4cjk7vZQcVSl/+XbAsl33KUAlMu+LfNfR9JFuGS1c\n",
    "+A5HbmFiIPmQGbbLBKjwbHcMoobjldxA2gQ5wB8BU3Pkw7oz3vcq4wnAtUJX4tMv\n",
    "3l00/bjXYibJuZBUcS/52sWlQl7kmXpwrHI6b43c/nJR+QoR58xEHyyDRYyJq8OR\n",
    "nfIi3Qt1yhBMeliVsyeAKuSBTCqqbFt6l0sd1un4pQoRAdSFa/iHl/TMeYWIlfpq\n",
    "ML/XbjdVJzQ7EIOtbagIivdW/uhZXa+ilfPlVqwE767tasjD8TL89Ym7zXzcy3e2\n",
    "dlKijrRqgqhp57kBjQRlL9b1AQwAuOoTpEIy7EgfVrA5GURtl36zsqs3jhViEXun\n",
    "WODkLjpwOVK8bZGgXjQzTD85M7FoyZ5aV4On1bOP2IZOP7bq+fbM4nXIEbNVOYcQ\n",
    "WikJ5fd4ScWWH4dLgyxJiwIN/Q+T1SDASNpRkAsGHkVyRNZ2sYTCKGd0XhCvhI9z\n",
    "Rhl+M7NnNBL8XAJ5MCB6Riizr5tCQagCKkfcwPdgKkEOVDNR+FihYQa+oQuZvtx9\n",
    "8SBysnV6l2FSGI7nwOOtbozSD7szVSzgYw2CgpLtX227aNY0I/HNAaKWP5F1p/XP\n",
    "ZRVksAuiMG5SaNCaxuyEDnUvHXaWwR7ghLkw/+Q9W6wALGL4s4TIl8mtbwgdeAOO\n",
    "89hqxtK2KIJ9N/aXTuroA4B5QnOpDlm67kJ/opD168YGFj5iJ4hM2pO0tuus09aZ\n",
    "kUhkftkNSC8BVywzgvGFzpZVkKsSw/PcLvcruv0uUDKiCrhcGSqGRMi9rB6Zw7re\n",
    "g17YYULjofH6ulvQmCnsmdj2vXxPABEBAAGJAbYEGAEKACAWIQT+72WN3JT6jmDf\n",
    "qwfRDFZTY/p1ZQUCZS/W9QIbDAAKCRDRDFZTY/p1ZX1eDACZ4ZFpKnrcOuQtpB9m\n",
    "jfxBAFrucIgs+jCrU4uVeKkYfusCIXNBFZHN+M7E92Y6g5c+x5/kJuQLR1WXqDXu\n",
    "cQXpHpP5cfIisOtCELaGlgUchOkIwsf1clM2sHZLE7Y4O0mDEJLVanIERnlI4Ath\n",
    "irntK46N00OgN49/ouUQidHL21AWIh+Poofo/iwN3ecrcomG41U/hjtBR5Fy1n7R\n",
    "PhYbf35fOcyLtdOkvn5zUiYLJdld2jE4OBlExa+2HiANKGhjN8zakNbklE6a4ZDE\n",
    "vpQPLjhdnmJB6jfkyqjEw1tKGW/Vab9mgaPx6m2qRmMiR3SPkKE9gyLU2BeFvGxS\n",
    "QwRTEvaw+7GKFCCmrIPFS+nc+QkKVfAUqQ6+9ymtGIiGbHrv0Co3O5vgroujI82j\n",
    "40GjLJqyVaiSuEaD7v3+MylfQHUZdoqwWrnzOX5rnjeDbPj9wplUF+r5eMkzZEG+\n",
    "t7IAEO3E/LHqQNFRPsW8GSBwgvByZAiZYBSl29vNxPKeEbw=\n",
    "=brNC\n",
    "-----END PGP PUBLIC KEY BLOCK-----"
   ]
  }
 ],
 "metadata": {
  "kernelspec": {
   "display_name": "Python 3",
   "language": "python",
   "name": "python3"
  },
  "language_info": {
   "codemirror_mode": {
    "name": "ipython",
    "version": 3
   },
   "file_extension": ".py",
   "mimetype": "text/x-python",
   "name": "python",
   "nbconvert_exporter": "python",
   "pygments_lexer": "ipython3",
   "version": "3.10.12"
  },
  "orig_nbformat": 4
 },
 "nbformat": 4,
 "nbformat_minor": 2
}
