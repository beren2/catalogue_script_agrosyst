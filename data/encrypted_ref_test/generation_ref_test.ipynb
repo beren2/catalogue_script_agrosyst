{
 "cells": [
  {
   "cell_type": "code",
   "execution_count": 1,
   "metadata": {},
   "outputs": [],
   "source": [
    "import pandas as pd"
   ]
  },
  {
   "cell_type": "markdown",
   "metadata": {},
   "source": [
    "L'automatisation des tests unitaires requiert l'utilisation des référentiels. Ceci pose deux problèmes majeurs : \n",
    "1) Les référentiels ne peuvent pas tous être partagés\n",
    "2) Les référentiels sont trop lourds\n",
    "\n",
    "Dans ce script, on propose donc un nettoyage des référentiels en fonction des informations qui nous sont véritablement utiles dans les tests unitaires"
   ]
  },
  {
   "cell_type": "code",
   "execution_count": 10,
   "metadata": {},
   "outputs": [],
   "source": [
    "# Définition des code_amm dont on a besoin dans les référentiels\n",
    "code_amm = ['2000018', '2020307', '2100138', '2100112', '2110018', '2110095',\n",
    "       '2010239', '2160693', '2090050', '2110090', '2150007', '2100038',\n",
    "       '2100038', '8900564', '8700304', '2190686', '9800182', '6400401',\n",
    "       '6400401', '9800036', '2090121', '9000222', '2100231', '2090016',\n",
    "       '9800245', '2050046']\n",
    "code_culture_maa = [1163, 1058, 1139, 1139, 1027, 1139, 1112, 1112, 1190, 1077, 1058,\n",
    "    1153, 1153, 1027, 1058, 1027, 1190, 1025, 1210, 1194, 1194, 1194,\n",
    "    1163, 1110, 1163, 1163]"
   ]
  },
  {
   "cell_type": "code",
   "execution_count": 4,
   "metadata": {},
   "outputs": [
    {
     "name": "stderr",
     "output_type": "stream",
     "text": [
      "/tmp/ipykernel_20791/1720458966.py:4: DtypeWarning: Columns (6,15) have mixed types. Specify dtype option on import or set low_memory=False.\n",
      "  df_acta_dosage = pd.read_csv(path_acta_dosage, sep=',')\n",
      "/tmp/ipykernel_20791/1720458966.py:7: DtypeWarning: Columns (15,16) have mixed types. Specify dtype option on import or set low_memory=False.\n",
      "  df_dose_ref_cible = pd.read_csv(path_dose_ref_cible, sep=',')\n"
     ]
    }
   ],
   "source": [
    "# IMPORT DES RÉFÉRENTIELS\n",
    "path_ref = '../referentiels/'\n",
    "path_acta_dosage = path_ref+'acta_dosage.csv'\n",
    "df_acta_dosage = pd.read_csv(path_acta_dosage, sep=',')\n",
    "\n",
    "path_dose_ref_cible = path_ref+'dose_ref_cible.csv'\n",
    "df_dose_ref_cible = pd.read_csv(path_dose_ref_cible, sep=',')\n",
    "\n",
    "path_ref_acta_traitement_produit = path_ref+'ref_acta_traitement_produit.csv'\n",
    "df_ref_acta_traitement_produit = pd.read_csv(path_ref_acta_traitement_produit)\n",
    "\n",
    "path_ref_ferti_min_unifa = path_ref+'ref_ferti_min_unifa.csv'\n",
    "df_ref_fert_min_unifa = pd.read_csv(path_ref_ferti_min_unifa, sep=',')\n",
    "\n",
    "path_ref_nuisible_edi = path_ref+'ref_nuisible_edi.csv'\n",
    "df_ref_nuisible_edi = pd.read_csv(path_ref_nuisible_edi, sep=',')\n",
    "\n",
    "path_ref_correspondance_groupe_cible = path_ref+'ref_correspondance_groupe_cible.csv'\n",
    "df_ref_correspondance_groupe_cible = pd.read_csv(path_ref_correspondance_groupe_cible, sep=',')\n",
    "\n",
    "path_ref_adventice = path_ref+'ref_adventice.csv'\n",
    "df_ref_adventice = pd.read_csv(path_ref_adventice, sep=',')\n",
    "\n",
    "path_ref_culture_maa = path_ref+'ref_culture_maa.csv'\n",
    "df_ref_culture_maa = pd.read_csv(path_ref_culture_maa, sep=',')"
   ]
  },
  {
   "cell_type": "code",
   "execution_count": 19,
   "metadata": {},
   "outputs": [],
   "source": [
    "df_ref_culture_maa_test = df_ref_culture_maa.loc[\n",
    "    (df_ref_culture_maa['code_culture_maa'].isin(code_culture_maa))\n",
    "]\n",
    "\n",
    "df_dose_ref_cible_test = df_dose_ref_cible.loc[\n",
    "    (df_dose_ref_cible['code_amm'].isin([int(x) for x in code_amm])) &\n",
    "    (df_dose_ref_cible['code_culture_maa'].isin(code_culture_maa))\n",
    "]\n",
    "\n",
    "df_ref_acta_traitement_produit_test = df_ref_acta_traitement_produit.loc[df_ref_acta_traitement_produit['code_amm'].isin(\n",
    "    code_amm\n",
    ")]\n",
    "\n",
    "\n",
    "\n"
   ]
  },
  {
   "cell_type": "code",
   "execution_count": 23,
   "metadata": {},
   "outputs": [],
   "source": [
    "df_ref_culture_maa_test.to_csv('../ref_test/ref_culture_maa.csv')\n",
    "df_dose_ref_cible_test.to_csv('../ref_test/dose_ref_cible.csv')\n",
    "df_ref_acta_traitement_produit_test.to_csv('../ref_test/ref_acta_traitement_produit.csv')"
   ]
  },
  {
   "cell_type": "code",
   "execution_count": 31,
   "metadata": {},
   "outputs": [
    {
     "name": "stdout",
     "output_type": "stream",
     "text": [
      "20230927\t    metadonnees_seuils.csv  private.pgp   ref_test\n",
      "encrypted_ref_test  metadonnees_tests.csv   referentiels\n"
     ]
    }
   ],
   "source": [
    "!ls ../"
   ]
  },
  {
   "cell_type": "code",
   "execution_count": 32,
   "metadata": {},
   "outputs": [],
   "source": [
    "!gpg --recipient berenger.vuittenez@inrae.fr --encrypt --output ../encrypted_ref_test/ref_culture_maa.csv.gpg ../ref_test/ref_culture_maa.csv\n",
    "!gpg --recipient berenger.vuittenez@inrae.fr --encrypt --output ../encrypted_ref_test/ref_culture_maa.csv.gpg ../ref_test/ref_culture_maa.csv\n",
    "!gpg --recipient berenger.vuittenez@inrae.fr --encrypt --output ../encrypted_ref_test/ref_culture_maa.csv.gpg ../ref_test/ref_culture_maa.csv\n"
   ]
  }
 ],
 "metadata": {
  "kernelspec": {
   "display_name": "Python 3",
   "language": "python",
   "name": "python3"
  },
  "language_info": {
   "codemirror_mode": {
    "name": "ipython",
    "version": 3
   },
   "file_extension": ".py",
   "mimetype": "text/x-python",
   "name": "python",
   "nbconvert_exporter": "python",
   "pygments_lexer": "ipython3",
   "version": "3.10.12"
  },
  "orig_nbformat": 4
 },
 "nbformat": 4,
 "nbformat_minor": 2
}
