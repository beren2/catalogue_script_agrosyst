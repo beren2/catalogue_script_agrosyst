{
 "cells": [
  {
   "cell_type": "code",
   "execution_count": 24,
   "metadata": {},
   "outputs": [],
   "source": [
    "import pandas as pd\n",
    "from tqdm import tqdm"
   ]
  },
  {
   "cell_type": "code",
   "execution_count": 25,
   "metadata": {},
   "outputs": [],
   "source": [
    "ENTREPOT_PATH = '~/Bureau/utils/data/'\n",
    "METEO_PATH = '~/Bureau/utils/data/meteo/'\n",
    "SPATIAL_PATH = './data/spatial/'"
   ]
  },
  {
   "cell_type": "code",
   "execution_count": 55,
   "metadata": {},
   "outputs": [
    {
     "name": "stderr",
     "output_type": "stream",
     "text": [
      "100%|██████████| 8/8 [00:09<00:00,  1.14s/it]\n"
     ]
    }
   ],
   "source": [
    "donnees = {}\n",
    "\n",
    "def import_df(df_name, path_data, sep, index_col=None):\n",
    "    donnees[df_name] = pd.read_csv(path_data+df_name+'.csv', sep = sep, index_col=index_col, low_memory=False)\n",
    "\n",
    "def import_dfs(df_names, path_data, sep = ',', index_col=None, verbose=False):\n",
    "    for df_name in tqdm(df_names) : \n",
    "        if(verbose) :\n",
    "            print(\" - \", df_name)\n",
    "        import_df(df_name, path_data, sep, index_col=index_col)\n",
    "\n",
    "tables_entrepot = [\n",
    "    'composant_culture', 'espece', 'variete', 'composant_culture_concerne_intervention_realise', \n",
    "    'intervention_realise', 'noeuds_realise', 'plantation_perenne_phases_realise', 'plantation_perenne_realise'\n",
    "]\n",
    "\n",
    "tables_performance = [\n",
    "]\n",
    "\n",
    "# import des données de l'entrepôt avec la colonne 'id' en index \n",
    "import_dfs(tables_entrepot, ENTREPOT_PATH, sep = ',',index_col='id', verbose=False)\n",
    "\n",
    "# import des données de performance\n",
    "#import_dfs(['intervention_realise_agrege', 'combinaison_outil_materiel'], ENTREPOT_PATH, sep = ',', verbose=False)\n"
   ]
  },
  {
   "cell_type": "code",
   "execution_count": 56,
   "metadata": {},
   "outputs": [
    {
     "name": "stderr",
     "output_type": "stream",
     "text": [
      "100%|██████████| 2/2 [00:00<00:00,  4.12it/s]\n"
     ]
    }
   ],
   "source": [
    "import_dfs(['connection_realise', 'culture'], ENTREPOT_PATH, sep = ',',index_col='id', verbose=False)\n"
   ]
  },
  {
   "cell_type": "code",
   "execution_count": 57,
   "metadata": {},
   "outputs": [],
   "source": [
    "studied_ids = [\n",
    "\n",
    "]"
   ]
  },
  {
   "cell_type": "code",
   "execution_count": 64,
   "metadata": {},
   "outputs": [],
   "source": [
    "studied_ids = [\n",
    "    'fr.inra.agrosyst.api.entities.effective.EffectiveIntervention_28c9d936-4b00-4907-97f6-5bc024677ef6',\n",
    "    'fr.inra.agrosyst.api.entities.effective.EffectiveIntervention_603144f5-eeb3-431e-8db6-168069719dcc',\n",
    "    'fr.inra.agrosyst.api.entities.effective.EffectiveIntervention_c90ac0c0-c0c7-4f60-b3e9-b8fe65a36c90',\n",
    "    'fr.inra.agrosyst.api.entities.effective.EffectiveIntervention_67754f34-0d9e-422c-a49b-7328c4ea5812',\n",
    "    'fr.inra.agrosyst.api.entities.effective.EffectiveIntervention_e36fc439-e9fa-4b20-a2c4-133e0918f420',\n",
    "    'fr.inra.agrosyst.api.entities.effective.EffectiveIntervention_032e7c9d-073d-4524-9502-612dd8764798',\n",
    "    'fr.inra.agrosyst.api.entities.effective.EffectiveIntervention_e7ea5b0b-df03-45e7-ba70-93a0ada8ecc1',\n",
    "    'fr.inra.agrosyst.api.entities.effective.EffectiveIntervention_13f1c29d-ff78-4019-86e4-95dfb7b31dc9',\n",
    "    'fr.inra.agrosyst.api.entities.effective.EffectiveIntervention_72600f4c-8cad-4f07-b97d-4a37739b0937',\n",
    "    'fr.inra.agrosyst.api.entities.effective.EffectiveIntervention_c290942a-2556-4ed9-b39e-e6af2de3604b',\n",
    "    'fr.inra.agrosyst.api.entities.effective.EffectiveIntervention_cc01bf89-d6aa-4ae9-b773-c4acb9c4aad2',\n",
    "    'fr.inra.agrosyst.api.entities.effective.EffectiveIntervention_1f923a0b-122c-43b2-8608-2ec78653dd63',\n",
    "    'fr.inra.agrosyst.api.entities.effective.EffectiveIntervention_888c1f0a-5112-400c-b77f-b929d74d1e4a',\n",
    "    'fr.inra.agrosyst.api.entities.effective.EffectiveIntervention_96e4cdb3-c1f2-4e1b-99bb-81148f651a9b',\n",
    "    'fr.inra.agrosyst.api.entities.effective.EffectiveIntervention_e2a7e074-bde1-4811-9d9e-fd5b2333d931',\n",
    "    'fr.inra.agrosyst.api.entities.effective.EffectiveIntervention_b7f80315-7cb1-4e80-8dff-d273711c80e5',\n",
    "    'fr.inra.agrosyst.api.entities.effective.EffectiveIntervention_8870f467-a13f-41ca-8b61-3607e688d13f',\n",
    "    'fr.inra.agrosyst.api.entities.effective.EffectiveIntervention_67ba73f1-7ce8-40f4-9719-a54498644d80',\n",
    "    'fr.inra.agrosyst.api.entities.effective.EffectiveIntervention_2a97dfee-5e3c-4751-a3c7-07393750ddfd',\n",
    "    'fr.inra.agrosyst.api.entities.effective.EffectiveIntervention_00012e79-521c-44e6-87c2-47e7847eb8f7',\n",
    "    'fr.inra.agrosyst.api.entities.effective.EffectiveIntervention_6e5205be-41f6-425a-801b-928b56c1a157',\n",
    "    'fr.inra.agrosyst.api.entities.effective.EffectiveIntervention_2a154564-6cc0-4f15-8dc5-c106fd017951',\n",
    "]"
   ]
  },
  {
   "cell_type": "code",
   "execution_count": 66,
   "metadata": {},
   "outputs": [],
   "source": [
    "donnees['intervention_realise_test'] = donnees['intervention_realise'].loc[\n",
    "    donnees['intervention_realise'].index.isin(studied_ids)\n",
    "]\n",
    "\n",
    "donnees['noeuds_realise_test'] = donnees['noeuds_realise'].loc[\n",
    "    (donnees['noeuds_realise'].index.isin(list(donnees['intervention_realise_test']['noeuds_realise_id'])))\n",
    "]\n",
    "donnees['connection_realise_test'] = donnees['connection_realise'].loc[\n",
    "    (donnees['connection_realise']['cible_noeuds_realise_id'].isin(list(donnees['noeuds_realise_test'].index))) |\n",
    "    (donnees['connection_realise']['source_noeuds_realise_id'].isin(list(donnees['noeuds_realise_test'].index)))\n",
    "\n",
    "]\n",
    "donnees['plantation_perenne_phases_realise_test'] = donnees['plantation_perenne_phases_realise'].loc[\n",
    "    donnees['plantation_perenne_phases_realise'].index.isin(list(donnees['intervention_realise_test']['plantation_perenne_phases_realise_id']))\n",
    "]\n",
    "\n",
    "donnees['plantation_perenne_realise_test'] = donnees['plantation_perenne_realise'].loc[\n",
    "    donnees['plantation_perenne_realise'].index.isin(list(donnees['plantation_perenne_phases_realise_test']['plantation_perenne_realise_id']))\n",
    "]\n",
    "\n",
    "donnees['composant_culture_test'] = donnees['composant_culture'].loc[\n",
    "    donnees['composant_culture']['culture_id'].isin(list(donnees['noeuds_realise_test']['culture_id'])) |\n",
    "    donnees['composant_culture']['culture_id'].isin(list(donnees['plantation_perenne_realise_test']['culture_id'])) |\n",
    "    donnees['composant_culture']['culture_id'].isin(list(donnees['connection_realise_test']['culture_intermediaire_id']))\n",
    "]\n",
    "\n",
    "donnees['culture_test'] = donnees['culture'].loc[\n",
    "    donnees['culture'].index.isin(donnees['composant_culture_test']['culture_id'])\n",
    "]\n",
    "\n",
    "donnees['espece_test'] = donnees['espece'].loc[\n",
    "    donnees['espece'].index.isin(list(donnees['composant_culture_test']['espece_id']))\n",
    "]\n",
    "donnees['variete_test'] = donnees['variete'].loc[\n",
    "    donnees['variete'].index.isin(list(donnees['composant_culture_test']['variete_id']))\n",
    "]\n",
    "\n",
    "donnees['composant_culture_concerne_intervention_realise_test'] = donnees['composant_culture_concerne_intervention_realise'].loc[\n",
    "    donnees['composant_culture_concerne_intervention_realise']['intervention_realise_id'].isin(studied_ids)\n",
    "]\n",
    "\n",
    "path=''\n",
    "donnees['intervention_realise_test'].to_csv(path+'intervention_realise'+'.csv')\n",
    "donnees['noeuds_realise_test'].to_csv(path+'noeuds_realise'+'.csv')\n",
    "donnees['connection_realise_test'].to_csv(path+'connection_realise'+'.csv')\n",
    "donnees['composant_culture_test'].to_csv(path+'composant_culture'+'.csv')\n",
    "donnees['espece_test'].to_csv(path+'espece'+'.csv')\n",
    "donnees['variete_test'].to_csv(path+'variete'+'.csv')\n",
    "donnees['composant_culture_concerne_intervention_realise_test'].to_csv(path+'composant_culture_concerne_intervention_realise'+'.csv')\n",
    "donnees['culture_test'].to_csv(path+'culture'+'.csv')\n",
    "donnees['plantation_perenne_phases_realise_test'].to_csv(path+'plantation_perenne_phases_realise'+'.csv')\n",
    "donnees['plantation_perenne_realise_test'].to_csv(path+'plantation_perenne_realise'+'.csv')"
   ]
  },
  {
   "cell_type": "code",
   "execution_count": 62,
   "metadata": {},
   "outputs": [
    {
     "data": {
      "text/plain": [
       "id\n",
       "fr.inra.agrosyst.api.entities.effective.EffectiveCropCycleConnection_4299a333-04ba-4790-970b-27f6b60823e0    fr.inra.agrosyst.api.entities.CroppingPlanEntr...\n",
       "Name: culture_intermediaire_id, dtype: object"
      ]
     },
     "execution_count": 62,
     "metadata": {},
     "output_type": "execute_result"
    }
   ],
   "source": [
    "donnees['connection_realise_test']['culture_intermediaire_id']"
   ]
  },
  {
   "cell_type": "code",
   "execution_count": 63,
   "metadata": {},
   "outputs": [
    {
     "data": {
      "text/html": [
       "<div>\n",
       "<style scoped>\n",
       "    .dataframe tbody tr th:only-of-type {\n",
       "        vertical-align: middle;\n",
       "    }\n",
       "\n",
       "    .dataframe tbody tr th {\n",
       "        vertical-align: top;\n",
       "    }\n",
       "\n",
       "    .dataframe thead th {\n",
       "        text-align: right;\n",
       "    }\n",
       "</style>\n",
       "<table border=\"1\" class=\"dataframe\">\n",
       "  <thead>\n",
       "    <tr style=\"text-align: right;\">\n",
       "      <th></th>\n",
       "      <th>code</th>\n",
       "      <th>espece_id</th>\n",
       "      <th>surface_relative</th>\n",
       "      <th>variete_id</th>\n",
       "      <th>culture_id</th>\n",
       "    </tr>\n",
       "    <tr>\n",
       "      <th>id</th>\n",
       "      <th></th>\n",
       "      <th></th>\n",
       "      <th></th>\n",
       "      <th></th>\n",
       "      <th></th>\n",
       "    </tr>\n",
       "  </thead>\n",
       "  <tbody>\n",
       "    <tr>\n",
       "      <th>fr.inra.agrosyst.api.entities.CroppingPlanSpecies_39b06f26-b8e4-4275-af57-2713835601ad</th>\n",
       "      <td>2a28ac1d-af17-47ba-a31a-b87088947337</td>\n",
       "      <td>fr.inra.agrosyst.api.entities.referential.RefE...</td>\n",
       "      <td>NaN</td>\n",
       "      <td>NaN</td>\n",
       "      <td>fr.inra.agrosyst.api.entities.CroppingPlanEntr...</td>\n",
       "    </tr>\n",
       "  </tbody>\n",
       "</table>\n",
       "</div>"
      ],
      "text/plain": [
       "                                                                                    code  \\\n",
       "id                                                                                         \n",
       "fr.inra.agrosyst.api.entities.CroppingPlanSpeci...  2a28ac1d-af17-47ba-a31a-b87088947337   \n",
       "\n",
       "                                                                                            espece_id  \\\n",
       "id                                                                                                      \n",
       "fr.inra.agrosyst.api.entities.CroppingPlanSpeci...  fr.inra.agrosyst.api.entities.referential.RefE...   \n",
       "\n",
       "                                                    surface_relative  \\\n",
       "id                                                                     \n",
       "fr.inra.agrosyst.api.entities.CroppingPlanSpeci...               NaN   \n",
       "\n",
       "                                                   variete_id  \\\n",
       "id                                                              \n",
       "fr.inra.agrosyst.api.entities.CroppingPlanSpeci...        NaN   \n",
       "\n",
       "                                                                                           culture_id  \n",
       "id                                                                                                     \n",
       "fr.inra.agrosyst.api.entities.CroppingPlanSpeci...  fr.inra.agrosyst.api.entities.CroppingPlanEntr...  "
      ]
     },
     "execution_count": 63,
     "metadata": {},
     "output_type": "execute_result"
    }
   ],
   "source": [
    "donnees['composant_culture'].loc[donnees['composant_culture']['culture_id'] == 'fr.inra.agrosyst.api.entities.CroppingPlanEntry_1ccf09a3-b809-4a65-9292-e833f8f09fc0']"
   ]
  },
  {
   "cell_type": "code",
   "execution_count": 37,
   "metadata": {},
   "outputs": [
    {
     "data": {
      "text/plain": [
       "array(['fr.inra.agrosyst.api.entities.CroppingPlanEntry_1ccf09a3-b809-4a65-9292-e833f8f09fc0',\n",
       "       nan, nan, nan, nan, nan, nan], dtype=object)"
      ]
     },
     "execution_count": 37,
     "metadata": {},
     "output_type": "execute_result"
    }
   ],
   "source": [
    "donnees['connection_realise_test']['culture_intermediaire_id'].values"
   ]
  },
  {
   "cell_type": "code",
   "execution_count": 43,
   "metadata": {},
   "outputs": [
    {
     "data": {
      "text/plain": [
       "id\n",
       "fr.inra.agrosyst.api.entities.CroppingPlanSpecies_920603ec-4bc3-4f45-afcd-c1fcfffacf66    False\n",
       "fr.inra.agrosyst.api.entities.CroppingPlanSpecies_d356594e-04c7-4ea0-b2db-01b6f14c42c1    False\n",
       "fr.inra.agrosyst.api.entities.CroppingPlanSpecies_ba9c24a9-358a-492a-bd2c-09ee57685041    False\n",
       "fr.inra.agrosyst.api.entities.CroppingPlanSpecies_38048b89-cf14-4c6f-ae48-454570ef9874    False\n",
       "fr.inra.agrosyst.api.entities.CroppingPlanSpecies_88ffd590-303a-4462-a3e2-62f32d16d2ba    False\n",
       "                                                                                          ...  \n",
       "fr.inra.agrosyst.api.entities.CroppingPlanSpecies_5301c648-db21-4fca-a88d-de7da6f484c3    False\n",
       "fr.inra.agrosyst.api.entities.CroppingPlanSpecies_7308d626-aba0-4d24-b676-52bb986c88e9    False\n",
       "fr.inra.agrosyst.api.entities.CroppingPlanSpecies_c7a60ee7-1ae4-4c33-b4fe-832586cf4816    False\n",
       "fr.inra.agrosyst.api.entities.CroppingPlanSpecies_8893801e-76ec-4c6d-b3e8-de85e7758024    False\n",
       "fr.inra.agrosyst.api.entities.CroppingPlanSpecies_ac495e94-023f-4f46-a7cf-fcae34a9534a    False\n",
       "Name: culture_id, Length: 328881, dtype: bool"
      ]
     },
     "execution_count": 43,
     "metadata": {},
     "output_type": "execute_result"
    }
   ],
   "source": [
    "donnees['composant_culture']['culture_id'].isin(list(donnees['connection_realise_test']['culture_intermediaire_id']))"
   ]
  },
  {
   "cell_type": "code",
   "execution_count": null,
   "metadata": {},
   "outputs": [],
   "source": []
  },
  {
   "cell_type": "code",
   "execution_count": null,
   "metadata": {},
   "outputs": [],
   "source": [
    "import pandas as pd\n",
    "from tqdm import tqdm"
   ]
  },
  {
   "cell_type": "code",
   "execution_count": null,
   "metadata": {},
   "outputs": [],
   "source": [
    "ENTREPOT_PATH = '~/Bureau/utils/data/'\n",
    "METEO_PATH = '~/Bureau/utils/data/meteo/'\n",
    "SPATIAL_PATH = './data/spatial/'"
   ]
  }
 ],
 "metadata": {
  "kernelspec": {
   "display_name": "Python 3",
   "language": "python",
   "name": "python3"
  },
  "language_info": {
   "codemirror_mode": {
    "name": "ipython",
    "version": 3
   },
   "file_extension": ".py",
   "mimetype": "text/x-python",
   "name": "python",
   "nbconvert_exporter": "python",
   "pygments_lexer": "ipython3",
   "version": "3.10.12"
  }
 },
 "nbformat": 4,
 "nbformat_minor": 2
}
