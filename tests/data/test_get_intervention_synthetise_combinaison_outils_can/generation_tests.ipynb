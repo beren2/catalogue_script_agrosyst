{
 "cells": [
  {
   "cell_type": "code",
   "execution_count": 1,
   "metadata": {},
   "outputs": [],
   "source": [
    "import pandas as pd\n",
    "from tqdm import tqdm\n",
    "from itables import show as table_show"
   ]
  },
  {
   "cell_type": "code",
   "execution_count": 2,
   "metadata": {},
   "outputs": [],
   "source": [
    "ENTREPOT_PATH = '~/Bureau/utils/data/'\n",
    "METEO_PATH = '~/Bureau/utils/data/meteo/'\n",
    "SPATIAL_PATH = './data/spatial/'"
   ]
  },
  {
   "cell_type": "code",
   "execution_count": 3,
   "metadata": {},
   "outputs": [],
   "source": [
    "# obtention des donnnées de la CAN :\n",
    "directory = '~/Bureau/Exports/20240513/non_anonyme/'\n",
    "file = 'AGS_20240513_exports_agronomes_interventions_synthetisees.csv'\n",
    "df_can = pd.read_csv(directory+file, sep='@')"
   ]
  },
  {
   "cell_type": "code",
   "execution_count": 6,
   "metadata": {},
   "outputs": [],
   "source": [
    "df_studied = df_can.loc[\n",
    "    df_can['intervention_id'].isin(studied_ids)\n",
    "]"
   ]
  },
  {
   "cell_type": "code",
   "execution_count": 9,
   "metadata": {},
   "outputs": [
    {
     "data": {
      "text/plain": [
       "Index(['domaine_code', 'domaine_id', 'domaine_nom', 'domaine_campagne',\n",
       "       'sdc_code', 'sdc_id', 'sdc_nom', 'systeme_synthetise_id',\n",
       "       'systeme_synthetise_nom', 'systeme_synthetise_campagnes',\n",
       "       'systeme_synthetise_validation', 'phase_id', 'phase',\n",
       "       'culture_precedent_rang_id', 'culture_code', 'culture_nom', 'ci_code',\n",
       "       'ci_nom', 'concerne_la_ci', 'especes_de_l_intervention',\n",
       "       'precedent_code', 'precedent_nom', 'precedent_especes_edi',\n",
       "       'culture_rang', 'intervention_id', 'intervention_type',\n",
       "       'interventions_actions', 'intervention_nom', 'intervention_comment',\n",
       "       'combinaison_outils_code', 'combinaison_outils_nom',\n",
       "       'tracteur_ou_automoteur', 'outils', 'date_debut', 'date_fin',\n",
       "       'freq_spatiale', 'freq_temporelle', 'psci',\n",
       "       'proportion_surface_traitee_phyto', 'psci_phyto',\n",
       "       'proportion_surface_traitee_lutte_bio', 'psci_lutte_bio',\n",
       "       'debit_de_chantier', 'debit_de_chantier_unite', 'nb_personne_mobili',\n",
       "       'quantite_eau_mm', 'especes_semees', 'densite_semis', 'unite_semis',\n",
       "       'traitement_chimique_semis', 'inoculation_biologique_semis',\n",
       "       'rang_intervention'],\n",
       "      dtype='object')"
      ]
     },
     "execution_count": 9,
     "metadata": {},
     "output_type": "execute_result"
    }
   ],
   "source": [
    "df_studied.columns"
   ]
  },
  {
   "cell_type": "code",
   "execution_count": 12,
   "metadata": {},
   "outputs": [
    {
     "data": {
      "text/html": [
       "<table id=\"itables_f503534b_f668_4257_ae39_f52e5aec94bf\" class=\"display nowrap\" data-quarto-disable-processing=\"true\" style=\"table-layout:auto;width:auto;margin:auto;caption-side:bottom\">\n",
       "<thead>\n",
       "    <tr style=\"text-align: right;\">\n",
       "      \n",
       "      <th>intervention_id</th>\n",
       "      <th>variable</th>\n",
       "      <th>value</th>\n",
       "    </tr>\n",
       "  </thead><tbody><tr>\n",
       "<td style=\"vertical-align:middle; text-align:left\">\n",
       "<div style=\"float:left; margin-right: 10px;\">\n",
       "<a href=https://mwouts.github.io/itables/><svg class=\"main-svg\" xmlns=\"http://www.w3.org/2000/svg\" xmlns:xlink=\"http://www.w3.org/1999/xlink\"\n",
       "width=\"64\" viewBox=\"0 0 500 400\" style=\"font-family: 'Droid Sans', sans-serif;\">\n",
       "    <g style=\"fill:#d9d7fc\">\n",
       "        <path d=\"M100,400H500V357H100Z\" />\n",
       "        <path d=\"M100,300H400V257H100Z\" />\n",
       "        <path d=\"M0,200H400V157H0Z\" />\n",
       "        <path d=\"M100,100H500V57H100Z\" />\n",
       "        <path d=\"M100,350H500V307H100Z\" />\n",
       "        <path d=\"M100,250H400V207H100Z\" />\n",
       "        <path d=\"M0,150H400V107H0Z\" />\n",
       "        <path d=\"M100,50H500V7H100Z\" />\n",
       "    </g>\n",
       "    <g style=\"fill:#1a1366;stroke:#1a1366;\">\n",
       "   <rect x=\"100\" y=\"7\" width=\"400\" height=\"43\">\n",
       "    <animate\n",
       "      attributeName=\"width\"\n",
       "      values=\"0;400;0\"\n",
       "      dur=\"5s\"\n",
       "      repeatCount=\"indefinite\" />\n",
       "      <animate\n",
       "      attributeName=\"x\"\n",
       "      values=\"100;100;500\"\n",
       "      dur=\"5s\"\n",
       "      repeatCount=\"indefinite\" />\n",
       "  </rect>\n",
       "        <rect x=\"0\" y=\"107\" width=\"400\" height=\"43\">\n",
       "    <animate\n",
       "      attributeName=\"width\"\n",
       "      values=\"0;400;0\"\n",
       "      dur=\"3.5s\"\n",
       "      repeatCount=\"indefinite\" />\n",
       "    <animate\n",
       "      attributeName=\"x\"\n",
       "      values=\"0;0;400\"\n",
       "      dur=\"3.5s\"\n",
       "      repeatCount=\"indefinite\" />\n",
       "  </rect>\n",
       "        <rect x=\"100\" y=\"207\" width=\"300\" height=\"43\">\n",
       "    <animate\n",
       "      attributeName=\"width\"\n",
       "      values=\"0;300;0\"\n",
       "      dur=\"3s\"\n",
       "      repeatCount=\"indefinite\" />\n",
       "    <animate\n",
       "      attributeName=\"x\"\n",
       "      values=\"100;100;400\"\n",
       "      dur=\"3s\"\n",
       "      repeatCount=\"indefinite\" />\n",
       "  </rect>\n",
       "        <rect x=\"100\" y=\"307\" width=\"400\" height=\"43\">\n",
       "    <animate\n",
       "      attributeName=\"width\"\n",
       "      values=\"0;400;0\"\n",
       "      dur=\"4s\"\n",
       "      repeatCount=\"indefinite\" />\n",
       "      <animate\n",
       "      attributeName=\"x\"\n",
       "      values=\"100;100;500\"\n",
       "      dur=\"4s\"\n",
       "      repeatCount=\"indefinite\" />\n",
       "  </rect>\n",
       "        <g style=\"fill:transparent;stroke-width:8; stroke-linejoin:round\" rx=\"5\">\n",
       "            <g transform=\"translate(45 50) rotate(-45)\">\n",
       "                <circle r=\"33\" cx=\"0\" cy=\"0\" />\n",
       "                <rect x=\"-8\" y=\"32\" width=\"16\" height=\"30\" />\n",
       "            </g>\n",
       "\n",
       "            <g transform=\"translate(450 152)\">\n",
       "                <polyline points=\"-15,-20 -35,-20 -35,40 25,40 25,20\" />\n",
       "                <rect x=\"-15\" y=\"-40\" width=\"60\" height=\"60\" />\n",
       "            </g>\n",
       "\n",
       "            <g transform=\"translate(50 352)\">\n",
       "                <polygon points=\"-35,-5 0,-40 35,-5\" />\n",
       "                <polygon points=\"-35,10 0,45 35,10\" />\n",
       "            </g>\n",
       "\n",
       "            <g transform=\"translate(75 250)\">\n",
       "                <polyline points=\"-30,30 -60,0 -30,-30\" />\n",
       "                <polyline points=\"0,30 -30,0 0,-30\" />\n",
       "            </g>\n",
       "\n",
       "            <g transform=\"translate(425 250) rotate(180)\">\n",
       "                <polyline points=\"-30,30 -60,0 -30,-30\" />\n",
       "                <polyline points=\"0,30 -30,0 0,-30\" />\n",
       "            </g>\n",
       "        </g>\n",
       "    </g>\n",
       "</svg>\n",
       "</a>\n",
       "</div>\n",
       "<div>\n",
       "Loading ITables v2.1.4 from the internet...\n",
       "(need <a href=https://mwouts.github.io/itables/troubleshooting.html>help</a>?)</td>\n",
       "</div>\n",
       "</tr></tbody>\n",
       "\n",
       "</table>\n",
       "<link href=\"https://www.unpkg.com/dt_for_itables@2.0.11/dt_bundle.css\" rel=\"stylesheet\">\n",
       "<script type=\"module\">\n",
       "    import {DataTable, jQuery as $} from 'https://www.unpkg.com/dt_for_itables@2.0.11/dt_bundle.js';\n",
       "\n",
       "    document.querySelectorAll(\"#itables_f503534b_f668_4257_ae39_f52e5aec94bf:not(.dataTable)\").forEach(table => {\n",
       "        // Define the table data\n",
       "        const data = [[\"fr.inra.agrosyst.api.entities.practiced.PracticedIntervention_226f16ce-28ef-4873-90a3-8a58b26fc6ac\", \"combinaison_outils_nom\", \"hersage\"], [\"fr.inra.agrosyst.api.entities.practiced.PracticedIntervention_c2057795-9782-44de-bafe-11ff6704d8bc\", \"combinaison_outils_nom\", \"D\\u00e9chaumage\"], [\"fr.inra.agrosyst.api.entities.practiced.PracticedIntervention_c555a632-09f5-4c97-ab46-ef1dd0abeed6\", \"combinaison_outils_nom\", \"pulv\\u00e9risateur \\u00e0 jet port\\u00e9\"], [\"fr.inra.agrosyst.api.entities.practiced.PracticedIntervention_de0353ca-602a-4634-92e8-06fa316c16a1\", \"combinaison_outils_nom\", \"Tracteur#PULV\\u00c9RISATEUR\"], [\"fr.inra.agrosyst.api.entities.practiced.PracticedIntervention_ee9e8b9d-caf0-40c0-bcea-fef2b6897a0b\", \"combinaison_outils_nom\", \"Tracteur#\\u00c9PANDEUR \\u00c0 CHAUX\"], [\"fr.inra.agrosyst.api.entities.practiced.PracticedIntervention_8bcda09b-bcc0-4523-b14c-292e56beb9d4\", \"combinaison_outils_nom\", \"VIBRO 6M\"], [\"fr.inra.agrosyst.api.entities.practiced.PracticedIntervention_707f56b0-8dd3-4810-8c48-6d1be8651220\", \"combinaison_outils_nom\", \"Tracteur#D\\u00c9CHAUMEUR \\u00c0 DISQUES\"], [\"fr.inra.agrosyst.api.entities.practiced.PracticedIntervention_950bfc4a-646d-491b-b1c3-f74ffcebb24f\", \"combinaison_outils_nom\", \"R\\u00e9colte 5-6m\"], [\"fr.inra.agrosyst.api.entities.practiced.PracticedIntervention_0fb55d55-3b3f-49fb-862a-e370760318d6\", \"combinaison_outils_nom\", \"Tracteur + bineuse\"], [\"fr.inra.agrosyst.api.entities.practiced.PracticedIntervention_eeb4849d-d45d-4e0d-81f6-32d6284f3df3\", \"combinaison_outils_nom\", \"Tracteur#D\\u00c9CHAUMEUR \\u00c0 DISQUES\"], [\"fr.inra.agrosyst.api.entities.practiced.PracticedIntervention_226f16ce-28ef-4873-90a3-8a58b26fc6ac\", \"tracteur_ou_automoteur\", \"TRACTEURS SPECIALISES 4RM VIGNE\"], [\"fr.inra.agrosyst.api.entities.practiced.PracticedIntervention_c2057795-9782-44de-bafe-11ff6704d8bc\", \"tracteur_ou_automoteur\", \"TRACTEURS CLASSIQUES\"], [\"fr.inra.agrosyst.api.entities.practiced.PracticedIntervention_c555a632-09f5-4c97-ab46-ef1dd0abeed6\", \"tracteur_ou_automoteur\", \"TRACTEURS SPECIALISES 4RM ARBO\"], [\"fr.inra.agrosyst.api.entities.practiced.PracticedIntervention_de0353ca-602a-4634-92e8-06fa316c16a1\", \"tracteur_ou_automoteur\", \"TRACTEURS CLASSIQUES\"], [\"fr.inra.agrosyst.api.entities.practiced.PracticedIntervention_ee9e8b9d-caf0-40c0-bcea-fef2b6897a0b\", \"tracteur_ou_automoteur\", \"TRACTEURS CLASSIQUES\"], [\"fr.inra.agrosyst.api.entities.practiced.PracticedIntervention_8bcda09b-bcc0-4523-b14c-292e56beb9d4\", \"tracteur_ou_automoteur\", \"TRACTEURS CLASSIQUES\"], [\"fr.inra.agrosyst.api.entities.practiced.PracticedIntervention_707f56b0-8dd3-4810-8c48-6d1be8651220\", \"tracteur_ou_automoteur\", \"TRACTEURS CLASSIQUES\"], [\"fr.inra.agrosyst.api.entities.practiced.PracticedIntervention_950bfc4a-646d-491b-b1c3-f74ffcebb24f\", \"tracteur_ou_automoteur\", \"MOISSONNEUSES-BATTEUSES\"], [\"fr.inra.agrosyst.api.entities.practiced.PracticedIntervention_0fb55d55-3b3f-49fb-862a-e370760318d6\", \"tracteur_ou_automoteur\", \"TRACTEURS CLASSIQUES\"], [\"fr.inra.agrosyst.api.entities.practiced.PracticedIntervention_eeb4849d-d45d-4e0d-81f6-32d6284f3df3\", \"tracteur_ou_automoteur\", \"TRACTEURS CLASSIQUES\"], [\"fr.inra.agrosyst.api.entities.practiced.PracticedIntervention_226f16ce-28ef-4873-90a3-8a58b26fc6ac\", \"outils\", \"Cultivateur Viti\"], [\"fr.inra.agrosyst.api.entities.practiced.PracticedIntervention_c2057795-9782-44de-bafe-11ff6704d8bc\", \"outils\", \"DECHAUMEURS-PULVERISEURS\"], [\"fr.inra.agrosyst.api.entities.practiced.PracticedIntervention_c555a632-09f5-4c97-ab46-ef1dd0abeed6\", \"outils\", \"Pulv\\u00e9risateur Vigne\"], [\"fr.inra.agrosyst.api.entities.practiced.PracticedIntervention_de0353ca-602a-4634-92e8-06fa316c16a1\", \"outils\", \"PULVERISATEURS\"], [\"fr.inra.agrosyst.api.entities.practiced.PracticedIntervention_ee9e8b9d-caf0-40c0-bcea-fef2b6897a0b\", \"outils\", \"EPANDEURS & ACCESSOIRES\"], [\"fr.inra.agrosyst.api.entities.practiced.PracticedIntervention_8bcda09b-bcc0-4523-b14c-292e56beb9d4\", \"outils\", \"CULTIVATEURS\"], [\"fr.inra.agrosyst.api.entities.practiced.PracticedIntervention_707f56b0-8dd3-4810-8c48-6d1be8651220\", \"outils\", \"DECHAUMEURS-PULVERISEURS\"], [\"fr.inra.agrosyst.api.entities.practiced.PracticedIntervention_950bfc4a-646d-491b-b1c3-f74ffcebb24f\", \"outils\", \"NaN\"], [\"fr.inra.agrosyst.api.entities.practiced.PracticedIntervention_0fb55d55-3b3f-49fb-862a-e370760318d6\", \"outils\", \"BINEUSES INTERRRANG\"], [\"fr.inra.agrosyst.api.entities.practiced.PracticedIntervention_eeb4849d-d45d-4e0d-81f6-32d6284f3df3\", \"outils\", \"DECHAUMEURS-PULVERISEURS\"]];\n",
       "\n",
       "        // Define the dt_args\n",
       "        let dt_args = {\"layout\": {\"topStart\": \"pageLength\", \"topEnd\": \"search\", \"bottomStart\": \"info\", \"bottomEnd\": \"paging\"}, \"order\": []};\n",
       "        dt_args[\"data\"] = data;\n",
       "\n",
       "        \n",
       "        new DataTable(table, dt_args);\n",
       "    });\n",
       "</script>\n"
      ],
      "text/plain": [
       "<IPython.core.display.HTML object>"
      ]
     },
     "metadata": {},
     "output_type": "display_data"
    }
   ],
   "source": [
    "table_show(pd.melt(df_studied[['intervention_id', 'combinaison_outils_nom', 'tracteur_ou_automoteur', 'outils']], id_vars=['intervention_id']))"
   ]
  },
  {
   "cell_type": "code",
   "execution_count": 7,
   "metadata": {},
   "outputs": [
    {
     "data": {
      "text/html": [
       "<table id=\"itables_76fb58e7_62ba_4d5d_bc70_bd82c265678d\" class=\"display nowrap\" data-quarto-disable-processing=\"true\" style=\"table-layout:auto;width:auto;margin:auto;caption-side:bottom\">\n",
       "<thead>\n",
       "    <tr style=\"text-align: right;\">\n",
       "      \n",
       "      <th>intervention_id</th>\n",
       "      <th>variable</th>\n",
       "      <th>value</th>\n",
       "    </tr>\n",
       "  </thead><tbody><tr>\n",
       "<td style=\"vertical-align:middle; text-align:left\">\n",
       "<div style=\"float:left; margin-right: 10px;\">\n",
       "<a href=https://mwouts.github.io/itables/><svg class=\"main-svg\" xmlns=\"http://www.w3.org/2000/svg\" xmlns:xlink=\"http://www.w3.org/1999/xlink\"\n",
       "width=\"64\" viewBox=\"0 0 500 400\" style=\"font-family: 'Droid Sans', sans-serif;\">\n",
       "    <g style=\"fill:#d9d7fc\">\n",
       "        <path d=\"M100,400H500V357H100Z\" />\n",
       "        <path d=\"M100,300H400V257H100Z\" />\n",
       "        <path d=\"M0,200H400V157H0Z\" />\n",
       "        <path d=\"M100,100H500V57H100Z\" />\n",
       "        <path d=\"M100,350H500V307H100Z\" />\n",
       "        <path d=\"M100,250H400V207H100Z\" />\n",
       "        <path d=\"M0,150H400V107H0Z\" />\n",
       "        <path d=\"M100,50H500V7H100Z\" />\n",
       "    </g>\n",
       "    <g style=\"fill:#1a1366;stroke:#1a1366;\">\n",
       "   <rect x=\"100\" y=\"7\" width=\"400\" height=\"43\">\n",
       "    <animate\n",
       "      attributeName=\"width\"\n",
       "      values=\"0;400;0\"\n",
       "      dur=\"5s\"\n",
       "      repeatCount=\"indefinite\" />\n",
       "      <animate\n",
       "      attributeName=\"x\"\n",
       "      values=\"100;100;500\"\n",
       "      dur=\"5s\"\n",
       "      repeatCount=\"indefinite\" />\n",
       "  </rect>\n",
       "        <rect x=\"0\" y=\"107\" width=\"400\" height=\"43\">\n",
       "    <animate\n",
       "      attributeName=\"width\"\n",
       "      values=\"0;400;0\"\n",
       "      dur=\"3.5s\"\n",
       "      repeatCount=\"indefinite\" />\n",
       "    <animate\n",
       "      attributeName=\"x\"\n",
       "      values=\"0;0;400\"\n",
       "      dur=\"3.5s\"\n",
       "      repeatCount=\"indefinite\" />\n",
       "  </rect>\n",
       "        <rect x=\"100\" y=\"207\" width=\"300\" height=\"43\">\n",
       "    <animate\n",
       "      attributeName=\"width\"\n",
       "      values=\"0;300;0\"\n",
       "      dur=\"3s\"\n",
       "      repeatCount=\"indefinite\" />\n",
       "    <animate\n",
       "      attributeName=\"x\"\n",
       "      values=\"100;100;400\"\n",
       "      dur=\"3s\"\n",
       "      repeatCount=\"indefinite\" />\n",
       "  </rect>\n",
       "        <rect x=\"100\" y=\"307\" width=\"400\" height=\"43\">\n",
       "    <animate\n",
       "      attributeName=\"width\"\n",
       "      values=\"0;400;0\"\n",
       "      dur=\"4s\"\n",
       "      repeatCount=\"indefinite\" />\n",
       "      <animate\n",
       "      attributeName=\"x\"\n",
       "      values=\"100;100;500\"\n",
       "      dur=\"4s\"\n",
       "      repeatCount=\"indefinite\" />\n",
       "  </rect>\n",
       "        <g style=\"fill:transparent;stroke-width:8; stroke-linejoin:round\" rx=\"5\">\n",
       "            <g transform=\"translate(45 50) rotate(-45)\">\n",
       "                <circle r=\"33\" cx=\"0\" cy=\"0\" />\n",
       "                <rect x=\"-8\" y=\"32\" width=\"16\" height=\"30\" />\n",
       "            </g>\n",
       "\n",
       "            <g transform=\"translate(450 152)\">\n",
       "                <polyline points=\"-15,-20 -35,-20 -35,40 25,40 25,20\" />\n",
       "                <rect x=\"-15\" y=\"-40\" width=\"60\" height=\"60\" />\n",
       "            </g>\n",
       "\n",
       "            <g transform=\"translate(50 352)\">\n",
       "                <polygon points=\"-35,-5 0,-40 35,-5\" />\n",
       "                <polygon points=\"-35,10 0,45 35,10\" />\n",
       "            </g>\n",
       "\n",
       "            <g transform=\"translate(75 250)\">\n",
       "                <polyline points=\"-30,30 -60,0 -30,-30\" />\n",
       "                <polyline points=\"0,30 -30,0 0,-30\" />\n",
       "            </g>\n",
       "\n",
       "            <g transform=\"translate(425 250) rotate(180)\">\n",
       "                <polyline points=\"-30,30 -60,0 -30,-30\" />\n",
       "                <polyline points=\"0,30 -30,0 0,-30\" />\n",
       "            </g>\n",
       "        </g>\n",
       "    </g>\n",
       "</svg>\n",
       "</a>\n",
       "</div>\n",
       "<div>\n",
       "Loading ITables v2.1.4 from the internet...\n",
       "(need <a href=https://mwouts.github.io/itables/troubleshooting.html>help</a>?)</td>\n",
       "</div>\n",
       "</tr></tbody>\n",
       "\n",
       "</table>\n",
       "<link href=\"https://www.unpkg.com/dt_for_itables@2.0.11/dt_bundle.css\" rel=\"stylesheet\">\n",
       "<script type=\"module\">\n",
       "    import {DataTable, jQuery as $} from 'https://www.unpkg.com/dt_for_itables@2.0.11/dt_bundle.js';\n",
       "\n",
       "    document.querySelectorAll(\"#itables_76fb58e7_62ba_4d5d_bc70_bd82c265678d:not(.dataTable)\").forEach(table => {\n",
       "        // Define the table data\n",
       "        const data = [[\"fr.inra.agrosyst.api.entities.practiced.PracticedIntervention_226f16ce-28ef-4873-90a3-8a58b26fc6ac\", \"combinaison_outils_nom\", \"hersage\"], [\"fr.inra.agrosyst.api.entities.practiced.PracticedIntervention_c2057795-9782-44de-bafe-11ff6704d8bc\", \"combinaison_outils_nom\", \"D\\u00e9chaumage\"], [\"fr.inra.agrosyst.api.entities.practiced.PracticedIntervention_c555a632-09f5-4c97-ab46-ef1dd0abeed6\", \"combinaison_outils_nom\", \"pulv\\u00e9risateur \\u00e0 jet port\\u00e9\"], [\"fr.inra.agrosyst.api.entities.practiced.PracticedIntervention_de0353ca-602a-4634-92e8-06fa316c16a1\", \"combinaison_outils_nom\", \"Tracteur#PULV\\u00c9RISATEUR\"], [\"fr.inra.agrosyst.api.entities.practiced.PracticedIntervention_ee9e8b9d-caf0-40c0-bcea-fef2b6897a0b\", \"combinaison_outils_nom\", \"Tracteur#\\u00c9PANDEUR \\u00c0 CHAUX\"], [\"fr.inra.agrosyst.api.entities.practiced.PracticedIntervention_8bcda09b-bcc0-4523-b14c-292e56beb9d4\", \"combinaison_outils_nom\", \"VIBRO 6M\"], [\"fr.inra.agrosyst.api.entities.practiced.PracticedIntervention_707f56b0-8dd3-4810-8c48-6d1be8651220\", \"combinaison_outils_nom\", \"Tracteur#D\\u00c9CHAUMEUR \\u00c0 DISQUES\"], [\"fr.inra.agrosyst.api.entities.practiced.PracticedIntervention_950bfc4a-646d-491b-b1c3-f74ffcebb24f\", \"combinaison_outils_nom\", \"R\\u00e9colte 5-6m\"], [\"fr.inra.agrosyst.api.entities.practiced.PracticedIntervention_0fb55d55-3b3f-49fb-862a-e370760318d6\", \"combinaison_outils_nom\", \"Tracteur + bineuse\"], [\"fr.inra.agrosyst.api.entities.practiced.PracticedIntervention_eeb4849d-d45d-4e0d-81f6-32d6284f3df3\", \"combinaison_outils_nom\", \"Tracteur#D\\u00c9CHAUMEUR \\u00c0 DISQUES\"], [\"fr.inra.agrosyst.api.entities.practiced.PracticedIntervention_226f16ce-28ef-4873-90a3-8a58b26fc6ac\", \"tracteur_ou_automoteur\", \"TRACTEURS SPECIALISES 4RM VIGNE\"], [\"fr.inra.agrosyst.api.entities.practiced.PracticedIntervention_c2057795-9782-44de-bafe-11ff6704d8bc\", \"tracteur_ou_automoteur\", \"TRACTEURS CLASSIQUES\"], [\"fr.inra.agrosyst.api.entities.practiced.PracticedIntervention_c555a632-09f5-4c97-ab46-ef1dd0abeed6\", \"tracteur_ou_automoteur\", \"TRACTEURS SPECIALISES 4RM ARBO\"], [\"fr.inra.agrosyst.api.entities.practiced.PracticedIntervention_de0353ca-602a-4634-92e8-06fa316c16a1\", \"tracteur_ou_automoteur\", \"TRACTEURS CLASSIQUES\"], [\"fr.inra.agrosyst.api.entities.practiced.PracticedIntervention_ee9e8b9d-caf0-40c0-bcea-fef2b6897a0b\", \"tracteur_ou_automoteur\", \"TRACTEURS CLASSIQUES\"], [\"fr.inra.agrosyst.api.entities.practiced.PracticedIntervention_8bcda09b-bcc0-4523-b14c-292e56beb9d4\", \"tracteur_ou_automoteur\", \"TRACTEURS CLASSIQUES\"], [\"fr.inra.agrosyst.api.entities.practiced.PracticedIntervention_707f56b0-8dd3-4810-8c48-6d1be8651220\", \"tracteur_ou_automoteur\", \"TRACTEURS CLASSIQUES\"], [\"fr.inra.agrosyst.api.entities.practiced.PracticedIntervention_950bfc4a-646d-491b-b1c3-f74ffcebb24f\", \"tracteur_ou_automoteur\", \"MOISSONNEUSES-BATTEUSES\"], [\"fr.inra.agrosyst.api.entities.practiced.PracticedIntervention_0fb55d55-3b3f-49fb-862a-e370760318d6\", \"tracteur_ou_automoteur\", \"TRACTEURS CLASSIQUES\"], [\"fr.inra.agrosyst.api.entities.practiced.PracticedIntervention_eeb4849d-d45d-4e0d-81f6-32d6284f3df3\", \"tracteur_ou_automoteur\", \"TRACTEURS CLASSIQUES\"], [\"fr.inra.agrosyst.api.entities.practiced.PracticedIntervention_226f16ce-28ef-4873-90a3-8a58b26fc6ac\", \"outils\", \"Cultivateur Viti\"], [\"fr.inra.agrosyst.api.entities.practiced.PracticedIntervention_c2057795-9782-44de-bafe-11ff6704d8bc\", \"outils\", \"DECHAUMEURS-PULVERISEURS\"], [\"fr.inra.agrosyst.api.entities.practiced.PracticedIntervention_c555a632-09f5-4c97-ab46-ef1dd0abeed6\", \"outils\", \"Pulv\\u00e9risateur Vigne\"], [\"fr.inra.agrosyst.api.entities.practiced.PracticedIntervention_de0353ca-602a-4634-92e8-06fa316c16a1\", \"outils\", \"PULVERISATEURS\"], [\"fr.inra.agrosyst.api.entities.practiced.PracticedIntervention_ee9e8b9d-caf0-40c0-bcea-fef2b6897a0b\", \"outils\", \"EPANDEURS & ACCESSOIRES\"], [\"fr.inra.agrosyst.api.entities.practiced.PracticedIntervention_8bcda09b-bcc0-4523-b14c-292e56beb9d4\", \"outils\", \"CULTIVATEURS\"], [\"fr.inra.agrosyst.api.entities.practiced.PracticedIntervention_707f56b0-8dd3-4810-8c48-6d1be8651220\", \"outils\", \"DECHAUMEURS-PULVERISEURS\"], [\"fr.inra.agrosyst.api.entities.practiced.PracticedIntervention_950bfc4a-646d-491b-b1c3-f74ffcebb24f\", \"outils\", \"NaN\"], [\"fr.inra.agrosyst.api.entities.practiced.PracticedIntervention_0fb55d55-3b3f-49fb-862a-e370760318d6\", \"outils\", \"BINEUSES INTERRRANG\"], [\"fr.inra.agrosyst.api.entities.practiced.PracticedIntervention_eeb4849d-d45d-4e0d-81f6-32d6284f3df3\", \"outils\", \"DECHAUMEURS-PULVERISEURS\"]];\n",
       "\n",
       "        // Define the dt_args\n",
       "        let dt_args = {\"layout\": {\"topStart\": \"pageLength\", \"topEnd\": \"search\", \"bottomStart\": \"info\", \"bottomEnd\": \"paging\"}, \"order\": []};\n",
       "        dt_args[\"data\"] = data;\n",
       "\n",
       "        \n",
       "        new DataTable(table, dt_args);\n",
       "    });\n",
       "</script>\n"
      ],
      "text/plain": [
       "<IPython.core.display.HTML object>"
      ]
     },
     "metadata": {},
     "output_type": "display_data"
    }
   ],
   "source": [
    "table_show(pd.melt(df_studied[['intervention_id', 'combinaison_outils_nom', 'tracteur_ou_automoteur', 'outils']], id_vars=['intervention_id']))"
   ]
  },
  {
   "cell_type": "code",
   "execution_count": 23,
   "metadata": {},
   "outputs": [
    {
     "name": "stdout",
     "output_type": "stream",
     "text": [
      "['fr.inra.agrosyst.api.entities.practiced.PracticedIntervention_226f16ce-28ef-4873-90a3-8a58b26fc6ac', 'fr.inra.agrosyst.api.entities.practiced.PracticedIntervention_c2057795-9782-44de-bafe-11ff6704d8bc', 'fr.inra.agrosyst.api.entities.practiced.PracticedIntervention_c555a632-09f5-4c97-ab46-ef1dd0abeed6', 'fr.inra.agrosyst.api.entities.practiced.PracticedIntervention_de0353ca-602a-4634-92e8-06fa316c16a1', 'fr.inra.agrosyst.api.entities.practiced.PracticedIntervention_ee9e8b9d-caf0-40c0-bcea-fef2b6897a0b', 'fr.inra.agrosyst.api.entities.practiced.PracticedIntervention_8bcda09b-bcc0-4523-b14c-292e56beb9d4', 'fr.inra.agrosyst.api.entities.practiced.PracticedIntervention_707f56b0-8dd3-4810-8c48-6d1be8651220', 'fr.inra.agrosyst.api.entities.practiced.PracticedIntervention_950bfc4a-646d-491b-b1c3-f74ffcebb24f', 'fr.inra.agrosyst.api.entities.practiced.PracticedIntervention_0fb55d55-3b3f-49fb-862a-e370760318d6', 'fr.inra.agrosyst.api.entities.practiced.PracticedIntervention_eeb4849d-d45d-4e0d-81f6-32d6284f3df3']\n"
     ]
    }
   ],
   "source": [
    "print(list(df_studied['intervention_id'].values))"
   ]
  },
  {
   "cell_type": "code",
   "execution_count": 5,
   "metadata": {},
   "outputs": [],
   "source": [
    "studied_ids = [\n",
    "    'fr.inra.agrosyst.api.entities.practiced.PracticedIntervention_226f16ce-28ef-4873-90a3-8a58b26fc6ac', \n",
    "    'fr.inra.agrosyst.api.entities.practiced.PracticedIntervention_c555a632-09f5-4c97-ab46-ef1dd0abeed6', \n",
    "    'fr.inra.agrosyst.api.entities.practiced.PracticedIntervention_de0353ca-602a-4634-92e8-06fa316c16a1', \n",
    "    'fr.inra.agrosyst.api.entities.practiced.PracticedIntervention_ee9e8b9d-caf0-40c0-bcea-fef2b6897a0b', \n",
    "    'fr.inra.agrosyst.api.entities.practiced.PracticedIntervention_eeb4849d-d45d-4e0d-81f6-32d6284f3df3', \n",
    "    'fr.inra.agrosyst.api.entities.practiced.PracticedIntervention_c2057795-9782-44de-bafe-11ff6704d8bc', \n",
    "    'fr.inra.agrosyst.api.entities.practiced.PracticedIntervention_707f56b0-8dd3-4810-8c48-6d1be8651220', \n",
    "    'fr.inra.agrosyst.api.entities.practiced.PracticedIntervention_0fb55d55-3b3f-49fb-862a-e370760318d6', \n",
    "    'fr.inra.agrosyst.api.entities.practiced.PracticedIntervention_8bcda09b-bcc0-4523-b14c-292e56beb9d4', \n",
    "    'fr.inra.agrosyst.api.entities.practiced.PracticedIntervention_950bfc4a-646d-491b-b1c3-f74ffcebb24f'\n",
    "]"
   ]
  },
  {
   "cell_type": "code",
   "execution_count": 25,
   "metadata": {},
   "outputs": [
    {
     "name": "stderr",
     "output_type": "stream",
     "text": [
      "100%|██████████| 4/4 [00:06<00:00,  1.74s/it]\n",
      "100%|██████████| 1/1 [00:00<00:00,  2.30it/s]\n"
     ]
    }
   ],
   "source": [
    "donnees = {}\n",
    "\n",
    "def import_df(df_name, path_data, sep, index_col=None):\n",
    "    donnees[df_name] = pd.read_csv(path_data+df_name+'.csv', sep = sep, index_col=index_col, low_memory=False)\n",
    "\n",
    "def import_dfs(df_names, path_data, sep = ',', index_col=None, verbose=False):\n",
    "    for df_name in tqdm(df_names) : \n",
    "        if(verbose) :\n",
    "            print(\" - \", df_name)\n",
    "        import_df(df_name, path_data, sep, index_col=index_col)\n",
    "\n",
    "tables_entrepot = [\n",
    "    'combinaison_outil', 'materiel', 'intervention_synthetise', 'intervention_synthetise_restructure'\n",
    "]\n",
    "\n",
    "tables_performance = [\n",
    "]\n",
    "\n",
    "# import des données de l'entrepôt avec la colonne 'id' en index \n",
    "import_dfs(tables_entrepot, ENTREPOT_PATH, sep = ',',index_col='id', verbose=False)\n",
    "\n",
    "# import des données de performance\n",
    "import_dfs(['combinaison_outil_materiel'], ENTREPOT_PATH, sep = ',', verbose=False)\n"
   ]
  },
  {
   "cell_type": "code",
   "execution_count": 26,
   "metadata": {},
   "outputs": [],
   "source": [
    "left = donnees['intervention_synthetise']\n",
    "right = donnees['intervention_synthetise_restructure']\n",
    "donnees['intervention_synthetise_extanded'] = pd.merge(left, right, left_index=True, right_index=True, how='left')"
   ]
  },
  {
   "cell_type": "code",
   "execution_count": 29,
   "metadata": {},
   "outputs": [],
   "source": [
    "donnees['intervention_synthetise_test'] = donnees['intervention_synthetise'].loc[\n",
    "    donnees['intervention_synthetise'].index.isin(studied_ids)\n",
    "]\n",
    "donnees['intervention_synthetise_restructure_test'] = donnees['intervention_synthetise_extanded'].loc[\n",
    "    donnees['intervention_synthetise_extanded'].index.isin(studied_ids)\n",
    "]\n",
    "\n",
    "donnees['combinaison_outil_test'] = donnees['combinaison_outil'].loc[\n",
    "    donnees['combinaison_outil'].index.isin(donnees['intervention_synthetise_restructure_test']['combinaison_outil_id'])\n",
    "]\n",
    "\n",
    "donnees['combinaison_outil_materiel_test'] = donnees['combinaison_outil_materiel'].loc[\n",
    "    donnees['combinaison_outil_materiel']['combinaison_outil_id'].isin(donnees['combinaison_outil_test'].index)\n",
    "]\n",
    "\n",
    "donnees['materiel_test'] = donnees['materiel'].loc[\n",
    "    donnees['materiel'].index.isin(donnees['combinaison_outil_materiel_test']['materiel_id']) |\n",
    "    donnees['materiel'].index.isin(donnees['combinaison_outil_test']['tracteur_materiel_id'])\n",
    "]"
   ]
  },
  {
   "cell_type": "code",
   "execution_count": 30,
   "metadata": {},
   "outputs": [],
   "source": [
    "path=''\n",
    "donnees['intervention_synthetise_test'].to_csv(path+'intervention_synthetise'+'.csv')\n",
    "donnees['intervention_synthetise_restructure_test'].to_csv(path+'intervention_synthetise_restructure'+'.csv')\n",
    "donnees['combinaison_outil_test'].to_csv(path+'combinaison_outil'+'.csv')\n",
    "donnees['combinaison_outil_materiel_test'].to_csv(path+'combinaison_outil_materiel'+'.csv')\n",
    "donnees['materiel_test'].to_csv(path+'materiel'+'.csv')"
   ]
  }
 ],
 "metadata": {
  "kernelspec": {
   "display_name": "Python 3",
   "language": "python",
   "name": "python3"
  },
  "language_info": {
   "codemirror_mode": {
    "name": "ipython",
    "version": 3
   },
   "file_extension": ".py",
   "mimetype": "text/x-python",
   "name": "python",
   "nbconvert_exporter": "python",
   "pygments_lexer": "ipython3",
   "version": "3.10.12"
  }
 },
 "nbformat": 4,
 "nbformat_minor": 2
}
