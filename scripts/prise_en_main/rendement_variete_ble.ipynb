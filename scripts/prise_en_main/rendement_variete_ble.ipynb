{
 "cells": [
  {
   "cell_type": "markdown",
   "metadata": {},
   "source": [
    "## Exemple pratique 1 : rendements des variétés de blé\n",
    "\n",
    "### Problématique :\n",
    "On s'intéresse ici à la problématique suivante : \n",
    "- Quelles sont les variétés de blés les plus performantes au sein d'Agrosyst ?\n",
    "\n",
    "On retiendra notamment le rendement comme indicateur de performance\n",
    "\n",
    "Ce script propose une façon de mener à bien cet exercice en utilisant l'architecture de l'entrepôt de données. \n",
    "\n",
    "### Prérequis :\n",
    "* Le script suppose d'avoir télécharger les données issues de l'entrepôt sur la plateforme datagrosyt (https://agrosyst.fr/datagrosyst/)\n",
    "\n",
    "* Le script s'appuie aussi sur les fichiers suivants : \n",
    "    - action_realise_completed.csv\n",
    "    - action_synthetise_completed.csv\n",
    "    - culture_completed.csv\n",
    "    Ceux-ci peuvent être obtenus à travers le fichier generation_completed.ipynb dans utils. \n",
    "\n",
    "* Le script est rédigé en **Python** et suppose une bonne maîtrise de **pandas** \n"
   ]
  },
  {
   "cell_type": "markdown",
   "metadata": {},
   "source": [
    "#### Import des librairies"
   ]
  },
  {
   "cell_type": "code",
   "execution_count": 5,
   "metadata": {},
   "outputs": [],
   "source": [
    "import pandas as pd"
   ]
  },
  {
   "cell_type": "markdown",
   "metadata": {},
   "source": [
    "#### Import des données"
   ]
  },
  {
   "cell_type": "code",
   "execution_count": 7,
   "metadata": {},
   "outputs": [
    {
     "name": "stderr",
     "output_type": "stream",
     "text": [
      "/tmp/ipykernel_8298/2075397464.py:48: DtypeWarning: Columns (3,4,10) have mixed types. Specify dtype option on import or set low_memory=False.\n",
      "  df_utilisation_intrant_realise_agrege = pd.read_csv(path_utilisation_intrant_realise_agrege)\n",
      "/tmp/ipykernel_8298/2075397464.py:49: DtypeWarning: Columns (3,4,6,7) have mixed types. Specify dtype option on import or set low_memory=False.\n",
      "  df_utilisation_intrant_synthetise_agrege = pd.read_csv(path_utilisation_intrant_synthetise_agrege)\n"
     ]
    }
   ],
   "source": [
    "# déclaration des chemins de données brutes\n",
    "folder_base = 'data/20231115/base/'\n",
    "path_domaine = folder_base+'domaine.csv'\n",
    "path_espece = folder_base+'espece.csv'\n",
    "path_variete = folder_base+'variete.csv'\n",
    "path_culture = folder_base+'culture.csv'\n",
    "path_composant_culture = folder_base+'composant_culture.csv'\n",
    "path_noeud_realise = folder_base+'noeuds_realise.csv'\n",
    "path_noeud_synthetise = folder_base+'noeuds_synthetise.csv'\n",
    "path_recolte_rendement_prix = folder_base+'recolte_rendement_prix.csv'\n",
    "path_action_realise = folder_base+'action_realise.csv'\n",
    "path_action_synthetise = folder_base+'action_synthetise.csv'\n",
    "path_intervention_realise = folder_base+'intervention_realise.csv'\n",
    "path_intervention_synthetise = folder_base+'intervention_synthetise.csv'\n",
    "path_zone = folder_base+'zone.csv'\n",
    "path_connection_synthetise = folder_base+'connection_synthetise.csv'\n",
    "path_systeme_synthetise = folder_base+'synthetise.csv'\n",
    "path_sdc = folder_base+'sdc.csv'\n",
    "\n",
    "# import des données brutes\n",
    "df_domaine = pd.read_csv(path_domaine)\n",
    "df_espece = pd.read_csv(path_espece)\n",
    "df_variete = pd.read_csv(path_variete)\n",
    "df_culture = pd.read_csv(path_culture)\n",
    "df_composant_culture = pd.read_csv(path_composant_culture)\n",
    "df_noeud_realise = pd.read_csv(path_noeud_realise)\n",
    "df_noeud_synthetise = pd.read_csv(path_noeud_synthetise)\n",
    "df_action_realise = pd.read_csv(path_action_realise, low_memory=False)\n",
    "df_action_synthetise = pd.read_csv(path_action_synthetise, low_memory=False)\n",
    "df_intervention_realise = pd.read_csv(path_intervention_realise, low_memory=False)\n",
    "df_intervention_synthetise = pd.read_csv(path_intervention_synthetise, low_memory=False)\n",
    "df_zone = pd.read_csv(path_zone)\n",
    "df_connection_synthetise = pd.read_csv(path_connection_synthetise)\n",
    "df_synthetise = pd.read_csv(path_systeme_synthetise)\n",
    "df_sdc = pd.read_csv(path_sdc)\n",
    "df_recolte_rendement_prix = pd.read_csv(path_recolte_rendement_prix, low_memory=False)\n",
    "\n",
    "\n",
    "# déclaration des chemins des données agrégées\n",
    "path_utilisation_intrant_realise_agrege = folder_base+'utilisation_intrant_realise_agrege.csv'\n",
    "path_utilisation_intrant_synthetise_agrege = folder_base+'utilisation_intrant_synthetise_agrege.csv'\n",
    "path_intervention_realise_agrege = folder_base+'intervention_realise_agrege.csv'\n",
    "path_intervention_synthetise_agrege = folder_base+'intervention_synthetise_agrege.csv'\n",
    "path_action_realise_agrege = folder_base+'action_realise_agrege.csv'\n",
    "path_action_synthetise_agrege = folder_base+'action_synthetise_agrege.csv'\n",
    "\n",
    "# import des données agrégées\n",
    "df_utilisation_intrant_realise_agrege = pd.read_csv(path_utilisation_intrant_realise_agrege)\n",
    "df_utilisation_intrant_synthetise_agrege = pd.read_csv(path_utilisation_intrant_synthetise_agrege)\n",
    "df_action_realise_agrege = pd.read_csv(path_action_realise_agrege)\n",
    "df_action_synthetise_agrege = pd.read_csv(path_action_synthetise_agrege)"
   ]
  },
  {
   "cell_type": "code",
   "execution_count": 8,
   "metadata": {},
   "outputs": [],
   "source": [
    "# déclaration des fichiers générés\n",
    "folder_generated = 'data/20231115/generated/'\n",
    "path_culture_completed = folder_generated+'culture_completed.csv'\n",
    "\n",
    "# import des données générées\n",
    "df_culture_completed = pd.read_csv(path_culture_completed)"
   ]
  },
  {
   "cell_type": "markdown",
   "metadata": {},
   "source": [
    "#### Sélection des données utiles à l'étude"
   ]
  },
  {
   "cell_type": "code",
   "execution_count": 31,
   "metadata": {},
   "outputs": [],
   "source": [
    "# observation de tous les code_espece_botanique susceptibles d'être du blé :\n",
    "df_espece.loc[df_espece['libelle_espece_botanique'].str.contains('[Bb]l[ée]', regex=True)][['libelle_espece_botanique', 'code_espece_botanique']]\n",
    "\n",
    "# définition de df_espece_ble (espèces spécifiques à la culture de blé)\n",
    "studied_espece_botanique = ['ZAQ', 'ZAR']\n",
    "df_espece_ble = df_espece.loc[df_espece['code_espece_botanique'].isin(studied_espece_botanique)]\n",
    "\n",
    "# définition de df_variete_ble (variétés spécifiques aux espèces blés)\n",
    "df_variete_ble = df_variete.loc[df_variete['code_gnis'].isin(df_espece_ble['code_gnis'])]\n",
    "\n",
    "# obtention de tous les composants de cultures qui sont des variétés intéressantes pour notre étude (blé)\n",
    "df_composant_culture_variete_ble = df_composant_culture.loc[df_composant_culture['variete_id'].isin(df_variete_ble['id'])]\n",
    "\n",
    "# obtention de toutes les cultures dans lesquelles ont été déclarés ces composants\n",
    "df_culture_variete_ble = df_culture.loc[df_culture['id'].isin(df_composant_culture_variete_ble['culture_id'])]\n",
    "\n",
    "#------------#\n",
    "#  RÉALISÉ   #\n",
    "#------------#\n",
    "# obtention de tous noeuds en réalisés sur lesquelles ces cultures ont été mobilisées\n",
    "df_noeud_realise_variete_ble = df_noeud_realise.loc[df_noeud_realise['culture_id'].isin(df_culture_variete_ble['id'])]\n",
    "\n",
    "# obtention de tous les identifiants d'action qui ont lieu sur les noeuds considérés : \n",
    "action_realise_variete_ble_ids = df_action_realise_agrege.loc[df_action_realise_agrege['noeuds_realise_id'].isin(df_noeud_realise_variete_ble['id'])]['id']\n",
    "\n",
    "# obtention de toutes les actions en question\n",
    "df_action_realise_variete_ble = df_action_realise.loc[df_action_realise['id'].isin(list(action_realise_variete_ble_ids))]\n",
    "\n",
    "#------------#\n",
    "# SYNTHÉTISÉ #\n",
    "#------------#\n",
    "# obtention de tous les noeuds en synthétisés sur lesquelles ces cultures ont été mobilisées\n",
    "df_noeud_synthetise_variete_ble = df_noeud_synthetise.loc[df_noeud_synthetise['culture_code'].isin(df_culture_variete_ble['code'])]\n",
    "\n",
    "# obtention de tous les identifiants d'action qui ont lieu sur les noeuds considérés : \n",
    "action_synthetise_variete_ble_ids = df_action_synthetise_agrege.loc[df_action_synthetise_agrege['source_noeuds_synthetise_id'].isin(df_noeud_synthetise_variete_ble['id'])]['id']\n",
    "\n",
    "# obtention de toutes les actions en question\n",
    "df_action_synthetise_variete_ble = df_action_synthetise.loc[df_action_synthetise['id'].isin(list(action_synthetise_variete_ble_ids))]\n",
    "\n",
    "#------------#\n",
    "#    TOTAL   #\n",
    "#------------#\n",
    "# obtention des rendements associés aux actions (en réalisé et en synthétisé)\n",
    "df_recolte_rendement_prix_ble = df_recolte_rendement_prix.loc[\n",
    "    (df_recolte_rendement_prix['action_id'].isin(df_action_realise_variete_ble['id']))\n",
    "    |\n",
    "    (df_recolte_rendement_prix['action_id'].isin(df_action_synthetise_variete_ble['id']))\n",
    "]\n"
   ]
  },
  {
   "cell_type": "markdown",
   "metadata": {},
   "source": [
    "#### Ajout de contexte aux données"
   ]
  },
  {
   "cell_type": "code",
   "execution_count": 32,
   "metadata": {},
   "outputs": [],
   "source": [
    "# ajout de la campagne agricole sur laquelle l'action est menée grace aux fichiers complétés \n",
    "left = df_action_realise_variete_ble\n",
    "right = df_action_realise_agrege[['id', 'sdc_campagne']].rename(columns={'sdc_campagne' : 'campagne'})\n",
    "df_action_realise_variete_ble = pd.merge(left, right, on = 'id')\n",
    "\n",
    "left = df_action_synthetise_variete_ble\n",
    "right = df_action_synthetise_agrege[['id', 'sdc_campagne']].rename(columns={'sdc_campagne' : 'campagne'})\n",
    "df_action_synthetise_variete_ble = pd.merge(left, right, on = 'id')\n",
    "\n",
    "# ajout de la campagne agricole sur laquelle le composant de culture est déclaré grace à un fichier complété\n",
    "left = df_composant_culture_variete_ble\n",
    "right = df_culture_completed[['id', 'campagne']].rename(columns={'id' : 'culture_id'})\n",
    "df_composant_culture_variete_ble = pd.merge(left, right, on ='culture_id')\n",
    "\n",
    "# en vue de la concaténation dans un même dataframe, on garde la trace de l'origine de l'action (type de saisie)\n",
    "df_action_realise_variete_ble['type_saisie'] = 'realise'\n",
    "df_action_synthetise_variete_ble['type_saisie'] = 'synthetise'\n",
    "\n",
    "# concaténation des actions étudiées pour le réalisé et le synthétisé\n",
    "df_action_variete_ble = pd.concat([df_action_realise_variete_ble[['id', 'campagne', 'type_saisie']], df_action_synthetise_variete_ble[['id', 'campagne', 'type_saisie']]])\n",
    "\n",
    "# ajout des informations  au rendements déclarés \n",
    "left = df_recolte_rendement_prix_ble[['id', 'rendement_moy', 'rendement_unite', 'destination', 'prixreel', 'prixreel_unite', 'composant_culture_code', 'action_id']]\n",
    "right = df_action_variete_ble[['id', 'campagne', 'type_saisie']].rename(columns={'id' :'action_id'})\n",
    "df_recolte_rendement_prix_ble = pd.merge(left, right, on = 'action_id', how='left') \n",
    "\n",
    "# obtention du bon composant culture associé au rendement(bon = bonne campagne)\n",
    "left = df_recolte_rendement_prix_ble\n",
    "right = df_composant_culture_variete_ble[['code', 'campagne', 'espece_id', 'variete_id']].rename(columns={'code' : 'composant_culture_code'})\n",
    "df_recolte_rendement_prix_ble = pd.merge(left, right, on =['composant_culture_code', 'campagne'], how='left')\n",
    "\n",
    "# ajout des informations de l'espèce\n",
    "left = df_recolte_rendement_prix_ble\n",
    "right = df_espece_ble[['id', 'code_gnis']].rename(columns={'id':'espece_id'})\n",
    "merge = pd.merge(left, right, on = 'espece_id', how = 'left')\n",
    "\n",
    "# ajout des informations de la variété \n",
    "left = merge\n",
    "right = df_variete_ble[['id', 'denomination']].rename(columns = {'id' : 'variete_id'})\n",
    "df = pd.merge(left, right, on ='variete_id', how='left')"
   ]
  },
  {
   "cell_type": "markdown",
   "metadata": {},
   "source": [
    "#### Traitement pour visualisation"
   ]
  },
  {
   "cell_type": "code",
   "execution_count": 33,
   "metadata": {},
   "outputs": [],
   "source": [
    "# On focalise notre étude sur les rendements déclarés en TONNE_MS_HA\n",
    "df_tonne_ms_ha = df.loc[df['rendement_unite'] == 'TONNE_MS_HA'][['id', 'rendement_moy', 'code_gnis', 'denomination', 'type_saisie']]\n",
    "df_tonne_ms_ha['rendement_moy'] = df_tonne_ms_ha['rendement_moy'].astype('float')\n",
    "\n",
    "def agg_denomination(x):\n",
    "    \"\"\"\n",
    "        Fonction permettant d'effectuer l'aggrégation des dénominations de variétés. \n",
    "        Retourne la moyenne du rendement, l'écart type du rendement et le nombre d'occurrences pour chaque variété \n",
    "    \"\"\"\n",
    "    d = {}\n",
    "    d['rendement_moyen'] = x['rendement_moy'].mean()\n",
    "    d['rendement_std'] = x['rendement_moy'].std()\n",
    "    d['type_saisie'] = x['type_saisie'].unique()\n",
    "    d['count'] = x['id'].count()\n",
    "    return pd.Series(d, index=d.keys())\n",
    "\n",
    "# On créé un dataset pour la visualisation\n",
    "df_tonne_ms_ha_stats = df_tonne_ms_ha.groupby('denomination').apply(agg_denomination).reset_index()"
   ]
  },
  {
   "cell_type": "markdown",
   "metadata": {},
   "source": [
    "#### Visualisation"
   ]
  },
  {
   "cell_type": "code",
   "execution_count": 34,
   "metadata": {},
   "outputs": [
    {
     "data": {
      "image/svg+xml": [
       "<svg class=\"main-svg\" xmlns=\"http://www.w3.org/2000/svg\" xmlns:xlink=\"http://www.w3.org/1999/xlink\" width=\"700\" height=\"400\" style=\"\" viewBox=\"0 0 700 400\"><rect x=\"0\" y=\"0\" width=\"700\" height=\"400\" style=\"fill: rgb(255, 255, 255); fill-opacity: 1;\"/><defs id=\"defs-a75d2a\"><g class=\"clips\"><clipPath id=\"clipa75d2axyplot\" class=\"plotclip\"><rect width=\"540\" height=\"256\"/></clipPath><clipPath class=\"axesclip\" id=\"clipa75d2ax\"><rect x=\"80\" y=\"0\" width=\"540\" height=\"400\"/></clipPath><clipPath class=\"axesclip\" id=\"clipa75d2ay\"><rect x=\"0\" y=\"60\" width=\"700\" height=\"256\"/></clipPath><clipPath class=\"axesclip\" id=\"clipa75d2axy\"><rect x=\"80\" y=\"60\" width=\"540\" height=\"256\"/></clipPath></g><g class=\"gradients\"/><g class=\"patterns\"/></defs><g class=\"bglayer\"><rect class=\"bg\" x=\"80\" y=\"60\" width=\"540\" height=\"256\" style=\"fill: rgb(229, 236, 246); fill-opacity: 1; stroke-width: 0;\"/></g><g class=\"layer-below\"><g class=\"imagelayer\"/><g class=\"shapelayer\"/></g><g class=\"cartesianlayer\"><g class=\"subplot xy\"><g class=\"layer-subplot\"><g class=\"shapelayer\"/><g class=\"imagelayer\"/></g><g class=\"minor-gridlayer\"><g class=\"x\"/><g class=\"y\"/></g><g class=\"gridlayer\"><g class=\"x\"/><g class=\"y\"><path class=\"ygrid crisp\" transform=\"translate(0,258.93)\" d=\"M80,0h540\" style=\"stroke: rgb(255, 255, 255); stroke-opacity: 1; stroke-width: 1px;\"/><path class=\"ygrid crisp\" transform=\"translate(0,201.86)\" d=\"M80,0h540\" style=\"stroke: rgb(255, 255, 255); stroke-opacity: 1; stroke-width: 1px;\"/><path class=\"ygrid crisp\" transform=\"translate(0,144.79000000000002)\" d=\"M80,0h540\" style=\"stroke: rgb(255, 255, 255); stroke-opacity: 1; stroke-width: 1px;\"/><path class=\"ygrid crisp\" transform=\"translate(0,87.72)\" d=\"M80,0h540\" style=\"stroke: rgb(255, 255, 255); stroke-opacity: 1; stroke-width: 1px;\"/></g></g><g class=\"zerolinelayer\"><path class=\"yzl zl crisp\" transform=\"translate(0,316)\" d=\"M80,0h540\" style=\"stroke: rgb(255, 255, 255); stroke-opacity: 1; stroke-width: 2px;\"/></g><path class=\"xlines-below\"/><path class=\"ylines-below\"/><g class=\"overlines-below\"/><g class=\"xaxislayer-below\"/><g class=\"yaxislayer-below\"/><g class=\"overaxes-below\"/><g class=\"plot\" transform=\"translate(80,60)\" clip-path=\"url(#clipa75d2axyplot)\"><g class=\"barlayer mlayer\"><g class=\"trace bars\" style=\"opacity: 1;\"><g class=\"points\"><g class=\"point\"><path d=\"M5.4,256V210.34H48.6V256Z\" style=\"vector-effect: non-scaling-stroke; opacity: 1; stroke-width: 0.5px; fill: rgb(99, 110, 250); fill-opacity: 1; stroke: rgb(229, 236, 246); stroke-opacity: 1;\"/></g><g class=\"point\"><path d=\"M59.4,256V198.93H102.6V256Z\" style=\"vector-effect: non-scaling-stroke; opacity: 1; stroke-width: 0.5px; fill: rgb(99, 110, 250); fill-opacity: 1; stroke: rgb(229, 236, 246); stroke-opacity: 1;\"/></g><g class=\"point\"><path d=\"M113.4,256V221.74H156.6V256Z\" style=\"vector-effect: non-scaling-stroke; opacity: 1; stroke-width: 0.5px; fill: rgb(99, 110, 250); fill-opacity: 1; stroke: rgb(229, 236, 246); stroke-opacity: 1;\"/></g><g class=\"point\"><path d=\"M167.4,256V214.4H210.6V256Z\" style=\"vector-effect: non-scaling-stroke; opacity: 1; stroke-width: 0.5px; fill: rgb(99, 110, 250); fill-opacity: 1; stroke: rgb(229, 236, 246); stroke-opacity: 1;\"/></g><g class=\"point\"><path d=\"M221.4,256V229.91H264.6V256Z\" style=\"vector-effect: non-scaling-stroke; opacity: 1; stroke-width: 0.5px; fill: rgb(99, 110, 250); fill-opacity: 1; stroke: rgb(229, 236, 246); stroke-opacity: 1;\"/></g><g class=\"point\"><path d=\"M275.4,256V246.49H318.6V256Z\" style=\"vector-effect: non-scaling-stroke; opacity: 1; stroke-width: 0.5px; fill: rgb(99, 110, 250); fill-opacity: 1; stroke: rgb(229, 236, 246); stroke-opacity: 1;\"/></g><g class=\"point\"><path d=\"M329.4,256V114.41H372.6V256Z\" style=\"vector-effect: non-scaling-stroke; opacity: 1; stroke-width: 0.5px; fill: rgb(99, 110, 250); fill-opacity: 1; stroke: rgb(229, 236, 246); stroke-opacity: 1;\"/></g><g class=\"point\"><path d=\"M383.4,256V230.32H426.6V256Z\" style=\"vector-effect: non-scaling-stroke; opacity: 1; stroke-width: 0.5px; fill: rgb(99, 110, 250); fill-opacity: 1; stroke: rgb(229, 236, 246); stroke-opacity: 1;\"/></g><g class=\"point\"><path d=\"M437.4,256V210.34H480.6V256Z\" style=\"vector-effect: non-scaling-stroke; opacity: 1; stroke-width: 0.5px; fill: rgb(99, 110, 250); fill-opacity: 1; stroke: rgb(229, 236, 246); stroke-opacity: 1;\"/></g><g class=\"point\"><path d=\"M491.4,256V210.34H534.6V256Z\" style=\"vector-effect: non-scaling-stroke; opacity: 1; stroke-width: 0.5px; fill: rgb(99, 110, 250); fill-opacity: 1; stroke: rgb(229, 236, 246); stroke-opacity: 1;\"/></g></g><g class=\"errorbar\" style=\"opacity: 1;\"><path class=\"yerror\" d=\"M23,210.34h8m-4,0V210.34m-4,0h8\" style=\"vector-effect: non-scaling-stroke; stroke-width: 2px; stroke: rgb(42, 63, 95); stroke-opacity: 1;\"/></g><g class=\"errorbar\" style=\"opacity: 1;\"><path class=\"yerror\" d=\"M77,198.93h8m-4,0V198.93m-4,0h8\" style=\"vector-effect: non-scaling-stroke; stroke-width: 2px; stroke: rgb(42, 63, 95); stroke-opacity: 1;\"/></g><g class=\"errorbar\" style=\"opacity: 1;\"><path class=\"yerror\" d=\"M131,195.35h8m-4,0V248.12m-4,0h8\" style=\"vector-effect: non-scaling-stroke; stroke-width: 2px; stroke: rgb(42, 63, 95); stroke-opacity: 1;\"/></g><g class=\"errorbar\" style=\"opacity: 1;\"><path class=\"yerror\" d=\"M185,206.12h8m-4,0V222.69m-4,0h8\" style=\"vector-effect: non-scaling-stroke; stroke-width: 2px; stroke: rgb(42, 63, 95); stroke-opacity: 1;\"/></g><g class=\"errorbar\" style=\"opacity: 1;\"><path class=\"yerror\" d=\"M239,226.98h8m-4,0V232.84m-4,0h8\" style=\"vector-effect: non-scaling-stroke; stroke-width: 2px; stroke: rgb(42, 63, 95); stroke-opacity: 1;\"/></g><g class=\"errorbar\" style=\"opacity: 1;\"><path class=\"yerror\" d=\"M293,246.49h8m-4,0V246.49m-4,0h8\" style=\"vector-effect: non-scaling-stroke; stroke-width: 2px; stroke: rgb(42, 63, 95); stroke-opacity: 1;\"/></g><g class=\"errorbar\" style=\"opacity: 1;\"><path class=\"yerror\" d=\"M347,12.8h8m-4,0V216.02m-4,0h8\" style=\"vector-effect: non-scaling-stroke; stroke-width: 2px; stroke: rgb(42, 63, 95); stroke-opacity: 1;\"/></g><g class=\"errorbar\" style=\"opacity: 1;\"><path class=\"yerror\" d=\"M401,226.28h8m-4,0V234.35m-4,0h8\" style=\"vector-effect: non-scaling-stroke; stroke-width: 2px; stroke: rgb(42, 63, 95); stroke-opacity: 1;\"/></g><g class=\"errorbar\" style=\"opacity: 1;\"><path class=\"yerror\" d=\"M455,210.34h8m-4,0V210.34m-4,0h8\" style=\"vector-effect: non-scaling-stroke; stroke-width: 2px; stroke: rgb(42, 63, 95); stroke-opacity: 1;\"/></g><g class=\"errorbar\" style=\"opacity: 1;\"><path class=\"yerror\" d=\"M509,210.34h8m-4,0V210.34m-4,0h8\" style=\"vector-effect: non-scaling-stroke; stroke-width: 2px; stroke: rgb(42, 63, 95); stroke-opacity: 1;\"/></g></g></g></g><g class=\"overplot\"/><path class=\"xlines-above crisp\" d=\"M0,0\" style=\"fill: none;\"/><path class=\"ylines-above crisp\" d=\"M0,0\" style=\"fill: none;\"/><g class=\"overlines-above\"/><g class=\"xaxislayer-above\"><g class=\"xtick\"><text text-anchor=\"start\" x=\"0\" y=\"329\" transform=\"translate(107,0) rotate(30,0,323)\" style=\"font-family: 'Open Sans', verdana, arial, sans-serif; font-size: 12px; fill: rgb(42, 63, 95); fill-opacity: 1; white-space: pre; opacity: 1;\">Abaque</text></g><g class=\"xtick\"><text text-anchor=\"start\" x=\"0\" y=\"329\" transform=\"translate(161,0) rotate(30,0,323)\" style=\"font-family: 'Open Sans', verdana, arial, sans-serif; font-size: 12px; fill: rgb(42, 63, 95); fill-opacity: 1; white-space: pre; opacity: 1;\">Attractif</text></g><g class=\"xtick\"><text text-anchor=\"start\" x=\"0\" y=\"329\" transform=\"translate(215,0) rotate(30,0,323)\" style=\"font-family: 'Open Sans', verdana, arial, sans-serif; font-size: 12px; fill: rgb(42, 63, 95); fill-opacity: 1; white-space: pre; opacity: 1;\">Azzuro</text></g><g class=\"xtick\"><text text-anchor=\"start\" x=\"0\" y=\"329\" transform=\"translate(269,0) rotate(30,0,323)\" style=\"font-family: 'Open Sans', verdana, arial, sans-serif; font-size: 12px; fill: rgb(42, 63, 95); fill-opacity: 1; white-space: pre; opacity: 1;\">BRENTANO</text></g><g class=\"xtick\"><text text-anchor=\"start\" x=\"0\" y=\"329\" transform=\"translate(323,0) rotate(30,0,323)\" style=\"font-family: 'Open Sans', verdana, arial, sans-serif; font-size: 12px; fill: rgb(42, 63, 95); fill-opacity: 1; white-space: pre; opacity: 1;\">Carré</text></g><g class=\"xtick\"><text text-anchor=\"start\" x=\"0\" y=\"329\" transform=\"translate(377,0) rotate(30,0,323)\" style=\"font-family: 'Open Sans', verdana, arial, sans-serif; font-size: 12px; fill: rgb(42, 63, 95); fill-opacity: 1; white-space: pre; opacity: 1;\">DOLLY</text></g><g class=\"xtick\"><text text-anchor=\"start\" x=\"0\" y=\"329\" transform=\"translate(431,0) rotate(30,0,323)\" style=\"font-family: 'Open Sans', verdana, arial, sans-serif; font-size: 12px; fill: rgb(42, 63, 95); fill-opacity: 1; white-space: pre; opacity: 1;\">Haussmann</text></g><g class=\"xtick\"><text text-anchor=\"start\" x=\"0\" y=\"329\" transform=\"translate(485,0) rotate(30,0,323)\" style=\"font-family: 'Open Sans', verdana, arial, sans-serif; font-size: 12px; fill: rgb(42, 63, 95); fill-opacity: 1; white-space: pre; opacity: 1;\">PR 22 R 28</text></g><g class=\"xtick\"><text text-anchor=\"start\" x=\"0\" y=\"329\" transform=\"translate(539,0) rotate(30,0,323)\" style=\"font-family: 'Open Sans', verdana, arial, sans-serif; font-size: 12px; fill: rgb(42, 63, 95); fill-opacity: 1; white-space: pre; opacity: 1;\">Recital</text></g><g class=\"xtick\"><text text-anchor=\"start\" x=\"0\" y=\"329\" transform=\"translate(593,0) rotate(30,0,323)\" style=\"font-family: 'Open Sans', verdana, arial, sans-serif; font-size: 12px; fill: rgb(42, 63, 95); fill-opacity: 1; white-space: pre; opacity: 1;\">UNICOM</text></g></g><g class=\"yaxislayer-above\"><g class=\"ytick\"><text text-anchor=\"end\" x=\"79\" y=\"4.199999999999999\" transform=\"translate(0,316)\" style=\"font-family: 'Open Sans', verdana, arial, sans-serif; font-size: 12px; fill: rgb(42, 63, 95); fill-opacity: 1; white-space: pre; opacity: 1;\">0</text></g><g class=\"ytick\"><text text-anchor=\"end\" x=\"79\" y=\"4.199999999999999\" style=\"font-family: 'Open Sans', verdana, arial, sans-serif; font-size: 12px; fill: rgb(42, 63, 95); fill-opacity: 1; white-space: pre; opacity: 1;\" transform=\"translate(0,258.93)\">5</text></g><g class=\"ytick\"><text text-anchor=\"end\" x=\"79\" y=\"4.199999999999999\" style=\"font-family: 'Open Sans', verdana, arial, sans-serif; font-size: 12px; fill: rgb(42, 63, 95); fill-opacity: 1; white-space: pre; opacity: 1;\" transform=\"translate(0,201.86)\">10</text></g><g class=\"ytick\"><text text-anchor=\"end\" x=\"79\" y=\"4.199999999999999\" style=\"font-family: 'Open Sans', verdana, arial, sans-serif; font-size: 12px; fill: rgb(42, 63, 95); fill-opacity: 1; white-space: pre; opacity: 1;\" transform=\"translate(0,144.79000000000002)\">15</text></g><g class=\"ytick\"><text text-anchor=\"end\" x=\"79\" y=\"4.199999999999999\" style=\"font-family: 'Open Sans', verdana, arial, sans-serif; font-size: 12px; fill: rgb(42, 63, 95); fill-opacity: 1; white-space: pre; opacity: 1;\" transform=\"translate(0,87.72)\">20</text></g></g><g class=\"overaxes-above\"/></g></g><g class=\"polarlayer\"/><g class=\"smithlayer\"/><g class=\"ternarylayer\"/><g class=\"geolayer\"/><g class=\"funnelarealayer\"/><g class=\"pielayer\"/><g class=\"iciclelayer\"/><g class=\"treemaplayer\"/><g class=\"sunburstlayer\"/><g class=\"glimages\"/><defs id=\"topdefs-a75d2a\"><g class=\"clips\"/></defs><g class=\"layer-above\"><g class=\"imagelayer\"/><g class=\"shapelayer\"/></g><g class=\"infolayer\"><g class=\"g-gtitle\"/><g class=\"g-xtitle\"><text class=\"xtitle\" x=\"350\" y=\"388.4923828125\" text-anchor=\"middle\" style=\"font-family: 'Open Sans', verdana, arial, sans-serif; font-size: 14px; fill: rgb(42, 63, 95); opacity: 1; font-weight: normal; white-space: pre;\">Denomination de la variete</text></g><g class=\"g-ytitle\"><text class=\"ytitle\" transform=\"rotate(-90,40.840625,188)\" x=\"40.840625\" y=\"188\" text-anchor=\"middle\" style=\"font-family: 'Open Sans', verdana, arial, sans-serif; font-size: 14px; fill: rgb(42, 63, 95); opacity: 1; font-weight: normal; white-space: pre;\">Rendement moyen (Tonnes de matiere seche / ha)</text></g></g></svg>"
      ]
     },
     "metadata": {},
     "output_type": "display_data"
    }
   ],
   "source": [
    "import plotly.express as px\n",
    "\n",
    "fig = px.bar(\n",
    "                df_tonne_ms_ha_stats, \n",
    "                x = 'denomination',\n",
    "                y = 'rendement_moyen',\n",
    "                error_y = 'rendement_std',\n",
    "                height=400,\n",
    "                labels={\n",
    "                     \"rendement_moyen\": \"Rendement moyen (Tonnes de matiere seche / ha)\",\n",
    "                     \"denomination\": \"Denomination de la variete\",\n",
    "                 },\n",
    ")\n",
    "fig.show(renderer=\"svg\")"
   ]
  }
 ],
 "metadata": {
  "kernelspec": {
   "display_name": "Python 3",
   "language": "python",
   "name": "python3"
  },
  "language_info": {
   "codemirror_mode": {
    "name": "ipython",
    "version": 3
   },
   "file_extension": ".py",
   "mimetype": "text/x-python",
   "name": "python",
   "nbconvert_exporter": "python",
   "pygments_lexer": "ipython3",
   "version": "3.10.12"
  },
  "orig_nbformat": 4
 },
 "nbformat": 4,
 "nbformat_minor": 2
}
