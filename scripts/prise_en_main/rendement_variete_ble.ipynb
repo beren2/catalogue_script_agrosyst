{
 "cells": [
  {
   "cell_type": "markdown",
   "metadata": {},
   "source": [
    "## Exemple pratique 1 : rendements des variétés de blé\n",
    "\n",
    "### Problématique :\n",
    "On s'intéresse ici à la problématique suivante : \n",
    "- Quelles sont les variétés de blés les plus performantes au sein d'Agrosyst ?\n",
    "\n",
    "On retiendra notamment le rendement comme indicateur de performance\n",
    "\n",
    "Ce script propose une façon de mener à bien cet exercice en utilisant l'architecture de l'entrepôt de données. \n",
    "\n",
    "### Prérequis :\n",
    "* Le script suppose d'avoir télécharger les données issues de l'entrepôt sur la plateforme datagrosyt (https://agrosyst.fr/datagrosyst/)\n",
    "\n",
    "* Le script s'appuie aussi sur les fichiers suivants : \n",
    "    - action_realise_completed.csv\n",
    "    - action_synthetise_completed.csv\n",
    "    - culture_completed.csv\n",
    "    Ceux-ci peuvent être obtenus à travers le fichier utils. \n",
    "\n",
    "* Le script est rédigé en **Python** et suppose une bonne maîtrise de **pandas** \n"
   ]
  },
  {
   "cell_type": "markdown",
   "metadata": {},
   "source": [
    "#### Import des librairies"
   ]
  },
  {
   "cell_type": "code",
   "execution_count": 264,
   "metadata": {},
   "outputs": [],
   "source": [
    "import pandas as pd"
   ]
  },
  {
   "cell_type": "markdown",
   "metadata": {},
   "source": [
    "#### Import des données"
   ]
  },
  {
   "cell_type": "code",
   "execution_count": 265,
   "metadata": {},
   "outputs": [],
   "source": [
    "# déclaration des chemins\n",
    "folder_base = 'data/20231115/base/'\n",
    "path_domaine = folder_base+'domaine.csv'\n",
    "path_espece = folder_base+'espece.csv'\n",
    "path_variete = folder_base+'variete.csv'\n",
    "path_culture = folder_base+'culture.csv'\n",
    "path_composant_culture = folder_base+'composant_culture.csv'\n",
    "path_noeud_realise = folder_base+'noeuds_realise.csv'\n",
    "path_noeud_synthetise = folder_base+'noeuds_synthetise.csv'\n",
    "path_recolte_rendement_prix = folder_base+'recolte_rendement_prix.csv'\n",
    "path_action_realise = folder_base+'action_realise.csv'\n",
    "path_action_synthetise = folder_base+'action_synthetise.csv'\n",
    "path_intervention_realise = folder_base+'intervention_realise.csv'\n",
    "path_intervention_synthetise = folder_base+'intervention_synthetise.csv'\n",
    "path_zone = folder_base+'zone.csv'\n",
    "path_connection_synthetise = folder_base+'connection_synthetise.csv'\n",
    "path_systeme_synthetise = folder_base+'synthetise.csv'\n",
    "path_sdc = folder_base+'sdc.csv'\n",
    "\n",
    "# import des données\n",
    "df_domaine = pd.read_csv(path_domaine)\n",
    "df_espece = pd.read_csv(path_espece)\n",
    "df_variete = pd.read_csv(path_variete)\n",
    "df_cutlure = pd.read_csv(path_culture)\n",
    "df_composant_culture = pd.read_csv(path_composant_culture)\n",
    "df_noeud_realise = pd.read_csv(path_noeud_realise)\n",
    "df_noeud_synthetise = pd.read_csv(path_noeud_synthetise)\n",
    "df_action_realise = pd.read_csv(path_action_realise, low_memory=False)\n",
    "df_action_synthetise = pd.read_csv(path_action_synthetise, low_memory=False)\n",
    "df_intervention_realise = pd.read_csv(path_intervention_realise, low_memory=False)\n",
    "df_intervention_synthetise = pd.read_csv(path_intervention_synthetise, low_memory=False)\n",
    "df_zone = pd.read_csv(path_zone)\n",
    "df_connection_synthetise = pd.read_csv(path_connection_synthetise)\n",
    "df_synthetise = pd.read_csv(path_systeme_synthetise)\n",
    "df_sdc = pd.read_csv(path_sdc)"
   ]
  },
  {
   "cell_type": "code",
   "execution_count": 266,
   "metadata": {},
   "outputs": [],
   "source": [
    "df_recolte_rendement_prix = pd.read_csv(path_recolte_rendement_prix, low_memory=False)\n"
   ]
  },
  {
   "cell_type": "code",
   "execution_count": 267,
   "metadata": {},
   "outputs": [],
   "source": [
    "# déclaration des fichiers générés\n",
    "folder_generated = 'data/20231115/generated/'\n",
    "path_action_realise_completed = folder_generated+'action_realise_completed.csv'\n",
    "path_action_synthetise_completed = folder_generated+'action_synthetise_completed.csv'\n",
    "path_culture_completed = folder_generated+'culture_completed.csv'\n",
    "\n",
    "# import des données générées\n",
    "df_action_realise_completed = pd.read_csv(path_action_realise_completed)\n",
    "df_action_synthetise_completed = pd.read_csv(path_action_synthetise_completed)\n",
    "df_culture_completed = pd.read_csv(path_culture_completed)"
   ]
  },
  {
   "cell_type": "markdown",
   "metadata": {},
   "source": [
    "#### Sélection des données utiles à l'étude"
   ]
  },
  {
   "cell_type": "code",
   "execution_count": 268,
   "metadata": {},
   "outputs": [],
   "source": [
    "# observation de tous les code_espece_botanique susceptibles d'être du blé :\n",
    "df_espece.loc[df_espece['libelle_espece_botanique'].str.contains('[Bb]l[ée]', regex=True)][['libelle_espece_botanique', 'code_espece_botanique']]\n",
    "\n",
    "# définition de df_espece_ble (espèces spécifiques à la culture de blé)\n",
    "studied_espece_botanique = ['ZAQ', 'ZAR']\n",
    "df_espece_ble = df_espece.loc[df_espece['code_espece_botanique'].isin(studied_espece_botanique)]\n",
    "\n",
    "# définition de df_variete_ble (variétés spécifiques aux espèces blés)\n",
    "df_variete_ble = df_variete.loc[df_variete['code_gnis'].isin(df_espece_ble['code_gnis'])]\n",
    "\n",
    "# obtention de tous les composants de cultures qui sont des variétés intéressantes pour notre étude (blé)\n",
    "df_composant_culture_variete_ble = df_composant_culture.loc[df_composant_culture['variete_id'].isin(df_variete_ble['id'])]\n",
    "\n",
    "# obtention de toutes les cultures dans lesquelles ont été déclarés ces composants\n",
    "df_culture_variete_ble = df_cutlure.loc[df_cutlure['id'].isin(df_composant_culture_variete_ble['culture_id'])]\n",
    "\n",
    "#------------#\n",
    "#  RÉALISÉ   #\n",
    "#------------#\n",
    "# obtention de tous noeuds en réalisés sur lesquelles ces cultures ont été mobilisées\n",
    "df_noeud_realise_variete_ble = df_noeud_realise.loc[df_noeud_realise['culture_id'].isin(df_culture_variete_ble['id'])]\n",
    "\n",
    "# obtention de toutes les interventions en réalisé qui ont lieu sur les noeuds considérés\n",
    "df_intervention_realise_variete_ble = df_intervention_realise.loc[df_intervention_realise['noeuds_realise_id'].isin(df_noeud_realise_variete_ble['id'])]\n",
    "\n",
    "# obtention de toutes les actions qui ont lieu au sein des interventions considérées\n",
    "df_action_realise_variete_ble = df_action_realise.loc[df_action_realise['intervention_realise_id'].isin(df_intervention_realise_variete_ble['id'])]\n",
    "\n",
    "#------------#\n",
    "# SYNTHÉTISÉ #\n",
    "#------------#\n",
    "# obtention de tous les noeuds en synthétisés sur lesquelles ces cultures ont été mobilisées\n",
    "df_noeud_synthetise_variete_ble = df_noeud_synthetise.loc[df_noeud_synthetise['culture_code'].isin(df_culture_variete_ble['code'])]\n",
    "\n",
    "# obtention de toutes les connexions en synthétisé qui partent de ces noeuds là\n",
    "df_connection_synthetise_variete_ble = df_connection_synthetise.loc[df_connection_synthetise['source_noeuds_synthetise_id'].isin(df_noeud_synthetise_variete_ble['id'])]\n",
    "\n",
    "# obtention de toutes les interventions sur ces connexions\n",
    "df_intervention_synthetise_variete_ble = df_intervention_synthetise.loc[df_intervention_synthetise['connection_synthetise_id'].isin(df_connection_synthetise_variete_ble['id'])]\n",
    "\n",
    "# obtention de toutes les actions en synthétisés : \n",
    "df_action_synthetise_variete_ble = df_action_synthetise.loc[df_action_synthetise['intervention_synthetise_id'].isin(df_intervention_synthetise_variete_ble['id'])]\n",
    "\n",
    "#------------#\n",
    "#    TOTAL   #\n",
    "#------------#\n",
    "# obtention des rendements associés aux actions (en réalisé et en synthétisé)\n",
    "df_recolte_rendement_prix_ble = df_recolte_rendement_prix.loc[\n",
    "    (df_recolte_rendement_prix['action_id'].isin(df_action_realise_variete_ble['id']))\n",
    "    |\n",
    "    (df_recolte_rendement_prix['action_id'].isin(df_action_synthetise_variete_ble['id']))\n",
    "]\n"
   ]
  },
  {
   "cell_type": "markdown",
   "metadata": {},
   "source": [
    "#### Ajout de contexte aux données"
   ]
  },
  {
   "cell_type": "code",
   "execution_count": 269,
   "metadata": {},
   "outputs": [],
   "source": [
    "# ajout de la campagne agricole sur laquelle l'action est menée grace aux fichiers complétés \n",
    "left = df_action_realise_variete_ble\n",
    "right = df_action_realise_completed[['id', 'campagne']]\n",
    "df_action_realise_variete_ble = pd.merge(left, right, on = 'id')\n",
    "\n",
    "left = df_action_synthetise_variete_ble\n",
    "right = df_action_synthetise_completed[['id', 'campagne']]\n",
    "df_action_synthetise_variete_ble = pd.merge(left, right, on = 'id')\n",
    "\n",
    "# ajout de la campagne agricole sur laquelle le composant de culture est déclaré grace à un fichier complété\n",
    "left = df_composant_culture_variete_ble\n",
    "right = df_culture_completed[['id', 'campagne']].rename(columns={'id' : 'culture_id'})\n",
    "df_composant_culture_variete_ble = pd.merge(left, right, on ='culture_id')\n",
    "\n",
    "# en vue de la concaténation dans un même dataframe, on garde la trace de l'origine de l'action (type de saisie)\n",
    "df_action_realise_variete_ble['type_saisie'] = 'realise'\n",
    "df_action_synthetise_variete_ble['type_saisie'] = 'synthetise'\n",
    "\n",
    "# concaténation des actions étudiées pour le réalisé et le synthétisé\n",
    "df_action_variete_ble = pd.concat([df_action_realise_variete_ble[['id', 'campagne', 'type_saisie']], df_action_synthetise_variete_ble[['id', 'campagne', 'type_saisie']]])\n",
    "\n",
    "# ajout des informations  au rendements déclarés \n",
    "left = df_recolte_rendement_prix_ble[['id', 'rendement_moy', 'rendement_unite', 'destination', 'prixreel', 'prixreel_unite', 'composant_culture_code', 'action_id']]\n",
    "right = df_action_variete_ble[['id', 'campagne', 'type_saisie']].rename(columns={'id' :'action_id'})\n",
    "df_recolte_rendement_prix_ble = pd.merge(left, right, on = 'action_id', how='left') \n",
    "\n",
    "# obtention du bon composant culture associé au rendement(bon = bonne campagne)\n",
    "left = df_recolte_rendement_prix_ble\n",
    "right = df_composant_culture_variete_ble[['code', 'campagne', 'espece_id', 'variete_id']].rename(columns={'code' : 'composant_culture_code'})\n",
    "df_recolte_rendement_prix_ble = pd.merge(left, right, on =['composant_culture_code', 'campagne'], how='left')\n",
    "\n",
    "# ajout des informations de l'espèce\n",
    "left = df_recolte_rendement_prix_ble\n",
    "right = df_espece_ble[['id', 'code_gnis']].rename(columns={'id':'espece_id'})\n",
    "merge = pd.merge(left, right, on = 'espece_id', how = 'left')\n",
    "\n",
    "# ajout des informations de la variété \n",
    "left = merge\n",
    "right = df_variete_ble[['id', 'denomination']].rename(columns = {'id' : 'variete_id'})\n",
    "df = pd.merge(left, right, on ='variete_id', how='left')"
   ]
  },
  {
   "cell_type": "markdown",
   "metadata": {},
   "source": [
    "#### Traitement pour visualisation"
   ]
  },
  {
   "cell_type": "code",
   "execution_count": 273,
   "metadata": {},
   "outputs": [],
   "source": [
    "# On focalise notre étude sur les rendements déclarés en TONNE_MS_HA\n",
    "df_tonne_ms_ha = df.loc[df['rendement_unite'] == 'TONNE_MS_HA'][['id', 'rendement_moy', 'code_gnis', 'denomination', 'type_saisie']]\n",
    "df_tonne_ms_ha['rendement_moy'] = df_tonne_ms_ha['rendement_moy'].astype('float')\n",
    "\n",
    "def agg_denomination(x):\n",
    "    \"\"\"\n",
    "        Fonction permettant d'effectuer l'aggrégation des dénominations de variétés. \n",
    "        Retourne la moyenne du rendement, l'écart type du rendement et le nombre d'occurrences pour chaque variété \n",
    "    \"\"\"\n",
    "    d = {}\n",
    "    d['rendement_moyen'] = x['rendement_moy'].mean()\n",
    "    d['rendement_std'] = x['rendement_moy'].std()\n",
    "    d['type_saisie'] = x['type_saisie'].unique()\n",
    "    d['count'] = x['id'].count()\n",
    "    return pd.Series(d, index=d.keys())\n",
    "\n",
    "# On créé un dataset pour la visualisation\n",
    "df_tonne_ms_ha_stats = df_tonne_ms_ha.groupby('denomination').apply(agg_denomination).reset_index()"
   ]
  },
  {
   "cell_type": "markdown",
   "metadata": {},
   "source": [
    "#### Sélection des données utiles à l'étude"
   ]
  },
  {
   "cell_type": "code",
   "execution_count": 274,
   "metadata": {},
   "outputs": [
    {
     "data": {
      "application/vnd.plotly.v1+json": {
       "config": {
        "plotlyServerURL": "https://plot.ly"
       },
       "data": [
        {
         "alignmentgroup": "True",
         "error_y": {
          "array": [
           0,
           null,
           2.3116549360432956,
           0.7261189139863232,
           0.2567762955065477,
           null,
           8.902474375138633,
           0.3535533905932738,
           null,
           null
          ]
         },
         "hovertemplate": "denomination=%{x}<br>rendement_moyen=%{y}<extra></extra>",
         "legendgroup": "",
         "marker": {
          "color": "#636efa",
          "pattern": {
           "shape": ""
          }
         },
         "name": "",
         "offsetgroup": "",
         "orientation": "v",
         "showlegend": false,
         "textposition": "auto",
         "type": "bar",
         "x": [
          "Abaque",
          "Attractif",
          "Azzuro",
          "BRENTANO",
          "Carré",
          "DOLLY",
          "Haussmann",
          "PR 22 R 28",
          "Recital",
          "UNICOM"
         ],
         "xaxis": "x",
         "y": [
          4,
          5.000000000000001,
          3.00195,
          3.6444444444444444,
          2.2857142857142856,
          0.8333333333333334,
          12.405,
          2.25,
          4,
          4
         ],
         "yaxis": "y"
        }
       ],
       "layout": {
        "barmode": "relative",
        "height": 400,
        "legend": {
         "tracegroupgap": 0
        },
        "margin": {
         "t": 60
        },
        "template": {
         "data": {
          "bar": [
           {
            "error_x": {
             "color": "#2a3f5f"
            },
            "error_y": {
             "color": "#2a3f5f"
            },
            "marker": {
             "line": {
              "color": "#E5ECF6",
              "width": 0.5
             },
             "pattern": {
              "fillmode": "overlay",
              "size": 10,
              "solidity": 0.2
             }
            },
            "type": "bar"
           }
          ],
          "barpolar": [
           {
            "marker": {
             "line": {
              "color": "#E5ECF6",
              "width": 0.5
             },
             "pattern": {
              "fillmode": "overlay",
              "size": 10,
              "solidity": 0.2
             }
            },
            "type": "barpolar"
           }
          ],
          "carpet": [
           {
            "aaxis": {
             "endlinecolor": "#2a3f5f",
             "gridcolor": "white",
             "linecolor": "white",
             "minorgridcolor": "white",
             "startlinecolor": "#2a3f5f"
            },
            "baxis": {
             "endlinecolor": "#2a3f5f",
             "gridcolor": "white",
             "linecolor": "white",
             "minorgridcolor": "white",
             "startlinecolor": "#2a3f5f"
            },
            "type": "carpet"
           }
          ],
          "choropleth": [
           {
            "colorbar": {
             "outlinewidth": 0,
             "ticks": ""
            },
            "type": "choropleth"
           }
          ],
          "contour": [
           {
            "colorbar": {
             "outlinewidth": 0,
             "ticks": ""
            },
            "colorscale": [
             [
              0,
              "#0d0887"
             ],
             [
              0.1111111111111111,
              "#46039f"
             ],
             [
              0.2222222222222222,
              "#7201a8"
             ],
             [
              0.3333333333333333,
              "#9c179e"
             ],
             [
              0.4444444444444444,
              "#bd3786"
             ],
             [
              0.5555555555555556,
              "#d8576b"
             ],
             [
              0.6666666666666666,
              "#ed7953"
             ],
             [
              0.7777777777777778,
              "#fb9f3a"
             ],
             [
              0.8888888888888888,
              "#fdca26"
             ],
             [
              1,
              "#f0f921"
             ]
            ],
            "type": "contour"
           }
          ],
          "contourcarpet": [
           {
            "colorbar": {
             "outlinewidth": 0,
             "ticks": ""
            },
            "type": "contourcarpet"
           }
          ],
          "heatmap": [
           {
            "colorbar": {
             "outlinewidth": 0,
             "ticks": ""
            },
            "colorscale": [
             [
              0,
              "#0d0887"
             ],
             [
              0.1111111111111111,
              "#46039f"
             ],
             [
              0.2222222222222222,
              "#7201a8"
             ],
             [
              0.3333333333333333,
              "#9c179e"
             ],
             [
              0.4444444444444444,
              "#bd3786"
             ],
             [
              0.5555555555555556,
              "#d8576b"
             ],
             [
              0.6666666666666666,
              "#ed7953"
             ],
             [
              0.7777777777777778,
              "#fb9f3a"
             ],
             [
              0.8888888888888888,
              "#fdca26"
             ],
             [
              1,
              "#f0f921"
             ]
            ],
            "type": "heatmap"
           }
          ],
          "heatmapgl": [
           {
            "colorbar": {
             "outlinewidth": 0,
             "ticks": ""
            },
            "colorscale": [
             [
              0,
              "#0d0887"
             ],
             [
              0.1111111111111111,
              "#46039f"
             ],
             [
              0.2222222222222222,
              "#7201a8"
             ],
             [
              0.3333333333333333,
              "#9c179e"
             ],
             [
              0.4444444444444444,
              "#bd3786"
             ],
             [
              0.5555555555555556,
              "#d8576b"
             ],
             [
              0.6666666666666666,
              "#ed7953"
             ],
             [
              0.7777777777777778,
              "#fb9f3a"
             ],
             [
              0.8888888888888888,
              "#fdca26"
             ],
             [
              1,
              "#f0f921"
             ]
            ],
            "type": "heatmapgl"
           }
          ],
          "histogram": [
           {
            "marker": {
             "pattern": {
              "fillmode": "overlay",
              "size": 10,
              "solidity": 0.2
             }
            },
            "type": "histogram"
           }
          ],
          "histogram2d": [
           {
            "colorbar": {
             "outlinewidth": 0,
             "ticks": ""
            },
            "colorscale": [
             [
              0,
              "#0d0887"
             ],
             [
              0.1111111111111111,
              "#46039f"
             ],
             [
              0.2222222222222222,
              "#7201a8"
             ],
             [
              0.3333333333333333,
              "#9c179e"
             ],
             [
              0.4444444444444444,
              "#bd3786"
             ],
             [
              0.5555555555555556,
              "#d8576b"
             ],
             [
              0.6666666666666666,
              "#ed7953"
             ],
             [
              0.7777777777777778,
              "#fb9f3a"
             ],
             [
              0.8888888888888888,
              "#fdca26"
             ],
             [
              1,
              "#f0f921"
             ]
            ],
            "type": "histogram2d"
           }
          ],
          "histogram2dcontour": [
           {
            "colorbar": {
             "outlinewidth": 0,
             "ticks": ""
            },
            "colorscale": [
             [
              0,
              "#0d0887"
             ],
             [
              0.1111111111111111,
              "#46039f"
             ],
             [
              0.2222222222222222,
              "#7201a8"
             ],
             [
              0.3333333333333333,
              "#9c179e"
             ],
             [
              0.4444444444444444,
              "#bd3786"
             ],
             [
              0.5555555555555556,
              "#d8576b"
             ],
             [
              0.6666666666666666,
              "#ed7953"
             ],
             [
              0.7777777777777778,
              "#fb9f3a"
             ],
             [
              0.8888888888888888,
              "#fdca26"
             ],
             [
              1,
              "#f0f921"
             ]
            ],
            "type": "histogram2dcontour"
           }
          ],
          "mesh3d": [
           {
            "colorbar": {
             "outlinewidth": 0,
             "ticks": ""
            },
            "type": "mesh3d"
           }
          ],
          "parcoords": [
           {
            "line": {
             "colorbar": {
              "outlinewidth": 0,
              "ticks": ""
             }
            },
            "type": "parcoords"
           }
          ],
          "pie": [
           {
            "automargin": true,
            "type": "pie"
           }
          ],
          "scatter": [
           {
            "fillpattern": {
             "fillmode": "overlay",
             "size": 10,
             "solidity": 0.2
            },
            "type": "scatter"
           }
          ],
          "scatter3d": [
           {
            "line": {
             "colorbar": {
              "outlinewidth": 0,
              "ticks": ""
             }
            },
            "marker": {
             "colorbar": {
              "outlinewidth": 0,
              "ticks": ""
             }
            },
            "type": "scatter3d"
           }
          ],
          "scattercarpet": [
           {
            "marker": {
             "colorbar": {
              "outlinewidth": 0,
              "ticks": ""
             }
            },
            "type": "scattercarpet"
           }
          ],
          "scattergeo": [
           {
            "marker": {
             "colorbar": {
              "outlinewidth": 0,
              "ticks": ""
             }
            },
            "type": "scattergeo"
           }
          ],
          "scattergl": [
           {
            "marker": {
             "colorbar": {
              "outlinewidth": 0,
              "ticks": ""
             }
            },
            "type": "scattergl"
           }
          ],
          "scattermapbox": [
           {
            "marker": {
             "colorbar": {
              "outlinewidth": 0,
              "ticks": ""
             }
            },
            "type": "scattermapbox"
           }
          ],
          "scatterpolar": [
           {
            "marker": {
             "colorbar": {
              "outlinewidth": 0,
              "ticks": ""
             }
            },
            "type": "scatterpolar"
           }
          ],
          "scatterpolargl": [
           {
            "marker": {
             "colorbar": {
              "outlinewidth": 0,
              "ticks": ""
             }
            },
            "type": "scatterpolargl"
           }
          ],
          "scatterternary": [
           {
            "marker": {
             "colorbar": {
              "outlinewidth": 0,
              "ticks": ""
             }
            },
            "type": "scatterternary"
           }
          ],
          "surface": [
           {
            "colorbar": {
             "outlinewidth": 0,
             "ticks": ""
            },
            "colorscale": [
             [
              0,
              "#0d0887"
             ],
             [
              0.1111111111111111,
              "#46039f"
             ],
             [
              0.2222222222222222,
              "#7201a8"
             ],
             [
              0.3333333333333333,
              "#9c179e"
             ],
             [
              0.4444444444444444,
              "#bd3786"
             ],
             [
              0.5555555555555556,
              "#d8576b"
             ],
             [
              0.6666666666666666,
              "#ed7953"
             ],
             [
              0.7777777777777778,
              "#fb9f3a"
             ],
             [
              0.8888888888888888,
              "#fdca26"
             ],
             [
              1,
              "#f0f921"
             ]
            ],
            "type": "surface"
           }
          ],
          "table": [
           {
            "cells": {
             "fill": {
              "color": "#EBF0F8"
             },
             "line": {
              "color": "white"
             }
            },
            "header": {
             "fill": {
              "color": "#C8D4E3"
             },
             "line": {
              "color": "white"
             }
            },
            "type": "table"
           }
          ]
         },
         "layout": {
          "annotationdefaults": {
           "arrowcolor": "#2a3f5f",
           "arrowhead": 0,
           "arrowwidth": 1
          },
          "autotypenumbers": "strict",
          "coloraxis": {
           "colorbar": {
            "outlinewidth": 0,
            "ticks": ""
           }
          },
          "colorscale": {
           "diverging": [
            [
             0,
             "#8e0152"
            ],
            [
             0.1,
             "#c51b7d"
            ],
            [
             0.2,
             "#de77ae"
            ],
            [
             0.3,
             "#f1b6da"
            ],
            [
             0.4,
             "#fde0ef"
            ],
            [
             0.5,
             "#f7f7f7"
            ],
            [
             0.6,
             "#e6f5d0"
            ],
            [
             0.7,
             "#b8e186"
            ],
            [
             0.8,
             "#7fbc41"
            ],
            [
             0.9,
             "#4d9221"
            ],
            [
             1,
             "#276419"
            ]
           ],
           "sequential": [
            [
             0,
             "#0d0887"
            ],
            [
             0.1111111111111111,
             "#46039f"
            ],
            [
             0.2222222222222222,
             "#7201a8"
            ],
            [
             0.3333333333333333,
             "#9c179e"
            ],
            [
             0.4444444444444444,
             "#bd3786"
            ],
            [
             0.5555555555555556,
             "#d8576b"
            ],
            [
             0.6666666666666666,
             "#ed7953"
            ],
            [
             0.7777777777777778,
             "#fb9f3a"
            ],
            [
             0.8888888888888888,
             "#fdca26"
            ],
            [
             1,
             "#f0f921"
            ]
           ],
           "sequentialminus": [
            [
             0,
             "#0d0887"
            ],
            [
             0.1111111111111111,
             "#46039f"
            ],
            [
             0.2222222222222222,
             "#7201a8"
            ],
            [
             0.3333333333333333,
             "#9c179e"
            ],
            [
             0.4444444444444444,
             "#bd3786"
            ],
            [
             0.5555555555555556,
             "#d8576b"
            ],
            [
             0.6666666666666666,
             "#ed7953"
            ],
            [
             0.7777777777777778,
             "#fb9f3a"
            ],
            [
             0.8888888888888888,
             "#fdca26"
            ],
            [
             1,
             "#f0f921"
            ]
           ]
          },
          "colorway": [
           "#636efa",
           "#EF553B",
           "#00cc96",
           "#ab63fa",
           "#FFA15A",
           "#19d3f3",
           "#FF6692",
           "#B6E880",
           "#FF97FF",
           "#FECB52"
          ],
          "font": {
           "color": "#2a3f5f"
          },
          "geo": {
           "bgcolor": "white",
           "lakecolor": "white",
           "landcolor": "#E5ECF6",
           "showlakes": true,
           "showland": true,
           "subunitcolor": "white"
          },
          "hoverlabel": {
           "align": "left"
          },
          "hovermode": "closest",
          "mapbox": {
           "style": "light"
          },
          "paper_bgcolor": "white",
          "plot_bgcolor": "#E5ECF6",
          "polar": {
           "angularaxis": {
            "gridcolor": "white",
            "linecolor": "white",
            "ticks": ""
           },
           "bgcolor": "#E5ECF6",
           "radialaxis": {
            "gridcolor": "white",
            "linecolor": "white",
            "ticks": ""
           }
          },
          "scene": {
           "xaxis": {
            "backgroundcolor": "#E5ECF6",
            "gridcolor": "white",
            "gridwidth": 2,
            "linecolor": "white",
            "showbackground": true,
            "ticks": "",
            "zerolinecolor": "white"
           },
           "yaxis": {
            "backgroundcolor": "#E5ECF6",
            "gridcolor": "white",
            "gridwidth": 2,
            "linecolor": "white",
            "showbackground": true,
            "ticks": "",
            "zerolinecolor": "white"
           },
           "zaxis": {
            "backgroundcolor": "#E5ECF6",
            "gridcolor": "white",
            "gridwidth": 2,
            "linecolor": "white",
            "showbackground": true,
            "ticks": "",
            "zerolinecolor": "white"
           }
          },
          "shapedefaults": {
           "line": {
            "color": "#2a3f5f"
           }
          },
          "ternary": {
           "aaxis": {
            "gridcolor": "white",
            "linecolor": "white",
            "ticks": ""
           },
           "baxis": {
            "gridcolor": "white",
            "linecolor": "white",
            "ticks": ""
           },
           "bgcolor": "#E5ECF6",
           "caxis": {
            "gridcolor": "white",
            "linecolor": "white",
            "ticks": ""
           }
          },
          "title": {
           "x": 0.05
          },
          "xaxis": {
           "automargin": true,
           "gridcolor": "white",
           "linecolor": "white",
           "ticks": "",
           "title": {
            "standoff": 15
           },
           "zerolinecolor": "white",
           "zerolinewidth": 2
          },
          "yaxis": {
           "automargin": true,
           "gridcolor": "white",
           "linecolor": "white",
           "ticks": "",
           "title": {
            "standoff": 15
           },
           "zerolinecolor": "white",
           "zerolinewidth": 2
          }
         }
        },
        "xaxis": {
         "anchor": "y",
         "domain": [
          0,
          1
         ],
         "title": {
          "text": "denomination"
         }
        },
        "yaxis": {
         "anchor": "x",
         "domain": [
          0,
          1
         ],
         "title": {
          "text": "rendement_moyen"
         }
        }
       }
      }
     },
     "metadata": {},
     "output_type": "display_data"
    }
   ],
   "source": [
    "import plotly.express as px\n",
    "\n",
    "fig = px.bar(\n",
    "                df_tonne_ms_ha_stats, \n",
    "                x = 'denomination',\n",
    "                y = 'rendement_moyen',\n",
    "                error_y = 'rendement_std',\n",
    "                height=400\n",
    ")\n",
    "fig.show()"
   ]
  }
 ],
 "metadata": {
  "kernelspec": {
   "display_name": "Python 3",
   "language": "python",
   "name": "python3"
  },
  "language_info": {
   "codemirror_mode": {
    "name": "ipython",
    "version": 3
   },
   "file_extension": ".py",
   "mimetype": "text/x-python",
   "name": "python",
   "nbconvert_exporter": "python",
   "pygments_lexer": "ipython3",
   "version": "3.10.12"
  },
  "orig_nbformat": 4
 },
 "nbformat": 4,
 "nbformat_minor": 2
}
