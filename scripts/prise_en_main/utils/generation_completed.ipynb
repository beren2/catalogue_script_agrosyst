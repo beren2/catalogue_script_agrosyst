{
 "cells": [
  {
   "cell_type": "markdown",
   "metadata": {},
   "source": [
    "Script de compilation pour obtenir les données des instances supérieures"
   ]
  },
  {
   "cell_type": "code",
   "execution_count": 3,
   "metadata": {},
   "outputs": [],
   "source": [
    "import pandas as pd"
   ]
  },
  {
   "cell_type": "code",
   "execution_count": 50,
   "metadata": {},
   "outputs": [],
   "source": [
    "# déclaration des chemins\n",
    "folder_base = '../data/20231115/base/'\n",
    "path_domaine = folder_base+'domaine.csv'\n",
    "path_culture = folder_base+'culture.csv'\n",
    "\n",
    "# import des données\n",
    "df_domaine = pd.read_csv(path_domaine)\n",
    "df_culture = pd.read_csv(path_culture)"
   ]
  },
  {
   "cell_type": "markdown",
   "metadata": {},
   "source": [
    "#### Export complété pour les cultures "
   ]
  },
  {
   "cell_type": "code",
   "execution_count": 61,
   "metadata": {},
   "outputs": [],
   "source": [
    "left = df_culture[['id', 'domaine_id']]\n",
    "right = df_domaine[['id', 'campagne']].rename(columns={'id' : 'domaine_id'})\n",
    "merge = pd.merge(left, right, on = 'domaine_id')"
   ]
  },
  {
   "cell_type": "code",
   "execution_count": 62,
   "metadata": {},
   "outputs": [],
   "source": [
    "# export des données complétées\n",
    "folder_generated = '../data/20231115/generated/'\n",
    "merge.to_csv(folder_generated+'culture_completed.csv', index=None)"
   ]
  }
 ],
 "metadata": {
  "kernelspec": {
   "display_name": "Python 3",
   "language": "python",
   "name": "python3"
  },
  "language_info": {
   "codemirror_mode": {
    "name": "ipython",
    "version": 3
   },
   "file_extension": ".py",
   "mimetype": "text/x-python",
   "name": "python",
   "nbconvert_exporter": "python",
   "pygments_lexer": "ipython3",
   "version": "3.10.12"
  },
  "orig_nbformat": 4
 },
 "nbformat": 4,
 "nbformat_minor": 2
}
