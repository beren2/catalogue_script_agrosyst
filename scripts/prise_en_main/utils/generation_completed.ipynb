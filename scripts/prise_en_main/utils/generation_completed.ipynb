{
 "cells": [
  {
   "cell_type": "markdown",
   "metadata": {},
   "source": [
    "Script de compilation pour obtenir les données des instances supérieures"
   ]
  },
  {
   "cell_type": "code",
   "execution_count": 3,
   "metadata": {},
   "outputs": [],
   "source": [
    "import pandas as pd"
   ]
  },
  {
   "cell_type": "code",
   "execution_count": 50,
   "metadata": {},
   "outputs": [],
   "source": [
    "# déclaration des chemins\n",
    "folder_base = '../data/20231115/base/'\n",
    "path_domaine = folder_base+'domaine.csv'\n",
    "path_espece = folder_base+'espece.csv'\n",
    "path_variete = folder_base+'variete.csv'\n",
    "path_culture = folder_base+'culture.csv'\n",
    "path_composant_culture = folder_base+'composant_culture.csv'\n",
    "path_noeud_realise = folder_base+'noeuds_realise.csv'\n",
    "path_noeud_synthetise = folder_base+'noeuds_synthetise.csv'\n",
    "path_recolte_rendement_prix = folder_base+'recolte_rendement_prix.csv'\n",
    "path_action_realise = folder_base+'action_realise.csv'\n",
    "path_action_synthetise = folder_base+'action_synthetise.csv'\n",
    "path_intervention_realise = folder_base+'intervention_realise.csv'\n",
    "path_intervention_synthetise = folder_base+'intervention_synthetise.csv'\n",
    "path_zone = folder_base+'zone.csv'\n",
    "path_connection_synthetise = folder_base+'connection_synthetise.csv'\n",
    "path_systeme_synthetise = folder_base+'synthetise.csv'\n",
    "path_sdc = folder_base+'sdc.csv'\n",
    "\n",
    "# import des données\n",
    "df_domaine = pd.read_csv(path_domaine)\n",
    "df_espece = pd.read_csv(path_espece)\n",
    "df_variete = pd.read_csv(path_variete)\n",
    "df_cutlure = pd.read_csv(path_culture)\n",
    "df_composant_culture = pd.read_csv(path_composant_culture)\n",
    "df_noeud_realise = pd.read_csv(path_noeud_realise)\n",
    "df_noeud_synthetise = pd.read_csv(path_noeud_synthetise)\n",
    "df_recolte_rendement_prix = pd.read_csv(path_recolte_rendement_prix, low_memory=False)\n",
    "df_action_realise = pd.read_csv(path_action_realise, low_memory=False)\n",
    "df_action_synthetise = pd.read_csv(path_action_synthetise, low_memory=False)\n",
    "df_intervention_realise = pd.read_csv(path_intervention_realise, low_memory=False)\n",
    "df_intervention_synthetise = pd.read_csv(path_intervention_synthetise, low_memory=False)\n",
    "df_zone = pd.read_csv(path_zone)\n",
    "df_connection_synthetise = pd.read_csv(path_connection_synthetise)\n",
    "df_synthetise = pd.read_csv(path_systeme_synthetise)\n",
    "df_sdc = pd.read_csv(path_sdc)"
   ]
  },
  {
   "cell_type": "markdown",
   "metadata": {},
   "source": [
    "#### Export complété pour les actions"
   ]
  },
  {
   "cell_type": "markdown",
   "metadata": {},
   "source": [
    "##### Export complété pour les actions en synthétisé"
   ]
  },
  {
   "cell_type": "code",
   "execution_count": 55,
   "metadata": {},
   "outputs": [],
   "source": [
    "# obtention de l'intervention sur laquelle a lieu l'action\n",
    "left = df_action_synthetise[['id', 'intervention_synthetise_id']]\n",
    "right = df_intervention_synthetise[['id', 'connection_synthetise_id']].rename(columns={'id' : 'intervention_synthetise_id'})\n",
    "merge = pd.merge(left, right, on = 'intervention_synthetise_id', how='left')\n",
    "\n",
    "# obtention de la connection sur laquelle a lieu l'action\n",
    "left = merge\n",
    "right = df_connection_synthetise[['id', 'source_noeuds_synthetise_id']].rename(columns={'id' : 'connection_synthetise_id'})\n",
    "merge = pd.merge(left, right, on = 'connection_synthetise_id', how='left')\n",
    "\n",
    "# obtention du noeud sur lequel a laquelle a lieu l'action\n",
    "left = merge\n",
    "right = df_noeud_synthetise[['id', 'synthetise_id']].rename(columns={'id' : 'source_noeuds_synthetise_id'})\n",
    "merge = pd.merge(left, right, on = 'source_noeuds_synthetise_id')\n",
    "\n",
    "# obtention du synthétisé sur lequel a lieu l'action --> attention, dans \"campagnes\", on a les campagnes concernées par le synthétisé, mais pas la campagne du sdc de référence !\n",
    "left = merge\n",
    "right = df_synthetise[['id', 'sdc_id']].rename(columns={'id' : 'synthetise_id'})\n",
    "merge = pd.merge(left, right, on = 'synthetise_id')\n",
    "\n",
    "# obtention du système de culture sur laquelle a lieu l'action --> cette fois on a une seule campagne de référence\n",
    "left = merge\n",
    "right = df_sdc[['id', 'campagne']].rename(columns={'id' :'sdc_id'})\n",
    "merge = pd.merge(left, right, on = 'sdc_id')"
   ]
  },
  {
   "cell_type": "code",
   "execution_count": 58,
   "metadata": {},
   "outputs": [],
   "source": [
    "# export des données complétées\n",
    "folder_generated = '../data/20231115/generated/'\n",
    "merge.to_csv(folder_generated+'action_synthetise_completed.csv', index=None)"
   ]
  },
  {
   "cell_type": "markdown",
   "metadata": {},
   "source": [
    "##### Export complété pour les actions en réalisé"
   ]
  },
  {
   "cell_type": "code",
   "execution_count": 59,
   "metadata": {},
   "outputs": [],
   "source": [
    "left = df_action_realise[['id', 'intervention_realise_id']]\n",
    "right = df_intervention_realise[['id', 'noeuds_realise_id']].rename(columns={'id' : 'intervention_realise_id'})\n",
    "merge = pd.merge(left, right, on = 'intervention_realise_id')\n",
    "\n",
    "left = merge\n",
    "right = df_noeud_realise[['id', 'zone_id']].rename(columns={'id' : 'noeuds_realise_id'})\n",
    "merge = pd.merge(left, right, on = 'noeuds_realise_id')\n",
    "\n",
    "left = merge\n",
    "right = df_zone[['id', 'campagne', 'parcelle_id']].rename(columns={'id' : 'zone_id'})\n",
    "merge = pd.merge(left, right, on = 'zone_id')"
   ]
  },
  {
   "cell_type": "code",
   "execution_count": 60,
   "metadata": {},
   "outputs": [],
   "source": [
    "# export des données complétées\n",
    "folder_generated = '../data/20231115/generated/'\n",
    "merge.to_csv(folder_generated+'action_realise_completed.csv', index=None)"
   ]
  },
  {
   "cell_type": "markdown",
   "metadata": {},
   "source": [
    "#### Export complété pour les cultures "
   ]
  },
  {
   "cell_type": "code",
   "execution_count": 61,
   "metadata": {},
   "outputs": [],
   "source": [
    "left = df_cutlure[['id', 'domaine_id']]\n",
    "right = df_domaine[['id', 'campagne']].rename(columns={'id' : 'domaine_id'})\n",
    "merge = pd.merge(left, right, on = 'domaine_id')"
   ]
  },
  {
   "cell_type": "code",
   "execution_count": 62,
   "metadata": {},
   "outputs": [],
   "source": [
    "# export des données complétées\n",
    "folder_generated = '../data/20231115/generated/'\n",
    "merge.to_csv(folder_generated+'culture_completed.csv', index=None)"
   ]
  }
 ],
 "metadata": {
  "kernelspec": {
   "display_name": "Python 3",
   "language": "python",
   "name": "python3"
  },
  "language_info": {
   "codemirror_mode": {
    "name": "ipython",
    "version": 3
   },
   "file_extension": ".py",
   "mimetype": "text/x-python",
   "name": "python",
   "nbconvert_exporter": "python",
   "pygments_lexer": "ipython3",
   "version": "3.10.12"
  },
  "orig_nbformat": 4
 },
 "nbformat": 4,
 "nbformat_minor": 2
}
